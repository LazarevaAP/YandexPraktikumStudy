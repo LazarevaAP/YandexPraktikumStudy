{
 "cells": [
  {
   "cell_type": "markdown",
   "metadata": {},
   "source": [
    "# Определение перспективного тарифа для телеком компании"
   ]
  },
  {
   "cell_type": "markdown",
   "metadata": {},
   "source": [
    "## Оглавление"
   ]
  },
  {
   "cell_type": "markdown",
   "metadata": {},
   "source": [
    "1. [Открытие данных](#start)\n",
    "2. [Подготовка данных](#preprocessing)\n",
    "    * [Замена типов данных](#change)\n",
    "    * [Подсчет и добавление данных](#add)\n",
    "    * [Помесячная выручка с клиентов](#incom_cl)\n",
    "3.  [Анализ данных](#research)\n",
    "    * [Тариф Смарт](#smart)\n",
    "    * [Тариф Ультра](#ultra)\n",
    "    * [Выручка по тарифам]( #comparison)\n",
    "4. [Проверка гипотез](#hypothes)\n",
    "5. [Общий вывод](#finish)\n"
   ]
  },
  {
   "cell_type": "markdown",
   "metadata": {},
   "source": [
    "## Общее описание проекта"
   ]
  },
  {
   "cell_type": "markdown",
   "metadata": {},
   "source": [
    "В компании «Мегалайн» — федерального оператора сотовой связи, клиентам предлагают два тарифных плана: «Смарт» и «Ультра». Чтобы скорректировать рекламный бюджет, коммерческий департамент хочет понять, какой тариф приносит больше денег.\n",
    "Нам предстоит сделать предварительный анализ тарифов на небольшой выборке клиентов. В нашем распоряжении данные 500 пользователей «Мегалайна»: кто они, откуда, каким тарифом пользуются, сколько звонков и сообщений каждый отправил за 2018 год. Нужно проанализировать поведение клиентов и сделать вывод — какой тариф лучше."
   ]
  },
  {
   "cell_type": "markdown",
   "metadata": {},
   "source": [
    "### <a id=\"start\">Шаг 1. Открытие файла с данными и изучение общей информацию\n",
    "Путь к файлам:\n",
    "/datasets/calls.csv. Скачать датасет\n",
    "/datasets/internet.csv. Скачать датасет\n",
    "/datasets/messages.csv. Скачать датасет\n",
    "/datasets/tariffs.csv. Скачать датасет\n",
    "/datasets/users.csv. Скачать датасет"
   ]
  },
  {
   "cell_type": "code",
   "execution_count": 1,
   "metadata": {},
   "outputs": [],
   "source": [
    "#импорт библиотек\n",
    "import pandas as pd\n",
    "import matplotlib.pyplot as plt\n",
    "import numpy as np\n",
    "import seaborn as sns\n",
    "from scipy import stats as st"
   ]
  },
  {
   "cell_type": "code",
   "execution_count": 2,
   "metadata": {},
   "outputs": [],
   "source": [
    "# создаем функцию для автоматизации просмотра основных сведений\n",
    "def information(df):\n",
    "    return(\n",
    "    df.info(),\n",
    "    display('5 cлучайных строк', df.sample(5)),\n",
    "    display('Статистика данных', df.describe()),\n",
    "    display('Процент пропусков', round(df.isna().mean()*100, 1))\n",
    "    )"
   ]
  },
  {
   "cell_type": "code",
   "execution_count": 3,
   "metadata": {},
   "outputs": [
    {
     "name": "stdout",
     "output_type": "stream",
     "text": [
      "<class 'pandas.core.frame.DataFrame'>\n",
      "RangeIndex: 202607 entries, 0 to 202606\n",
      "Data columns (total 4 columns):\n",
      "id           202607 non-null object\n",
      "call_date    202607 non-null object\n",
      "duration     202607 non-null float64\n",
      "user_id      202607 non-null int64\n",
      "dtypes: float64(1), int64(1), object(2)\n",
      "memory usage: 6.2+ MB\n"
     ]
    },
    {
     "data": {
      "text/plain": [
       "'5 cлучайных строк'"
      ]
     },
     "metadata": {},
     "output_type": "display_data"
    },
    {
     "data": {
      "text/html": [
       "<div>\n",
       "<style scoped>\n",
       "    .dataframe tbody tr th:only-of-type {\n",
       "        vertical-align: middle;\n",
       "    }\n",
       "\n",
       "    .dataframe tbody tr th {\n",
       "        vertical-align: top;\n",
       "    }\n",
       "\n",
       "    .dataframe thead th {\n",
       "        text-align: right;\n",
       "    }\n",
       "</style>\n",
       "<table border=\"1\" class=\"dataframe\">\n",
       "  <thead>\n",
       "    <tr style=\"text-align: right;\">\n",
       "      <th></th>\n",
       "      <th>id</th>\n",
       "      <th>call_date</th>\n",
       "      <th>duration</th>\n",
       "      <th>user_id</th>\n",
       "    </tr>\n",
       "  </thead>\n",
       "  <tbody>\n",
       "    <tr>\n",
       "      <td>145252</td>\n",
       "      <td>1366_177</td>\n",
       "      <td>2018-10-31</td>\n",
       "      <td>9.71</td>\n",
       "      <td>1366</td>\n",
       "    </tr>\n",
       "    <tr>\n",
       "      <td>116725</td>\n",
       "      <td>1300_121</td>\n",
       "      <td>2018-09-02</td>\n",
       "      <td>16.75</td>\n",
       "      <td>1300</td>\n",
       "    </tr>\n",
       "    <tr>\n",
       "      <td>148662</td>\n",
       "      <td>1375_1493</td>\n",
       "      <td>2018-07-11</td>\n",
       "      <td>21.12</td>\n",
       "      <td>1375</td>\n",
       "    </tr>\n",
       "    <tr>\n",
       "      <td>36241</td>\n",
       "      <td>1090_65</td>\n",
       "      <td>2018-10-20</td>\n",
       "      <td>12.32</td>\n",
       "      <td>1090</td>\n",
       "    </tr>\n",
       "    <tr>\n",
       "      <td>67150</td>\n",
       "      <td>1171_175</td>\n",
       "      <td>2018-05-27</td>\n",
       "      <td>0.00</td>\n",
       "      <td>1171</td>\n",
       "    </tr>\n",
       "  </tbody>\n",
       "</table>\n",
       "</div>"
      ],
      "text/plain": [
       "               id   call_date  duration  user_id\n",
       "145252   1366_177  2018-10-31      9.71     1366\n",
       "116725   1300_121  2018-09-02     16.75     1300\n",
       "148662  1375_1493  2018-07-11     21.12     1375\n",
       "36241     1090_65  2018-10-20     12.32     1090\n",
       "67150    1171_175  2018-05-27      0.00     1171"
      ]
     },
     "metadata": {},
     "output_type": "display_data"
    },
    {
     "data": {
      "text/plain": [
       "'Статистика данных'"
      ]
     },
     "metadata": {},
     "output_type": "display_data"
    },
    {
     "data": {
      "text/html": [
       "<div>\n",
       "<style scoped>\n",
       "    .dataframe tbody tr th:only-of-type {\n",
       "        vertical-align: middle;\n",
       "    }\n",
       "\n",
       "    .dataframe tbody tr th {\n",
       "        vertical-align: top;\n",
       "    }\n",
       "\n",
       "    .dataframe thead th {\n",
       "        text-align: right;\n",
       "    }\n",
       "</style>\n",
       "<table border=\"1\" class=\"dataframe\">\n",
       "  <thead>\n",
       "    <tr style=\"text-align: right;\">\n",
       "      <th></th>\n",
       "      <th>duration</th>\n",
       "      <th>user_id</th>\n",
       "    </tr>\n",
       "  </thead>\n",
       "  <tbody>\n",
       "    <tr>\n",
       "      <td>count</td>\n",
       "      <td>202607.000000</td>\n",
       "      <td>202607.000000</td>\n",
       "    </tr>\n",
       "    <tr>\n",
       "      <td>mean</td>\n",
       "      <td>6.755887</td>\n",
       "      <td>1253.940619</td>\n",
       "    </tr>\n",
       "    <tr>\n",
       "      <td>std</td>\n",
       "      <td>5.843365</td>\n",
       "      <td>144.722751</td>\n",
       "    </tr>\n",
       "    <tr>\n",
       "      <td>min</td>\n",
       "      <td>0.000000</td>\n",
       "      <td>1000.000000</td>\n",
       "    </tr>\n",
       "    <tr>\n",
       "      <td>25%</td>\n",
       "      <td>1.300000</td>\n",
       "      <td>1126.000000</td>\n",
       "    </tr>\n",
       "    <tr>\n",
       "      <td>50%</td>\n",
       "      <td>6.000000</td>\n",
       "      <td>1260.000000</td>\n",
       "    </tr>\n",
       "    <tr>\n",
       "      <td>75%</td>\n",
       "      <td>10.700000</td>\n",
       "      <td>1379.000000</td>\n",
       "    </tr>\n",
       "    <tr>\n",
       "      <td>max</td>\n",
       "      <td>38.000000</td>\n",
       "      <td>1499.000000</td>\n",
       "    </tr>\n",
       "  </tbody>\n",
       "</table>\n",
       "</div>"
      ],
      "text/plain": [
       "            duration        user_id\n",
       "count  202607.000000  202607.000000\n",
       "mean        6.755887    1253.940619\n",
       "std         5.843365     144.722751\n",
       "min         0.000000    1000.000000\n",
       "25%         1.300000    1126.000000\n",
       "50%         6.000000    1260.000000\n",
       "75%        10.700000    1379.000000\n",
       "max        38.000000    1499.000000"
      ]
     },
     "metadata": {},
     "output_type": "display_data"
    },
    {
     "data": {
      "text/plain": [
       "'Процент пропусков'"
      ]
     },
     "metadata": {},
     "output_type": "display_data"
    },
    {
     "data": {
      "text/plain": [
       "id           0.0\n",
       "call_date    0.0\n",
       "duration     0.0\n",
       "user_id      0.0\n",
       "dtype: float64"
      ]
     },
     "metadata": {},
     "output_type": "display_data"
    },
    {
     "data": {
      "text/plain": [
       "(None, None, None, None)"
      ]
     },
     "execution_count": 3,
     "metadata": {},
     "output_type": "execute_result"
    }
   ],
   "source": [
    "# чтение файла  данных о звонках и вывод общей информации\n",
    "calls = pd.read_csv('/datasets/calls.csv') \n",
    "information(calls)"
   ]
  },
  {
   "cell_type": "code",
   "execution_count": 4,
   "metadata": {},
   "outputs": [
    {
     "data": {
      "text/plain": [
       "id           0\n",
       "call_date    0\n",
       "duration     0\n",
       "user_id      0\n",
       "dtype: int64"
      ]
     },
     "execution_count": 4,
     "metadata": {},
     "output_type": "execute_result"
    }
   ],
   "source": [
    "calls.isna().sum()"
   ]
  },
  {
   "cell_type": "markdown",
   "metadata": {},
   "source": [
    "Обращаем внимание, что длительность многих звонков — 0.0 минут. Это могут быть пропущенные звонки. Обрабатывать ли эти нулевые значения, решать вам — оцените, как их отсутствие повлияет на результаты анализа."
   ]
  },
  {
   "cell_type": "code",
   "execution_count": 5,
   "metadata": {},
   "outputs": [
    {
     "data": {
      "text/plain": [
       "id           39613\n",
       "call_date    39613\n",
       "duration     39613\n",
       "user_id      39613\n",
       "dtype: int64"
      ]
     },
     "execution_count": 5,
     "metadata": {},
     "output_type": "execute_result"
    }
   ],
   "source": [
    "calls.loc[calls['duration'] == 0.00].count()"
   ]
  },
  {
   "cell_type": "code",
   "execution_count": 6,
   "metadata": {},
   "outputs": [
    {
     "data": {
      "text/plain": [
       "id           0.195516\n",
       "call_date    0.195516\n",
       "duration     0.195516\n",
       "user_id      0.195516\n",
       "dtype: float64"
      ]
     },
     "execution_count": 6,
     "metadata": {},
     "output_type": "execute_result"
    }
   ],
   "source": [
    "#процент звонков с продолжительностью 0,0 минут\n",
    "calls.loc[calls['duration'] == 0.00].count()/len(calls['duration'])"
   ]
  },
  {
   "cell_type": "markdown",
   "metadata": {},
   "source": [
    "В таблице звонков нет пропусков, call_date нужно будет привести к формату даты и duration нужно округлить в большую сторону, привести к формату int.\n",
    "Звонков продолжительностью 0.00 порядка 20% "
   ]
  },
  {
   "cell_type": "code",
   "execution_count": 7,
   "metadata": {},
   "outputs": [
    {
     "name": "stdout",
     "output_type": "stream",
     "text": [
      "<class 'pandas.core.frame.DataFrame'>\n",
      "RangeIndex: 149396 entries, 0 to 149395\n",
      "Data columns (total 5 columns):\n",
      "Unnamed: 0      149396 non-null int64\n",
      "id              149396 non-null object\n",
      "mb_used         149396 non-null float64\n",
      "session_date    149396 non-null object\n",
      "user_id         149396 non-null int64\n",
      "dtypes: float64(1), int64(2), object(2)\n",
      "memory usage: 5.7+ MB\n"
     ]
    },
    {
     "data": {
      "text/plain": [
       "'5 cлучайных строк'"
      ]
     },
     "metadata": {},
     "output_type": "display_data"
    },
    {
     "data": {
      "text/html": [
       "<div>\n",
       "<style scoped>\n",
       "    .dataframe tbody tr th:only-of-type {\n",
       "        vertical-align: middle;\n",
       "    }\n",
       "\n",
       "    .dataframe tbody tr th {\n",
       "        vertical-align: top;\n",
       "    }\n",
       "\n",
       "    .dataframe thead th {\n",
       "        text-align: right;\n",
       "    }\n",
       "</style>\n",
       "<table border=\"1\" class=\"dataframe\">\n",
       "  <thead>\n",
       "    <tr style=\"text-align: right;\">\n",
       "      <th></th>\n",
       "      <th>Unnamed: 0</th>\n",
       "      <th>id</th>\n",
       "      <th>mb_used</th>\n",
       "      <th>session_date</th>\n",
       "      <th>user_id</th>\n",
       "    </tr>\n",
       "  </thead>\n",
       "  <tbody>\n",
       "    <tr>\n",
       "      <td>37218</td>\n",
       "      <td>37218</td>\n",
       "      <td>1130_116</td>\n",
       "      <td>103.90</td>\n",
       "      <td>2018-10-24</td>\n",
       "      <td>1130</td>\n",
       "    </tr>\n",
       "    <tr>\n",
       "      <td>100842</td>\n",
       "      <td>100842</td>\n",
       "      <td>1338_232</td>\n",
       "      <td>234.44</td>\n",
       "      <td>2018-06-22</td>\n",
       "      <td>1338</td>\n",
       "    </tr>\n",
       "    <tr>\n",
       "      <td>94788</td>\n",
       "      <td>94788</td>\n",
       "      <td>1321_52</td>\n",
       "      <td>27.44</td>\n",
       "      <td>2018-06-12</td>\n",
       "      <td>1321</td>\n",
       "    </tr>\n",
       "    <tr>\n",
       "      <td>112063</td>\n",
       "      <td>112063</td>\n",
       "      <td>1380_192</td>\n",
       "      <td>186.27</td>\n",
       "      <td>2018-10-24</td>\n",
       "      <td>1380</td>\n",
       "    </tr>\n",
       "    <tr>\n",
       "      <td>60536</td>\n",
       "      <td>60536</td>\n",
       "      <td>1204_621</td>\n",
       "      <td>353.44</td>\n",
       "      <td>2018-02-08</td>\n",
       "      <td>1204</td>\n",
       "    </tr>\n",
       "  </tbody>\n",
       "</table>\n",
       "</div>"
      ],
      "text/plain": [
       "        Unnamed: 0        id  mb_used session_date  user_id\n",
       "37218        37218  1130_116   103.90   2018-10-24     1130\n",
       "100842      100842  1338_232   234.44   2018-06-22     1338\n",
       "94788        94788   1321_52    27.44   2018-06-12     1321\n",
       "112063      112063  1380_192   186.27   2018-10-24     1380\n",
       "60536        60536  1204_621   353.44   2018-02-08     1204"
      ]
     },
     "metadata": {},
     "output_type": "display_data"
    },
    {
     "data": {
      "text/plain": [
       "'Статистика данных'"
      ]
     },
     "metadata": {},
     "output_type": "display_data"
    },
    {
     "data": {
      "text/html": [
       "<div>\n",
       "<style scoped>\n",
       "    .dataframe tbody tr th:only-of-type {\n",
       "        vertical-align: middle;\n",
       "    }\n",
       "\n",
       "    .dataframe tbody tr th {\n",
       "        vertical-align: top;\n",
       "    }\n",
       "\n",
       "    .dataframe thead th {\n",
       "        text-align: right;\n",
       "    }\n",
       "</style>\n",
       "<table border=\"1\" class=\"dataframe\">\n",
       "  <thead>\n",
       "    <tr style=\"text-align: right;\">\n",
       "      <th></th>\n",
       "      <th>Unnamed: 0</th>\n",
       "      <th>mb_used</th>\n",
       "      <th>user_id</th>\n",
       "    </tr>\n",
       "  </thead>\n",
       "  <tbody>\n",
       "    <tr>\n",
       "      <td>count</td>\n",
       "      <td>149396.000000</td>\n",
       "      <td>149396.000000</td>\n",
       "      <td>149396.000000</td>\n",
       "    </tr>\n",
       "    <tr>\n",
       "      <td>mean</td>\n",
       "      <td>74697.500000</td>\n",
       "      <td>370.192426</td>\n",
       "      <td>1252.099842</td>\n",
       "    </tr>\n",
       "    <tr>\n",
       "      <td>std</td>\n",
       "      <td>43127.054745</td>\n",
       "      <td>278.300951</td>\n",
       "      <td>144.050823</td>\n",
       "    </tr>\n",
       "    <tr>\n",
       "      <td>min</td>\n",
       "      <td>0.000000</td>\n",
       "      <td>0.000000</td>\n",
       "      <td>1000.000000</td>\n",
       "    </tr>\n",
       "    <tr>\n",
       "      <td>25%</td>\n",
       "      <td>37348.750000</td>\n",
       "      <td>138.187500</td>\n",
       "      <td>1130.000000</td>\n",
       "    </tr>\n",
       "    <tr>\n",
       "      <td>50%</td>\n",
       "      <td>74697.500000</td>\n",
       "      <td>348.015000</td>\n",
       "      <td>1251.000000</td>\n",
       "    </tr>\n",
       "    <tr>\n",
       "      <td>75%</td>\n",
       "      <td>112046.250000</td>\n",
       "      <td>559.552500</td>\n",
       "      <td>1380.000000</td>\n",
       "    </tr>\n",
       "    <tr>\n",
       "      <td>max</td>\n",
       "      <td>149395.000000</td>\n",
       "      <td>1724.830000</td>\n",
       "      <td>1499.000000</td>\n",
       "    </tr>\n",
       "  </tbody>\n",
       "</table>\n",
       "</div>"
      ],
      "text/plain": [
       "          Unnamed: 0        mb_used        user_id\n",
       "count  149396.000000  149396.000000  149396.000000\n",
       "mean    74697.500000     370.192426    1252.099842\n",
       "std     43127.054745     278.300951     144.050823\n",
       "min         0.000000       0.000000    1000.000000\n",
       "25%     37348.750000     138.187500    1130.000000\n",
       "50%     74697.500000     348.015000    1251.000000\n",
       "75%    112046.250000     559.552500    1380.000000\n",
       "max    149395.000000    1724.830000    1499.000000"
      ]
     },
     "metadata": {},
     "output_type": "display_data"
    },
    {
     "data": {
      "text/plain": [
       "'Процент пропусков'"
      ]
     },
     "metadata": {},
     "output_type": "display_data"
    },
    {
     "data": {
      "text/plain": [
       "Unnamed: 0      0.0\n",
       "id              0.0\n",
       "mb_used         0.0\n",
       "session_date    0.0\n",
       "user_id         0.0\n",
       "dtype: float64"
      ]
     },
     "metadata": {},
     "output_type": "display_data"
    },
    {
     "data": {
      "text/plain": [
       "(None, None, None, None)"
      ]
     },
     "execution_count": 7,
     "metadata": {},
     "output_type": "execute_result"
    }
   ],
   "source": [
    "# чтение файла  данных о интернете и вывод общей информации\n",
    "internet = pd.read_csv('/datasets/internet.csv') \n",
    "information(internet)"
   ]
  },
  {
   "cell_type": "markdown",
   "metadata": {},
   "source": [
    "В данных об использовании интернета также не пропущенных значений.Мb_used будем округлять до большего значения и можно будет его зделать форматом int. session_date приведем к формату даты."
   ]
  },
  {
   "cell_type": "code",
   "execution_count": 8,
   "metadata": {},
   "outputs": [
    {
     "name": "stdout",
     "output_type": "stream",
     "text": [
      "<class 'pandas.core.frame.DataFrame'>\n",
      "RangeIndex: 123036 entries, 0 to 123035\n",
      "Data columns (total 3 columns):\n",
      "id              123036 non-null object\n",
      "message_date    123036 non-null object\n",
      "user_id         123036 non-null int64\n",
      "dtypes: int64(1), object(2)\n",
      "memory usage: 2.8+ MB\n"
     ]
    },
    {
     "data": {
      "text/plain": [
       "'5 cлучайных строк'"
      ]
     },
     "metadata": {},
     "output_type": "display_data"
    },
    {
     "data": {
      "text/html": [
       "<div>\n",
       "<style scoped>\n",
       "    .dataframe tbody tr th:only-of-type {\n",
       "        vertical-align: middle;\n",
       "    }\n",
       "\n",
       "    .dataframe tbody tr th {\n",
       "        vertical-align: top;\n",
       "    }\n",
       "\n",
       "    .dataframe thead th {\n",
       "        text-align: right;\n",
       "    }\n",
       "</style>\n",
       "<table border=\"1\" class=\"dataframe\">\n",
       "  <thead>\n",
       "    <tr style=\"text-align: right;\">\n",
       "      <th></th>\n",
       "      <th>id</th>\n",
       "      <th>message_date</th>\n",
       "      <th>user_id</th>\n",
       "    </tr>\n",
       "  </thead>\n",
       "  <tbody>\n",
       "    <tr>\n",
       "      <td>80212</td>\n",
       "      <td>1335_124</td>\n",
       "      <td>2018-11-07</td>\n",
       "      <td>1335</td>\n",
       "    </tr>\n",
       "    <tr>\n",
       "      <td>51935</td>\n",
       "      <td>1231_556</td>\n",
       "      <td>2018-12-30</td>\n",
       "      <td>1231</td>\n",
       "    </tr>\n",
       "    <tr>\n",
       "      <td>87195</td>\n",
       "      <td>1361_124</td>\n",
       "      <td>2018-12-06</td>\n",
       "      <td>1361</td>\n",
       "    </tr>\n",
       "    <tr>\n",
       "      <td>51903</td>\n",
       "      <td>1231_524</td>\n",
       "      <td>2018-09-27</td>\n",
       "      <td>1231</td>\n",
       "    </tr>\n",
       "    <tr>\n",
       "      <td>21810</td>\n",
       "      <td>1092_91</td>\n",
       "      <td>2018-07-20</td>\n",
       "      <td>1092</td>\n",
       "    </tr>\n",
       "  </tbody>\n",
       "</table>\n",
       "</div>"
      ],
      "text/plain": [
       "             id message_date  user_id\n",
       "80212  1335_124   2018-11-07     1335\n",
       "51935  1231_556   2018-12-30     1231\n",
       "87195  1361_124   2018-12-06     1361\n",
       "51903  1231_524   2018-09-27     1231\n",
       "21810   1092_91   2018-07-20     1092"
      ]
     },
     "metadata": {},
     "output_type": "display_data"
    },
    {
     "data": {
      "text/plain": [
       "'Статистика данных'"
      ]
     },
     "metadata": {},
     "output_type": "display_data"
    },
    {
     "data": {
      "text/html": [
       "<div>\n",
       "<style scoped>\n",
       "    .dataframe tbody tr th:only-of-type {\n",
       "        vertical-align: middle;\n",
       "    }\n",
       "\n",
       "    .dataframe tbody tr th {\n",
       "        vertical-align: top;\n",
       "    }\n",
       "\n",
       "    .dataframe thead th {\n",
       "        text-align: right;\n",
       "    }\n",
       "</style>\n",
       "<table border=\"1\" class=\"dataframe\">\n",
       "  <thead>\n",
       "    <tr style=\"text-align: right;\">\n",
       "      <th></th>\n",
       "      <th>user_id</th>\n",
       "    </tr>\n",
       "  </thead>\n",
       "  <tbody>\n",
       "    <tr>\n",
       "      <td>count</td>\n",
       "      <td>123036.000000</td>\n",
       "    </tr>\n",
       "    <tr>\n",
       "      <td>mean</td>\n",
       "      <td>1256.989410</td>\n",
       "    </tr>\n",
       "    <tr>\n",
       "      <td>std</td>\n",
       "      <td>143.523967</td>\n",
       "    </tr>\n",
       "    <tr>\n",
       "      <td>min</td>\n",
       "      <td>1000.000000</td>\n",
       "    </tr>\n",
       "    <tr>\n",
       "      <td>25%</td>\n",
       "      <td>1134.000000</td>\n",
       "    </tr>\n",
       "    <tr>\n",
       "      <td>50%</td>\n",
       "      <td>1271.000000</td>\n",
       "    </tr>\n",
       "    <tr>\n",
       "      <td>75%</td>\n",
       "      <td>1381.000000</td>\n",
       "    </tr>\n",
       "    <tr>\n",
       "      <td>max</td>\n",
       "      <td>1499.000000</td>\n",
       "    </tr>\n",
       "  </tbody>\n",
       "</table>\n",
       "</div>"
      ],
      "text/plain": [
       "             user_id\n",
       "count  123036.000000\n",
       "mean     1256.989410\n",
       "std       143.523967\n",
       "min      1000.000000\n",
       "25%      1134.000000\n",
       "50%      1271.000000\n",
       "75%      1381.000000\n",
       "max      1499.000000"
      ]
     },
     "metadata": {},
     "output_type": "display_data"
    },
    {
     "data": {
      "text/plain": [
       "'Процент пропусков'"
      ]
     },
     "metadata": {},
     "output_type": "display_data"
    },
    {
     "data": {
      "text/plain": [
       "id              0.0\n",
       "message_date    0.0\n",
       "user_id         0.0\n",
       "dtype: float64"
      ]
     },
     "metadata": {},
     "output_type": "display_data"
    },
    {
     "data": {
      "text/plain": [
       "(None, None, None, None)"
      ]
     },
     "execution_count": 8,
     "metadata": {},
     "output_type": "execute_result"
    }
   ],
   "source": [
    "# чтение файла  данных о сообщениях и вывод общей информации\n",
    "messages = pd.read_csv('/datasets/messages.csv') \n",
    "information(messages)"
   ]
  },
  {
   "cell_type": "markdown",
   "metadata": {},
   "source": [
    "В таблице сообщений нет пропусков. message_date приведм к формату даты."
   ]
  },
  {
   "cell_type": "code",
   "execution_count": 9,
   "metadata": {},
   "outputs": [
    {
     "name": "stdout",
     "output_type": "stream",
     "text": [
      "<class 'pandas.core.frame.DataFrame'>\n",
      "RangeIndex: 2 entries, 0 to 1\n",
      "Data columns (total 8 columns):\n",
      "messages_included        2 non-null int64\n",
      "mb_per_month_included    2 non-null int64\n",
      "minutes_included         2 non-null int64\n",
      "rub_monthly_fee          2 non-null int64\n",
      "rub_per_gb               2 non-null int64\n",
      "rub_per_message          2 non-null int64\n",
      "rub_per_minute           2 non-null int64\n",
      "tariff_name              2 non-null object\n",
      "dtypes: int64(7), object(1)\n",
      "memory usage: 256.0+ bytes\n"
     ]
    }
   ],
   "source": [
    "# чтение файла  данных о тарифах и вывод общей информации\n",
    "tariffs = pd.read_csv('/datasets/tariffs.csv') \n",
    "tariffs.info()"
   ]
  },
  {
   "cell_type": "code",
   "execution_count": 10,
   "metadata": {},
   "outputs": [
    {
     "data": {
      "text/html": [
       "<div>\n",
       "<style scoped>\n",
       "    .dataframe tbody tr th:only-of-type {\n",
       "        vertical-align: middle;\n",
       "    }\n",
       "\n",
       "    .dataframe tbody tr th {\n",
       "        vertical-align: top;\n",
       "    }\n",
       "\n",
       "    .dataframe thead th {\n",
       "        text-align: right;\n",
       "    }\n",
       "</style>\n",
       "<table border=\"1\" class=\"dataframe\">\n",
       "  <thead>\n",
       "    <tr style=\"text-align: right;\">\n",
       "      <th></th>\n",
       "      <th>messages_included</th>\n",
       "      <th>mb_per_month_included</th>\n",
       "      <th>minutes_included</th>\n",
       "      <th>rub_monthly_fee</th>\n",
       "      <th>rub_per_gb</th>\n",
       "      <th>rub_per_message</th>\n",
       "      <th>rub_per_minute</th>\n",
       "      <th>tariff_name</th>\n",
       "    </tr>\n",
       "  </thead>\n",
       "  <tbody>\n",
       "    <tr>\n",
       "      <td>0</td>\n",
       "      <td>50</td>\n",
       "      <td>15360</td>\n",
       "      <td>500</td>\n",
       "      <td>550</td>\n",
       "      <td>200</td>\n",
       "      <td>3</td>\n",
       "      <td>3</td>\n",
       "      <td>smart</td>\n",
       "    </tr>\n",
       "    <tr>\n",
       "      <td>1</td>\n",
       "      <td>1000</td>\n",
       "      <td>30720</td>\n",
       "      <td>3000</td>\n",
       "      <td>1950</td>\n",
       "      <td>150</td>\n",
       "      <td>1</td>\n",
       "      <td>1</td>\n",
       "      <td>ultra</td>\n",
       "    </tr>\n",
       "  </tbody>\n",
       "</table>\n",
       "</div>"
      ],
      "text/plain": [
       "   messages_included  mb_per_month_included  minutes_included  \\\n",
       "0                 50                  15360               500   \n",
       "1               1000                  30720              3000   \n",
       "\n",
       "   rub_monthly_fee  rub_per_gb  rub_per_message  rub_per_minute tariff_name  \n",
       "0              550         200                3               3       smart  \n",
       "1             1950         150                1               1       ultra  "
      ]
     },
     "execution_count": 10,
     "metadata": {},
     "output_type": "execute_result"
    }
   ],
   "source": [
    "tariffs"
   ]
  },
  {
   "cell_type": "markdown",
   "metadata": {},
   "source": [
    "Все даннные в этой таблице без пропусков и в правильном формате."
   ]
  },
  {
   "cell_type": "code",
   "execution_count": 11,
   "metadata": {},
   "outputs": [
    {
     "name": "stdout",
     "output_type": "stream",
     "text": [
      "<class 'pandas.core.frame.DataFrame'>\n",
      "RangeIndex: 500 entries, 0 to 499\n",
      "Data columns (total 8 columns):\n",
      "user_id       500 non-null int64\n",
      "age           500 non-null int64\n",
      "churn_date    38 non-null object\n",
      "city          500 non-null object\n",
      "first_name    500 non-null object\n",
      "last_name     500 non-null object\n",
      "reg_date      500 non-null object\n",
      "tariff        500 non-null object\n",
      "dtypes: int64(2), object(6)\n",
      "memory usage: 31.4+ KB\n"
     ]
    },
    {
     "data": {
      "text/plain": [
       "'5 cлучайных строк'"
      ]
     },
     "metadata": {},
     "output_type": "display_data"
    },
    {
     "data": {
      "text/html": [
       "<div>\n",
       "<style scoped>\n",
       "    .dataframe tbody tr th:only-of-type {\n",
       "        vertical-align: middle;\n",
       "    }\n",
       "\n",
       "    .dataframe tbody tr th {\n",
       "        vertical-align: top;\n",
       "    }\n",
       "\n",
       "    .dataframe thead th {\n",
       "        text-align: right;\n",
       "    }\n",
       "</style>\n",
       "<table border=\"1\" class=\"dataframe\">\n",
       "  <thead>\n",
       "    <tr style=\"text-align: right;\">\n",
       "      <th></th>\n",
       "      <th>user_id</th>\n",
       "      <th>age</th>\n",
       "      <th>churn_date</th>\n",
       "      <th>city</th>\n",
       "      <th>first_name</th>\n",
       "      <th>last_name</th>\n",
       "      <th>reg_date</th>\n",
       "      <th>tariff</th>\n",
       "    </tr>\n",
       "  </thead>\n",
       "  <tbody>\n",
       "    <tr>\n",
       "      <td>335</td>\n",
       "      <td>1335</td>\n",
       "      <td>55</td>\n",
       "      <td>NaN</td>\n",
       "      <td>Москва</td>\n",
       "      <td>Аурелия</td>\n",
       "      <td>Голованова</td>\n",
       "      <td>2018-06-26</td>\n",
       "      <td>ultra</td>\n",
       "    </tr>\n",
       "    <tr>\n",
       "      <td>251</td>\n",
       "      <td>1251</td>\n",
       "      <td>48</td>\n",
       "      <td>NaN</td>\n",
       "      <td>Пермь</td>\n",
       "      <td>Роксана</td>\n",
       "      <td>Тетерина</td>\n",
       "      <td>2018-02-13</td>\n",
       "      <td>smart</td>\n",
       "    </tr>\n",
       "    <tr>\n",
       "      <td>424</td>\n",
       "      <td>1424</td>\n",
       "      <td>27</td>\n",
       "      <td>NaN</td>\n",
       "      <td>Москва</td>\n",
       "      <td>Розалия</td>\n",
       "      <td>Ёрохова</td>\n",
       "      <td>2018-06-20</td>\n",
       "      <td>ultra</td>\n",
       "    </tr>\n",
       "    <tr>\n",
       "      <td>236</td>\n",
       "      <td>1236</td>\n",
       "      <td>30</td>\n",
       "      <td>NaN</td>\n",
       "      <td>Москва</td>\n",
       "      <td>Леон</td>\n",
       "      <td>Демидов</td>\n",
       "      <td>2018-12-22</td>\n",
       "      <td>smart</td>\n",
       "    </tr>\n",
       "    <tr>\n",
       "      <td>187</td>\n",
       "      <td>1187</td>\n",
       "      <td>60</td>\n",
       "      <td>NaN</td>\n",
       "      <td>Рязань</td>\n",
       "      <td>Виталий</td>\n",
       "      <td>Овчинников</td>\n",
       "      <td>2018-08-22</td>\n",
       "      <td>smart</td>\n",
       "    </tr>\n",
       "  </tbody>\n",
       "</table>\n",
       "</div>"
      ],
      "text/plain": [
       "     user_id  age churn_date    city first_name   last_name    reg_date tariff\n",
       "335     1335   55        NaN  Москва    Аурелия  Голованова  2018-06-26  ultra\n",
       "251     1251   48        NaN   Пермь    Роксана    Тетерина  2018-02-13  smart\n",
       "424     1424   27        NaN  Москва    Розалия     Ёрохова  2018-06-20  ultra\n",
       "236     1236   30        NaN  Москва       Леон     Демидов  2018-12-22  smart\n",
       "187     1187   60        NaN  Рязань    Виталий  Овчинников  2018-08-22  smart"
      ]
     },
     "metadata": {},
     "output_type": "display_data"
    },
    {
     "data": {
      "text/plain": [
       "'Статистика данных'"
      ]
     },
     "metadata": {},
     "output_type": "display_data"
    },
    {
     "data": {
      "text/html": [
       "<div>\n",
       "<style scoped>\n",
       "    .dataframe tbody tr th:only-of-type {\n",
       "        vertical-align: middle;\n",
       "    }\n",
       "\n",
       "    .dataframe tbody tr th {\n",
       "        vertical-align: top;\n",
       "    }\n",
       "\n",
       "    .dataframe thead th {\n",
       "        text-align: right;\n",
       "    }\n",
       "</style>\n",
       "<table border=\"1\" class=\"dataframe\">\n",
       "  <thead>\n",
       "    <tr style=\"text-align: right;\">\n",
       "      <th></th>\n",
       "      <th>user_id</th>\n",
       "      <th>age</th>\n",
       "    </tr>\n",
       "  </thead>\n",
       "  <tbody>\n",
       "    <tr>\n",
       "      <td>count</td>\n",
       "      <td>500.000000</td>\n",
       "      <td>500.00000</td>\n",
       "    </tr>\n",
       "    <tr>\n",
       "      <td>mean</td>\n",
       "      <td>1249.500000</td>\n",
       "      <td>46.58800</td>\n",
       "    </tr>\n",
       "    <tr>\n",
       "      <td>std</td>\n",
       "      <td>144.481833</td>\n",
       "      <td>16.66763</td>\n",
       "    </tr>\n",
       "    <tr>\n",
       "      <td>min</td>\n",
       "      <td>1000.000000</td>\n",
       "      <td>18.00000</td>\n",
       "    </tr>\n",
       "    <tr>\n",
       "      <td>25%</td>\n",
       "      <td>1124.750000</td>\n",
       "      <td>32.00000</td>\n",
       "    </tr>\n",
       "    <tr>\n",
       "      <td>50%</td>\n",
       "      <td>1249.500000</td>\n",
       "      <td>46.00000</td>\n",
       "    </tr>\n",
       "    <tr>\n",
       "      <td>75%</td>\n",
       "      <td>1374.250000</td>\n",
       "      <td>62.00000</td>\n",
       "    </tr>\n",
       "    <tr>\n",
       "      <td>max</td>\n",
       "      <td>1499.000000</td>\n",
       "      <td>75.00000</td>\n",
       "    </tr>\n",
       "  </tbody>\n",
       "</table>\n",
       "</div>"
      ],
      "text/plain": [
       "           user_id        age\n",
       "count   500.000000  500.00000\n",
       "mean   1249.500000   46.58800\n",
       "std     144.481833   16.66763\n",
       "min    1000.000000   18.00000\n",
       "25%    1124.750000   32.00000\n",
       "50%    1249.500000   46.00000\n",
       "75%    1374.250000   62.00000\n",
       "max    1499.000000   75.00000"
      ]
     },
     "metadata": {},
     "output_type": "display_data"
    },
    {
     "data": {
      "text/plain": [
       "'Процент пропусков'"
      ]
     },
     "metadata": {},
     "output_type": "display_data"
    },
    {
     "data": {
      "text/plain": [
       "user_id        0.0\n",
       "age            0.0\n",
       "churn_date    92.4\n",
       "city           0.0\n",
       "first_name     0.0\n",
       "last_name      0.0\n",
       "reg_date       0.0\n",
       "tariff         0.0\n",
       "dtype: float64"
      ]
     },
     "metadata": {},
     "output_type": "display_data"
    },
    {
     "data": {
      "text/plain": [
       "(None, None, None, None)"
      ]
     },
     "execution_count": 11,
     "metadata": {},
     "output_type": "execute_result"
    }
   ],
   "source": [
    "# чтение файла  данных о пользователях и вывод общей информации\n",
    "users = pd.read_csv('/datasets/users.csv') \n",
    "information(users)"
   ]
  },
  {
   "cell_type": "markdown",
   "metadata": {},
   "source": [
    "В столбце churn_date видем большое количество пропусков (92,4%). Заполненные значения обозначают даты прекращения действия тарифа. То есть, отсутствие здесь значений означает, что тариф действующий.  \n",
    "reg_date необходимо будет перевести в формаи даты.  \n",
    "По-хорошему, эту таблицу можно считать основной и присоединять к ней остальные по столбцу user_id по мере необходимости."
   ]
  },
  {
   "cell_type": "markdown",
   "metadata": {},
   "source": [
    "### <a id=\"preprocessing\">Шаг 2. Подготовка данных  \n",
    "\n",
    "На данном этапе нам будет нужно:\n",
    "* привести данные к нужным типам;\n",
    "* найти и исправить ошибки в данных;  \n",
    "\n",
    "Посчитаем для каждого пользователя:\n",
    " * количество сделанных звонков и израсходованных минут разговора по месяцам;\n",
    " * количество отправленных сообщений по месяцам;\n",
    " * объем израсходованного интернет-трафика по месяцам;\n",
    " * помесячную выручку с каждого пользователя (вычтите бесплатный лимит из суммарного количества звонков, сообщений и интернет-трафика; остаток умножьте на значение из тарифного плана; прибавьте абонентскую плату, соответствующую тарифному плану)."
   ]
  },
  {
   "cell_type": "markdown",
   "metadata": {},
   "source": [
    "<a id=\"change\">**Замена типов данных**"
   ]
  },
  {
   "cell_type": "code",
   "execution_count": 12,
   "metadata": {},
   "outputs": [],
   "source": [
    "#Прорабытываем даты во всех таблицах\n",
    "calls['call_date']  = pd.to_datetime(calls['call_date'], format='%Y-%m-%d')\n",
    "internet['session_date']  = pd.to_datetime(internet['session_date'], format='%Y-%m-%d')\n",
    "messages['message_date']  = pd.to_datetime(messages['message_date'], format='%Y-%m-%d')\n",
    "messages['message_date']  = pd.to_datetime(messages['message_date'], format='%Y-%m-%d')\n",
    "users['churn_date']  = pd.to_datetime(users['churn_date'], format='%Y-%m-%d')\n",
    "users['reg_date']  = pd.to_datetime(users['reg_date'], format='%Y-%m-%d')"
   ]
  },
  {
   "cell_type": "markdown",
   "metadata": {},
   "source": [
    "По описанию задачи мы знаем, что компания Мегалайн округляет звонки и интернет до большего значение. Выполним округление для таблиц звонков и интернета."
   ]
  },
  {
   "cell_type": "code",
   "execution_count": 14,
   "metadata": {},
   "outputs": [],
   "source": [
    "#выполнение округления и изменение формата\n",
    "calls['duration'] = np.ceil(calls['duration']).astype('int')\n",
    "internet['mb_used'] = np.ceil(internet['mb_used']).astype('int')"
   ]
  },
  {
   "cell_type": "code",
   "execution_count": 15,
   "metadata": {},
   "outputs": [
    {
     "data": {
      "text/html": [
       "<div>\n",
       "<style scoped>\n",
       "    .dataframe tbody tr th:only-of-type {\n",
       "        vertical-align: middle;\n",
       "    }\n",
       "\n",
       "    .dataframe tbody tr th {\n",
       "        vertical-align: top;\n",
       "    }\n",
       "\n",
       "    .dataframe thead th {\n",
       "        text-align: right;\n",
       "    }\n",
       "</style>\n",
       "<table border=\"1\" class=\"dataframe\">\n",
       "  <thead>\n",
       "    <tr style=\"text-align: right;\">\n",
       "      <th></th>\n",
       "      <th>id</th>\n",
       "      <th>call_date</th>\n",
       "      <th>duration</th>\n",
       "      <th>user_id</th>\n",
       "    </tr>\n",
       "  </thead>\n",
       "  <tbody>\n",
       "    <tr>\n",
       "      <td>0</td>\n",
       "      <td>1000_0</td>\n",
       "      <td>2018-07-25</td>\n",
       "      <td>0</td>\n",
       "      <td>1000</td>\n",
       "    </tr>\n",
       "    <tr>\n",
       "      <td>1</td>\n",
       "      <td>1000_1</td>\n",
       "      <td>2018-08-17</td>\n",
       "      <td>0</td>\n",
       "      <td>1000</td>\n",
       "    </tr>\n",
       "    <tr>\n",
       "      <td>2</td>\n",
       "      <td>1000_2</td>\n",
       "      <td>2018-06-11</td>\n",
       "      <td>3</td>\n",
       "      <td>1000</td>\n",
       "    </tr>\n",
       "    <tr>\n",
       "      <td>3</td>\n",
       "      <td>1000_3</td>\n",
       "      <td>2018-09-21</td>\n",
       "      <td>14</td>\n",
       "      <td>1000</td>\n",
       "    </tr>\n",
       "    <tr>\n",
       "      <td>4</td>\n",
       "      <td>1000_4</td>\n",
       "      <td>2018-12-15</td>\n",
       "      <td>6</td>\n",
       "      <td>1000</td>\n",
       "    </tr>\n",
       "  </tbody>\n",
       "</table>\n",
       "</div>"
      ],
      "text/plain": [
       "       id  call_date  duration  user_id\n",
       "0  1000_0 2018-07-25         0     1000\n",
       "1  1000_1 2018-08-17         0     1000\n",
       "2  1000_2 2018-06-11         3     1000\n",
       "3  1000_3 2018-09-21        14     1000\n",
       "4  1000_4 2018-12-15         6     1000"
      ]
     },
     "execution_count": 15,
     "metadata": {},
     "output_type": "execute_result"
    }
   ],
   "source": [
    "calls.head()"
   ]
  },
  {
   "cell_type": "code",
   "execution_count": 16,
   "metadata": {},
   "outputs": [
    {
     "data": {
      "text/plain": [
       "id           39613\n",
       "call_date    39613\n",
       "duration     39613\n",
       "user_id      39613\n",
       "dtype: int64"
      ]
     },
     "execution_count": 16,
     "metadata": {},
     "output_type": "execute_result"
    }
   ],
   "source": [
    "calls.loc[calls['duration'] == 0.00].count()"
   ]
  },
  {
   "cell_type": "code",
   "execution_count": 17,
   "metadata": {},
   "outputs": [
    {
     "data": {
      "text/plain": [
       "id           0.195516\n",
       "call_date    0.195516\n",
       "duration     0.195516\n",
       "user_id      0.195516\n",
       "dtype: float64"
      ]
     },
     "execution_count": 17,
     "metadata": {},
     "output_type": "execute_result"
    }
   ],
   "source": [
    "#процент звонков с продолжительностью 0,0 минут\n",
    "calls.loc[calls['duration'] == 0.00].count()/len(calls['duration'])"
   ]
  },
  {
   "cell_type": "markdown",
   "metadata": {},
   "source": [
    "Звонков продолжительностью 0.00 порядка 20% "
   ]
  },
  {
   "cell_type": "markdown",
   "metadata": {},
   "source": [
    "Обращаем внимание, что длительность многих звонков — 0.0 минут.Если бы у нас был признак, что это входящий звонок, можно было бы говорить, что это пропущенный звонок. А в случае с исходящим, согласно правилам компании, было бы правильно округлить до целой минуты.  \n",
    "Так как этого признака унас нет, не будем пока убирать нулевые значения."
   ]
  },
  {
   "cell_type": "markdown",
   "metadata": {},
   "source": [
    "### <a id=\"add\">Подсчет и добавление данных"
   ]
  },
  {
   "cell_type": "markdown",
   "metadata": {},
   "source": [
    "Переходим к расчетам для каждого пользователя:\n",
    "* количество сделанных звонков и израсходованных минут разговора по месяцам;\n",
    "* количество отправленных сообщений по месяцам;\n",
    "* объем израсходованного интернет-трафика по месяцам;\n",
    "* помесячную выручку с каждого пользователя (вычтите бесплатный лимит из суммарного количества звонков, сообщений и интернет-трафика; остаток умножьте на значение из тарифного плана; прибавьте абонентскую плату, соответствующую тарифному плану).  "
   ]
  },
  {
   "cell_type": "code",
   "execution_count": 18,
   "metadata": {},
   "outputs": [
    {
     "data": {
      "text/html": [
       "<div>\n",
       "<style scoped>\n",
       "    .dataframe tbody tr th:only-of-type {\n",
       "        vertical-align: middle;\n",
       "    }\n",
       "\n",
       "    .dataframe tbody tr th {\n",
       "        vertical-align: top;\n",
       "    }\n",
       "\n",
       "    .dataframe thead th {\n",
       "        text-align: right;\n",
       "    }\n",
       "</style>\n",
       "<table border=\"1\" class=\"dataframe\">\n",
       "  <thead>\n",
       "    <tr style=\"text-align: right;\">\n",
       "      <th></th>\n",
       "      <th>month</th>\n",
       "      <th>user_id</th>\n",
       "      <th>count_calls</th>\n",
       "      <th>calls_duration</th>\n",
       "    </tr>\n",
       "  </thead>\n",
       "  <tbody>\n",
       "    <tr>\n",
       "      <td>0</td>\n",
       "      <td>1</td>\n",
       "      <td>1005</td>\n",
       "      <td>15</td>\n",
       "      <td>95</td>\n",
       "    </tr>\n",
       "    <tr>\n",
       "      <td>1</td>\n",
       "      <td>1</td>\n",
       "      <td>1032</td>\n",
       "      <td>61</td>\n",
       "      <td>380</td>\n",
       "    </tr>\n",
       "    <tr>\n",
       "      <td>2</td>\n",
       "      <td>1</td>\n",
       "      <td>1045</td>\n",
       "      <td>1</td>\n",
       "      <td>9</td>\n",
       "    </tr>\n",
       "    <tr>\n",
       "      <td>3</td>\n",
       "      <td>1</td>\n",
       "      <td>1055</td>\n",
       "      <td>64</td>\n",
       "      <td>551</td>\n",
       "    </tr>\n",
       "    <tr>\n",
       "      <td>4</td>\n",
       "      <td>1</td>\n",
       "      <td>1071</td>\n",
       "      <td>24</td>\n",
       "      <td>194</td>\n",
       "    </tr>\n",
       "  </tbody>\n",
       "</table>\n",
       "</div>"
      ],
      "text/plain": [
       "   month  user_id  count_calls  calls_duration\n",
       "0      1     1005           15              95\n",
       "1      1     1032           61             380\n",
       "2      1     1045            1               9\n",
       "3      1     1055           64             551\n",
       "4      1     1071           24             194"
      ]
     },
     "execution_count": 18,
     "metadata": {},
     "output_type": "execute_result"
    }
   ],
   "source": [
    "#количество сделанных звонков и израсходованных минут разговора по месяцам\n",
    "# добавим столбец месяца\n",
    "calls['month'] = pd.DatetimeIndex(calls['call_date']).month\n",
    "pivot_calls_month = calls.pivot_table(index=['month','user_id'], values='duration', aggfunc=['count','sum'])\n",
    "pivot_calls_month.columns = ['count_calls', 'calls_duration']\n",
    "pivot_calls_month = pivot_calls_month.reset_index()\n",
    "pivot_calls_month.head()"
   ]
  },
  {
   "cell_type": "code",
   "execution_count": 19,
   "metadata": {},
   "outputs": [],
   "source": [
    "#количество отправленных сообщений по месяцам\n",
    "messages['month'] = pd.DatetimeIndex(messages['message_date']).month\n",
    "pivot_messages_month = messages.pivot_table(index=['month','user_id'], values='message_date', aggfunc='count')\n",
    "pivot_messages_month.columns = ['count_messages']\n",
    "pivot_messages_month = pivot_messages_month.reset_index()"
   ]
  },
  {
   "cell_type": "code",
   "execution_count": 20,
   "metadata": {},
   "outputs": [],
   "source": [
    "#объем израсходованного интернет-трафика по месяцам\n",
    "internet['month'] = pd.DatetimeIndex(internet['session_date']).month\n",
    "pivot_internet_month = internet.pivot_table(index=['month','user_id'], values='mb_used', aggfunc='sum')\n",
    "pivot_internet_month.columns = ['sum_internet']\n",
    "pivot_internet_month = pivot_internet_month.reset_index()"
   ]
  },
  {
   "cell_type": "markdown",
   "metadata": {},
   "source": [
    "Сначала объединим звонки, сообщения и интернет. Нужно сделать объединение не только по пользователю, но и по месяцу"
   ]
  },
  {
   "cell_type": "code",
   "execution_count": 21,
   "metadata": {},
   "outputs": [
    {
     "name": "stdout",
     "output_type": "stream",
     "text": [
      "<class 'pandas.core.frame.DataFrame'>\n",
      "Int64Index: 3216 entries, 0 to 3215\n",
      "Data columns (total 13 columns):\n",
      "user_id           3216 non-null int64\n",
      "age               3216 non-null int64\n",
      "churn_date        189 non-null datetime64[ns]\n",
      "city              3216 non-null object\n",
      "first_name        3216 non-null object\n",
      "last_name         3216 non-null object\n",
      "reg_date          3216 non-null datetime64[ns]\n",
      "tariff            3216 non-null object\n",
      "month             3214 non-null float64\n",
      "count_calls       3174 non-null float64\n",
      "calls_duration    3174 non-null float64\n",
      "count_messages    2717 non-null float64\n",
      "sum_internet      3203 non-null float64\n",
      "dtypes: datetime64[ns](2), float64(5), int64(2), object(4)\n",
      "memory usage: 351.8+ KB\n"
     ]
    }
   ],
   "source": [
    "#Для звонко, сообщений и интернета выбираем тип соединения - outer.\n",
    "calls_mes_month = pivot_calls_month.merge(pivot_messages_month, on = ['user_id','month'], how = 'outer')\n",
    "calls_mes_internet_month = calls_mes_month.merge(pivot_internet_month, on = ['user_id','month'], how = 'outer')\n",
    "calls_mes_internet_month\n",
    "\n",
    "#получившуюся таблицу соединяем с users типом соединения left\n",
    "merge_final =  users.merge(calls_mes_internet_month, on = 'user_id', how = 'left')\n",
    "merge_final.info()"
   ]
  },
  {
   "cell_type": "markdown",
   "metadata": {},
   "source": [
    "Сократим таблицу, удалим столбцы с которыми мы не будем работать и обработаем пропущенные значения. Удаляем стобцы age, city, first_name, last_name."
   ]
  },
  {
   "cell_type": "code",
   "execution_count": 22,
   "metadata": {},
   "outputs": [],
   "source": [
    "merge_final.drop(['age','first_name','last_name'], axis='columns', inplace=True)"
   ]
  },
  {
   "cell_type": "code",
   "execution_count": 23,
   "metadata": {},
   "outputs": [
    {
     "data": {
      "text/html": [
       "<div>\n",
       "<style scoped>\n",
       "    .dataframe tbody tr th:only-of-type {\n",
       "        vertical-align: middle;\n",
       "    }\n",
       "\n",
       "    .dataframe tbody tr th {\n",
       "        vertical-align: top;\n",
       "    }\n",
       "\n",
       "    .dataframe thead th {\n",
       "        text-align: right;\n",
       "    }\n",
       "</style>\n",
       "<table border=\"1\" class=\"dataframe\">\n",
       "  <thead>\n",
       "    <tr style=\"text-align: right;\">\n",
       "      <th></th>\n",
       "      <th>user_id</th>\n",
       "      <th>churn_date</th>\n",
       "      <th>city</th>\n",
       "      <th>reg_date</th>\n",
       "      <th>tariff</th>\n",
       "      <th>month</th>\n",
       "      <th>count_calls</th>\n",
       "      <th>calls_duration</th>\n",
       "      <th>count_messages</th>\n",
       "      <th>sum_internet</th>\n",
       "    </tr>\n",
       "  </thead>\n",
       "  <tbody>\n",
       "    <tr>\n",
       "      <td>2149</td>\n",
       "      <td>1338</td>\n",
       "      <td>NaT</td>\n",
       "      <td>Москва</td>\n",
       "      <td>2018-05-11</td>\n",
       "      <td>smart</td>\n",
       "      <td>11.0</td>\n",
       "      <td>22.0</td>\n",
       "      <td>186.0</td>\n",
       "      <td>29.0</td>\n",
       "      <td>14322.0</td>\n",
       "    </tr>\n",
       "    <tr>\n",
       "      <td>923</td>\n",
       "      <td>1146</td>\n",
       "      <td>NaT</td>\n",
       "      <td>Санкт-Петербург</td>\n",
       "      <td>2018-05-25</td>\n",
       "      <td>smart</td>\n",
       "      <td>8.0</td>\n",
       "      <td>63.0</td>\n",
       "      <td>438.0</td>\n",
       "      <td>93.0</td>\n",
       "      <td>19568.0</td>\n",
       "    </tr>\n",
       "    <tr>\n",
       "      <td>2626</td>\n",
       "      <td>1409</td>\n",
       "      <td>NaT</td>\n",
       "      <td>Набережные Челны</td>\n",
       "      <td>2018-03-14</td>\n",
       "      <td>smart</td>\n",
       "      <td>7.0</td>\n",
       "      <td>93.0</td>\n",
       "      <td>643.0</td>\n",
       "      <td>41.0</td>\n",
       "      <td>19335.0</td>\n",
       "    </tr>\n",
       "    <tr>\n",
       "      <td>140</td>\n",
       "      <td>1019</td>\n",
       "      <td>2018-10-05</td>\n",
       "      <td>Томск</td>\n",
       "      <td>2018-05-16</td>\n",
       "      <td>ultra</td>\n",
       "      <td>9.0</td>\n",
       "      <td>84.0</td>\n",
       "      <td>519.0</td>\n",
       "      <td>21.0</td>\n",
       "      <td>16096.0</td>\n",
       "    </tr>\n",
       "    <tr>\n",
       "      <td>492</td>\n",
       "      <td>1078</td>\n",
       "      <td>NaT</td>\n",
       "      <td>Волгоград</td>\n",
       "      <td>2018-06-19</td>\n",
       "      <td>ultra</td>\n",
       "      <td>11.0</td>\n",
       "      <td>141.0</td>\n",
       "      <td>1109.0</td>\n",
       "      <td>NaN</td>\n",
       "      <td>24116.0</td>\n",
       "    </tr>\n",
       "  </tbody>\n",
       "</table>\n",
       "</div>"
      ],
      "text/plain": [
       "      user_id churn_date              city   reg_date tariff  month  \\\n",
       "2149     1338        NaT            Москва 2018-05-11  smart   11.0   \n",
       "923      1146        NaT   Санкт-Петербург 2018-05-25  smart    8.0   \n",
       "2626     1409        NaT  Набережные Челны 2018-03-14  smart    7.0   \n",
       "140      1019 2018-10-05             Томск 2018-05-16  ultra    9.0   \n",
       "492      1078        NaT         Волгоград 2018-06-19  ultra   11.0   \n",
       "\n",
       "      count_calls  calls_duration  count_messages  sum_internet  \n",
       "2149         22.0           186.0            29.0       14322.0  \n",
       "923          63.0           438.0            93.0       19568.0  \n",
       "2626         93.0           643.0            41.0       19335.0  \n",
       "140          84.0           519.0            21.0       16096.0  \n",
       "492         141.0          1109.0             NaN       24116.0  "
      ]
     },
     "execution_count": 23,
     "metadata": {},
     "output_type": "execute_result"
    }
   ],
   "source": [
    "merge_final.sample(5)"
   ]
  },
  {
   "cell_type": "code",
   "execution_count": 24,
   "metadata": {},
   "outputs": [],
   "source": [
    "# заменим пропуски нулями\n",
    "merge_final = merge_final.fillna(0)"
   ]
  },
  {
   "cell_type": "code",
   "execution_count": 25,
   "metadata": {},
   "outputs": [],
   "source": [
    "# заменяем тип дынных на int\n",
    "merge_final[['month','count_calls', 'calls_duration', 'count_messages', \n",
    "             'sum_internet']] = merge_final[['month','count_calls', 'calls_duration', \n",
    "                                             'count_messages', 'sum_internet']].astype('int')"
   ]
  },
  {
   "cell_type": "code",
   "execution_count": 26,
   "metadata": {},
   "outputs": [
    {
     "name": "stdout",
     "output_type": "stream",
     "text": [
      "<class 'pandas.core.frame.DataFrame'>\n",
      "Int64Index: 3216 entries, 0 to 3215\n",
      "Data columns (total 10 columns):\n",
      "user_id           3216 non-null int64\n",
      "churn_date        3216 non-null object\n",
      "city              3216 non-null object\n",
      "reg_date          3216 non-null datetime64[ns]\n",
      "tariff            3216 non-null object\n",
      "month             3216 non-null int64\n",
      "count_calls       3216 non-null int64\n",
      "calls_duration    3216 non-null int64\n",
      "count_messages    3216 non-null int64\n",
      "sum_internet      3216 non-null int64\n",
      "dtypes: datetime64[ns](1), int64(6), object(3)\n",
      "memory usage: 276.4+ KB\n"
     ]
    }
   ],
   "source": [
    "merge_final.info()"
   ]
  },
  {
   "cell_type": "markdown",
   "metadata": {},
   "source": [
    "На данном этапе нашей работы мы объединили таблицы звонков, сообщений и интернета по месяцас с нашей основной таблицие пользователей. Из получившейся таблицы удалили столбцы, которые в рамках нашего исследования не будут использоваться, и заменили пропущенные значения"
   ]
  },
  {
   "cell_type": "markdown",
   "metadata": {},
   "source": [
    "### \t<a id=\"incom_cl\">Помесячная выручка с клиентов"
   ]
  },
  {
   "cell_type": "markdown",
   "metadata": {},
   "source": [
    "Для расчета помесячной выручки с каждого пользователя вычетаем бесплатный лимит из суммарного количества звонков, сообщений и интернет-трафика; остаток умножим на значение из тарифного плана; прибавим абонентскую плату, соответствующую тарифному плану.  \n",
    "Если лимит звонков, интернета, сообщений не израсходован - прибыль компании только абоненентская плата. Иначе к абонентской плате прибавим стоимость каждой услуги сверх тарифа. "
   ]
  },
  {
   "cell_type": "code",
   "execution_count": 27,
   "metadata": {},
   "outputs": [],
   "source": [
    "def incom(row):\n",
    "    \"\"\" Расчитать выручку.\n",
    "    \n",
    "    Аргументом функции является строка\n",
    "    Возвращаемое значение - число вещественного типа\n",
    "    \"\"\"    \n",
    "    calls = row['calls_duration']\n",
    "    messages = row['count_messages']\n",
    "    internet = row['sum_internet']\n",
    "    tariff = row['tariff']\n",
    "    total_income = 0\n",
    "\n",
    "    # вводим условие по тарифу\n",
    "    if tariff == 'smart':\n",
    "        i = 0\n",
    "    else:\n",
    "        i = 1\n",
    "\n",
    "    #считаем доход по звонкам\n",
    "    if calls > tariffs.loc[i, 'minutes_included']:\n",
    "        income_calls = (calls - tariffs.loc[i, 'minutes_included'])*tariffs.loc[i, 'rub_per_minute']\n",
    "    else:\n",
    "        income_calls = 0\n",
    "\n",
    "    #считаем доход по сообщениям\n",
    "    if messages > tariffs.loc[i, 'messages_included']:\n",
    "        income_mesgs = (messages - tariffs.loc[i, 'messages_included'])*tariffs.loc[i, 'rub_per_message'] \n",
    "    else:\n",
    "        income_mesgs = 0\n",
    "\n",
    "    #считаем доход по интернету\n",
    "    if  internet > tariffs.loc[i, 'mb_per_month_included']:\n",
    "        #перерасход интернета будет в Мб, его нужно перевести в Гб и округлить до большего\n",
    "        income_internet = ((internet - tariffs.loc[i, 'mb_per_month_included'])/1024)*tariffs.loc[i, 'rub_per_gb']\n",
    "    else:\n",
    "        income_internet = 0\n",
    "\n",
    "    # считаем общий доход \n",
    "    total_income = round((tariffs.loc[i, 'rub_monthly_fee'] + income_calls + income_mesgs + income_internet), 2)\n",
    "    \n",
    "        \n",
    "    return total_income"
   ]
  },
  {
   "cell_type": "code",
   "execution_count": 28,
   "metadata": {},
   "outputs": [],
   "source": [
    "#добавляем столбец дохода в общую таблицу\n",
    "merge_final['total_incom'] = merge_final.apply(incom, axis = 1)"
   ]
  },
  {
   "cell_type": "code",
   "execution_count": 29,
   "metadata": {},
   "outputs": [
    {
     "data": {
      "text/html": [
       "<div>\n",
       "<style scoped>\n",
       "    .dataframe tbody tr th:only-of-type {\n",
       "        vertical-align: middle;\n",
       "    }\n",
       "\n",
       "    .dataframe tbody tr th {\n",
       "        vertical-align: top;\n",
       "    }\n",
       "\n",
       "    .dataframe thead th {\n",
       "        text-align: right;\n",
       "    }\n",
       "</style>\n",
       "<table border=\"1\" class=\"dataframe\">\n",
       "  <thead>\n",
       "    <tr style=\"text-align: right;\">\n",
       "      <th></th>\n",
       "      <th>user_id</th>\n",
       "      <th>churn_date</th>\n",
       "      <th>city</th>\n",
       "      <th>reg_date</th>\n",
       "      <th>tariff</th>\n",
       "      <th>month</th>\n",
       "      <th>count_calls</th>\n",
       "      <th>calls_duration</th>\n",
       "      <th>count_messages</th>\n",
       "      <th>sum_internet</th>\n",
       "      <th>total_incom</th>\n",
       "    </tr>\n",
       "  </thead>\n",
       "  <tbody>\n",
       "    <tr>\n",
       "      <td>2717</td>\n",
       "      <td>1423</td>\n",
       "      <td>0</td>\n",
       "      <td>Астрахань</td>\n",
       "      <td>2018-01-23</td>\n",
       "      <td>smart</td>\n",
       "      <td>9</td>\n",
       "      <td>27</td>\n",
       "      <td>198</td>\n",
       "      <td>42</td>\n",
       "      <td>18645</td>\n",
       "      <td>1191.60</td>\n",
       "    </tr>\n",
       "    <tr>\n",
       "      <td>214</td>\n",
       "      <td>1033</td>\n",
       "      <td>0</td>\n",
       "      <td>Москва</td>\n",
       "      <td>2018-07-15</td>\n",
       "      <td>smart</td>\n",
       "      <td>9</td>\n",
       "      <td>58</td>\n",
       "      <td>411</td>\n",
       "      <td>77</td>\n",
       "      <td>25895</td>\n",
       "      <td>2688.62</td>\n",
       "    </tr>\n",
       "    <tr>\n",
       "      <td>2342</td>\n",
       "      <td>1372</td>\n",
       "      <td>0</td>\n",
       "      <td>Магнитогорск</td>\n",
       "      <td>2018-01-23</td>\n",
       "      <td>smart</td>\n",
       "      <td>7</td>\n",
       "      <td>58</td>\n",
       "      <td>380</td>\n",
       "      <td>41</td>\n",
       "      <td>13674</td>\n",
       "      <td>550.00</td>\n",
       "    </tr>\n",
       "    <tr>\n",
       "      <td>1023</td>\n",
       "      <td>1160</td>\n",
       "      <td>0</td>\n",
       "      <td>Ульяновск</td>\n",
       "      <td>2018-07-03</td>\n",
       "      <td>smart</td>\n",
       "      <td>11</td>\n",
       "      <td>53</td>\n",
       "      <td>405</td>\n",
       "      <td>40</td>\n",
       "      <td>12821</td>\n",
       "      <td>550.00</td>\n",
       "    </tr>\n",
       "    <tr>\n",
       "      <td>2770</td>\n",
       "      <td>1430</td>\n",
       "      <td>0</td>\n",
       "      <td>Тверь</td>\n",
       "      <td>2018-04-23</td>\n",
       "      <td>ultra</td>\n",
       "      <td>5</td>\n",
       "      <td>42</td>\n",
       "      <td>284</td>\n",
       "      <td>42</td>\n",
       "      <td>19151</td>\n",
       "      <td>1950.00</td>\n",
       "    </tr>\n",
       "  </tbody>\n",
       "</table>\n",
       "</div>"
      ],
      "text/plain": [
       "      user_id churn_date          city   reg_date tariff  month  count_calls  \\\n",
       "2717     1423          0     Астрахань 2018-01-23  smart      9           27   \n",
       "214      1033          0        Москва 2018-07-15  smart      9           58   \n",
       "2342     1372          0  Магнитогорск 2018-01-23  smart      7           58   \n",
       "1023     1160          0     Ульяновск 2018-07-03  smart     11           53   \n",
       "2770     1430          0         Тверь 2018-04-23  ultra      5           42   \n",
       "\n",
       "      calls_duration  count_messages  sum_internet  total_incom  \n",
       "2717             198              42         18645      1191.60  \n",
       "214              411              77         25895      2688.62  \n",
       "2342             380              41         13674       550.00  \n",
       "1023             405              40         12821       550.00  \n",
       "2770             284              42         19151      1950.00  "
      ]
     },
     "execution_count": 29,
     "metadata": {},
     "output_type": "execute_result"
    }
   ],
   "source": [
    "merge_final.sample(5)"
   ]
  },
  {
   "cell_type": "markdown",
   "metadata": {},
   "source": [
    "## Вывод"
   ]
  },
  {
   "cell_type": "markdown",
   "metadata": {},
   "source": [
    "На втором шаге нашей работы мы получили итоговую таблицу пользователей, в которой есть данные об объеме использования услуг за каждый месяц и выручка по каждому пользователю.  Для этого мы совмещали разные датафреймы, приводили данные к нужнам типам и исправляли ошибки и пропуски в них. Для каждого пользователя были посчитаны количество сделанных звонков и израсходованных минут разговора по месяцам, количество отправленных сообщений по месяцам, объем израсходованного интернет-трафика по месяцам, помесячную выручку с каждого пользователя."
   ]
  },
  {
   "cell_type": "markdown",
   "metadata": {},
   "source": [
    "# <a id=\"research\">Шаг 3. Анализируем данные"
   ]
  },
  {
   "cell_type": "markdown",
   "metadata": {},
   "source": [
    "Опишем поведение клиентов оператора, исходя из выборки. Посмотрим, сколько минут разговора, сколько сообщений и какой объём интернет-трафика требуется пользователям каждого тарифа в месяц.  \n",
    "Посчитаем среднее количество, дисперсию и стандартное отклонение. Построим гистограммы и опишем их распределения. Гистограммы для тарифа Смарт будут зеленого цвета, для Ультра - голубого."
   ]
  },
  {
   "cell_type": "markdown",
   "metadata": {},
   "source": [
    "## \t<a id=\"smart\">Тариф Смарт"
   ]
  },
  {
   "cell_type": "markdown",
   "metadata": {},
   "source": [
    "Начнем с тарифа \"Смарт\". По нашей итоговой таблице делаем срез, считаем среднее количество, дисперсию и стандартное отклонение. Потом строим диаграммы по звонкам, сообщениям, интернету и выручке. "
   ]
  },
  {
   "cell_type": "code",
   "execution_count": 30,
   "metadata": {},
   "outputs": [
    {
     "data": {
      "text/html": [
       "<div>\n",
       "<style scoped>\n",
       "    .dataframe tbody tr th:only-of-type {\n",
       "        vertical-align: middle;\n",
       "    }\n",
       "\n",
       "    .dataframe tbody tr th {\n",
       "        vertical-align: top;\n",
       "    }\n",
       "\n",
       "    .dataframe thead th {\n",
       "        text-align: right;\n",
       "    }\n",
       "</style>\n",
       "<table border=\"1\" class=\"dataframe\">\n",
       "  <thead>\n",
       "    <tr style=\"text-align: right;\">\n",
       "      <th></th>\n",
       "      <th>mean_calls_duration</th>\n",
       "      <th>mean_messages</th>\n",
       "      <th>mean_internet</th>\n",
       "      <th>mean_total_incom</th>\n",
       "    </tr>\n",
       "    <tr>\n",
       "      <th>month</th>\n",
       "      <th></th>\n",
       "      <th></th>\n",
       "      <th></th>\n",
       "      <th></th>\n",
       "    </tr>\n",
       "  </thead>\n",
       "  <tbody>\n",
       "    <tr>\n",
       "      <td>0</td>\n",
       "      <td>0.000000</td>\n",
       "      <td>0.000000</td>\n",
       "      <td>0.000000</td>\n",
       "      <td>550.000000</td>\n",
       "    </tr>\n",
       "    <tr>\n",
       "      <td>1</td>\n",
       "      <td>203.852941</td>\n",
       "      <td>18.235294</td>\n",
       "      <td>8524.441176</td>\n",
       "      <td>702.555882</td>\n",
       "    </tr>\n",
       "    <tr>\n",
       "      <td>2</td>\n",
       "      <td>298.689655</td>\n",
       "      <td>24.086207</td>\n",
       "      <td>11611.396552</td>\n",
       "      <td>804.337759</td>\n",
       "    </tr>\n",
       "    <tr>\n",
       "      <td>3</td>\n",
       "      <td>390.051948</td>\n",
       "      <td>31.857143</td>\n",
       "      <td>15123.857143</td>\n",
       "      <td>1118.382208</td>\n",
       "    </tr>\n",
       "    <tr>\n",
       "      <td>4</td>\n",
       "      <td>367.133929</td>\n",
       "      <td>30.741071</td>\n",
       "      <td>13479.482143</td>\n",
       "      <td>922.340536</td>\n",
       "    </tr>\n",
       "    <tr>\n",
       "      <td>5</td>\n",
       "      <td>387.361702</td>\n",
       "      <td>33.773050</td>\n",
       "      <td>15825.198582</td>\n",
       "      <td>1146.922057</td>\n",
       "    </tr>\n",
       "    <tr>\n",
       "      <td>6</td>\n",
       "      <td>395.640244</td>\n",
       "      <td>33.402439</td>\n",
       "      <td>15814.768293</td>\n",
       "      <td>1149.579695</td>\n",
       "    </tr>\n",
       "    <tr>\n",
       "      <td>7</td>\n",
       "      <td>408.353234</td>\n",
       "      <td>33.751244</td>\n",
       "      <td>15763.512438</td>\n",
       "      <td>1168.063433</td>\n",
       "    </tr>\n",
       "    <tr>\n",
       "      <td>8</td>\n",
       "      <td>421.468085</td>\n",
       "      <td>33.638298</td>\n",
       "      <td>16632.174468</td>\n",
       "      <td>1258.497787</td>\n",
       "    </tr>\n",
       "    <tr>\n",
       "      <td>9</td>\n",
       "      <td>428.611538</td>\n",
       "      <td>33.638462</td>\n",
       "      <td>16324.526923</td>\n",
       "      <td>1199.072538</td>\n",
       "    </tr>\n",
       "    <tr>\n",
       "      <td>10</td>\n",
       "      <td>426.136054</td>\n",
       "      <td>33.765306</td>\n",
       "      <td>16778.564626</td>\n",
       "      <td>1304.842347</td>\n",
       "    </tr>\n",
       "    <tr>\n",
       "      <td>11</td>\n",
       "      <td>435.265823</td>\n",
       "      <td>34.075949</td>\n",
       "      <td>16917.531646</td>\n",
       "      <td>1283.362753</td>\n",
       "    </tr>\n",
       "    <tr>\n",
       "      <td>12</td>\n",
       "      <td>478.560831</td>\n",
       "      <td>35.994065</td>\n",
       "      <td>18136.833828</td>\n",
       "      <td>1505.874866</td>\n",
       "    </tr>\n",
       "  </tbody>\n",
       "</table>\n",
       "</div>"
      ],
      "text/plain": [
       "       mean_calls_duration  mean_messages  mean_internet  mean_total_incom\n",
       "month                                                                     \n",
       "0                 0.000000       0.000000       0.000000        550.000000\n",
       "1               203.852941      18.235294    8524.441176        702.555882\n",
       "2               298.689655      24.086207   11611.396552        804.337759\n",
       "3               390.051948      31.857143   15123.857143       1118.382208\n",
       "4               367.133929      30.741071   13479.482143        922.340536\n",
       "5               387.361702      33.773050   15825.198582       1146.922057\n",
       "6               395.640244      33.402439   15814.768293       1149.579695\n",
       "7               408.353234      33.751244   15763.512438       1168.063433\n",
       "8               421.468085      33.638298   16632.174468       1258.497787\n",
       "9               428.611538      33.638462   16324.526923       1199.072538\n",
       "10              426.136054      33.765306   16778.564626       1304.842347\n",
       "11              435.265823      34.075949   16917.531646       1283.362753\n",
       "12              478.560831      35.994065   18136.833828       1505.874866"
      ]
     },
     "execution_count": 30,
     "metadata": {},
     "output_type": "execute_result"
    }
   ],
   "source": [
    "# делаем рассчет среднего для минут, сообщений, интернета и прибыли по месяцам\n",
    "mean_smart = (\n",
    "    merge_final.query('tariff == \"smart\"')\n",
    "    .pivot_table(index='month', values=('calls_duration', 'count_messages', 'sum_internet','total_incom'), \n",
    "                            aggfunc='mean')\n",
    ")\n",
    "mean_smart.columns = ['mean_calls_duration','mean_messages','mean_internet','mean_total_incom']\n",
    "mean_smart"
   ]
  },
  {
   "cell_type": "code",
   "execution_count": 31,
   "metadata": {},
   "outputs": [
    {
     "data": {
      "text/html": [
       "<div>\n",
       "<style scoped>\n",
       "    .dataframe tbody tr th:only-of-type {\n",
       "        vertical-align: middle;\n",
       "    }\n",
       "\n",
       "    .dataframe tbody tr th {\n",
       "        vertical-align: top;\n",
       "    }\n",
       "\n",
       "    .dataframe thead th {\n",
       "        text-align: right;\n",
       "    }\n",
       "</style>\n",
       "<table border=\"1\" class=\"dataframe\">\n",
       "  <thead>\n",
       "    <tr style=\"text-align: right;\">\n",
       "      <th></th>\n",
       "      <th>user_id</th>\n",
       "      <th>churn_date</th>\n",
       "      <th>city</th>\n",
       "      <th>reg_date</th>\n",
       "      <th>tariff</th>\n",
       "      <th>month</th>\n",
       "      <th>count_calls</th>\n",
       "      <th>calls_duration</th>\n",
       "      <th>count_messages</th>\n",
       "      <th>sum_internet</th>\n",
       "      <th>total_incom</th>\n",
       "    </tr>\n",
       "  </thead>\n",
       "  <tbody>\n",
       "    <tr>\n",
       "      <td>827</td>\n",
       "      <td>1128</td>\n",
       "      <td>2018-12-23 00:00:00</td>\n",
       "      <td>Волжский</td>\n",
       "      <td>2018-12-15</td>\n",
       "      <td>ultra</td>\n",
       "      <td>0</td>\n",
       "      <td>0</td>\n",
       "      <td>0</td>\n",
       "      <td>0</td>\n",
       "      <td>0</td>\n",
       "      <td>1950.0</td>\n",
       "    </tr>\n",
       "    <tr>\n",
       "      <td>2335</td>\n",
       "      <td>1371</td>\n",
       "      <td>2018-12-30 00:00:00</td>\n",
       "      <td>Омск</td>\n",
       "      <td>2018-12-25</td>\n",
       "      <td>smart</td>\n",
       "      <td>0</td>\n",
       "      <td>0</td>\n",
       "      <td>0</td>\n",
       "      <td>0</td>\n",
       "      <td>0</td>\n",
       "      <td>550.0</td>\n",
       "    </tr>\n",
       "  </tbody>\n",
       "</table>\n",
       "</div>"
      ],
      "text/plain": [
       "      user_id           churn_date      city   reg_date tariff  month  \\\n",
       "827      1128  2018-12-23 00:00:00  Волжский 2018-12-15  ultra      0   \n",
       "2335     1371  2018-12-30 00:00:00      Омск 2018-12-25  smart      0   \n",
       "\n",
       "      count_calls  calls_duration  count_messages  sum_internet  total_incom  \n",
       "827             0               0               0             0       1950.0  \n",
       "2335            0               0               0             0        550.0  "
      ]
     },
     "execution_count": 31,
     "metadata": {},
     "output_type": "execute_result"
    }
   ],
   "source": [
    "merge_final.query('month == 0')"
   ]
  },
  {
   "cell_type": "markdown",
   "metadata": {},
   "source": [
    "На данном этапе работы мы увидели, что в данные попадают значения, где месяц 0. По одному абоненту в каждом тарифе подключились и отключились в одном месяце, поэтому с них компания получила прибыль только в виде абонентской платы."
   ]
  },
  {
   "cell_type": "code",
   "execution_count": 32,
   "metadata": {},
   "outputs": [
    {
     "data": {
      "text/html": [
       "<div>\n",
       "<style scoped>\n",
       "    .dataframe tbody tr th:only-of-type {\n",
       "        vertical-align: middle;\n",
       "    }\n",
       "\n",
       "    .dataframe tbody tr th {\n",
       "        vertical-align: top;\n",
       "    }\n",
       "\n",
       "    .dataframe thead th {\n",
       "        text-align: right;\n",
       "    }\n",
       "</style>\n",
       "<table border=\"1\" class=\"dataframe\">\n",
       "  <thead>\n",
       "    <tr style=\"text-align: right;\">\n",
       "      <th></th>\n",
       "      <th>disp_calls_duration</th>\n",
       "      <th>disp_messages</th>\n",
       "      <th>disp_internet</th>\n",
       "      <th>disp_total_incom</th>\n",
       "    </tr>\n",
       "    <tr>\n",
       "      <th>month</th>\n",
       "      <th></th>\n",
       "      <th></th>\n",
       "      <th></th>\n",
       "      <th></th>\n",
       "    </tr>\n",
       "  </thead>\n",
       "  <tbody>\n",
       "    <tr>\n",
       "      <td>1</td>\n",
       "      <td>23787.341355</td>\n",
       "      <td>262.367201</td>\n",
       "      <td>4.162621e+07</td>\n",
       "      <td>1.762448e+05</td>\n",
       "    </tr>\n",
       "    <tr>\n",
       "      <td>2</td>\n",
       "      <td>36412.287961</td>\n",
       "      <td>473.097701</td>\n",
       "      <td>3.911935e+07</td>\n",
       "      <td>2.634107e+05</td>\n",
       "    </tr>\n",
       "    <tr>\n",
       "      <td>3</td>\n",
       "      <td>36823.155161</td>\n",
       "      <td>718.492481</td>\n",
       "      <td>3.405260e+07</td>\n",
       "      <td>4.391576e+05</td>\n",
       "    </tr>\n",
       "    <tr>\n",
       "      <td>4</td>\n",
       "      <td>34778.207127</td>\n",
       "      <td>602.139559</td>\n",
       "      <td>3.254736e+07</td>\n",
       "      <td>2.765127e+05</td>\n",
       "    </tr>\n",
       "    <tr>\n",
       "      <td>5</td>\n",
       "      <td>34820.061094</td>\n",
       "      <td>730.990983</td>\n",
       "      <td>3.582236e+07</td>\n",
       "      <td>4.723693e+05</td>\n",
       "    </tr>\n",
       "    <tr>\n",
       "      <td>6</td>\n",
       "      <td>30742.918861</td>\n",
       "      <td>806.806374</td>\n",
       "      <td>3.361642e+07</td>\n",
       "      <td>5.063643e+05</td>\n",
       "    </tr>\n",
       "    <tr>\n",
       "      <td>7</td>\n",
       "      <td>32250.269602</td>\n",
       "      <td>799.887811</td>\n",
       "      <td>3.486110e+07</td>\n",
       "      <td>4.979999e+05</td>\n",
       "    </tr>\n",
       "    <tr>\n",
       "      <td>8</td>\n",
       "      <td>34793.583379</td>\n",
       "      <td>838.257501</td>\n",
       "      <td>3.136352e+07</td>\n",
       "      <td>5.746634e+05</td>\n",
       "    </tr>\n",
       "    <tr>\n",
       "      <td>9</td>\n",
       "      <td>33535.342723</td>\n",
       "      <td>790.617820</td>\n",
       "      <td>2.706215e+07</td>\n",
       "      <td>4.883743e+05</td>\n",
       "    </tr>\n",
       "    <tr>\n",
       "      <td>10</td>\n",
       "      <td>35392.336375</td>\n",
       "      <td>816.111966</td>\n",
       "      <td>3.441711e+07</td>\n",
       "      <td>6.586828e+05</td>\n",
       "    </tr>\n",
       "    <tr>\n",
       "      <td>11</td>\n",
       "      <td>31605.237050</td>\n",
       "      <td>805.937071</td>\n",
       "      <td>2.858852e+07</td>\n",
       "      <td>5.889056e+05</td>\n",
       "    </tr>\n",
       "    <tr>\n",
       "      <td>12</td>\n",
       "      <td>39698.622033</td>\n",
       "      <td>934.952346</td>\n",
       "      <td>3.114083e+07</td>\n",
       "      <td>1.032137e+06</td>\n",
       "    </tr>\n",
       "  </tbody>\n",
       "</table>\n",
       "</div>"
      ],
      "text/plain": [
       "       disp_calls_duration  disp_messages  disp_internet  disp_total_incom\n",
       "month                                                                     \n",
       "1             23787.341355     262.367201   4.162621e+07      1.762448e+05\n",
       "2             36412.287961     473.097701   3.911935e+07      2.634107e+05\n",
       "3             36823.155161     718.492481   3.405260e+07      4.391576e+05\n",
       "4             34778.207127     602.139559   3.254736e+07      2.765127e+05\n",
       "5             34820.061094     730.990983   3.582236e+07      4.723693e+05\n",
       "6             30742.918861     806.806374   3.361642e+07      5.063643e+05\n",
       "7             32250.269602     799.887811   3.486110e+07      4.979999e+05\n",
       "8             34793.583379     838.257501   3.136352e+07      5.746634e+05\n",
       "9             33535.342723     790.617820   2.706215e+07      4.883743e+05\n",
       "10            35392.336375     816.111966   3.441711e+07      6.586828e+05\n",
       "11            31605.237050     805.937071   2.858852e+07      5.889056e+05\n",
       "12            39698.622033     934.952346   3.114083e+07      1.032137e+06"
      ]
     },
     "execution_count": 32,
     "metadata": {},
     "output_type": "execute_result"
    }
   ],
   "source": [
    "# считаем дисперсию для минут, сообщений, интернета и прибыли по месяцам\n",
    "disp_smart = (\n",
    "    merge_final.query('tariff == \"smart\"')\n",
    "    .pivot_table(index='month', values=('calls_duration', 'count_messages', 'sum_internet','total_incom'), \n",
    "                            aggfunc=np.var)\n",
    ")\n",
    "disp_smart.columns = ['disp_calls_duration','disp_messages','disp_internet','disp_total_incom']\n",
    "disp_smart"
   ]
  },
  {
   "cell_type": "code",
   "execution_count": 33,
   "metadata": {},
   "outputs": [
    {
     "data": {
      "text/html": [
       "<div>\n",
       "<style scoped>\n",
       "    .dataframe tbody tr th:only-of-type {\n",
       "        vertical-align: middle;\n",
       "    }\n",
       "\n",
       "    .dataframe tbody tr th {\n",
       "        vertical-align: top;\n",
       "    }\n",
       "\n",
       "    .dataframe thead th {\n",
       "        text-align: right;\n",
       "    }\n",
       "</style>\n",
       "<table border=\"1\" class=\"dataframe\">\n",
       "  <thead>\n",
       "    <tr style=\"text-align: right;\">\n",
       "      <th></th>\n",
       "      <th>calls_duration</th>\n",
       "      <th>count_messages</th>\n",
       "      <th>sum_internet</th>\n",
       "      <th>total_incom</th>\n",
       "    </tr>\n",
       "    <tr>\n",
       "      <th>month</th>\n",
       "      <th></th>\n",
       "      <th></th>\n",
       "      <th></th>\n",
       "      <th></th>\n",
       "    </tr>\n",
       "  </thead>\n",
       "  <tbody>\n",
       "    <tr>\n",
       "      <td>1</td>\n",
       "      <td>154.231454</td>\n",
       "      <td>16.197753</td>\n",
       "      <td>6451.837940</td>\n",
       "      <td>419.815214</td>\n",
       "    </tr>\n",
       "    <tr>\n",
       "      <td>2</td>\n",
       "      <td>190.820041</td>\n",
       "      <td>21.750809</td>\n",
       "      <td>6254.546293</td>\n",
       "      <td>513.235553</td>\n",
       "    </tr>\n",
       "    <tr>\n",
       "      <td>3</td>\n",
       "      <td>191.893604</td>\n",
       "      <td>26.804710</td>\n",
       "      <td>5835.460138</td>\n",
       "      <td>662.689651</td>\n",
       "    </tr>\n",
       "    <tr>\n",
       "      <td>4</td>\n",
       "      <td>186.489161</td>\n",
       "      <td>24.538532</td>\n",
       "      <td>5705.029114</td>\n",
       "      <td>525.844751</td>\n",
       "    </tr>\n",
       "    <tr>\n",
       "      <td>5</td>\n",
       "      <td>186.601343</td>\n",
       "      <td>27.036845</td>\n",
       "      <td>5985.177978</td>\n",
       "      <td>687.291292</td>\n",
       "    </tr>\n",
       "    <tr>\n",
       "      <td>6</td>\n",
       "      <td>175.336587</td>\n",
       "      <td>28.404337</td>\n",
       "      <td>5797.966469</td>\n",
       "      <td>711.592784</td>\n",
       "    </tr>\n",
       "    <tr>\n",
       "      <td>7</td>\n",
       "      <td>179.583601</td>\n",
       "      <td>28.282288</td>\n",
       "      <td>5904.328642</td>\n",
       "      <td>705.691084</td>\n",
       "    </tr>\n",
       "    <tr>\n",
       "      <td>8</td>\n",
       "      <td>186.530382</td>\n",
       "      <td>28.952677</td>\n",
       "      <td>5600.314007</td>\n",
       "      <td>758.065550</td>\n",
       "    </tr>\n",
       "    <tr>\n",
       "      <td>9</td>\n",
       "      <td>183.126576</td>\n",
       "      <td>28.117927</td>\n",
       "      <td>5202.129029</td>\n",
       "      <td>698.837797</td>\n",
       "    </tr>\n",
       "    <tr>\n",
       "      <td>10</td>\n",
       "      <td>188.128510</td>\n",
       "      <td>28.567673</td>\n",
       "      <td>5866.609964</td>\n",
       "      <td>811.592726</td>\n",
       "    </tr>\n",
       "    <tr>\n",
       "      <td>11</td>\n",
       "      <td>177.778618</td>\n",
       "      <td>28.389031</td>\n",
       "      <td>5346.823769</td>\n",
       "      <td>767.401819</td>\n",
       "    </tr>\n",
       "    <tr>\n",
       "      <td>12</td>\n",
       "      <td>199.245131</td>\n",
       "      <td>30.576990</td>\n",
       "      <td>5580.397230</td>\n",
       "      <td>1015.941535</td>\n",
       "    </tr>\n",
       "  </tbody>\n",
       "</table>\n",
       "</div>"
      ],
      "text/plain": [
       "       calls_duration  count_messages  sum_internet  total_incom\n",
       "month                                                           \n",
       "1          154.231454       16.197753   6451.837940   419.815214\n",
       "2          190.820041       21.750809   6254.546293   513.235553\n",
       "3          191.893604       26.804710   5835.460138   662.689651\n",
       "4          186.489161       24.538532   5705.029114   525.844751\n",
       "5          186.601343       27.036845   5985.177978   687.291292\n",
       "6          175.336587       28.404337   5797.966469   711.592784\n",
       "7          179.583601       28.282288   5904.328642   705.691084\n",
       "8          186.530382       28.952677   5600.314007   758.065550\n",
       "9          183.126576       28.117927   5202.129029   698.837797\n",
       "10         188.128510       28.567673   5866.609964   811.592726\n",
       "11         177.778618       28.389031   5346.823769   767.401819\n",
       "12         199.245131       30.576990   5580.397230  1015.941535"
      ]
     },
     "execution_count": 33,
     "metadata": {},
     "output_type": "execute_result"
    }
   ],
   "source": [
    "# считаем стандартное отклонение для минут, сообщений, интернета и прибыли по месяцам\n",
    "std_smart = (\n",
    "    merge_final.query('tariff == \"smart\"')\n",
    "    .pivot_table(index='month', values=('calls_duration', 'count_messages', 'sum_internet','total_incom'), \n",
    "                            aggfunc=np.std)\n",
    ")\n",
    "std_smart"
   ]
  },
  {
   "cell_type": "markdown",
   "metadata": {},
   "source": [
    "Выполним расчет дисперсии и стандартного отклонения для всей выборки по тарифу Смарт без группировки по месяцу"
   ]
  },
  {
   "cell_type": "code",
   "execution_count": 34,
   "metadata": {},
   "outputs": [
    {
     "name": "stdout",
     "output_type": "stream",
     "text": [
      "Дисперсия звонков Смарт: 36265.12415310985\n",
      "Дисперсия сообщений Смарт: 796.5978766916688\n",
      "Дисперсия интернета Смарт: 34632985.84629673\n",
      "Дисперсия дохода Смарт: 620105.424424856\n"
     ]
    }
   ],
   "source": [
    "#Дисперсиия общая\n",
    "# из нашей итоговой таблицы выделим только тариф Смарт\n",
    "df_smart = merge_final.query('tariff == \"smart\"')\n",
    "\n",
    "#дисперсия для минут, сообщений, интернета и прибыли\n",
    "disp_smart_calls = np.var(df_smart['calls_duration'])\n",
    "disp_smart_mesgs = np.var(df_smart['count_messages'])\n",
    "disp_smart_internet = np.var(df_smart['sum_internet'])\n",
    "disp_smart_incom = np.var(df_smart['total_incom'])\n",
    "\n",
    "print('Дисперсия звонков Смарт:', disp_smart_calls)\n",
    "print('Дисперсия сообщений Смарт:', disp_smart_mesgs) \n",
    "print('Дисперсия интернета Смарт:', disp_smart_internet)\n",
    "print('Дисперсия дохода Смарт:', disp_smart_incom)\n",
    "\n"
   ]
  },
  {
   "cell_type": "code",
   "execution_count": 35,
   "metadata": {},
   "outputs": [
    {
     "name": "stdout",
     "output_type": "stream",
     "text": [
      "Станд.отклонение звонков Смарт: 190.4340414765959\n",
      "Станд.отклонение сообщений Смарт: 28.224065559229217\n",
      "Станд.отклонение интернета Смарт: 5884.979681043659\n",
      "Станд.отклонение дохода Смарт: 787.4677291323474\n"
     ]
    }
   ],
   "source": [
    "#Стандартное отклонение общее\n",
    "std_smart_calls = np.std(df_smart['calls_duration'])\n",
    "std_smart_mesgs = np.std(df_smart['count_messages'])\n",
    "std_smart_internet = np.std(df_smart['sum_internet'])\n",
    "std_smart_incom = np.std(df_smart['total_incom'])\n",
    "\n",
    "print('Станд.отклонение звонков Смарт:', std_smart_calls)\n",
    "print('Станд.отклонение сообщений Смарт:', std_smart_mesgs) \n",
    "print('Станд.отклонение интернета Смарт:', std_smart_internet)\n",
    "print('Станд.отклонение дохода Смарт:', std_smart_incom)"
   ]
  },
  {
   "cell_type": "markdown",
   "metadata": {},
   "source": [
    "### Переходим к постороению диаграмм для тарифа Смарт"
   ]
  },
  {
   "cell_type": "code",
   "execution_count": 36,
   "metadata": {},
   "outputs": [
    {
     "data": {
      "text/html": [
       "<div>\n",
       "<style scoped>\n",
       "    .dataframe tbody tr th:only-of-type {\n",
       "        vertical-align: middle;\n",
       "    }\n",
       "\n",
       "    .dataframe tbody tr th {\n",
       "        vertical-align: top;\n",
       "    }\n",
       "\n",
       "    .dataframe thead th {\n",
       "        text-align: right;\n",
       "    }\n",
       "</style>\n",
       "<table border=\"1\" class=\"dataframe\">\n",
       "  <thead>\n",
       "    <tr style=\"text-align: right;\">\n",
       "      <th></th>\n",
       "      <th>user_id</th>\n",
       "      <th>month</th>\n",
       "      <th>count_calls</th>\n",
       "      <th>calls_duration</th>\n",
       "      <th>count_messages</th>\n",
       "      <th>sum_internet</th>\n",
       "      <th>total_incom</th>\n",
       "    </tr>\n",
       "  </thead>\n",
       "  <tbody>\n",
       "    <tr>\n",
       "      <td>count</td>\n",
       "      <td>2230.000000</td>\n",
       "      <td>2230.000000</td>\n",
       "      <td>2230.000000</td>\n",
       "      <td>2230.000000</td>\n",
       "      <td>2230.000000</td>\n",
       "      <td>2230.000000</td>\n",
       "      <td>2230.000000</td>\n",
       "    </tr>\n",
       "    <tr>\n",
       "      <td>mean</td>\n",
       "      <td>1246.562332</td>\n",
       "      <td>8.343049</td>\n",
       "      <td>58.437220</td>\n",
       "      <td>417.747534</td>\n",
       "      <td>33.369058</td>\n",
       "      <td>16221.910762</td>\n",
       "      <td>1233.042978</td>\n",
       "    </tr>\n",
       "    <tr>\n",
       "      <td>std</td>\n",
       "      <td>146.110501</td>\n",
       "      <td>2.925006</td>\n",
       "      <td>25.963572</td>\n",
       "      <td>190.476754</td>\n",
       "      <td>28.230396</td>\n",
       "      <td>5886.299627</td>\n",
       "      <td>787.644351</td>\n",
       "    </tr>\n",
       "    <tr>\n",
       "      <td>min</td>\n",
       "      <td>1001.000000</td>\n",
       "      <td>0.000000</td>\n",
       "      <td>0.000000</td>\n",
       "      <td>0.000000</td>\n",
       "      <td>0.000000</td>\n",
       "      <td>0.000000</td>\n",
       "      <td>550.000000</td>\n",
       "    </tr>\n",
       "    <tr>\n",
       "      <td>25%</td>\n",
       "      <td>1121.000000</td>\n",
       "      <td>6.000000</td>\n",
       "      <td>40.000000</td>\n",
       "      <td>282.000000</td>\n",
       "      <td>10.000000</td>\n",
       "      <td>12645.250000</td>\n",
       "      <td>550.000000</td>\n",
       "    </tr>\n",
       "    <tr>\n",
       "      <td>50%</td>\n",
       "      <td>1240.000000</td>\n",
       "      <td>9.000000</td>\n",
       "      <td>60.000000</td>\n",
       "      <td>421.500000</td>\n",
       "      <td>28.000000</td>\n",
       "      <td>16529.000000</td>\n",
       "      <td>959.550000</td>\n",
       "    </tr>\n",
       "    <tr>\n",
       "      <td>75%</td>\n",
       "      <td>1376.000000</td>\n",
       "      <td>11.000000</td>\n",
       "      <td>76.000000</td>\n",
       "      <td>545.000000</td>\n",
       "      <td>51.000000</td>\n",
       "      <td>20068.000000</td>\n",
       "      <td>1667.590000</td>\n",
       "    </tr>\n",
       "    <tr>\n",
       "      <td>max</td>\n",
       "      <td>1499.000000</td>\n",
       "      <td>12.000000</td>\n",
       "      <td>198.000000</td>\n",
       "      <td>1435.000000</td>\n",
       "      <td>143.000000</td>\n",
       "      <td>38610.000000</td>\n",
       "      <td>6711.020000</td>\n",
       "    </tr>\n",
       "  </tbody>\n",
       "</table>\n",
       "</div>"
      ],
      "text/plain": [
       "           user_id        month  count_calls  calls_duration  count_messages  \\\n",
       "count  2230.000000  2230.000000  2230.000000     2230.000000     2230.000000   \n",
       "mean   1246.562332     8.343049    58.437220      417.747534       33.369058   \n",
       "std     146.110501     2.925006    25.963572      190.476754       28.230396   \n",
       "min    1001.000000     0.000000     0.000000        0.000000        0.000000   \n",
       "25%    1121.000000     6.000000    40.000000      282.000000       10.000000   \n",
       "50%    1240.000000     9.000000    60.000000      421.500000       28.000000   \n",
       "75%    1376.000000    11.000000    76.000000      545.000000       51.000000   \n",
       "max    1499.000000    12.000000   198.000000     1435.000000      143.000000   \n",
       "\n",
       "       sum_internet  total_incom  \n",
       "count   2230.000000  2230.000000  \n",
       "mean   16221.910762  1233.042978  \n",
       "std     5886.299627   787.644351  \n",
       "min        0.000000   550.000000  \n",
       "25%    12645.250000   550.000000  \n",
       "50%    16529.000000   959.550000  \n",
       "75%    20068.000000  1667.590000  \n",
       "max    38610.000000  6711.020000  "
      ]
     },
     "execution_count": 36,
     "metadata": {},
     "output_type": "execute_result"
    }
   ],
   "source": [
    "df_smart.describe()"
   ]
  },
  {
   "cell_type": "code",
   "execution_count": 37,
   "metadata": {},
   "outputs": [
    {
     "data": {
      "image/png": "[encoded data removed]",
      "text/plain": [
       "<Figure size 432x288 with 1 Axes>"
      ]
     },
     "metadata": {
      "needs_background": "light"
     },
     "output_type": "display_data"
    }
   ],
   "source": [
    "#Строим гистограмму для продолжительности звонков тарифа Смарт\n",
    "sns.distplot(df_smart['calls_duration'],hist=True,kde=True, label=\"Продолжительность звонков\", bins = 50,  color = 'green')\n",
    "plt.legend()\n",
    "plt.show()"
   ]
  },
  {
   "cell_type": "markdown",
   "metadata": {},
   "source": [
    "Диаграмма имеет вид нормального распределения. Медианное значение продолжительности звонков в месяц составляет 422 минут и близко со средним в 417 минут."
   ]
  },
  {
   "cell_type": "code",
   "execution_count": 38,
   "metadata": {},
   "outputs": [],
   "source": [
    "#Функуия отпреления параметнов гистограмм\n",
    "def my_hist(df, column, color):\n",
    "    X_1 = df[column]\n",
    "    hist= X_1.plot(kind = 'hist',grid = True, bins = 50, alpha = 0.5, ec = 'black', color = color)\n",
    "    plt.axvline(x= X_1.median(), linewidth = 2, color = 'red') #обозначаем медиану\n",
    "    plt.title = ('column')\n",
    "    plt.xlabel = ('Значение')\n",
    "    plt.ylabel = ('Частота')\n",
    "    plt.show\n",
    "    "
   ]
  },
  {
   "cell_type": "code",
   "execution_count": 39,
   "metadata": {},
   "outputs": [
    {
     "data": {
      "image/png": "[encoded data removed]",
      "text/plain": [
       "<Figure size 432x288 with 1 Axes>"
      ]
     },
     "metadata": {
      "needs_background": "light"
     },
     "output_type": "display_data"
    }
   ],
   "source": [
    "#Строим гистограмму для сообщений тарифа Смарт\n",
    "my_hist(df_smart, 'count_messages', 'green')"
   ]
  },
  {
   "cell_type": "markdown",
   "metadata": {},
   "source": [
    "Диаграмма имеет вид распределения Пуассона. Есть высокий пик на минимальных значениях смс. Это говорит о том, что пользователи реже пользуются этой услугой, чем другими. Медианное значение сообщений в меся равняется - 28."
   ]
  },
  {
   "cell_type": "code",
   "execution_count": 40,
   "metadata": {},
   "outputs": [
    {
     "data": {
      "image/png": "[encoded data removed]",
      "text/plain": [
       "<Figure size 432x288 with 1 Axes>"
      ]
     },
     "metadata": {
      "needs_background": "light"
     },
     "output_type": "display_data"
    }
   ],
   "source": [
    "#Строим гистограмму для интернета тарифа Смарт\n",
    "my_hist(df_smart, 'sum_internet', 'green')"
   ]
  },
  {
   "cell_type": "markdown",
   "metadata": {},
   "source": [
    "Диаграмма имеет вид нормального распределения. Среднее значение использования интернета в месяц - 16222 Мб или 15,8 Гб и близко к медианному."
   ]
  },
  {
   "cell_type": "markdown",
   "metadata": {},
   "source": [
    "## \t<a id=\"ultra\">Тариф Ультра"
   ]
  },
  {
   "cell_type": "markdown",
   "metadata": {},
   "source": [
    "По нашей итоговой таблице делаем срез по тарифу Ультра, считаем среднее количество, дисперсию и стандартное отклонение. Потом строим диаграммы по звонкам, сообщениям, интернету и выручке."
   ]
  },
  {
   "cell_type": "code",
   "execution_count": 41,
   "metadata": {},
   "outputs": [
    {
     "data": {
      "text/html": [
       "<div>\n",
       "<style scoped>\n",
       "    .dataframe tbody tr th:only-of-type {\n",
       "        vertical-align: middle;\n",
       "    }\n",
       "\n",
       "    .dataframe tbody tr th {\n",
       "        vertical-align: top;\n",
       "    }\n",
       "\n",
       "    .dataframe thead th {\n",
       "        text-align: right;\n",
       "    }\n",
       "</style>\n",
       "<table border=\"1\" class=\"dataframe\">\n",
       "  <thead>\n",
       "    <tr style=\"text-align: right;\">\n",
       "      <th></th>\n",
       "      <th>mean_calls_duration</th>\n",
       "      <th>mean_messages</th>\n",
       "      <th>mean_internet</th>\n",
       "      <th>mean_total_incom</th>\n",
       "    </tr>\n",
       "    <tr>\n",
       "      <th>month</th>\n",
       "      <th></th>\n",
       "      <th></th>\n",
       "      <th></th>\n",
       "      <th></th>\n",
       "    </tr>\n",
       "  </thead>\n",
       "  <tbody>\n",
       "    <tr>\n",
       "      <td>0</td>\n",
       "      <td>0.000000</td>\n",
       "      <td>0.000000</td>\n",
       "      <td>0.000000</td>\n",
       "      <td>1950.000000</td>\n",
       "    </tr>\n",
       "    <tr>\n",
       "      <td>1</td>\n",
       "      <td>428.111111</td>\n",
       "      <td>33.777778</td>\n",
       "      <td>13153.555556</td>\n",
       "      <td>1950.000000</td>\n",
       "    </tr>\n",
       "    <tr>\n",
       "      <td>2</td>\n",
       "      <td>297.125000</td>\n",
       "      <td>21.958333</td>\n",
       "      <td>11786.958333</td>\n",
       "      <td>1973.047083</td>\n",
       "    </tr>\n",
       "    <tr>\n",
       "      <td>3</td>\n",
       "      <td>489.648649</td>\n",
       "      <td>32.297297</td>\n",
       "      <td>17551.972973</td>\n",
       "      <td>2004.171622</td>\n",
       "    </tr>\n",
       "    <tr>\n",
       "      <td>4</td>\n",
       "      <td>458.018182</td>\n",
       "      <td>31.563636</td>\n",
       "      <td>16843.800000</td>\n",
       "      <td>1995.431636</td>\n",
       "    </tr>\n",
       "    <tr>\n",
       "      <td>5</td>\n",
       "      <td>510.328358</td>\n",
       "      <td>37.850746</td>\n",
       "      <td>19381.194030</td>\n",
       "      <td>2054.965970</td>\n",
       "    </tr>\n",
       "    <tr>\n",
       "      <td>6</td>\n",
       "      <td>479.702381</td>\n",
       "      <td>41.726190</td>\n",
       "      <td>18942.238095</td>\n",
       "      <td>2032.060714</td>\n",
       "    </tr>\n",
       "    <tr>\n",
       "      <td>7</td>\n",
       "      <td>545.791209</td>\n",
       "      <td>49.846154</td>\n",
       "      <td>20514.648352</td>\n",
       "      <td>2108.502527</td>\n",
       "    </tr>\n",
       "    <tr>\n",
       "      <td>8</td>\n",
       "      <td>510.775701</td>\n",
       "      <td>48.439252</td>\n",
       "      <td>19594.065421</td>\n",
       "      <td>2071.152243</td>\n",
       "    </tr>\n",
       "    <tr>\n",
       "      <td>9</td>\n",
       "      <td>539.443478</td>\n",
       "      <td>52.286957</td>\n",
       "      <td>19222.208696</td>\n",
       "      <td>2013.725913</td>\n",
       "    </tr>\n",
       "    <tr>\n",
       "      <td>10</td>\n",
       "      <td>558.081301</td>\n",
       "      <td>58.430894</td>\n",
       "      <td>20063.869919</td>\n",
       "      <td>2056.917967</td>\n",
       "    </tr>\n",
       "    <tr>\n",
       "      <td>11</td>\n",
       "      <td>541.380597</td>\n",
       "      <td>55.791045</td>\n",
       "      <td>19805.313433</td>\n",
       "      <td>2080.786493</td>\n",
       "    </tr>\n",
       "    <tr>\n",
       "      <td>12</td>\n",
       "      <td>592.805755</td>\n",
       "      <td>60.611511</td>\n",
       "      <td>21813.589928</td>\n",
       "      <td>2126.246115</td>\n",
       "    </tr>\n",
       "  </tbody>\n",
       "</table>\n",
       "</div>"
      ],
      "text/plain": [
       "       mean_calls_duration  mean_messages  mean_internet  mean_total_incom\n",
       "month                                                                     \n",
       "0                 0.000000       0.000000       0.000000       1950.000000\n",
       "1               428.111111      33.777778   13153.555556       1950.000000\n",
       "2               297.125000      21.958333   11786.958333       1973.047083\n",
       "3               489.648649      32.297297   17551.972973       2004.171622\n",
       "4               458.018182      31.563636   16843.800000       1995.431636\n",
       "5               510.328358      37.850746   19381.194030       2054.965970\n",
       "6               479.702381      41.726190   18942.238095       2032.060714\n",
       "7               545.791209      49.846154   20514.648352       2108.502527\n",
       "8               510.775701      48.439252   19594.065421       2071.152243\n",
       "9               539.443478      52.286957   19222.208696       2013.725913\n",
       "10              558.081301      58.430894   20063.869919       2056.917967\n",
       "11              541.380597      55.791045   19805.313433       2080.786493\n",
       "12              592.805755      60.611511   21813.589928       2126.246115"
      ]
     },
     "execution_count": 41,
     "metadata": {},
     "output_type": "execute_result"
    }
   ],
   "source": [
    "# делаем рассчет среднего для минут, сообщений, интернета и прибыли по месяцам\n",
    "mean_ultra = (\n",
    "    merge_final.query('tariff == \"ultra\"')\n",
    "    .pivot_table(index='month', values=('calls_duration', 'count_messages', 'sum_internet','total_incom'), \n",
    "                            aggfunc='mean')\n",
    ")\n",
    "mean_ultra.columns = ['mean_calls_duration','mean_messages','mean_internet','mean_total_incom']\n",
    "mean_ultra"
   ]
  },
  {
   "cell_type": "code",
   "execution_count": 42,
   "metadata": {},
   "outputs": [
    {
     "data": {
      "text/html": [
       "<div>\n",
       "<style scoped>\n",
       "    .dataframe tbody tr th:only-of-type {\n",
       "        vertical-align: middle;\n",
       "    }\n",
       "\n",
       "    .dataframe tbody tr th {\n",
       "        vertical-align: top;\n",
       "    }\n",
       "\n",
       "    .dataframe thead th {\n",
       "        text-align: right;\n",
       "    }\n",
       "</style>\n",
       "<table border=\"1\" class=\"dataframe\">\n",
       "  <thead>\n",
       "    <tr style=\"text-align: right;\">\n",
       "      <th></th>\n",
       "      <th>disp_calls_duration</th>\n",
       "      <th>disp_messages</th>\n",
       "      <th>disp_internet</th>\n",
       "      <th>disp_total_incom</th>\n",
       "    </tr>\n",
       "    <tr>\n",
       "      <th>month</th>\n",
       "      <th></th>\n",
       "      <th></th>\n",
       "      <th></th>\n",
       "      <th></th>\n",
       "    </tr>\n",
       "  </thead>\n",
       "  <tbody>\n",
       "    <tr>\n",
       "      <td>1</td>\n",
       "      <td>72769.361111</td>\n",
       "      <td>940.694444</td>\n",
       "      <td>4.722641e+07</td>\n",
       "      <td>0.000000</td>\n",
       "    </tr>\n",
       "    <tr>\n",
       "      <td>2</td>\n",
       "      <td>87919.679348</td>\n",
       "      <td>716.824275</td>\n",
       "      <td>1.135150e+08</td>\n",
       "      <td>6101.007465</td>\n",
       "    </tr>\n",
       "    <tr>\n",
       "      <td>3</td>\n",
       "      <td>111384.900901</td>\n",
       "      <td>1732.381381</td>\n",
       "      <td>1.201640e+08</td>\n",
       "      <td>34915.033347</td>\n",
       "    </tr>\n",
       "    <tr>\n",
       "      <td>4</td>\n",
       "      <td>71653.870034</td>\n",
       "      <td>1407.287542</td>\n",
       "      <td>9.462393e+07</td>\n",
       "      <td>30676.764036</td>\n",
       "    </tr>\n",
       "    <tr>\n",
       "      <td>5</td>\n",
       "      <td>83870.193578</td>\n",
       "      <td>1624.644052</td>\n",
       "      <td>1.011158e+08</td>\n",
       "      <td>156402.685506</td>\n",
       "    </tr>\n",
       "    <tr>\n",
       "      <td>6</td>\n",
       "      <td>91535.946500</td>\n",
       "      <td>1986.297619</td>\n",
       "      <td>8.652248e+07</td>\n",
       "      <td>89209.187412</td>\n",
       "    </tr>\n",
       "    <tr>\n",
       "      <td>7</td>\n",
       "      <td>94322.278144</td>\n",
       "      <td>2372.042735</td>\n",
       "      <td>1.014776e+08</td>\n",
       "      <td>178410.103648</td>\n",
       "    </tr>\n",
       "    <tr>\n",
       "      <td>8</td>\n",
       "      <td>97956.496385</td>\n",
       "      <td>2171.739199</td>\n",
       "      <td>1.099560e+08</td>\n",
       "      <td>141910.070367</td>\n",
       "    </tr>\n",
       "    <tr>\n",
       "      <td>9</td>\n",
       "      <td>105716.775286</td>\n",
       "      <td>2152.855530</td>\n",
       "      <td>9.014880e+07</td>\n",
       "      <td>49164.847452</td>\n",
       "    </tr>\n",
       "    <tr>\n",
       "      <td>10</td>\n",
       "      <td>106464.583500</td>\n",
       "      <td>2697.181661</td>\n",
       "      <td>9.627171e+07</td>\n",
       "      <td>138474.234598</td>\n",
       "    </tr>\n",
       "    <tr>\n",
       "      <td>11</td>\n",
       "      <td>96570.057064</td>\n",
       "      <td>2476.948491</td>\n",
       "      <td>9.834044e+07</td>\n",
       "      <td>147780.781491</td>\n",
       "    </tr>\n",
       "    <tr>\n",
       "      <td>12</td>\n",
       "      <td>117276.331561</td>\n",
       "      <td>2681.978417</td>\n",
       "      <td>1.079051e+08</td>\n",
       "      <td>210461.886711</td>\n",
       "    </tr>\n",
       "  </tbody>\n",
       "</table>\n",
       "</div>"
      ],
      "text/plain": [
       "       disp_calls_duration  disp_messages  disp_internet  disp_total_incom\n",
       "month                                                                     \n",
       "1             72769.361111     940.694444   4.722641e+07          0.000000\n",
       "2             87919.679348     716.824275   1.135150e+08       6101.007465\n",
       "3            111384.900901    1732.381381   1.201640e+08      34915.033347\n",
       "4             71653.870034    1407.287542   9.462393e+07      30676.764036\n",
       "5             83870.193578    1624.644052   1.011158e+08     156402.685506\n",
       "6             91535.946500    1986.297619   8.652248e+07      89209.187412\n",
       "7             94322.278144    2372.042735   1.014776e+08     178410.103648\n",
       "8             97956.496385    2171.739199   1.099560e+08     141910.070367\n",
       "9            105716.775286    2152.855530   9.014880e+07      49164.847452\n",
       "10           106464.583500    2697.181661   9.627171e+07     138474.234598\n",
       "11            96570.057064    2476.948491   9.834044e+07     147780.781491\n",
       "12           117276.331561    2681.978417   1.079051e+08     210461.886711"
      ]
     },
     "execution_count": 42,
     "metadata": {},
     "output_type": "execute_result"
    }
   ],
   "source": [
    "# считаем дисперсию для минут, сообщений, интернета и прибыли по месяцам\n",
    "disp_ultra = (\n",
    "    merge_final.query('tariff == \"ultra\"')\n",
    "    .pivot_table(index='month', values=('calls_duration', 'count_messages', 'sum_internet','total_incom'), \n",
    "                            aggfunc=np.var)\n",
    ")\n",
    "disp_ultra.columns = ['disp_calls_duration','disp_messages','disp_internet','disp_total_incom']\n",
    "disp_ultra"
   ]
  },
  {
   "cell_type": "code",
   "execution_count": 43,
   "metadata": {},
   "outputs": [
    {
     "data": {
      "text/html": [
       "<div>\n",
       "<style scoped>\n",
       "    .dataframe tbody tr th:only-of-type {\n",
       "        vertical-align: middle;\n",
       "    }\n",
       "\n",
       "    .dataframe tbody tr th {\n",
       "        vertical-align: top;\n",
       "    }\n",
       "\n",
       "    .dataframe thead th {\n",
       "        text-align: right;\n",
       "    }\n",
       "</style>\n",
       "<table border=\"1\" class=\"dataframe\">\n",
       "  <thead>\n",
       "    <tr style=\"text-align: right;\">\n",
       "      <th></th>\n",
       "      <th>calls_duration</th>\n",
       "      <th>count_messages</th>\n",
       "      <th>sum_internet</th>\n",
       "      <th>total_incom</th>\n",
       "    </tr>\n",
       "    <tr>\n",
       "      <th>month</th>\n",
       "      <th></th>\n",
       "      <th></th>\n",
       "      <th></th>\n",
       "      <th></th>\n",
       "    </tr>\n",
       "  </thead>\n",
       "  <tbody>\n",
       "    <tr>\n",
       "      <td>1</td>\n",
       "      <td>269.757968</td>\n",
       "      <td>30.670742</td>\n",
       "      <td>6872.147046</td>\n",
       "      <td>0.000000</td>\n",
       "    </tr>\n",
       "    <tr>\n",
       "      <td>2</td>\n",
       "      <td>296.512528</td>\n",
       "      <td>26.773574</td>\n",
       "      <td>10654.343346</td>\n",
       "      <td>78.108946</td>\n",
       "    </tr>\n",
       "    <tr>\n",
       "      <td>3</td>\n",
       "      <td>333.743765</td>\n",
       "      <td>41.621886</td>\n",
       "      <td>10961.936316</td>\n",
       "      <td>186.855648</td>\n",
       "    </tr>\n",
       "    <tr>\n",
       "      <td>4</td>\n",
       "      <td>267.682405</td>\n",
       "      <td>37.513831</td>\n",
       "      <td>9727.483304</td>\n",
       "      <td>175.147835</td>\n",
       "    </tr>\n",
       "    <tr>\n",
       "      <td>5</td>\n",
       "      <td>289.603511</td>\n",
       "      <td>40.306874</td>\n",
       "      <td>10055.634106</td>\n",
       "      <td>395.477794</td>\n",
       "    </tr>\n",
       "    <tr>\n",
       "      <td>6</td>\n",
       "      <td>302.549081</td>\n",
       "      <td>44.567899</td>\n",
       "      <td>9301.745817</td>\n",
       "      <td>298.679071</td>\n",
       "    </tr>\n",
       "    <tr>\n",
       "      <td>7</td>\n",
       "      <td>307.119322</td>\n",
       "      <td>48.703621</td>\n",
       "      <td>10073.606689</td>\n",
       "      <td>422.386202</td>\n",
       "    </tr>\n",
       "    <tr>\n",
       "      <td>8</td>\n",
       "      <td>312.980026</td>\n",
       "      <td>46.601923</td>\n",
       "      <td>10485.992263</td>\n",
       "      <td>376.709530</td>\n",
       "    </tr>\n",
       "    <tr>\n",
       "      <td>9</td>\n",
       "      <td>325.141162</td>\n",
       "      <td>46.398874</td>\n",
       "      <td>9494.672266</td>\n",
       "      <td>221.731476</td>\n",
       "    </tr>\n",
       "    <tr>\n",
       "      <td>10</td>\n",
       "      <td>326.289110</td>\n",
       "      <td>51.934398</td>\n",
       "      <td>9811.814618</td>\n",
       "      <td>372.121263</td>\n",
       "    </tr>\n",
       "    <tr>\n",
       "      <td>11</td>\n",
       "      <td>310.757232</td>\n",
       "      <td>49.768951</td>\n",
       "      <td>9916.674617</td>\n",
       "      <td>384.422660</td>\n",
       "    </tr>\n",
       "    <tr>\n",
       "      <td>12</td>\n",
       "      <td>342.456321</td>\n",
       "      <td>51.787821</td>\n",
       "      <td>10387.738720</td>\n",
       "      <td>458.761252</td>\n",
       "    </tr>\n",
       "  </tbody>\n",
       "</table>\n",
       "</div>"
      ],
      "text/plain": [
       "       calls_duration  count_messages  sum_internet  total_incom\n",
       "month                                                           \n",
       "1          269.757968       30.670742   6872.147046     0.000000\n",
       "2          296.512528       26.773574  10654.343346    78.108946\n",
       "3          333.743765       41.621886  10961.936316   186.855648\n",
       "4          267.682405       37.513831   9727.483304   175.147835\n",
       "5          289.603511       40.306874  10055.634106   395.477794\n",
       "6          302.549081       44.567899   9301.745817   298.679071\n",
       "7          307.119322       48.703621  10073.606689   422.386202\n",
       "8          312.980026       46.601923  10485.992263   376.709530\n",
       "9          325.141162       46.398874   9494.672266   221.731476\n",
       "10         326.289110       51.934398   9811.814618   372.121263\n",
       "11         310.757232       49.768951   9916.674617   384.422660\n",
       "12         342.456321       51.787821  10387.738720   458.761252"
      ]
     },
     "execution_count": 43,
     "metadata": {},
     "output_type": "execute_result"
    }
   ],
   "source": [
    "# считаем стандартное отклонение для минут, сообщений, интернета и прибыли по месяцам\n",
    "std_ultra = (\n",
    "    merge_final.query('tariff == \"ultra\"')\n",
    "    .pivot_table(index='month', values=('calls_duration', 'count_messages', 'sum_internet','total_incom'), \n",
    "                            aggfunc=np.std)\n",
    ")\n",
    "std_ultra"
   ]
  },
  {
   "cell_type": "markdown",
   "metadata": {},
   "source": [
    "Выполним расчет дисперсии и стандартного отклонения для всей выборки по тарифу Ультра без группировки по месяцу"
   ]
  },
  {
   "cell_type": "code",
   "execution_count": 44,
   "metadata": {},
   "outputs": [
    {
     "name": "stdout",
     "output_type": "stream",
     "text": [
      "Дисперсия звонков Ультра: 100950.00623331097\n",
      "Дисперсия сообщений Ультра: 2283.0995570851965\n",
      "Дисперсия интернета Ультра: 102113595.65034622\n",
      "Дисперсия дохода Ультра: 620105.424424856\n"
     ]
    }
   ],
   "source": [
    "#Дисперсиия общая\n",
    "# из нашей итоговой таблицы выделим только тариф Ультра\n",
    "df_ultra = merge_final.query('tariff == \"ultra\"')\n",
    "\n",
    "#дисперсия для минут, сообщений, интернета и прибыли\n",
    "disp_ultra_calls = np.var(df_ultra['calls_duration'])\n",
    "disp_ultra_mesgs = np.var(df_ultra['count_messages'])\n",
    "disp_ultra_internet = np.var(df_ultra['sum_internet'])\n",
    "disp_ultra_incom = np.var(df_smart['total_incom'])\n",
    "\n",
    "print('Дисперсия звонков Ультра:', disp_ultra_calls)\n",
    "print('Дисперсия сообщений Ультра:', disp_ultra_mesgs) \n",
    "print('Дисперсия интернета Ультра:', disp_ultra_internet)\n",
    "print('Дисперсия дохода Ультра:', disp_ultra_incom)\n",
    "\n"
   ]
  },
  {
   "cell_type": "code",
   "execution_count": 45,
   "metadata": {},
   "outputs": [
    {
     "name": "stdout",
     "output_type": "stream",
     "text": [
      "Станд.отклонение звонков Ультра: 317.72630711559117\n",
      "Станд.отклонение сообщений Ультра: 47.781791061922284\n",
      "Станд.отклонение интернета Ультра: 10105.127196148806\n",
      "Станд.отклонение дохода Ультра: 355.9608955147369\n"
     ]
    }
   ],
   "source": [
    "#Стандартное отклонение общее\n",
    "std_ultra_calls = np.std(df_ultra['calls_duration'])\n",
    "std_ultra_mesgs = np.std(df_ultra['count_messages'])\n",
    "std_ultra_internet = np.std(df_ultra['sum_internet'])\n",
    "std_ultra_incom = np.std(df_ultra['total_incom'])\n",
    "\n",
    "print('Станд.отклонение звонков Ультра:', std_ultra_calls)\n",
    "print('Станд.отклонение сообщений Ультра:', std_ultra_mesgs) \n",
    "print('Станд.отклонение интернета Ультра:', std_ultra_internet)\n",
    "print('Станд.отклонение дохода Ультра:', std_ultra_incom)"
   ]
  },
  {
   "cell_type": "markdown",
   "metadata": {},
   "source": [
    "### Строим диаграммы для тарифа Ультра"
   ]
  },
  {
   "cell_type": "code",
   "execution_count": 46,
   "metadata": {},
   "outputs": [
    {
     "data": {
      "text/html": [
       "<div>\n",
       "<style scoped>\n",
       "    .dataframe tbody tr th:only-of-type {\n",
       "        vertical-align: middle;\n",
       "    }\n",
       "\n",
       "    .dataframe tbody tr th {\n",
       "        vertical-align: top;\n",
       "    }\n",
       "\n",
       "    .dataframe thead th {\n",
       "        text-align: right;\n",
       "    }\n",
       "</style>\n",
       "<table border=\"1\" class=\"dataframe\">\n",
       "  <thead>\n",
       "    <tr style=\"text-align: right;\">\n",
       "      <th></th>\n",
       "      <th>user_id</th>\n",
       "      <th>month</th>\n",
       "      <th>count_calls</th>\n",
       "      <th>calls_duration</th>\n",
       "      <th>count_messages</th>\n",
       "      <th>sum_internet</th>\n",
       "      <th>total_incom</th>\n",
       "    </tr>\n",
       "  </thead>\n",
       "  <tbody>\n",
       "    <tr>\n",
       "      <td>count</td>\n",
       "      <td>986.000000</td>\n",
       "      <td>986.000000</td>\n",
       "      <td>986.000000</td>\n",
       "      <td>986.000000</td>\n",
       "      <td>986.000000</td>\n",
       "      <td>986.000000</td>\n",
       "      <td>986.000000</td>\n",
       "    </tr>\n",
       "    <tr>\n",
       "      <td>mean</td>\n",
       "      <td>1262.957404</td>\n",
       "      <td>8.242394</td>\n",
       "      <td>73.318458</td>\n",
       "      <td>526.089249</td>\n",
       "      <td>49.313387</td>\n",
       "      <td>19467.137931</td>\n",
       "      <td>2060.417901</td>\n",
       "    </tr>\n",
       "    <tr>\n",
       "      <td>std</td>\n",
       "      <td>140.689268</td>\n",
       "      <td>2.882305</td>\n",
       "      <td>43.956739</td>\n",
       "      <td>317.887549</td>\n",
       "      <td>47.806040</td>\n",
       "      <td>10110.255401</td>\n",
       "      <td>356.141540</td>\n",
       "    </tr>\n",
       "    <tr>\n",
       "      <td>min</td>\n",
       "      <td>1000.000000</td>\n",
       "      <td>0.000000</td>\n",
       "      <td>0.000000</td>\n",
       "      <td>0.000000</td>\n",
       "      <td>0.000000</td>\n",
       "      <td>0.000000</td>\n",
       "      <td>1950.000000</td>\n",
       "    </tr>\n",
       "    <tr>\n",
       "      <td>25%</td>\n",
       "      <td>1143.000000</td>\n",
       "      <td>6.000000</td>\n",
       "      <td>41.000000</td>\n",
       "      <td>282.500000</td>\n",
       "      <td>6.000000</td>\n",
       "      <td>11761.000000</td>\n",
       "      <td>1950.000000</td>\n",
       "    </tr>\n",
       "    <tr>\n",
       "      <td>50%</td>\n",
       "      <td>1277.000000</td>\n",
       "      <td>9.000000</td>\n",
       "      <td>73.500000</td>\n",
       "      <td>518.000000</td>\n",
       "      <td>38.000000</td>\n",
       "      <td>19320.000000</td>\n",
       "      <td>1950.000000</td>\n",
       "    </tr>\n",
       "    <tr>\n",
       "      <td>75%</td>\n",
       "      <td>1381.000000</td>\n",
       "      <td>11.000000</td>\n",
       "      <td>103.750000</td>\n",
       "      <td>751.750000</td>\n",
       "      <td>78.750000</td>\n",
       "      <td>26860.250000</td>\n",
       "      <td>1950.000000</td>\n",
       "    </tr>\n",
       "    <tr>\n",
       "      <td>max</td>\n",
       "      <td>1495.000000</td>\n",
       "      <td>12.000000</td>\n",
       "      <td>244.000000</td>\n",
       "      <td>1673.000000</td>\n",
       "      <td>224.000000</td>\n",
       "      <td>49789.000000</td>\n",
       "      <td>4743.310000</td>\n",
       "    </tr>\n",
       "  </tbody>\n",
       "</table>\n",
       "</div>"
      ],
      "text/plain": [
       "           user_id       month  count_calls  calls_duration  count_messages  \\\n",
       "count   986.000000  986.000000   986.000000      986.000000      986.000000   \n",
       "mean   1262.957404    8.242394    73.318458      526.089249       49.313387   \n",
       "std     140.689268    2.882305    43.956739      317.887549       47.806040   \n",
       "min    1000.000000    0.000000     0.000000        0.000000        0.000000   \n",
       "25%    1143.000000    6.000000    41.000000      282.500000        6.000000   \n",
       "50%    1277.000000    9.000000    73.500000      518.000000       38.000000   \n",
       "75%    1381.000000   11.000000   103.750000      751.750000       78.750000   \n",
       "max    1495.000000   12.000000   244.000000     1673.000000      224.000000   \n",
       "\n",
       "       sum_internet  total_incom  \n",
       "count    986.000000   986.000000  \n",
       "mean   19467.137931  2060.417901  \n",
       "std    10110.255401   356.141540  \n",
       "min        0.000000  1950.000000  \n",
       "25%    11761.000000  1950.000000  \n",
       "50%    19320.000000  1950.000000  \n",
       "75%    26860.250000  1950.000000  \n",
       "max    49789.000000  4743.310000  "
      ]
     },
     "execution_count": 46,
     "metadata": {},
     "output_type": "execute_result"
    }
   ],
   "source": [
    "df_ultra.describe()"
   ]
  },
  {
   "cell_type": "code",
   "execution_count": 47,
   "metadata": {},
   "outputs": [
    {
     "data": {
      "image/png": "[encoded data removed]",
      "text/plain": [
       "<Figure size 432x288 with 1 Axes>"
      ]
     },
     "metadata": {
      "needs_background": "light"
     },
     "output_type": "display_data"
    }
   ],
   "source": [
    "#Строим гистограмму для продолжительности звонков тарифа Ультра\n",
    "my_hist(df_ultra, 'calls_duration', 'blue')"
   ]
  },
  {
   "cell_type": "markdown",
   "metadata": {},
   "source": [
    "Распределение звонков по тарифу Ультра имеет нормальное распределение, но не имеет ярко выраженного пика как в тарифе Смарт. Медианное значение - 518 минут в месяц и близко к среднему в 526 минут."
   ]
  },
  {
   "cell_type": "code",
   "execution_count": 48,
   "metadata": {},
   "outputs": [
    {
     "data": {
      "image/png": "[encoded data removed]",
      "text/plain": [
       "<Figure size 432x288 with 1 Axes>"
      ]
     },
     "metadata": {
      "needs_background": "light"
     },
     "output_type": "display_data"
    }
   ],
   "source": [
    "#Строим гистограмму для сообщений тарифа Ультра\n",
    "my_hist(df_ultra, 'count_messages', 'blue')"
   ]
  },
  {
   "cell_type": "markdown",
   "metadata": {},
   "source": [
    "Распределение смс в месяц напоминает распределение Пуассона. Пользователи редко используют много смс. Медианное значение - 38 шт."
   ]
  },
  {
   "cell_type": "code",
   "execution_count": 49,
   "metadata": {},
   "outputs": [
    {
     "data": {
      "image/png": "[encoded data removed]",
      "text/plain": [
       "<Figure size 432x288 with 1 Axes>"
      ]
     },
     "metadata": {
      "needs_background": "light"
     },
     "output_type": "display_data"
    }
   ],
   "source": [
    "#Строим гистограмму для интернета тарифа Ультра\n",
    "my_hist(df_ultra, 'sum_internet', 'blue')"
   ]
  },
  {
   "cell_type": "markdown",
   "metadata": {},
   "source": [
    "Распределение для интернета в тарифе Ультра выглядит как нормальное. Среднее значение  - 19467 Мб или 19 Гб и близко к медианному."
   ]
  },
  {
   "cell_type": "markdown",
   "metadata": {},
   "source": [
    "## \t<a id=\"comparison\">Сравнение выручки по тарифам"
   ]
  },
  {
   "cell_type": "markdown",
   "metadata": {},
   "source": [
    "Посмотрим общий доход по каждому тарифу"
   ]
  },
  {
   "cell_type": "code",
   "execution_count": 50,
   "metadata": {},
   "outputs": [
    {
     "data": {
      "text/plain": [
       "tariff\n",
       "smart    2749685.84\n",
       "ultra    2031572.05\n",
       "Name: total_incom, dtype: float64"
      ]
     },
     "execution_count": 50,
     "metadata": {},
     "output_type": "execute_result"
    }
   ],
   "source": [
    "#суммарная выручка по тарифам\n",
    "merge_final.groupby('tariff')['total_incom'].sum()"
   ]
  },
  {
   "cell_type": "code",
   "execution_count": 51,
   "metadata": {},
   "outputs": [
    {
     "data": {
      "text/plain": [
       "tariff\n",
       "smart    1233.042978\n",
       "ultra    2060.417901\n",
       "Name: total_incom, dtype: float64"
      ]
     },
     "execution_count": 51,
     "metadata": {},
     "output_type": "execute_result"
    }
   ],
   "source": [
    "#средняя выручка по тарифам\n",
    "merge_final.groupby('tariff')['total_incom'].mean()"
   ]
  },
  {
   "cell_type": "code",
   "execution_count": 52,
   "metadata": {},
   "outputs": [
    {
     "data": {
      "text/plain": [
       "tariff\n",
       "smart    351\n",
       "ultra    149\n",
       "Name: user_id, dtype: int64"
      ]
     },
     "execution_count": 52,
     "metadata": {},
     "output_type": "execute_result"
    }
   ],
   "source": [
    "#количество пользователей по тарифам\n",
    "users.groupby('tariff')['user_id'].count()"
   ]
  },
  {
   "cell_type": "markdown",
   "metadata": {},
   "source": [
    "# Вывод "
   ]
  },
  {
   "cell_type": "markdown",
   "metadata": {},
   "source": [
    "В нашей выборке 149 пользователей тарифа Ультра, тариф Смарт более популярный - 351 пользователь. При этом, по данной выборке мы можем сказать, что общий доход распределен между тарифами примерно 3 к 2. Опять же, у нас не равное количество абонентов каждого тарифа.\n",
    "Пользователи обоих тарифов реже пользуются сообщиениям, максимальное количество пользователей на гистограммах были на минимальных значениях. Распределения звонков и интернета имеют нормальные распределения, аномалий выявлено не было. Медианные значения для звонков и интернета в тарифе Ультра выше чем в тарифе Смарт."
   ]
  },
  {
   "cell_type": "markdown",
   "metadata": {},
   "source": [
    "# <a id=\"hypothes\">Шаг 4. Проверка гипотез"
   ]
  },
  {
   "cell_type": "markdown",
   "metadata": {},
   "source": [
    "Проверка статистических гипотез предполагает выбор между двумя альтернативными гипотезами: нулевой гипотезой Н0 и альтернативной Н1. p - это вероятность отвергнуть нулевую гипотезу при условии, что она верна. \n",
    "Если р < 0,05, (=0,05) то аргументов достаточно, чтобы отвергнуть нулевую гипотезу, хотя есть небольшой шанс против этого. Тогда можно отвергнуть нулевую гипотезу и сказать, что результаты значимы на 5% уровне. Напротив, если р > 0,05, то аргументов недостаточно, чтобы отвергнуть нулевую гипотезу. Не отвергая нулевую гипотезу, можно заявить, что результаты не значимы на 5% уровне. Данное заключение не означает, что нулевая гипотеза истинна, просто недостаточно аргументов (возможно, маленький объем выборки), чтобы ее отвергнуть. "
   ]
  },
  {
   "cell_type": "markdown",
   "metadata": {},
   "source": [
    "### Гипотеза №1 \"Выручка тарифов\""
   ]
  },
  {
   "cell_type": "markdown",
   "metadata": {},
   "source": [
    "Нулевая гипотеза №1 - средняя выручка пользователей тарифов «Ультра» и «Смарт» равна. Альтернативная гипотеза - средняя выручка пользователей тарифов «Ультра» не равна тарифу «Смарт».  \n",
    "Пороговое значение alpha - 0,05"
   ]
  },
  {
   "cell_type": "code",
   "execution_count": 53,
   "metadata": {},
   "outputs": [
    {
     "name": "stdout",
     "output_type": "stream",
     "text": [
      "p-значение: 3.6652016722948443e-296\n",
      "Отвергаем нулевую гипотезу\n"
     ]
    }
   ],
   "source": [
    "#выделяем отдельно тарифы из общей выборки\n",
    "df_smart = merge_final.query('tariff == \"smart\"')\n",
    "df_ultra = merge_final.query('tariff == \"ultra\"')\n",
    "# значения дохода в тарифе Смарт\n",
    "df_smart_incom = df_smart['total_incom']\n",
    "\n",
    "# значения дохода в тарифе Смарт\n",
    "df_ultra_incom = df_ultra['total_incom']\n",
    "\n",
    "alpha = .05 # критический уровень статистической значимости\n",
    "            # если p-value окажется меньше него - отвергнем гипотезу\n",
    "\n",
    "# дисперсии выборок не равны\n",
    "results = st.ttest_ind(df_smart_incom, df_ultra_incom, equal_var = False)\n",
    "\n",
    "print('p-значение:', results.pvalue)\n",
    "\n",
    "if (results.pvalue < alpha):\n",
    "    print(\"Отвергаем нулевую гипотезу\")\n",
    "else:\n",
    "    print(\"Не получилось отвергнуть нулевую гипотезу\") \n"
   ]
  },
  {
   "cell_type": "markdown",
   "metadata": {},
   "source": [
    "С высокой долей вероятности средняя выручка тарифов Смарт и Ультра различается. "
   ]
  },
  {
   "cell_type": "code",
   "execution_count": 54,
   "metadata": {},
   "outputs": [
    {
     "data": {
      "text/plain": [
       "count    2230.000000\n",
       "mean     1233.042978\n",
       "std       787.644351\n",
       "min       550.000000\n",
       "25%       550.000000\n",
       "50%       959.550000\n",
       "75%      1667.590000\n",
       "max      6711.020000\n",
       "Name: total_incom, dtype: float64"
      ]
     },
     "execution_count": 54,
     "metadata": {},
     "output_type": "execute_result"
    }
   ],
   "source": [
    "df_smart['total_incom'].describe()"
   ]
  },
  {
   "cell_type": "code",
   "execution_count": 55,
   "metadata": {},
   "outputs": [
    {
     "data": {
      "text/plain": [
       "count     986.000000\n",
       "mean     2060.417901\n",
       "std       356.141540\n",
       "min      1950.000000\n",
       "25%      1950.000000\n",
       "50%      1950.000000\n",
       "75%      1950.000000\n",
       "max      4743.310000\n",
       "Name: total_incom, dtype: float64"
      ]
     },
     "execution_count": 55,
     "metadata": {},
     "output_type": "execute_result"
    }
   ],
   "source": [
    "df_ultra['total_incom'].describe()"
   ]
  },
  {
   "cell_type": "markdown",
   "metadata": {},
   "source": [
    "В нашей выборке средняя выручка пользователей тарифов «Ультра» выше тарифа «Смарт»"
   ]
  },
  {
   "cell_type": "markdown",
   "metadata": {},
   "source": [
    "### Гипотеза №2 \"Выручка по регионам\""
   ]
  },
  {
   "cell_type": "markdown",
   "metadata": {},
   "source": [
    "Нулевая гипотеза №1 - средняя выручка пользователей в Москве и во всех остальных регионах равна. Альтернативная гипотеза - средняя выручка в Москве не равна выручке по всем остальным регионам.  \n",
    "Пороговое значение alpha - 0,05"
   ]
  },
  {
   "cell_type": "code",
   "execution_count": 56,
   "metadata": {},
   "outputs": [
    {
     "name": "stdout",
     "output_type": "stream",
     "text": [
      "p-значение: 0.4712676706683817\n",
      "Не получилось отвергнуть нулевую гипотезу\n"
     ]
    }
   ],
   "source": [
    "#выделяем отдельно выборки по Москве и остальным регионам\n",
    "df_moscow = merge_final.query('city == \"Москва\"')\n",
    "df_other = merge_final.query('city != \"Москва\"')\n",
    "# значения дохода в Москве\n",
    "df_moscow_incom = df_moscow['total_incom']\n",
    "\n",
    "# значения дохода в других регионах\n",
    "df_other_incom = df_other['total_incom']\n",
    "\n",
    "alpha = .05 # критический уровень статистической значимости\n",
    "            # если p-value окажется меньше него - отвергнем гипотезу\n",
    "\n",
    "results = st.ttest_ind(df_moscow_incom, df_other_incom)\n",
    "\n",
    "print('p-значение:', results.pvalue)\n",
    "\n",
    "if (results.pvalue < alpha):\n",
    "    print(\"Отвергаем нулевую гипотезу\")\n",
    "else:\n",
    "    print(\"Не получилось отвергнуть нулевую гипотезу\") "
   ]
  },
  {
   "cell_type": "markdown",
   "metadata": {},
   "source": [
    "Не получилось отвергнуть нулевую гипотезу, что средняя выручка пользователей в Москве и во всех остальных регионах равна. Нулевая гитотеза принимает на заданном уровне значимости: в этом случае наблюдаемое различие генеральных совокупностей по данным эксперимента можно объяснить случайностью выборки. Однако, принятие нулевой гипотезв совсем не означает доказательства равенства параметров генеральных совокупностей. Просто имеющийся в распоряжении статистический материал не дает основания для отклонения о том, что эти параметры одинаковы. Возможно появится другой экспериментальный материал, на основании которого эта гипотеза буде отклонена. \n",
    "С вероятностью в почти 47% такое или большее различие можно получить случайно. Это явно слишком большая вероятность, чтобы делать вывод о значимом различии между двумя массивами данных."
   ]
  },
  {
   "cell_type": "markdown",
   "metadata": {},
   "source": [
    "# <a id=\"finish\">Общий вывод"
   ]
  },
  {
   "cell_type": "markdown",
   "metadata": {},
   "source": [
    "Целью нашего исследования было ответить на вопрос какой тариф приносит больше денег, чтобы скорректировать рекламный бюджет компании «Мегалайн». В нашем распоряжении были данные 500 пользователей «Мегалайна»: кто они, откуда, каким тарифом пользуются, сколько звонков и сообщений каждый отправил за 2018 год.  \n",
    "В нашей выборке было 149 пользователей тарифа Ультра, тариф Смарт был более популярный - 351 пользователь. Для ответа на конечный вопрос исследования мы объединили таблицы звонков, сообщений и интернета по месяцам с нашей основной таблицей пользователей. Из получившейся таблицы удалили столбцы, которые в рамках нашего исследования не будут использоваться, и заменили пропущенные значения. В конечной таблице посчитали выручку по каждому пользователю.  В наших начальных данных было обнаружено почти 20% звонков продолжительностью 0.00 минут. Было выдвинуто предположение, что это пропущенные звонки. Так же в нашей выборке были обнаружены 38 клиентов (или 7,6%), которые прервали свое обслуживание в период 2018 года. Причины ухода клиентов могут стать объектом дальнейшего исследования.  \n",
    "По тарифу Смарт пользователи в среднем заговаривают 417 минут/месяц, отправляют 28 сообщений и пользуются интернетом в объеме 15.8 Гб. Пользователи тарифа Ультра имеют следующие средние значения: звонки – 526 минут/месяц, сообщения – 38 шт. и интернет - 19 Гб.  \n",
    "\n",
    "Мы сделали вывод, что пользователи обоих тарифов реже пользуются сообщениям. Объем использования услуг звонков и интернета в тарифе Ультра выше чем в тарифе Смарт.  Распределения звонков и интернета являются нормальными, аномалий выявлено не было. Стандартное отклонение от среднего для звонков, сообщений и интернета по тарифу Смарт составляет – 190, 28 и 5885 соответственно, по Ультра – 318, 48 и 10105. Согласно правилу для нормального распределения практически все значения (около 99%) находятся в промежутке (μ−3σ,μ+3σ).  \n",
    "\n",
    "Далее мы проверили гипотезы, что средняя выручка пользователей тарифов «Ультра» и «Смарт» не различается и отвергли ее. С высокой долей вероятности средняя выручка тарифов Смарт и Ультра различается. По данным нашей выборке, средняя выручка пользователей тарифов «Ультра» выше тарифа «Смарт».  Однако, в нашей выборке клиентов тарифа Смарт было больше и их суммарный доход был выше, чем по тарифу Ультра.  \n",
    "\n",
    "Второй проверяемой гипотезой стала проверка, что средняя выручка пользователей из Москвы отличается от выручки пользователей из других регионов. Не получилось отвергнуть нулевую гипотезу, что средняя выручка пользователей в Москве и во всех остальных регионах равна.\n",
    "\n",
    "В нашей выборке общая выручка по тарифу Смарт составляет 2 749 685,84 руб., Ультра - 2 031 572,05 руб.\n",
    "При этом средняя выручка по тарифам: Смарт - 1233.04 руб., Ультра - 2060.41 руб.    "
   ]
  },
  {
   "cell_type": "code",
   "execution_count": null,
   "metadata": {},
   "outputs": [],
   "source": []
  }
 ],
 "metadata": {
  "kernelspec": {
   "display_name": "Python 3",
   "language": "python",
   "name": "python3"
  },
  "language_info": {
   "codemirror_mode": {
    "name": "ipython",
    "version": 3
   },
   "file_extension": ".py",
   "mimetype": "text/x-python",
   "name": "python",
   "nbconvert_exporter": "python",
   "pygments_lexer": "ipython3",
   "version": "3.8.5"
  },
  "toc": {
   "base_numbering": 1,
   "nav_menu": {},
   "number_sections": true,
   "sideBar": true,
   "skip_h1_title": false,
   "title_cell": "Table of Contents",
   "title_sidebar": "Contents",
   "toc_cell": false,
   "toc_position": {},
   "toc_section_display": true,
   "toc_window_display": false
  }
 },
 "nbformat": 4,
 "nbformat_minor": 2
}
