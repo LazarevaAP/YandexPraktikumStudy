{
 "cells": [
  {
   "cell_type": "markdown",
   "metadata": {
    "toc": true
   },
   "source": [
    "<h1>Table of Contents<span class=\"tocSkip\"></span></h1>\n",
    "<li><span><a href=\"#Открытие-данных-и-изучение-общей-информации\" data-toc-modified-id=\"Открытие-данных-и-изучение-общей-информации-5\">Открытие данных и изучение общей информации</a></span></li><li><span><a href=\"#Предобработка-данных\" data-toc-modified-id=\"Предобработка-данных-6\">Предобработка данных</a></span><ul class=\"toc-item\"><li><span><a href=\"#Обработка-пропусков\" data-toc-modified-id=\"Обработка-пропусков-6.1\">Обработка пропусков</a></span></li><li><span><a href=\"#Приведение-данных-к-нужным-типам\" data-toc-modified-id=\"Приведение-данных-к-нужным-типам-6.2\">Приведение данных к нужным типам</a></span></li></ul></li><li><span><a href=\"#Комментарий-от-наставника\" data-toc-modified-id=\"Комментарий-от-наставника-7\">Комментарий от наставника</a></span><ul class=\"toc-item\"><li><span><a href=\"#Добавление-данных-о-выручке\" data-toc-modified-id=\"Добавление-данных-о-выручке-7.1\">Добавление данных о выручке</a></span></li><li><span><a href=\"#Добавление-данных-о-месяце-продаж\" data-toc-modified-id=\"Добавление-данных-о-месяце-продаж-7.2\">Добавление данных о месяце продаж</a></span></li><li><span><a href=\"#Удаление-дубликатов\" data-toc-modified-id=\"Удаление-дубликатов-7.3\">Удаление дубликатов</a></span></li><li><span><a href=\"#Работа-с-выбросами\" data-toc-modified-id=\"Работа-с-выбросами-7.4\">Работа с выбросами</a></span></li></ul></li><li><span><a href=\"#Комментарий-от-наставника\" data-toc-modified-id=\"Комментарий-от-наставника-8\">Комментарий от наставника</a></span></li><li><span><a href=\"#Комментарий-от-наставника\" data-toc-modified-id=\"Комментарий-от-наставника-9\">Комментарий от наставника</a></span></li><li><span><a href=\"#Исследовательский-анализ-данных\" data-toc-modified-id=\"Исследовательский-анализ-данных-10\">Исследовательский анализ данных</a></span><ul class=\"toc-item\"><li><span><a href=\"#Выделение-категорий-по-ключевым-словам\" data-toc-modified-id=\"Выделение-категорий-по-ключевым-словам-10.1\">Выделение категорий по ключевым словам</a></span></li></ul></li><li><span><a href=\"#Комментарий-от-наставника\" data-toc-modified-id=\"Комментарий-от-наставника-11\">Комментарий от наставника</a></span><ul class=\"toc-item\"><li><span><a href=\"#Выручка-по-категориям\" data-toc-modified-id=\"Выручка-по-категориям-11.1\">Выручка по категориям</a></span></li></ul></li><li><span><a href=\"#Комментарий-от-наставника\" data-toc-modified-id=\"Комментарий-от-наставника-12\">Комментарий от наставника</a></span><ul class=\"toc-item\"><li><span><a href=\"#Количество-продаж-по-категориям\" data-toc-modified-id=\"Количество-продаж-по-категориям-12.1\">Количество продаж по категориям</a></span></li><li><span><a href=\"#Проверка-сезонности-товаров-для-оптимизации-закупок-в-разное-время-года\" data-toc-modified-id=\"Проверка-сезонности-товаров-для-оптимизации-закупок-в-разное-время-года-12.2\">Проверка сезонности товаров для оптимизации закупок в разное время года</a></span></li></ul></li><li><span><a href=\"#Комментарий-от-наставника\" data-toc-modified-id=\"Комментарий-от-наставника-13\">Комментарий от наставника</a></span><ul class=\"toc-item\"><li><span><a href=\"#Топ-5--товаров-по-категориям\" data-toc-modified-id=\"Топ-5--товаров-по-категориям-13.1\">Топ-5  товаров по категориям</a></span></li></ul></li><li><span><a href=\"#Комментарий-от-наставника\" data-toc-modified-id=\"Комментарий-от-наставника-14\">Комментарий от наставника</a></span></li><li><span><a href=\"#Проверка-гипотез\" data-toc-modified-id=\"Проверка-гипотез-15\">Проверка гипотез</a></span><ul class=\"toc-item\"><li><span><a href=\"#Средняя-выручка-категории-&quot;Товары-для-дома&quot;-отличается-от-выручки-всех-остальных-категорий\" data-toc-modified-id=\"Средняя-выручка-категории-&quot;Товары-для-дома&quot;-отличается-от-выручки-всех-остальных-категорий-15.1\">Средняя выручка категории \"Товары для дома\" отличается от выручки всех остальных категорий</a></span></li><li><span><a href=\"#Средняя-выручка-категории-&quot;Цветы&quot;-и-&quot;Декор&quot;-различаются\" data-toc-modified-id=\"Средняя-выручка-категории-&quot;Цветы&quot;-и-&quot;Декор&quot;-различаются-15.2\">Средняя выручка категории \"Цветы\" и \"Декор\" различаются</a></span></li></ul></li><li><span><a href=\"#Комментарий-от-наставника\" data-toc-modified-id=\"Комментарий-от-наставника-16\">Комментарий от наставника</a></span></li><li><span><a href=\"#Общий-вывод\" data-toc-modified-id=\"Общий-вывод-17\">Общий вывод</a></span></li></ul></div>"
   ]
  },
  {
   "cell_type": "markdown",
   "metadata": {},
   "source": [
    "# Анализ товарного ассортимента"
   ]
  },
  {
   "cell_type": "markdown",
   "metadata": {},
   "source": [
    "**Цель проекта**\n",
    "\n",
    "Провести анализ товарного ассортимента с целью определения какие товары входят в основной и дополнительный ассортимент, чтобы грамотно предлагать покупателям дополнительные товары и оптимизировать закупки (нет смысла закупать много дополнительного товара, когда нет основного).\n",
    "\n",
    "**Заказчик:** Менеджер проекта, который отвечает за актуальность товарного ассортимента"
   ]
  },
  {
   "cell_type": "markdown",
   "metadata": {},
   "source": [
    "## Открытие данных и изучение общей информации "
   ]
  },
  {
   "cell_type": "code",
   "execution_count": 1,
   "metadata": {},
   "outputs": [],
   "source": [
    "#импорт библиотек\n",
    "import pandas as pd\n",
    "import datetime as dt\n",
    "import matplotlib.pyplot as plt\n",
    "import numpy as np\n",
    "import seaborn as sns\n",
    "from scipy import stats as st"
   ]
  },
  {
   "cell_type": "code",
   "execution_count": 2,
   "metadata": {},
   "outputs": [],
   "source": [
    "# загрузка данных\n",
    "ecom = pd.read_csv('/datasets/ecommerce_dataset.csv')"
   ]
  },
  {
   "cell_type": "code",
   "execution_count": 3,
   "metadata": {},
   "outputs": [],
   "source": [
    "# создаем функцию для автоматизации просмотра основных сведений\n",
    "def information(df):\n",
    "    return(\n",
    "    df.info(),\n",
    "    display('5 cлучайных строк', df.sample(5)),\n",
    "    display('Статистика данных', df.describe()),\n",
    "    display('Процент пропусков', round(df.isna().mean()*100, 1))\n",
    "    )"
   ]
  },
  {
   "cell_type": "code",
   "execution_count": 4,
   "metadata": {},
   "outputs": [
    {
     "name": "stdout",
     "output_type": "stream",
     "text": [
      "<class 'pandas.core.frame.DataFrame'>\n",
      "RangeIndex: 6737 entries, 0 to 6736\n",
      "Data columns (total 6 columns):\n",
      "date           6737 non-null int64\n",
      "customer_id    6737 non-null object\n",
      "order_id       6737 non-null int64\n",
      "product        6737 non-null object\n",
      "quantity       6737 non-null int64\n",
      "price          6737 non-null float64\n",
      "dtypes: float64(1), int64(3), object(2)\n",
      "memory usage: 315.9+ KB\n"
     ]
    },
    {
     "data": {
      "text/plain": [
       "'5 cлучайных строк'"
      ]
     },
     "metadata": {},
     "output_type": "display_data"
    },
    {
     "data": {
      "text/html": [
       "<div>\n",
       "<style scoped>\n",
       "    .dataframe tbody tr th:only-of-type {\n",
       "        vertical-align: middle;\n",
       "    }\n",
       "\n",
       "    .dataframe tbody tr th {\n",
       "        vertical-align: top;\n",
       "    }\n",
       "\n",
       "    .dataframe thead th {\n",
       "        text-align: right;\n",
       "    }\n",
       "</style>\n",
       "<table border=\"1\" class=\"dataframe\">\n",
       "  <thead>\n",
       "    <tr style=\"text-align: right;\">\n",
       "      <th></th>\n",
       "      <th>date</th>\n",
       "      <th>customer_id</th>\n",
       "      <th>order_id</th>\n",
       "      <th>product</th>\n",
       "      <th>quantity</th>\n",
       "      <th>price</th>\n",
       "    </tr>\n",
       "  </thead>\n",
       "  <tbody>\n",
       "    <tr>\n",
       "      <td>326</td>\n",
       "      <td>2018101917</td>\n",
       "      <td>a4726e06-e517-4941-b591-ff4857aeb3f6</td>\n",
       "      <td>68698</td>\n",
       "      <td>Аспарагус d-12 см h-30 см</td>\n",
       "      <td>1</td>\n",
       "      <td>134.0</td>\n",
       "    </tr>\n",
       "    <tr>\n",
       "      <td>3250</td>\n",
       "      <td>2019042813</td>\n",
       "      <td>b6da6f7a-d2a3-424a-878e-1876c8b88126</td>\n",
       "      <td>14700</td>\n",
       "      <td>Рассада Арбуза сорт Шуга Бэби горшок 9х9 см P-9</td>\n",
       "      <td>3</td>\n",
       "      <td>38.0</td>\n",
       "    </tr>\n",
       "    <tr>\n",
       "      <td>5580</td>\n",
       "      <td>2019062519</td>\n",
       "      <td>0edd8391-3d14-48ed-ae04-57dba62593c8</td>\n",
       "      <td>71799</td>\n",
       "      <td>Хлебница Webber BE-7010</td>\n",
       "      <td>1</td>\n",
       "      <td>824.0</td>\n",
       "    </tr>\n",
       "    <tr>\n",
       "      <td>3869</td>\n",
       "      <td>2019051622</td>\n",
       "      <td>ca274b0b-9724-4be9-b834-3f6749fc683f</td>\n",
       "      <td>14784</td>\n",
       "      <td>Рассада зелени для кухни Тимьяна в горшке диам...</td>\n",
       "      <td>1</td>\n",
       "      <td>120.0</td>\n",
       "    </tr>\n",
       "    <tr>\n",
       "      <td>2943</td>\n",
       "      <td>2019041810</td>\n",
       "      <td>81f0f6e6-b092-4ed7-ac34-ae190230f3ba</td>\n",
       "      <td>71193</td>\n",
       "      <td>Искусственный цветок Крокус пластиковый розовый</td>\n",
       "      <td>8</td>\n",
       "      <td>29.0</td>\n",
       "    </tr>\n",
       "  </tbody>\n",
       "</table>\n",
       "</div>"
      ],
      "text/plain": [
       "            date                           customer_id  order_id  \\\n",
       "326   2018101917  a4726e06-e517-4941-b591-ff4857aeb3f6     68698   \n",
       "3250  2019042813  b6da6f7a-d2a3-424a-878e-1876c8b88126     14700   \n",
       "5580  2019062519  0edd8391-3d14-48ed-ae04-57dba62593c8     71799   \n",
       "3869  2019051622  ca274b0b-9724-4be9-b834-3f6749fc683f     14784   \n",
       "2943  2019041810  81f0f6e6-b092-4ed7-ac34-ae190230f3ba     71193   \n",
       "\n",
       "                                                product  quantity  price  \n",
       "326                           Аспарагус d-12 см h-30 см         1  134.0  \n",
       "3250    Рассада Арбуза сорт Шуга Бэби горшок 9х9 см P-9         3   38.0  \n",
       "5580                            Хлебница Webber BE-7010         1  824.0  \n",
       "3869  Рассада зелени для кухни Тимьяна в горшке диам...         1  120.0  \n",
       "2943    Искусственный цветок Крокус пластиковый розовый         8   29.0  "
      ]
     },
     "metadata": {},
     "output_type": "display_data"
    },
    {
     "data": {
      "text/plain": [
       "'Статистика данных'"
      ]
     },
     "metadata": {},
     "output_type": "display_data"
    },
    {
     "data": {
      "text/html": [
       "<div>\n",
       "<style scoped>\n",
       "    .dataframe tbody tr th:only-of-type {\n",
       "        vertical-align: middle;\n",
       "    }\n",
       "\n",
       "    .dataframe tbody tr th {\n",
       "        vertical-align: top;\n",
       "    }\n",
       "\n",
       "    .dataframe thead th {\n",
       "        text-align: right;\n",
       "    }\n",
       "</style>\n",
       "<table border=\"1\" class=\"dataframe\">\n",
       "  <thead>\n",
       "    <tr style=\"text-align: right;\">\n",
       "      <th></th>\n",
       "      <th>date</th>\n",
       "      <th>order_id</th>\n",
       "      <th>quantity</th>\n",
       "      <th>price</th>\n",
       "    </tr>\n",
       "  </thead>\n",
       "  <tbody>\n",
       "    <tr>\n",
       "      <td>count</td>\n",
       "      <td>6.737000e+03</td>\n",
       "      <td>6737.000000</td>\n",
       "      <td>6737.000000</td>\n",
       "      <td>6737.000000</td>\n",
       "    </tr>\n",
       "    <tr>\n",
       "      <td>mean</td>\n",
       "      <td>2.018855e+09</td>\n",
       "      <td>43128.948345</td>\n",
       "      <td>2.501559</td>\n",
       "      <td>462.028499</td>\n",
       "    </tr>\n",
       "    <tr>\n",
       "      <td>std</td>\n",
       "      <td>3.855185e+05</td>\n",
       "      <td>27899.414662</td>\n",
       "      <td>15.266478</td>\n",
       "      <td>871.296064</td>\n",
       "    </tr>\n",
       "    <tr>\n",
       "      <td>min</td>\n",
       "      <td>2.018100e+09</td>\n",
       "      <td>12624.000000</td>\n",
       "      <td>1.000000</td>\n",
       "      <td>9.000000</td>\n",
       "    </tr>\n",
       "    <tr>\n",
       "      <td>25%</td>\n",
       "      <td>2.019020e+09</td>\n",
       "      <td>14827.000000</td>\n",
       "      <td>1.000000</td>\n",
       "      <td>101.000000</td>\n",
       "    </tr>\n",
       "    <tr>\n",
       "      <td>50%</td>\n",
       "      <td>2.019050e+09</td>\n",
       "      <td>68503.000000</td>\n",
       "      <td>1.000000</td>\n",
       "      <td>135.000000</td>\n",
       "    </tr>\n",
       "    <tr>\n",
       "      <td>75%</td>\n",
       "      <td>2.019061e+09</td>\n",
       "      <td>70504.000000</td>\n",
       "      <td>1.000000</td>\n",
       "      <td>398.000000</td>\n",
       "    </tr>\n",
       "    <tr>\n",
       "      <td>max</td>\n",
       "      <td>2.019103e+09</td>\n",
       "      <td>73164.000000</td>\n",
       "      <td>1000.000000</td>\n",
       "      <td>14917.000000</td>\n",
       "    </tr>\n",
       "  </tbody>\n",
       "</table>\n",
       "</div>"
      ],
      "text/plain": [
       "               date      order_id     quantity         price\n",
       "count  6.737000e+03   6737.000000  6737.000000   6737.000000\n",
       "mean   2.018855e+09  43128.948345     2.501559    462.028499\n",
       "std    3.855185e+05  27899.414662    15.266478    871.296064\n",
       "min    2.018100e+09  12624.000000     1.000000      9.000000\n",
       "25%    2.019020e+09  14827.000000     1.000000    101.000000\n",
       "50%    2.019050e+09  68503.000000     1.000000    135.000000\n",
       "75%    2.019061e+09  70504.000000     1.000000    398.000000\n",
       "max    2.019103e+09  73164.000000  1000.000000  14917.000000"
      ]
     },
     "metadata": {},
     "output_type": "display_data"
    },
    {
     "data": {
      "text/plain": [
       "'Процент пропусков'"
      ]
     },
     "metadata": {},
     "output_type": "display_data"
    },
    {
     "data": {
      "text/plain": [
       "date           0.0\n",
       "customer_id    0.0\n",
       "order_id       0.0\n",
       "product        0.0\n",
       "quantity       0.0\n",
       "price          0.0\n",
       "dtype: float64"
      ]
     },
     "metadata": {},
     "output_type": "display_data"
    },
    {
     "data": {
      "text/plain": [
       "(None, None, None, None)"
      ]
     },
     "execution_count": 4,
     "metadata": {},
     "output_type": "execute_result"
    }
   ],
   "source": [
    "information(ecom)"
   ]
  },
  {
   "cell_type": "markdown",
   "metadata": {},
   "source": [
    "**Вывод**  \n",
    "В данных 6737 записей о проданных товарах. \n",
    "- `date` — дата заказа;\n",
    "- `customer_id` — идентификатор покупателя;\n",
    "- `order_id` — идентификатор заказа;\n",
    "- `product` — наименование товара;\n",
    "- `quantity` — количество товара в заказе;\n",
    "- `price` — цена товара.\n",
    "\n",
    "Необходимо привести формат столбца даты к временному формату, остальные данные представлены в правильных форматах. \n",
    "В данных присутствуют выбросы: в столбце количества товара в заказе ('quantity') и цене ('price'). Необходимо их рассмотреть отдельно и, вероятнее всего, исключить из исследования. "
   ]
  },
  {
   "cell_type": "markdown",
   "metadata": {},
   "source": [
    "## Предобработка данных"
   ]
  },
  {
   "cell_type": "markdown",
   "metadata": {},
   "source": [
    "### Обработка пропусков"
   ]
  },
  {
   "cell_type": "code",
   "execution_count": 5,
   "metadata": {},
   "outputs": [
    {
     "data": {
      "text/plain": [
       "date           0\n",
       "customer_id    0\n",
       "order_id       0\n",
       "product        0\n",
       "quantity       0\n",
       "price          0\n",
       "dtype: int64"
      ]
     },
     "execution_count": 5,
     "metadata": {},
     "output_type": "execute_result"
    }
   ],
   "source": [
    "# количество пропусков\n",
    "ecom.isnull().sum() "
   ]
  },
  {
   "cell_type": "markdown",
   "metadata": {},
   "source": [
    "Пропусков нет"
   ]
  },
  {
   "cell_type": "markdown",
   "metadata": {},
   "source": [
    "### Приведение данных к нужным типам "
   ]
  },
  {
   "cell_type": "markdown",
   "metadata": {},
   "source": [
    "Меняем формат столбца даты"
   ]
  },
  {
   "cell_type": "code",
   "execution_count": 6,
   "metadata": {},
   "outputs": [],
   "source": [
    "# создаем отдельный столбец с датой в верном формате\n",
    "ecom['date'] = pd.to_datetime(ecom['date'], format='%Y%m%d%H')"
   ]
  },
  {
   "cell_type": "code",
   "execution_count": 7,
   "metadata": {},
   "outputs": [
    {
     "name": "stdout",
     "output_type": "stream",
     "text": [
      "2018-10-01 00:00:00\n",
      "2019-10-31 16:00:00\n"
     ]
    }
   ],
   "source": [
    "# минимальная и максимальная дата\n",
    "print(ecom['date'].min())\n",
    "print(ecom['date'].max())"
   ]
  },
  {
   "cell_type": "markdown",
   "metadata": {},
   "source": [
    "### Добавление данных о выручке"
   ]
  },
  {
   "cell_type": "code",
   "execution_count": 8,
   "metadata": {},
   "outputs": [],
   "source": [
    "# выручка от продаж\n",
    "ecom['revenue'] = ecom['quantity'] * ecom['price']"
   ]
  },
  {
   "cell_type": "markdown",
   "metadata": {},
   "source": [
    "### Добавление данных о месяце продаж"
   ]
  },
  {
   "cell_type": "code",
   "execution_count": 9,
   "metadata": {},
   "outputs": [],
   "source": [
    "# отдельно выделям месяц\n",
    "ecom['month'] = ecom['date'].astype('datetime64[M]')"
   ]
  },
  {
   "cell_type": "code",
   "execution_count": 10,
   "metadata": {},
   "outputs": [
    {
     "data": {
      "text/html": [
       "<div>\n",
       "<style scoped>\n",
       "    .dataframe tbody tr th:only-of-type {\n",
       "        vertical-align: middle;\n",
       "    }\n",
       "\n",
       "    .dataframe tbody tr th {\n",
       "        vertical-align: top;\n",
       "    }\n",
       "\n",
       "    .dataframe thead th {\n",
       "        text-align: right;\n",
       "    }\n",
       "</style>\n",
       "<table border=\"1\" class=\"dataframe\">\n",
       "  <thead>\n",
       "    <tr style=\"text-align: right;\">\n",
       "      <th></th>\n",
       "      <th>date</th>\n",
       "      <th>customer_id</th>\n",
       "      <th>order_id</th>\n",
       "      <th>product</th>\n",
       "      <th>quantity</th>\n",
       "      <th>price</th>\n",
       "      <th>revenue</th>\n",
       "      <th>month</th>\n",
       "    </tr>\n",
       "  </thead>\n",
       "  <tbody>\n",
       "    <tr>\n",
       "      <td>0</td>\n",
       "      <td>2018-10-01</td>\n",
       "      <td>ee47d746-6d2f-4d3c-9622-c31412542920</td>\n",
       "      <td>68477</td>\n",
       "      <td>Комнатное растение в горшке Алое Вера, d12, h30</td>\n",
       "      <td>1</td>\n",
       "      <td>142.0</td>\n",
       "      <td>142.0</td>\n",
       "      <td>2018-10-01</td>\n",
       "    </tr>\n",
       "    <tr>\n",
       "      <td>1</td>\n",
       "      <td>2018-10-01</td>\n",
       "      <td>ee47d746-6d2f-4d3c-9622-c31412542920</td>\n",
       "      <td>68477</td>\n",
       "      <td>Комнатное растение в горшке Кофе Арабика, d12,...</td>\n",
       "      <td>1</td>\n",
       "      <td>194.0</td>\n",
       "      <td>194.0</td>\n",
       "      <td>2018-10-01</td>\n",
       "    </tr>\n",
       "    <tr>\n",
       "      <td>2</td>\n",
       "      <td>2018-10-01</td>\n",
       "      <td>ee47d746-6d2f-4d3c-9622-c31412542920</td>\n",
       "      <td>68477</td>\n",
       "      <td>Радермахера d-12 см h-20 см</td>\n",
       "      <td>1</td>\n",
       "      <td>112.0</td>\n",
       "      <td>112.0</td>\n",
       "      <td>2018-10-01</td>\n",
       "    </tr>\n",
       "    <tr>\n",
       "      <td>3</td>\n",
       "      <td>2018-10-01</td>\n",
       "      <td>ee47d746-6d2f-4d3c-9622-c31412542920</td>\n",
       "      <td>68477</td>\n",
       "      <td>Хризолидокарпус Лутесценс d-9 см</td>\n",
       "      <td>1</td>\n",
       "      <td>179.0</td>\n",
       "      <td>179.0</td>\n",
       "      <td>2018-10-01</td>\n",
       "    </tr>\n",
       "    <tr>\n",
       "      <td>4</td>\n",
       "      <td>2018-10-01</td>\n",
       "      <td>ee47d746-6d2f-4d3c-9622-c31412542920</td>\n",
       "      <td>68477</td>\n",
       "      <td>Циперус Зумула d-12 см h-25 см</td>\n",
       "      <td>1</td>\n",
       "      <td>112.0</td>\n",
       "      <td>112.0</td>\n",
       "      <td>2018-10-01</td>\n",
       "    </tr>\n",
       "  </tbody>\n",
       "</table>\n",
       "</div>"
      ],
      "text/plain": [
       "        date                           customer_id  order_id  \\\n",
       "0 2018-10-01  ee47d746-6d2f-4d3c-9622-c31412542920     68477   \n",
       "1 2018-10-01  ee47d746-6d2f-4d3c-9622-c31412542920     68477   \n",
       "2 2018-10-01  ee47d746-6d2f-4d3c-9622-c31412542920     68477   \n",
       "3 2018-10-01  ee47d746-6d2f-4d3c-9622-c31412542920     68477   \n",
       "4 2018-10-01  ee47d746-6d2f-4d3c-9622-c31412542920     68477   \n",
       "\n",
       "                                             product  quantity  price  \\\n",
       "0    Комнатное растение в горшке Алое Вера, d12, h30         1  142.0   \n",
       "1  Комнатное растение в горшке Кофе Арабика, d12,...         1  194.0   \n",
       "2                        Радермахера d-12 см h-20 см         1  112.0   \n",
       "3                   Хризолидокарпус Лутесценс d-9 см         1  179.0   \n",
       "4                     Циперус Зумула d-12 см h-25 см         1  112.0   \n",
       "\n",
       "   revenue      month  \n",
       "0    142.0 2018-10-01  \n",
       "1    194.0 2018-10-01  \n",
       "2    112.0 2018-10-01  \n",
       "3    179.0 2018-10-01  \n",
       "4    112.0 2018-10-01  "
      ]
     },
     "execution_count": 10,
     "metadata": {},
     "output_type": "execute_result"
    }
   ],
   "source": [
    "ecom.head()"
   ]
  },
  {
   "cell_type": "markdown",
   "metadata": {},
   "source": [
    "### Удаление дубликатов"
   ]
  },
  {
   "cell_type": "code",
   "execution_count": 11,
   "metadata": {},
   "outputs": [
    {
     "data": {
      "text/plain": [
       "0"
      ]
     },
     "execution_count": 11,
     "metadata": {},
     "output_type": "execute_result"
    }
   ],
   "source": [
    "# подсчет дубликатов\n",
    "ecom.duplicated().sum()"
   ]
  },
  {
   "cell_type": "markdown",
   "metadata": {},
   "source": [
    "Дубликатов в данных нет"
   ]
  },
  {
   "cell_type": "markdown",
   "metadata": {},
   "source": [
    "### Работа с выбросами"
   ]
  },
  {
   "cell_type": "markdown",
   "metadata": {},
   "source": [
    "Построим боксплоты для столбцов с количеством товара в заказе и цены."
   ]
  },
  {
   "cell_type": "code",
   "execution_count": 12,
   "metadata": {},
   "outputs": [
    {
     "data": {
      "image/png": "[encoded data removed]",
      "text/plain": [
       "<Figure size 432x288 with 1 Axes>"
      ]
     },
     "metadata": {
      "needs_background": "light"
     },
     "output_type": "display_data"
    }
   ],
   "source": [
    "# боксплот для количества товара\n",
    "ecom.boxplot(column=['quantity'])\n",
    "plt.show()"
   ]
  },
  {
   "cell_type": "code",
   "execution_count": 13,
   "metadata": {},
   "outputs": [
    {
     "data": {
      "text/html": [
       "<div>\n",
       "<style scoped>\n",
       "    .dataframe tbody tr th:only-of-type {\n",
       "        vertical-align: middle;\n",
       "    }\n",
       "\n",
       "    .dataframe tbody tr th {\n",
       "        vertical-align: top;\n",
       "    }\n",
       "\n",
       "    .dataframe thead th {\n",
       "        text-align: right;\n",
       "    }\n",
       "</style>\n",
       "<table border=\"1\" class=\"dataframe\">\n",
       "  <thead>\n",
       "    <tr style=\"text-align: right;\">\n",
       "      <th></th>\n",
       "      <th>date</th>\n",
       "      <th>customer_id</th>\n",
       "      <th>order_id</th>\n",
       "      <th>product</th>\n",
       "      <th>quantity</th>\n",
       "      <th>price</th>\n",
       "      <th>revenue</th>\n",
       "      <th>month</th>\n",
       "    </tr>\n",
       "  </thead>\n",
       "  <tbody>\n",
       "    <tr>\n",
       "      <td>3961</td>\n",
       "      <td>2019-05-20 21:00:00</td>\n",
       "      <td>5d189e88-d4d6-4eac-ab43-fa65a3c4d106</td>\n",
       "      <td>71478</td>\n",
       "      <td>Муляж ЯБЛОКО 9 см красное</td>\n",
       "      <td>300</td>\n",
       "      <td>51.0</td>\n",
       "      <td>15300.0</td>\n",
       "      <td>2019-05-01</td>\n",
       "    </tr>\n",
       "    <tr>\n",
       "      <td>5071</td>\n",
       "      <td>2019-06-11 07:00:00</td>\n",
       "      <td>146cd9bf-a95c-4afb-915b-5f6684b17444</td>\n",
       "      <td>71668</td>\n",
       "      <td>Вешалки мягкие для деликатных вещей 3 шт шоколад</td>\n",
       "      <td>334</td>\n",
       "      <td>148.0</td>\n",
       "      <td>49432.0</td>\n",
       "      <td>2019-06-01</td>\n",
       "    </tr>\n",
       "    <tr>\n",
       "      <td>5456</td>\n",
       "      <td>2019-06-18 15:00:00</td>\n",
       "      <td>312e9a3e-5fca-43ff-a6a1-892d2b2d5ba6</td>\n",
       "      <td>71743</td>\n",
       "      <td>Вантуз с деревянной ручкой d14 см красный, Bur...</td>\n",
       "      <td>1000</td>\n",
       "      <td>675.0</td>\n",
       "      <td>675000.0</td>\n",
       "      <td>2019-06-01</td>\n",
       "    </tr>\n",
       "  </tbody>\n",
       "</table>\n",
       "</div>"
      ],
      "text/plain": [
       "                    date                           customer_id  order_id  \\\n",
       "3961 2019-05-20 21:00:00  5d189e88-d4d6-4eac-ab43-fa65a3c4d106     71478   \n",
       "5071 2019-06-11 07:00:00  146cd9bf-a95c-4afb-915b-5f6684b17444     71668   \n",
       "5456 2019-06-18 15:00:00  312e9a3e-5fca-43ff-a6a1-892d2b2d5ba6     71743   \n",
       "\n",
       "                                                product  quantity  price  \\\n",
       "3961                          Муляж ЯБЛОКО 9 см красное       300   51.0   \n",
       "5071   Вешалки мягкие для деликатных вещей 3 шт шоколад       334  148.0   \n",
       "5456  Вантуз с деревянной ручкой d14 см красный, Bur...      1000  675.0   \n",
       "\n",
       "       revenue      month  \n",
       "3961   15300.0 2019-05-01  \n",
       "5071   49432.0 2019-06-01  \n",
       "5456  675000.0 2019-06-01  "
      ]
     },
     "execution_count": 13,
     "metadata": {},
     "output_type": "execute_result"
    }
   ],
   "source": [
    "# выведем строки больше 200 штук\n",
    "ecom[ecom['quantity'] > 200]"
   ]
  },
  {
   "cell_type": "code",
   "execution_count": 14,
   "metadata": {},
   "outputs": [
    {
     "data": {
      "text/plain": [
       "count    6737.000000\n",
       "mean        2.501559\n",
       "std        15.266478\n",
       "min         1.000000\n",
       "25%         1.000000\n",
       "50%         1.000000\n",
       "75%         1.000000\n",
       "max      1000.000000\n",
       "Name: quantity, dtype: float64"
      ]
     },
     "execution_count": 14,
     "metadata": {},
     "output_type": "execute_result"
    }
   ],
   "source": [
    "ecom['quantity'].describe()"
   ]
  },
  {
   "cell_type": "code",
   "execution_count": 15,
   "metadata": {},
   "outputs": [
    {
     "data": {
      "image/png": "[encoded data removed]",
      "text/plain": [
       "<Figure size 432x288 with 1 Axes>"
      ]
     },
     "metadata": {
      "needs_background": "light"
     },
     "output_type": "display_data"
    }
   ],
   "source": [
    "ecom.hist('quantity', bins= 100, range = (1, 200))\n",
    "plt.show()"
   ]
  },
  {
   "cell_type": "code",
   "execution_count": 16,
   "metadata": {},
   "outputs": [
    {
     "data": {
      "text/plain": [
       "1233"
      ]
     },
     "execution_count": 16,
     "metadata": {},
     "output_type": "execute_result"
    }
   ],
   "source": [
    "# количество значений с товаром больше 1\n",
    "len(ecom[ecom['quantity'] > 1])"
   ]
  },
  {
   "cell_type": "code",
   "execution_count": 17,
   "metadata": {},
   "outputs": [
    {
     "data": {
      "text/plain": [
       "11"
      ]
     },
     "execution_count": 17,
     "metadata": {},
     "output_type": "execute_result"
    }
   ],
   "source": [
    "# количество значений с товаром больше 100\n",
    "len(ecom[ecom['quantity'] > 100])"
   ]
  },
  {
   "cell_type": "markdown",
   "metadata": {},
   "source": [
    "Данные выбросы будут искажать наши дальнейшие вычисления, эти строки удалим."
   ]
  },
  {
   "cell_type": "code",
   "execution_count": 18,
   "metadata": {},
   "outputs": [
    {
     "data": {
      "image/png": "[encoded data removed]",
      "text/plain": [
       "<Figure size 432x288 with 1 Axes>"
      ]
     },
     "metadata": {
      "needs_background": "light"
     },
     "output_type": "display_data"
    }
   ],
   "source": [
    "# боксплот для цены\n",
    "ecom.boxplot(column=['price'])\n",
    "plt.show()"
   ]
  },
  {
   "cell_type": "code",
   "execution_count": 19,
   "metadata": {},
   "outputs": [
    {
     "data": {
      "text/html": [
       "<div>\n",
       "<style scoped>\n",
       "    .dataframe tbody tr th:only-of-type {\n",
       "        vertical-align: middle;\n",
       "    }\n",
       "\n",
       "    .dataframe tbody tr th {\n",
       "        vertical-align: top;\n",
       "    }\n",
       "\n",
       "    .dataframe thead th {\n",
       "        text-align: right;\n",
       "    }\n",
       "</style>\n",
       "<table border=\"1\" class=\"dataframe\">\n",
       "  <thead>\n",
       "    <tr style=\"text-align: right;\">\n",
       "      <th></th>\n",
       "      <th>date</th>\n",
       "      <th>customer_id</th>\n",
       "      <th>order_id</th>\n",
       "      <th>product</th>\n",
       "      <th>quantity</th>\n",
       "      <th>price</th>\n",
       "      <th>revenue</th>\n",
       "      <th>month</th>\n",
       "    </tr>\n",
       "  </thead>\n",
       "  <tbody>\n",
       "    <tr>\n",
       "      <td>5992</td>\n",
       "      <td>2019-07-29 17:00:00</td>\n",
       "      <td>0d87f4ae-465a-4fac-81e6-5d629761783e</td>\n",
       "      <td>72139</td>\n",
       "      <td>Сушилка уличная Leifheit 85210 LINOMATIC V 400...</td>\n",
       "      <td>1</td>\n",
       "      <td>14917.0</td>\n",
       "      <td>14917.0</td>\n",
       "      <td>2019-07-01</td>\n",
       "    </tr>\n",
       "  </tbody>\n",
       "</table>\n",
       "</div>"
      ],
      "text/plain": [
       "                    date                           customer_id  order_id  \\\n",
       "5992 2019-07-29 17:00:00  0d87f4ae-465a-4fac-81e6-5d629761783e     72139   \n",
       "\n",
       "                                                product  quantity    price  \\\n",
       "5992  Сушилка уличная Leifheit 85210 LINOMATIC V 400...         1  14917.0   \n",
       "\n",
       "      revenue      month  \n",
       "5992  14917.0 2019-07-01  "
      ]
     },
     "execution_count": 19,
     "metadata": {},
     "output_type": "execute_result"
    }
   ],
   "source": [
    "# товары дороже 10000\n",
    "ecom[ecom['price'] > 10000]"
   ]
  },
  {
   "cell_type": "markdown",
   "metadata": {},
   "source": [
    "Просмотр ценовых предложений по текущему товару показал, что это нормальная цена для такого изделия. Убирать его из данных не будуем"
   ]
  },
  {
   "cell_type": "code",
   "execution_count": 20,
   "metadata": {},
   "outputs": [],
   "source": [
    "# делаем срез по данным и убираем выбросы\n",
    "ecom = ecom.query('quantity <= 200')"
   ]
  },
  {
   "cell_type": "code",
   "execution_count": 21,
   "metadata": {},
   "outputs": [
    {
     "name": "stdout",
     "output_type": "stream",
     "text": [
      "<class 'pandas.core.frame.DataFrame'>\n",
      "Int64Index: 6734 entries, 0 to 6736\n",
      "Data columns (total 8 columns):\n",
      "date           6734 non-null datetime64[ns]\n",
      "customer_id    6734 non-null object\n",
      "order_id       6734 non-null int64\n",
      "product        6734 non-null object\n",
      "quantity       6734 non-null int64\n",
      "price          6734 non-null float64\n",
      "revenue        6734 non-null float64\n",
      "month          6734 non-null datetime64[ns]\n",
      "dtypes: datetime64[ns](2), float64(2), int64(2), object(2)\n",
      "memory usage: 473.5+ KB\n"
     ]
    }
   ],
   "source": [
    "# выводим общую инфомрацию\n",
    "ecom.info()"
   ]
  },
  {
   "cell_type": "markdown",
   "metadata": {},
   "source": [
    "**Вывод**  \n",
    "На текущем этапе мы привели данные к нужным форматам, отдельно выделили новый столбец с месяцем продажи. В датасете представлены данные о заказах, оформленных с 1 октября 2018 г. до 31 октября 2019 г. В данных не было пропусков и дубликатов, но были выбросы. От них избавились"
   ]
  },
  {
   "cell_type": "markdown",
   "metadata": {},
   "source": [
    "## Исследовательский анализ данных"
   ]
  },
  {
   "cell_type": "markdown",
   "metadata": {},
   "source": [
    "### Выделение категорий по ключевым словам "
   ]
  },
  {
   "cell_type": "code",
   "execution_count": 22,
   "metadata": {},
   "outputs": [],
   "source": [
    "# выделяем только первое и второе слово\n",
    "ecom['first_word'] = ecom['product'].apply(lambda x: x.split(' ')[0])\n",
    "ecom['second_word'] = ecom['product'].apply(lambda x: x.split(' ')[1])"
   ]
  },
  {
   "cell_type": "code",
   "execution_count": 23,
   "metadata": {},
   "outputs": [
    {
     "data": {
      "text/html": [
       "<div>\n",
       "<style scoped>\n",
       "    .dataframe tbody tr th:only-of-type {\n",
       "        vertical-align: middle;\n",
       "    }\n",
       "\n",
       "    .dataframe tbody tr th {\n",
       "        vertical-align: top;\n",
       "    }\n",
       "\n",
       "    .dataframe thead th {\n",
       "        text-align: right;\n",
       "    }\n",
       "</style>\n",
       "<table border=\"1\" class=\"dataframe\">\n",
       "  <thead>\n",
       "    <tr style=\"text-align: right;\">\n",
       "      <th></th>\n",
       "      <th>date</th>\n",
       "      <th>customer_id</th>\n",
       "      <th>order_id</th>\n",
       "      <th>product</th>\n",
       "      <th>quantity</th>\n",
       "      <th>price</th>\n",
       "      <th>revenue</th>\n",
       "      <th>month</th>\n",
       "      <th>first_word</th>\n",
       "      <th>second_word</th>\n",
       "    </tr>\n",
       "  </thead>\n",
       "  <tbody>\n",
       "    <tr>\n",
       "      <td>0</td>\n",
       "      <td>2018-10-01</td>\n",
       "      <td>ee47d746-6d2f-4d3c-9622-c31412542920</td>\n",
       "      <td>68477</td>\n",
       "      <td>Комнатное растение в горшке Алое Вера, d12, h30</td>\n",
       "      <td>1</td>\n",
       "      <td>142.0</td>\n",
       "      <td>142.0</td>\n",
       "      <td>2018-10-01</td>\n",
       "      <td>Комнатное</td>\n",
       "      <td>растение</td>\n",
       "    </tr>\n",
       "    <tr>\n",
       "      <td>1</td>\n",
       "      <td>2018-10-01</td>\n",
       "      <td>ee47d746-6d2f-4d3c-9622-c31412542920</td>\n",
       "      <td>68477</td>\n",
       "      <td>Комнатное растение в горшке Кофе Арабика, d12,...</td>\n",
       "      <td>1</td>\n",
       "      <td>194.0</td>\n",
       "      <td>194.0</td>\n",
       "      <td>2018-10-01</td>\n",
       "      <td>Комнатное</td>\n",
       "      <td>растение</td>\n",
       "    </tr>\n",
       "    <tr>\n",
       "      <td>2</td>\n",
       "      <td>2018-10-01</td>\n",
       "      <td>ee47d746-6d2f-4d3c-9622-c31412542920</td>\n",
       "      <td>68477</td>\n",
       "      <td>Радермахера d-12 см h-20 см</td>\n",
       "      <td>1</td>\n",
       "      <td>112.0</td>\n",
       "      <td>112.0</td>\n",
       "      <td>2018-10-01</td>\n",
       "      <td>Радермахера</td>\n",
       "      <td>d-12</td>\n",
       "    </tr>\n",
       "  </tbody>\n",
       "</table>\n",
       "</div>"
      ],
      "text/plain": [
       "        date                           customer_id  order_id  \\\n",
       "0 2018-10-01  ee47d746-6d2f-4d3c-9622-c31412542920     68477   \n",
       "1 2018-10-01  ee47d746-6d2f-4d3c-9622-c31412542920     68477   \n",
       "2 2018-10-01  ee47d746-6d2f-4d3c-9622-c31412542920     68477   \n",
       "\n",
       "                                             product  quantity  price  \\\n",
       "0    Комнатное растение в горшке Алое Вера, d12, h30         1  142.0   \n",
       "1  Комнатное растение в горшке Кофе Арабика, d12,...         1  194.0   \n",
       "2                        Радермахера d-12 см h-20 см         1  112.0   \n",
       "\n",
       "   revenue      month   first_word second_word  \n",
       "0    142.0 2018-10-01    Комнатное    растение  \n",
       "1    194.0 2018-10-01    Комнатное    растение  \n",
       "2    112.0 2018-10-01  Радермахера        d-12  "
      ]
     },
     "execution_count": 23,
     "metadata": {},
     "output_type": "execute_result"
    }
   ],
   "source": [
    "ecom.head(3)"
   ]
  },
  {
   "cell_type": "code",
   "execution_count": 24,
   "metadata": {},
   "outputs": [],
   "source": [
    "# группируем по первому слову и расчитываем сумму продаж\n",
    "ecom_by_price = (\n",
    "    ecom.groupby('first_word')['revenue'].sum()\n",
    "    .reset_index().sort_values(by = 'revenue', ascending =False))\n",
    "\n",
    "#переименуем столбцы\n",
    "ecom_by_price.columns = ['first_word', 'sum_revenue']"
   ]
  },
  {
   "cell_type": "code",
   "execution_count": 25,
   "metadata": {},
   "outputs": [
    {
     "data": {
      "text/html": [
       "<div>\n",
       "<style scoped>\n",
       "    .dataframe tbody tr th:only-of-type {\n",
       "        vertical-align: middle;\n",
       "    }\n",
       "\n",
       "    .dataframe tbody tr th {\n",
       "        vertical-align: top;\n",
       "    }\n",
       "\n",
       "    .dataframe thead th {\n",
       "        text-align: right;\n",
       "    }\n",
       "</style>\n",
       "<table border=\"1\" class=\"dataframe\">\n",
       "  <thead>\n",
       "    <tr style=\"text-align: right;\">\n",
       "      <th></th>\n",
       "      <th>first_word</th>\n",
       "      <th>sum_revenue</th>\n",
       "    </tr>\n",
       "  </thead>\n",
       "  <tbody>\n",
       "    <tr>\n",
       "      <td>364</td>\n",
       "      <td>Сумка-тележка</td>\n",
       "      <td>766636.0</td>\n",
       "    </tr>\n",
       "    <tr>\n",
       "      <td>365</td>\n",
       "      <td>Сушилка</td>\n",
       "      <td>356377.0</td>\n",
       "    </tr>\n",
       "    <tr>\n",
       "      <td>77</td>\n",
       "      <td>Гладильная</td>\n",
       "      <td>277799.0</td>\n",
       "    </tr>\n",
       "    <tr>\n",
       "      <td>304</td>\n",
       "      <td>Рассада</td>\n",
       "      <td>172526.0</td>\n",
       "    </tr>\n",
       "    <tr>\n",
       "      <td>259</td>\n",
       "      <td>Пеларгония</td>\n",
       "      <td>149240.0</td>\n",
       "    </tr>\n",
       "    <tr>\n",
       "      <td>139</td>\n",
       "      <td>Коврик</td>\n",
       "      <td>148063.0</td>\n",
       "    </tr>\n",
       "    <tr>\n",
       "      <td>443</td>\n",
       "      <td>Штора</td>\n",
       "      <td>111098.0</td>\n",
       "    </tr>\n",
       "    <tr>\n",
       "      <td>371</td>\n",
       "      <td>Тележка</td>\n",
       "      <td>106960.0</td>\n",
       "    </tr>\n",
       "    <tr>\n",
       "      <td>357</td>\n",
       "      <td>Стремянка</td>\n",
       "      <td>93902.0</td>\n",
       "    </tr>\n",
       "    <tr>\n",
       "      <td>221</td>\n",
       "      <td>Набор</td>\n",
       "      <td>86223.0</td>\n",
       "    </tr>\n",
       "  </tbody>\n",
       "</table>\n",
       "</div>"
      ],
      "text/plain": [
       "        first_word  sum_revenue\n",
       "364  Сумка-тележка     766636.0\n",
       "365        Сушилка     356377.0\n",
       "77      Гладильная     277799.0\n",
       "304        Рассада     172526.0\n",
       "259     Пеларгония     149240.0\n",
       "139         Коврик     148063.0\n",
       "443          Штора     111098.0\n",
       "371        Тележка     106960.0\n",
       "357      Стремянка      93902.0\n",
       "221          Набор      86223.0"
      ]
     },
     "execution_count": 25,
     "metadata": {},
     "output_type": "execute_result"
    }
   ],
   "source": [
    "# прверяем первые 10 значений\n",
    "ecom_by_price.head(10)"
   ]
  },
  {
   "cell_type": "markdown",
   "metadata": {},
   "source": [
    "Будем последовательно рассматриваем интервалы, чтобы выделить как можно больше ключевых слов "
   ]
  },
  {
   "cell_type": "code",
   "execution_count": 26,
   "metadata": {},
   "outputs": [
    {
     "data": {
      "text/html": [
       "<div>\n",
       "<style scoped>\n",
       "    .dataframe tbody tr th:only-of-type {\n",
       "        vertical-align: middle;\n",
       "    }\n",
       "\n",
       "    .dataframe tbody tr th {\n",
       "        vertical-align: top;\n",
       "    }\n",
       "\n",
       "    .dataframe thead th {\n",
       "        text-align: right;\n",
       "    }\n",
       "</style>\n",
       "<table border=\"1\" class=\"dataframe\">\n",
       "  <thead>\n",
       "    <tr style=\"text-align: right;\">\n",
       "      <th></th>\n",
       "      <th>first_word</th>\n",
       "      <th>sum_revenue</th>\n",
       "    </tr>\n",
       "  </thead>\n",
       "  <tbody>\n",
       "    <tr>\n",
       "      <td>213</td>\n",
       "      <td>Муляж</td>\n",
       "      <td>77043.0</td>\n",
       "    </tr>\n",
       "    <tr>\n",
       "      <td>283</td>\n",
       "      <td>Полки</td>\n",
       "      <td>72050.0</td>\n",
       "    </tr>\n",
       "    <tr>\n",
       "      <td>333</td>\n",
       "      <td>Скатерть</td>\n",
       "      <td>67728.0</td>\n",
       "    </tr>\n",
       "    <tr>\n",
       "      <td>431</td>\n",
       "      <td>Чехол</td>\n",
       "      <td>60502.0</td>\n",
       "    </tr>\n",
       "    <tr>\n",
       "      <td>292</td>\n",
       "      <td>Простынь</td>\n",
       "      <td>53232.0</td>\n",
       "    </tr>\n",
       "    <tr>\n",
       "      <td>55</td>\n",
       "      <td>Вешалка</td>\n",
       "      <td>48768.0</td>\n",
       "    </tr>\n",
       "    <tr>\n",
       "      <td>391</td>\n",
       "      <td>Урна</td>\n",
       "      <td>38618.0</td>\n",
       "    </tr>\n",
       "    <tr>\n",
       "      <td>369</td>\n",
       "      <td>Таз</td>\n",
       "      <td>38419.0</td>\n",
       "    </tr>\n",
       "    <tr>\n",
       "      <td>370</td>\n",
       "      <td>Тарелка</td>\n",
       "      <td>35707.0</td>\n",
       "    </tr>\n",
       "    <tr>\n",
       "      <td>359</td>\n",
       "      <td>Стремянки</td>\n",
       "      <td>35652.0</td>\n",
       "    </tr>\n",
       "    <tr>\n",
       "      <td>266</td>\n",
       "      <td>Петуния</td>\n",
       "      <td>30829.0</td>\n",
       "    </tr>\n",
       "  </tbody>\n",
       "</table>\n",
       "</div>"
      ],
      "text/plain": [
       "    first_word  sum_revenue\n",
       "213      Муляж      77043.0\n",
       "283      Полки      72050.0\n",
       "333   Скатерть      67728.0\n",
       "431      Чехол      60502.0\n",
       "292   Простынь      53232.0\n",
       "55     Вешалка      48768.0\n",
       "391       Урна      38618.0\n",
       "369        Таз      38419.0\n",
       "370    Тарелка      35707.0\n",
       "359  Стремянки      35652.0\n",
       "266    Петуния      30829.0"
      ]
     },
     "execution_count": 26,
     "metadata": {},
     "output_type": "execute_result"
    }
   ],
   "source": [
    "# последовательно рассматриваем интервалы\n",
    "ecom_by_price.query('30000 < sum_revenue < 86222')"
   ]
  },
  {
   "cell_type": "markdown",
   "metadata": {},
   "source": [
    "**При сортировке наших товаров по выручке сейчас мы можем выделить следующие очевидные категории: Товары для дома, рассада, цветы, товары для ремонта (как стремянка например), декор (скатерть, муляж), товары для спальни (простынь), товары для кухни (Терелка).**"
   ]
  },
  {
   "cell_type": "markdown",
   "metadata": {},
   "source": [
    "Рассмотрим общее количество уникальных наименований первых слов."
   ]
  },
  {
   "cell_type": "code",
   "execution_count": 27,
   "metadata": {},
   "outputs": [
    {
     "data": {
      "text/plain": [
       "array(['Комнатное', 'Радермахера', 'Хризолидокарпус', 'Циперус',\n",
       "       'Шеффлера', 'Юкка', 'Настенная', 'Таз', 'Чехол', 'Вешалка',\n",
       "       'Сушилка', 'Крючок', 'Корзина', 'Мини-сковорода', 'Сковорода',\n",
       "       'Стеклянная', 'Доска', 'Сумка-тележка', 'Многолетнее', 'Рассада',\n",
       "       'Муляж', 'Щетка-сметка', 'Сумка', 'Тарелка', 'Вилка', 'Ложка',\n",
       "       'Нож', 'Герань', 'Ерш', 'Пеларгония', 'Котел', 'Суккулент',\n",
       "       'Эхеверия', 'Набор', 'Коврик', 'Подкладка', 'Дозатор', 'Ёрш',\n",
       "       'Эвкалипт', 'Цветок', 'Мусорный', 'Плед', 'Скатерть', 'Кувшин',\n",
       "       'Адиантум', 'Ковер', 'Перчатки', 'Стремянка', 'Гладильная',\n",
       "       'Лестница-стремянка', 'Толкушка', 'Тележка', 'Готовая',\n",
       "       'Искусственный', 'Простыня', 'Чайник', 'Штора', 'Банка', 'Стяжка',\n",
       "       'Комплект', 'Кампанула', 'Декоративная', 'Противень', 'Калатея',\n",
       "       'Нолина', 'Плечики', 'Подушка', 'Полотенце', 'Хлорофитум',\n",
       "       'Цикламен', 'Крепеж', 'Пружина', 'Глоксиния', 'Азалия',\n",
       "       'Гортензия', 'Хризантема', 'Петля', 'Салфетка', 'Вкладыши',\n",
       "       'Миксер', 'Кофр', 'Стиральный', 'Чистящий', 'Tepмокружка', 'Щетка',\n",
       "       'Мирт', 'Цветущее', 'Стремянки', 'Щетка-утюжок', 'Светильник',\n",
       "       'Кориандр', 'Жидкое', 'Ковёр', 'Пена', 'Подрукавник', 'Иссоп',\n",
       "       'Сантолина', 'Аспарагус', 'Афеляндра', 'Сверло-фреза,',\n",
       "       'Контейнер', 'Зубная', 'Антуриум', 'Молодило', 'Фиалка', 'Гербера',\n",
       "       'Душица', 'Мелисса', 'Роза', 'Карниз', 'Веник', 'Швабра', 'Ящик',\n",
       "       'Подголовник', 'Ведро', 'Короб', 'Коробка', 'Наматрасник',\n",
       "       'Наматрицник-чехол', 'Насадка', 'Ножеточка', 'Вешалка-плечики',\n",
       "       'Бегония', 'Настольная', 'Розмарин', 'Сиденье', 'Масленка', 'Утюг',\n",
       "       'Корыто', 'Холодная', 'Сервировочная', 'Салатник', 'Шнур', 'Урна',\n",
       "       'Чайный', 'Мыло', 'Рыбочистка', 'Овощеварка', 'Сметка', 'Халат',\n",
       "       'Измерительный', 'Линейка,', 'Терка', 'Кружка', 'Лопатка',\n",
       "       'Салфетница', 'Стакан', 'Столовая', 'Чайная', 'Альбука',\n",
       "       'Овощечистка', 'Бальзамин', 'Крассула', 'Артемизия', 'Средство',\n",
       "       'Бензин', 'Паста', 'Петля-стрела', 'Лаванда', 'Мята',\n",
       "       'Вешалка-стойка', 'Каланхое', 'Примула', 'Держатель', 'Пробка',\n",
       "       'Измельчитель', 'Лоток', 'Вешалки', 'Губка', 'Фен', 'Дендробиум',\n",
       "       'Калоцефалус', 'Антижир', 'Каллуна', 'Капсикум', 'Мимоза',\n",
       "       'Соланум', 'Универсальное', 'Мантоварка', 'Ролик', 'Сменный',\n",
       "       'Термометр', 'Бархатцы', 'Космея', 'Морковь', 'Настурция',\n",
       "       'Огурец', 'Петуния', 'Шило', 'Ковш', 'Кухонные', 'Кисточка',\n",
       "       'Скребок', 'Комод', 'Картофелемялка', 'Ароматизированное',\n",
       "       'Бальзам', 'Алиссум', 'Гвоздика', 'Годеция', 'Календула',\n",
       "       'Капуста', 'Кореопсис', 'Лапчатка', 'Львиный', 'Флокс',\n",
       "       'Цинерария', 'Эшшольция', 'Жестяная', 'Рассекатель',\n",
       "       'Ополаскиватель', 'Сетка', 'Покрывало', 'Весы', 'Диффенбахия',\n",
       "       'Фаленопсис', 'Подставка', 'Вешалка-сушилка', 'Миска', 'Одеяло',\n",
       "       'Подсолнечник', 'Ручка-скоба', 'Пуансетия', 'Пресс', 'Термостакан',\n",
       "       'Гиностемма', 'Ель', 'Кипарисовик', 'Аптения', 'Новогоднее',\n",
       "       'Мыльница', 'Защитный', 'Многофункциональный', 'Стремянка-табурет',\n",
       "       'Пуансеттия', 'Кольца', 'Вантуз', 'Термокружка', 'Фоторамка',\n",
       "       'Этажерка', 'Термос', 'Скиммия', 'Кондиционер', 'Фарфоровая',\n",
       "       'Электроштопор', 'Простынь', 'Столовый', 'Блюдце', 'Фиттония',\n",
       "       'Полки', 'Тимьян', 'Бульонница', 'Алоэ', 'Ключница', 'Разделочная',\n",
       "       'Мантоварка-пароварка', 'Складная', 'Спатифиллум', 'Емкость',\n",
       "       'Фикус', 'Защитная', 'Гипоаллергенный', 'Вешалка-перекладина',\n",
       "       'Модульная', 'Лестница', 'Просеиватель', 'Кастрюля', 'Махровое',\n",
       "       'Искусственная', 'Кодонанта', 'Совок', 'Хлебница', 'Насадка-отжим',\n",
       "       'Цикламен,', 'Гимнокалициум', 'Нетканые', 'Пылесос', 'Кофе',\n",
       "       'Эхинокактус', 'Фал', 'Форма', 'Орехоколка', 'Штанга',\n",
       "       'Увлажняющая', 'Крокусы', 'Кухонное', 'Гипсофила', 'Подарочный',\n",
       "       'Калибрахоа', 'Эпипремнум', 'Махровый', 'Аквилегия', 'Базилик',\n",
       "       'Горох', 'Земляника', 'Незабудка', 'Седум', 'Томат', 'Укроп',\n",
       "       'Нефролепис', 'Калла', 'Декабрист', 'Тюльпан', 'Штангенциркуль',\n",
       "       'Мыло-скраб', 'Гиацинт', 'Вербена', 'Однолетнее', 'Скалка',\n",
       "       'Рукав', 'Чабер', 'Бакопа', 'Ранункулус', 'Венчик', 'Сито', 'Бак',\n",
       "       'Газания', 'Овсянница', 'Концентрат', 'Тортница', 'Георгина',\n",
       "       'Смолевка', 'Цинния', 'Лавр', 'Вербейник', 'Виола', 'Колокольчик',\n",
       "       'Котовник', 'Эхинацея', 'Ясколка', 'Блюдо', 'Полка', 'Окномойка',\n",
       "       'Урна-пепельница', 'Лилейник', 'Папоротник', 'Платикодон',\n",
       "       'Энотера', 'Сменная', 'Ткань', 'Фуксия', 'Цитрофортунелла',\n",
       "       'Пеперомия', 'Дыня', 'Циния', 'Синнингия', 'Насадка-моп',\n",
       "       'Гардения', 'томата', 'Лобелия', 'Подвесное', 'Табак',\n",
       "       'Наматрацник', 'Автоматическая', 'Тряпкодержатель', 'Девичий',\n",
       "       'Бельевые', 'Сверло', 'Фиксатор-шар', 'Мускари', 'Пиретрум',\n",
       "       'Агератум', 'Колеус', 'Тагетис', 'Цинерания', 'Муррайя',\n",
       "       'Портулак', 'Астра', 'Аргирантерум', 'Левкой', 'Вероника',\n",
       "       'Целозия', 'Арбуз', 'Баклажан', 'Клубника', 'Патиссон', 'Маттиола',\n",
       "       'Сальвия', 'Лук', 'Джункус', 'Драцена', 'Фатсия', 'Хоста',\n",
       "       'Наволочка', 'Гайлардия', 'Монарда', 'Нивянник', 'Рудбекия',\n",
       "       'Обувница-3', 'Барвинок', 'Пододеяльник', 'Осина', 'Отжим',\n",
       "       'Сциндапсус', 'Пряные', 'Бузульник', 'Камнеломка', 'Солидаго',\n",
       "       'Физостегия', 'Бадан', 'Лен', 'Антинакипин', 'Шпагат', 'Сотейник',\n",
       "       'Стеллаж', 'Бидон', 'Лантана', 'Складной', 'Лаватера', 'Ванна',\n",
       "       'Анемона', 'Буддлея', 'Валериана', 'Змееголовник', 'Любисток',\n",
       "       'Петрушка', 'Сельдерей', 'Шалфей', 'Корзинка', 'Ваза', 'Вигна',\n",
       "       'Кабачок', 'Тыква', 'Хамедорея', 'Зверобой', 'Прищепки',\n",
       "       'Мединилла', 'Отделитель', 'Шприц', 'Крышка', 'Импатиенс',\n",
       "       'Покрытие', 'Клен', 'Веревка', 'Мешок', 'Замиокулькас',\n",
       "       'Отбеливатель', 'Сахарница', 'Завертка', 'Ручка', 'Амариллис',\n",
       "       'Соковарка', 'Пьезозажигалка', 'Соковыжималка', 'Решетка',\n",
       "       'Запасная', 'Щётка', 'Универсальный', 'Уголок', 'Салат',\n",
       "       'Вакуумный', 'Тряпка', 'Половник', 'Двуспальное', 'Кипятильник',\n",
       "       'Пахира', 'Основание', 'Мерный', 'Стяжки', 'Шпингалет', 'Литопс'],\n",
       "      dtype=object)"
      ]
     },
     "execution_count": 27,
     "metadata": {},
     "output_type": "execute_result"
    }
   ],
   "source": [
    "ecom['first_word'].unique()"
   ]
  },
  {
   "cell_type": "code",
   "execution_count": 28,
   "metadata": {},
   "outputs": [
    {
     "data": {
      "text/plain": [
       "461"
      ]
     },
     "execution_count": 28,
     "metadata": {},
     "output_type": "execute_result"
    }
   ],
   "source": [
    "len(ecom['first_word'].unique())"
   ]
  },
  {
   "cell_type": "markdown",
   "metadata": {},
   "source": [
    "**Всего у нас 461 уникальное наименование первого слова. Распределяем их по уже выделенным категориям: Товары для дома, рассада, цветы, товары для ремонта, декор, товары для спальни, товары для кухни**"
   ]
  },
  {
   "cell_type": "code",
   "execution_count": 29,
   "metadata": {},
   "outputs": [
    {
     "data": {
      "text/html": [
       "<div>\n",
       "<style scoped>\n",
       "    .dataframe tbody tr th:only-of-type {\n",
       "        vertical-align: middle;\n",
       "    }\n",
       "\n",
       "    .dataframe tbody tr th {\n",
       "        vertical-align: top;\n",
       "    }\n",
       "\n",
       "    .dataframe thead th {\n",
       "        text-align: right;\n",
       "    }\n",
       "</style>\n",
       "<table border=\"1\" class=\"dataframe\">\n",
       "  <thead>\n",
       "    <tr style=\"text-align: right;\">\n",
       "      <th></th>\n",
       "      <th>date</th>\n",
       "      <th>customer_id</th>\n",
       "      <th>order_id</th>\n",
       "      <th>product</th>\n",
       "      <th>quantity</th>\n",
       "      <th>price</th>\n",
       "      <th>revenue</th>\n",
       "      <th>month</th>\n",
       "      <th>first_word</th>\n",
       "      <th>second_word</th>\n",
       "    </tr>\n",
       "  </thead>\n",
       "  <tbody>\n",
       "    <tr>\n",
       "      <td>505</td>\n",
       "      <td>2018-10-28 15:00:00</td>\n",
       "      <td>f59af333-ffab-44ea-ae15-8cdac5ea5f44</td>\n",
       "      <td>68779</td>\n",
       "      <td>Настольная гладильная доска фанера, 85*30, НД,...</td>\n",
       "      <td>1</td>\n",
       "      <td>225.0</td>\n",
       "      <td>225.0</td>\n",
       "      <td>2018-10-01</td>\n",
       "      <td>Настольная</td>\n",
       "      <td>гладильная</td>\n",
       "    </tr>\n",
       "  </tbody>\n",
       "</table>\n",
       "</div>"
      ],
      "text/plain": [
       "                   date                           customer_id  order_id  \\\n",
       "505 2018-10-28 15:00:00  f59af333-ffab-44ea-ae15-8cdac5ea5f44     68779   \n",
       "\n",
       "                                               product  quantity  price  \\\n",
       "505  Настольная гладильная доска фанера, 85*30, НД,...         1  225.0   \n",
       "\n",
       "     revenue      month  first_word second_word  \n",
       "505    225.0 2018-10-01  Настольная  гладильная  "
      ]
     },
     "execution_count": 29,
     "metadata": {},
     "output_type": "execute_result"
    }
   ],
   "source": [
    "# вывод информации для утоненеия содержания по первому слову\n",
    "ecom[ecom['first_word'] == 'Настольная']"
   ]
  },
  {
   "cell_type": "markdown",
   "metadata": {},
   "source": [
    "Далее формируем массивы, состоящии из первых слов наших товаров, по следующим категориям: цветы, рассада, товары для дома, для кухни, для ванной, для спальни, бытовая техника, декор и товары для ремонта"
   ]
  },
  {
   "cell_type": "code",
   "execution_count": 30,
   "metadata": {},
   "outputs": [],
   "source": [
    "# Список цветов\n",
    "flowers = ['Пеларгония', 'Калибрахоа', 'Герань', 'Бакопа', 'Тагетис', 'Однолетнее', 'Роза', 'Вербена', 'Лобелия', 'Фуксия', \n",
    "           'Декабрист', 'Флокс',  'Бегония', 'Комнатное', 'Пуансеттия', 'Газания', 'Колокольчик', 'Виола', 'Бальзамин', \n",
    "           'Эвкалипт',  'Антуриум', 'Гортензия', 'Мединилла', 'Колокольчик', 'Калла', 'Овсянница', 'Хризантема', \n",
    "           'Космея', 'Гвоздика', 'Ясколка',  'Фаленопсис', 'Цинния', 'Азалия', 'Дендробиум', 'Аптения', 'Котовник', \n",
    "           'Календула', 'Астра', 'Цинерания',   'Настурция', 'Калатея', 'Каланхое', 'Зверобой', 'Кореопсис', 'Аквилегия', \n",
    "           'Лен', 'Вигна', 'Алоэ', 'Гардения', 'Колеус', 'Папоротник', 'Гербера', 'Душица', 'Диффенбахия', 'Гипсофила', \n",
    "           'Цветущее', 'Диффенбахия''Сальвия', 'Гипсофила','Крассула',  'Аспарагус', 'Мускари','Аргирантерум', 'Монарда',\n",
    "           'Эхинацея', 'Эхинокактус', 'Лантана', 'Агератум','Афеляндра', 'Цинерария',  'Фиттония', 'Сциндапсус', 'Эпипремнум', \n",
    "           'Адиантум','Альбука', 'Хамедорея','Амариллис','Бузульник','Цитрофортунелла','Артемизия', 'Хризолидокарпус',\n",
    "           'Анемона','Циния', 'Георгина', 'Гиацинт', 'Незабудка', 'Муррайя','Капсикум','Кампанула', \n",
    "           'Калоцефалус','Каллуна', 'Нефролепис', 'Нолина', 'Лаватера','Литопс', 'Змееголовник',  'Крокусы', 'Годеция',\n",
    "           'Сантолина', 'Синнингия', 'Гиностемма', 'Соланум', 'Солидаго', 'Рудбекия', 'Пеперомия', 'Замиокулькас', \n",
    "           'Подсолнечник', 'Драцена', 'Радермахера','Петуния', 'Спатифиллум', 'Циперус', 'Фиалка', 'Примула', 'Лаванда',\n",
    "           'Эхеверия', 'Алиссум', 'Мирт','Хлорофитум', 'Мимоза', 'Скиммия', 'Пахира', 'Вербейник','Целозия', 'Многолетнее',\n",
    "           'Шеффлера', 'Пуансетия', 'Тюльпан', 'Фатсия', 'Бадан', 'Буддлея', 'Гимнокалициум', 'Фикус','Пиретрум', \n",
    "           'Иссоп', 'Гайлардия','Кодонанта','Маттиола', 'Эшшольция', 'Бархатцы', 'Хоста', 'Суккулент', ]"
   ]
  },
  {
   "cell_type": "code",
   "execution_count": 31,
   "metadata": {},
   "outputs": [],
   "source": [
    "# Список рассады овощей\n",
    "seedling = ['Рассада', 'томата', 'Базилик', 'Дыня', 'Арбуз', 'Капуста', 'Мята', 'Тимьян', 'Новогоднее', 'Огурец',\n",
    "            'Клубника', 'Патиссон', 'Лавр', 'Петрушка', 'Сельдерей', 'Баклажан', 'Земляника', 'Тыква', 'Укроп', \n",
    "            'Морковь', 'Горох', 'Розмарин', 'Томат','Клен','Лук', 'Ель','Чабер','Кипарисовик', 'Кориандр', 'Шалфей',\n",
    "            'Мелисса','Валериана', 'Кабачок', 'Салат' ]"
   ]
  },
  {
   "cell_type": "code",
   "execution_count": 32,
   "metadata": {},
   "outputs": [],
   "source": [
    "# Список товары для дома\n",
    "for_home = ['Сушилка', 'Сумка-тележка', 'Урна', 'Доска', 'Гладильная', 'Коврик', 'Тележка', 'Таз', 'Чехол',\n",
    "                   'Щетка', 'Коврик', 'Вешалка', 'Набор', 'Корзина',  'Карниз', 'Термометр', 'Щетка', 'Сумка', 'Ёрш',\n",
    "                   'Ерш', 'Подкладка', 'Вешалка-плечики', 'Сиденье', 'Подрукавник', 'Ведро', 'Жестяная', 'Перчатки', \n",
    "                   'Корыто', 'Сиденье', 'Автоматическая', 'Комод', 'Настенная', 'Покрытие', 'Кофр', 'Этажерка', 'Крючок', \n",
    "                   'Щетка-сметка', 'Емкость', 'Ящик', 'Лоток', 'Веник', 'Мусорный', 'Ткань', 'Вешалка-стойка', 'Вешалки', \n",
    "                   'Совок', 'Стеллаж', 'Ковёр', 'Насадка-моп', 'Короб', 'Бельевые', 'Щётка', 'Вешалка-перекладина', \n",
    "                   'Вакуумный', 'Насадка-отжим', 'Обувница-3', 'Корзинка', 'Губка', 'Настольная', 'Швабра', 'Складная']"
   ]
  },
  {
   "cell_type": "code",
   "execution_count": 33,
   "metadata": {},
   "outputs": [],
   "source": [
    "# Список товары для кухни\n",
    "for_kitchen = ['Чайник', 'Контейнер', 'Урна-пепельница', 'Tepмокружка', 'Кастрюля', 'Хлебница', 'Стеклянная', 'Миска', \n",
    "               'Блюдце', 'Разделочная', 'Форма', 'Банка', 'Скалка', 'Кухонное', 'Столовая', 'Термостакан', 'Соковарка',\n",
    "               'Сахарница', 'Тряпкодержатель', 'Бидон', 'Тортница', 'Просеиватель', 'Толкушка', 'Сервировочная', \n",
    "               'Мини-сковорода', 'Мешок', 'Шприц', 'Лопатка', 'Крышка', 'Фарфоровая', 'Тряпка', 'Бульонница', 'Кухонные',\n",
    "               'Масленка', 'Мерный', 'Сито', 'Салфетница', 'Тарелка', 'Салатник',  'Кружка', 'Нож', 'Кастрюля', 'Сковорода', \n",
    "               'Чайный', 'Стакан', 'Блюдо', 'Картофелемялка' , 'Овощечистка', 'Сотейник', 'Отделитель', 'Термокружка', 'Ковш',\n",
    "               'Ложка', 'Столовый', 'Вилка', 'Терка', 'Кувшин', 'Чайная', 'Лапчатка', 'Кофе', 'Противень' 'Пьезозажигалка',\n",
    "               'Венчик', 'Термос', 'Половник']"
   ]
  },
  {
   "cell_type": "code",
   "execution_count": 34,
   "metadata": {},
   "outputs": [],
   "source": [
    "# Список товары для ванны\n",
    "for_bathroom = ['Мыло', 'Зубная', 'Паста', 'Штанга', 'Кондиционер', 'Увлажняющая', 'Бальзам', 'Дозатор', \n",
    "                'Ароматизированное', 'Чистящий', 'Мыло-скраб', 'Махровое', 'Подголовник', 'Пробка', 'Ванна', \n",
    "                'Ополаскиватель', 'Отбеливатель', 'Мыльница', 'Жидкое', 'Вантуз', 'Стиральный']"
   ]
  },
  {
   "cell_type": "code",
   "execution_count": 35,
   "metadata": {},
   "outputs": [],
   "source": [
    "# Список товары для спальни\n",
    "for_bedroom = ['Наматрасник', 'Комплект', 'Наматрицник-чехол', 'Полотенце', 'Простыня', 'Подушка', 'Халат', 'Наволочка',\n",
    "               'Наматрацник', 'Махровый', 'Пододеяльник', 'Двуспальное', 'Плед' , 'Простынь', 'Одеяло']"
   ]
  },
  {
   "cell_type": "code",
   "execution_count": 36,
   "metadata": {},
   "outputs": [],
   "source": [
    "# Список бытовой техники\n",
    "technic = ['Весы', 'Окномойка', 'Овощеварка','Щетка-утюжок', 'Электроштопор', 'Фен', 'Ножеточка', 'Мантоварка',\n",
    "           'Мантоварка-пароварка', 'Кипятильник', 'Пылесос', 'Миксер''Измельчитель', 'Утюг', 'Соковыжималка', \n",
    "           'Миксер', 'Измельчитель', 'Светильник', 'Рыбочистка', 'Орехоколка']"
   ]
  },
  {
   "cell_type": "code",
   "execution_count": 37,
   "metadata": {},
   "outputs": [],
   "source": [
    "# Список товары для декорирования\n",
    "decor = ['Муляж', 'Искусственный', 'Цветок', 'Штора', 'Скатерть', 'Покрывало', 'Подвесное', 'Искусственная', 'Ваза',\n",
    "         'Салфетка', 'Ковер', 'Декоративная', 'Фоторамка']"
   ]
  },
  {
   "cell_type": "code",
   "execution_count": 38,
   "metadata": {},
   "outputs": [],
   "source": [
    "# Список товары для ремонта\n",
    "repair = ['Стремянка', 'Полки', 'Лестница-стремянка', 'Лестница', 'Стремянки', 'Стремянка-табурет', 'Стяжка', 'Шнур',\n",
    "          'Холодная', 'Завертка', 'Петля-стрела', 'Шило', 'Скребок', 'Пружина', 'Сверло-фреза,', 'Бензин', 'Шпагат', \n",
    "          'Стяжки', 'Штангенциркуль', 'Шпингалет', 'Сверло', 'Крепеж', 'Ручка-скоба',  'Полка', 'Петля', \n",
    "          'Бак', 'Котел', 'Уголок']"
   ]
  },
  {
   "cell_type": "code",
   "execution_count": 39,
   "metadata": {},
   "outputs": [],
   "source": [
    "#вводим функцию классификации\n",
    "def categorization(first_word):\n",
    "    if first_word in flowers:\n",
    "        return 'Цветы'\n",
    "    if first_word in seedling:\n",
    "        return 'Рассада'\n",
    "    if first_word in for_home:\n",
    "        return 'Товары для дома'\n",
    "    if first_word in for_kitchen:\n",
    "        return 'Товары для кухни'\n",
    "    if first_word in for_bathroom:\n",
    "        return 'Товары для ванны'\n",
    "    if first_word in for_bedroom:\n",
    "        return 'Товары для спальни'\n",
    "    if first_word in technic:\n",
    "        return 'Бытовая техника'\n",
    "    if first_word in decor:\n",
    "        return 'Декор'\n",
    "    if first_word in repair:\n",
    "        return 'Товары для ремонта'\n",
    "    else:\n",
    "        return 'Нераспределено'\n"
   ]
  },
  {
   "cell_type": "code",
   "execution_count": 40,
   "metadata": {},
   "outputs": [],
   "source": [
    "#добавляем столбец категории товара\n",
    "ecom['category'] = ecom['first_word'].apply(categorization)"
   ]
  },
  {
   "cell_type": "code",
   "execution_count": 41,
   "metadata": {},
   "outputs": [
    {
     "data": {
      "text/html": [
       "<div>\n",
       "<style scoped>\n",
       "    .dataframe tbody tr th:only-of-type {\n",
       "        vertical-align: middle;\n",
       "    }\n",
       "\n",
       "    .dataframe tbody tr th {\n",
       "        vertical-align: top;\n",
       "    }\n",
       "\n",
       "    .dataframe thead th {\n",
       "        text-align: right;\n",
       "    }\n",
       "</style>\n",
       "<table border=\"1\" class=\"dataframe\">\n",
       "  <thead>\n",
       "    <tr style=\"text-align: right;\">\n",
       "      <th></th>\n",
       "      <th>date</th>\n",
       "      <th>customer_id</th>\n",
       "      <th>order_id</th>\n",
       "      <th>product</th>\n",
       "      <th>quantity</th>\n",
       "      <th>price</th>\n",
       "      <th>revenue</th>\n",
       "      <th>month</th>\n",
       "      <th>first_word</th>\n",
       "      <th>second_word</th>\n",
       "      <th>category</th>\n",
       "    </tr>\n",
       "  </thead>\n",
       "  <tbody>\n",
       "    <tr>\n",
       "      <td>6600</td>\n",
       "      <td>2019-10-13 09:00:00</td>\n",
       "      <td>b5a61a68-9ed4-4b33-b115-1c059823fdf4</td>\n",
       "      <td>72949</td>\n",
       "      <td>Герань домашняя (пеларгония зональная) цветуща...</td>\n",
       "      <td>2</td>\n",
       "      <td>157.0</td>\n",
       "      <td>314.0</td>\n",
       "      <td>2019-10-01</td>\n",
       "      <td>Герань</td>\n",
       "      <td>домашняя</td>\n",
       "      <td>Цветы</td>\n",
       "    </tr>\n",
       "    <tr>\n",
       "      <td>4</td>\n",
       "      <td>2018-10-01 00:00:00</td>\n",
       "      <td>ee47d746-6d2f-4d3c-9622-c31412542920</td>\n",
       "      <td>68477</td>\n",
       "      <td>Циперус Зумула d-12 см h-25 см</td>\n",
       "      <td>1</td>\n",
       "      <td>112.0</td>\n",
       "      <td>112.0</td>\n",
       "      <td>2018-10-01</td>\n",
       "      <td>Циперус</td>\n",
       "      <td>Зумула</td>\n",
       "      <td>Цветы</td>\n",
       "    </tr>\n",
       "    <tr>\n",
       "      <td>1167</td>\n",
       "      <td>2018-12-11 08:00:00</td>\n",
       "      <td>bb31ccb2-b6b5-4988-93ce-40db66b766a5</td>\n",
       "      <td>69295</td>\n",
       "      <td>Сушилка для белья потолочная ЛИАНА ЛЮКС 250 см...</td>\n",
       "      <td>1</td>\n",
       "      <td>704.0</td>\n",
       "      <td>704.0</td>\n",
       "      <td>2018-12-01</td>\n",
       "      <td>Сушилка</td>\n",
       "      <td>для</td>\n",
       "      <td>Товары для дома</td>\n",
       "    </tr>\n",
       "  </tbody>\n",
       "</table>\n",
       "</div>"
      ],
      "text/plain": [
       "                    date                           customer_id  order_id  \\\n",
       "6600 2019-10-13 09:00:00  b5a61a68-9ed4-4b33-b115-1c059823fdf4     72949   \n",
       "4    2018-10-01 00:00:00  ee47d746-6d2f-4d3c-9622-c31412542920     68477   \n",
       "1167 2018-12-11 08:00:00  bb31ccb2-b6b5-4988-93ce-40db66b766a5     69295   \n",
       "\n",
       "                                                product  quantity  price  \\\n",
       "6600  Герань домашняя (пеларгония зональная) цветуща...         2  157.0   \n",
       "4                        Циперус Зумула d-12 см h-25 см         1  112.0   \n",
       "1167  Сушилка для белья потолочная ЛИАНА ЛЮКС 250 см...         1  704.0   \n",
       "\n",
       "      revenue      month first_word second_word         category  \n",
       "6600    314.0 2019-10-01     Герань    домашняя            Цветы  \n",
       "4       112.0 2018-10-01    Циперус      Зумула            Цветы  \n",
       "1167    704.0 2018-12-01    Сушилка         для  Товары для дома  "
      ]
     },
     "execution_count": 41,
     "metadata": {},
     "output_type": "execute_result"
    }
   ],
   "source": [
    "ecom.sample(3)"
   ]
  },
  {
   "cell_type": "markdown",
   "metadata": {},
   "source": [
    "**Вывод**  \n",
    "На данном этапе мы разделили все наши товары на 9 основных категорий: цветы, рассада, товары для дома, для кухни, для ванной, для спальни, бытовая техника, декор и товары для ремонта. Предусмотрели также, что пока не все товары до конца распределены, они пока отмечены в категории - 'Нераспределено'.\n",
    "Далее будем рассчитывать выручку по категориям и количество продаж"
   ]
  },
  {
   "cell_type": "markdown",
   "metadata": {},
   "source": [
    "### Выручка по категориям"
   ]
  },
  {
   "cell_type": "code",
   "execution_count": 42,
   "metadata": {},
   "outputs": [
    {
     "data": {
      "text/html": [
       "<div>\n",
       "<style scoped>\n",
       "    .dataframe tbody tr th:only-of-type {\n",
       "        vertical-align: middle;\n",
       "    }\n",
       "\n",
       "    .dataframe tbody tr th {\n",
       "        vertical-align: top;\n",
       "    }\n",
       "\n",
       "    .dataframe thead th {\n",
       "        text-align: right;\n",
       "    }\n",
       "</style>\n",
       "<table border=\"1\" class=\"dataframe\">\n",
       "  <thead>\n",
       "    <tr style=\"text-align: right;\">\n",
       "      <th></th>\n",
       "      <th>category</th>\n",
       "      <th>revenue</th>\n",
       "    </tr>\n",
       "  </thead>\n",
       "  <tbody>\n",
       "    <tr>\n",
       "      <td>0</td>\n",
       "      <td>Товары для дома</td>\n",
       "      <td>2270587.0</td>\n",
       "    </tr>\n",
       "    <tr>\n",
       "      <td>1</td>\n",
       "      <td>Цветы</td>\n",
       "      <td>465196.0</td>\n",
       "    </tr>\n",
       "    <tr>\n",
       "      <td>2</td>\n",
       "      <td>Декор</td>\n",
       "      <td>369730.0</td>\n",
       "    </tr>\n",
       "    <tr>\n",
       "      <td>3</td>\n",
       "      <td>Товары для ремонта</td>\n",
       "      <td>288684.0</td>\n",
       "    </tr>\n",
       "    <tr>\n",
       "      <td>4</td>\n",
       "      <td>Товары для кухни</td>\n",
       "      <td>225270.0</td>\n",
       "    </tr>\n",
       "    <tr>\n",
       "      <td>5</td>\n",
       "      <td>Рассада</td>\n",
       "      <td>219566.0</td>\n",
       "    </tr>\n",
       "    <tr>\n",
       "      <td>6</td>\n",
       "      <td>Товары для спальни</td>\n",
       "      <td>132942.0</td>\n",
       "    </tr>\n",
       "    <tr>\n",
       "      <td>7</td>\n",
       "      <td>Нераспределено</td>\n",
       "      <td>73113.0</td>\n",
       "    </tr>\n",
       "    <tr>\n",
       "      <td>8</td>\n",
       "      <td>Бытовая техника</td>\n",
       "      <td>41873.0</td>\n",
       "    </tr>\n",
       "    <tr>\n",
       "      <td>9</td>\n",
       "      <td>Товары для ванны</td>\n",
       "      <td>24587.0</td>\n",
       "    </tr>\n",
       "  </tbody>\n",
       "</table>\n",
       "</div>"
      ],
      "text/plain": [
       "             category    revenue\n",
       "0     Товары для дома  2270587.0\n",
       "1               Цветы   465196.0\n",
       "2               Декор   369730.0\n",
       "3  Товары для ремонта   288684.0\n",
       "4    Товары для кухни   225270.0\n",
       "5             Рассада   219566.0\n",
       "6  Товары для спальни   132942.0\n",
       "7      Нераспределено    73113.0\n",
       "8     Бытовая техника    41873.0\n",
       "9    Товары для ванны    24587.0"
      ]
     },
     "execution_count": 42,
     "metadata": {},
     "output_type": "execute_result"
    }
   ],
   "source": [
    "# Группируем данные по категории и считаем выручку\n",
    "revenue_by_category = ecom.groupby('category')['revenue'].sum().sort_values(ascending=False).reset_index()\n",
    "revenue_by_category"
   ]
  },
  {
   "cell_type": "code",
   "execution_count": 43,
   "metadata": {},
   "outputs": [
    {
     "data": {
      "image/png": "[encoded data removed]",
      "text/plain": [
       "<Figure size 720x504 with 1 Axes>"
      ]
     },
     "metadata": {
      "needs_background": "light"
     },
     "output_type": "display_data"
    }
   ],
   "source": [
    "# Размер фигуры\n",
    "plt.figure(figsize=(10, 7))\n",
    "\n",
    "# График\n",
    "sns.barplot(\n",
    "    x =\"revenue\", \n",
    "    y =\"category\", \n",
    "    data=revenue_by_category).set(title = \"Выручка по категориям\", ylabel= 'Категория', xlabel = 'у.е.')\n",
    "plt.show()"
   ]
  },
  {
   "cell_type": "markdown",
   "metadata": {},
   "source": [
    "Категория \"Товары для дома\" самая прибыльная в нашем интернет-магазине."
   ]
  },
  {
   "cell_type": "markdown",
   "metadata": {},
   "source": [
    "### Количество продаж по категориям"
   ]
  },
  {
   "cell_type": "code",
   "execution_count": 44,
   "metadata": {},
   "outputs": [
    {
     "data": {
      "text/html": [
       "<div>\n",
       "<style scoped>\n",
       "    .dataframe tbody tr th:only-of-type {\n",
       "        vertical-align: middle;\n",
       "    }\n",
       "\n",
       "    .dataframe tbody tr th {\n",
       "        vertical-align: top;\n",
       "    }\n",
       "\n",
       "    .dataframe thead th {\n",
       "        text-align: right;\n",
       "    }\n",
       "</style>\n",
       "<table border=\"1\" class=\"dataframe\">\n",
       "  <thead>\n",
       "    <tr style=\"text-align: right;\">\n",
       "      <th></th>\n",
       "      <th>category</th>\n",
       "      <th>order_id</th>\n",
       "    </tr>\n",
       "  </thead>\n",
       "  <tbody>\n",
       "    <tr>\n",
       "      <td>0</td>\n",
       "      <td>Цветы</td>\n",
       "      <td>2045</td>\n",
       "    </tr>\n",
       "    <tr>\n",
       "      <td>1</td>\n",
       "      <td>Рассада</td>\n",
       "      <td>1750</td>\n",
       "    </tr>\n",
       "    <tr>\n",
       "      <td>2</td>\n",
       "      <td>Товары для дома</td>\n",
       "      <td>1637</td>\n",
       "    </tr>\n",
       "    <tr>\n",
       "      <td>3</td>\n",
       "      <td>Декор</td>\n",
       "      <td>504</td>\n",
       "    </tr>\n",
       "    <tr>\n",
       "      <td>4</td>\n",
       "      <td>Товары для кухни</td>\n",
       "      <td>341</td>\n",
       "    </tr>\n",
       "    <tr>\n",
       "      <td>5</td>\n",
       "      <td>Нераспределено</td>\n",
       "      <td>178</td>\n",
       "    </tr>\n",
       "    <tr>\n",
       "      <td>6</td>\n",
       "      <td>Товары для ремонта</td>\n",
       "      <td>149</td>\n",
       "    </tr>\n",
       "    <tr>\n",
       "      <td>7</td>\n",
       "      <td>Товары для ванны</td>\n",
       "      <td>47</td>\n",
       "    </tr>\n",
       "    <tr>\n",
       "      <td>8</td>\n",
       "      <td>Бытовая техника</td>\n",
       "      <td>44</td>\n",
       "    </tr>\n",
       "    <tr>\n",
       "      <td>9</td>\n",
       "      <td>Товары для спальни</td>\n",
       "      <td>39</td>\n",
       "    </tr>\n",
       "  </tbody>\n",
       "</table>\n",
       "</div>"
      ],
      "text/plain": [
       "             category  order_id\n",
       "0               Цветы      2045\n",
       "1             Рассада      1750\n",
       "2     Товары для дома      1637\n",
       "3               Декор       504\n",
       "4    Товары для кухни       341\n",
       "5      Нераспределено       178\n",
       "6  Товары для ремонта       149\n",
       "7    Товары для ванны        47\n",
       "8     Бытовая техника        44\n",
       "9  Товары для спальни        39"
      ]
     },
     "execution_count": 44,
     "metadata": {},
     "output_type": "execute_result"
    }
   ],
   "source": [
    "# Группируем данные по категории и считаем выручку\n",
    "orders_by_category = ecom.groupby('category')['order_id'].count().sort_values(ascending=False).reset_index()\n",
    "orders_by_category"
   ]
  },
  {
   "cell_type": "code",
   "execution_count": 45,
   "metadata": {},
   "outputs": [
    {
     "data": {
      "image/png": "[encoded data removed]",
      "text/plain": [
       "<Figure size 720x504 with 1 Axes>"
      ]
     },
     "metadata": {
      "needs_background": "light"
     },
     "output_type": "display_data"
    }
   ],
   "source": [
    "# Размер фигуры\n",
    "plt.figure(figsize=(10, 7))\n",
    "\n",
    "# График\n",
    "sns.barplot(\n",
    "    x =\"order_id\", \n",
    "    y =\"category\", \n",
    "    data=orders_by_category).set(title = \"Количество продаж по категориям\", ylabel= 'Категория', xlabel = 'Количество')\n",
    "plt.show()"
   ]
  },
  {
   "cell_type": "markdown",
   "metadata": {},
   "source": [
    "По количеству продаж немного другая очередность категорий: Цветы, Рассада и Товары для дома."
   ]
  },
  {
   "cell_type": "markdown",
   "metadata": {},
   "source": [
    "### Проверка сезонности товаров для оптимизации закупок в разное время года "
   ]
  },
  {
   "cell_type": "markdown",
   "metadata": {},
   "source": [
    "**Для нагладности сосредоточимся на четырех самых частопродаваемх категориях: товары для дома, цветы, рассада и декор**\n",
    "\n",
    "Для автоматизации работы создадим функцию"
   ]
  },
  {
   "cell_type": "code",
   "execution_count": 46,
   "metadata": {},
   "outputs": [],
   "source": [
    "def sales(values, aggfunc):\n",
    "    \n",
    "    \"\"\"Эта функция для построения графиков по месяцам.\n",
    "\n",
    "    Позволяет построить распределение заданного показателя по месяцам.\n",
    "    На вход принимает расчитываемый параметр и агрегирующую функцию, которую\n",
    "    нужно применить к данному параметру.\n",
    "    \"\"\"\n",
    "    \n",
    "    \n",
    "    #Сводная таблица по продажам топ-категорий\n",
    "    top_sales = (\n",
    "        ecom.pivot_table(index=['category','month'], values = values, aggfunc = aggfunc)\n",
    "    )\n",
    "    top_sales = top_sales.reset_index()\n",
    "    \n",
    "    \n",
    "    #Выделим нужные категории отдельно\n",
    "    x_1 = top_sales.query('category == \"Цветы\"')\n",
    "    x_2 = top_sales.query('category == \"Рассада\"')\n",
    "    x_3 = top_sales.query('category == \"Товары для дома\"')\n",
    "    x_4 = top_sales.query('category == \"Декор\"')\n",
    "\n",
    "\n",
    "    #строим график\n",
    "    plt.figure(figsize = (12,6))\n",
    "    plt.plot(x_1['month'], x_1[values], label= \"Цветы\")\n",
    "    plt.plot(x_2['month'], x_2[values], label= \"Рассада\")\n",
    "    plt.plot(x_3['month'], x_3[values], label= \"Товары для дома\")\n",
    "    plt.plot(x_4['month'], x_4[values], label= \"Декор\")\n",
    "\n",
    "    plt.title( values + \" топовых категорий по месяцам\")\n",
    "    plt.xlabel(\"Месяц\")\n",
    "    plt.ylabel(values) \n",
    "    plt.legend()\n",
    "    plt.grid()\n",
    "    plt.show()"
   ]
  },
  {
   "cell_type": "markdown",
   "metadata": {},
   "source": [
    "1) смотрим распределение выручки от продаж топ-категорий по месяцам"
   ]
  },
  {
   "cell_type": "code",
   "execution_count": 47,
   "metadata": {},
   "outputs": [
    {
     "data": {
      "image/png": "[encoded data removed]",
      "text/plain": [
       "<Figure size 864x432 with 1 Axes>"
      ]
     },
     "metadata": {
      "needs_background": "light"
     },
     "output_type": "display_data"
    }
   ],
   "source": [
    "# сумма продаж по топ-категориям\n",
    "sales('revenue', 'sum')"
   ]
  },
  {
   "cell_type": "markdown",
   "metadata": {},
   "source": [
    "Для категории цветы пик прибыли приходится на апрель месяц, с февраля по апрель продажи в этой категории растут. Рассаду начинают покупать позже - с марта по июнь, пик продаж приходится как раз на первый летний месяц, далее выручка падает. Выручка от категории Декор остается равномерной в течение года и не имет резких скачков, есть тенденция снижаться в летние месяцы.\n",
    "Заметно, что выручка от товаров для дома имеет тенденцию снижаться в декабре и с февраля по май. Но все равно, эта категория остается самой доходной"
   ]
  },
  {
   "cell_type": "markdown",
   "metadata": {},
   "source": [
    "2) смотрим распределение количества продаж топ-категорий по месяцам"
   ]
  },
  {
   "cell_type": "code",
   "execution_count": 48,
   "metadata": {},
   "outputs": [
    {
     "data": {
      "image/png": "[encoded data removed]",
      "text/plain": [
       "<Figure size 864x432 with 1 Axes>"
      ]
     },
     "metadata": {
      "needs_background": "light"
     },
     "output_type": "display_data"
    }
   ],
   "source": [
    "# Количество продаж по топ-категориям\n",
    "sales('order_id', 'count')"
   ]
  },
  {
   "cell_type": "markdown",
   "metadata": {},
   "source": [
    "По количеству продаж ситуация похожая. Количество заказав категории Цветы начинает увеличиваться с января по июнь, пик заказов  приходится на первый летний месяц. Рассаду начинают активнее покупать с марта до июня. Спрос на товары для дома и декор остается более менее ровным на протяжение всего года. "
   ]
  },
  {
   "cell_type": "markdown",
   "metadata": {},
   "source": [
    "**Вывод**  \n",
    "\n",
    "По четырем рассматриваемым категориям можно сказать, что и по выручке, и по количеству продаж,  категории Цветы и Рассада имеют сезонность. Так в весений период пользователи чаще чем в остальное время года начинают интересоваться данными категориями. Вероятнее всего, это связано с началом подготовки к дачному сезону. \n",
    "Количество продаж в категории Товары для дома и Декор остаются постоянными в течение года и выручка у Товаров для дома больше чем у других на протяжении всего года."
   ]
  },
  {
   "cell_type": "markdown",
   "metadata": {},
   "source": [
    "### Топ-5  товаров по категориям"
   ]
  },
  {
   "cell_type": "markdown",
   "metadata": {},
   "source": [
    "Рассмотрим самые прибыльные товары в топ-категориях по продажам: Товары для дома, Цветы и Декор"
   ]
  },
  {
   "cell_type": "code",
   "execution_count": 49,
   "metadata": {},
   "outputs": [],
   "source": [
    "#функция для графиков\n",
    "def rating_top5(category_name):\n",
    "        \n",
    "    \"\"\" Функция для построения рейтинга продаж в категории\n",
    "\n",
    "    Позволяет построить столбчатую диаграмму продаж топ-5 продуктов в категории.\n",
    "    На вход принимает расчитываемую категорию товара, агрегирует данные по первому слову,\n",
    "    выводит столбчатую диаграмму топ-5 продаваемых продуктов.\n",
    "    \"\"\"\n",
    "    \n",
    "    \n",
    "    df = (ecom.query('category == @category_name')\n",
    "          .pivot_table(index='first_word', values='revenue', aggfunc='sum').reset_index()\n",
    "          .sort_values(by = 'revenue', ascending = False))\n",
    "    df = df[:5]\n",
    "    \n",
    "    plt.figure(figsize=(12,6))\n",
    "    plt.bar(df['first_word'], df['revenue'])\n",
    "    for i, val in enumerate(df['revenue'].values):\n",
    "        (\n",
    "        plt.text(i, val, round(float(val), 2), horizontalalignment='center', verticalalignment='bottom', \n",
    "                 fontdict={'fontweight':500, 'size':12})\n",
    "        )    \n",
    "    plt.title('Рейтинг продаж в ' + category_name) \n",
    "    plt.xlabel(\"Товар\")\n",
    "    plt.ylabel(\"у.е.\") \n",
    "    plt.show()"
   ]
  },
  {
   "cell_type": "code",
   "execution_count": 50,
   "metadata": {
    "scrolled": false
   },
   "outputs": [
    {
     "data": {
      "image/png": "[encoded data removed]",
      "text/plain": [
       "<Figure size 864x432 with 1 Axes>"
      ]
     },
     "metadata": {
      "needs_background": "light"
     },
     "output_type": "display_data"
    }
   ],
   "source": [
    "# Топ продажи в Товара для дома\n",
    "rating_top5(\"Товары для дома\")"
   ]
  },
  {
   "cell_type": "code",
   "execution_count": 51,
   "metadata": {},
   "outputs": [
    {
     "data": {
      "image/png": "[encoded data removed]",
      "text/plain": [
       "<Figure size 864x432 with 1 Axes>"
      ]
     },
     "metadata": {
      "needs_background": "light"
     },
     "output_type": "display_data"
    }
   ],
   "source": [
    "# Топ продажи в Цветах\n",
    "rating_top5(\"Цветы\")"
   ]
  },
  {
   "cell_type": "code",
   "execution_count": 52,
   "metadata": {},
   "outputs": [
    {
     "data": {
      "image/png": "[encoded data removed]",
      "text/plain": [
       "<Figure size 864x432 with 1 Axes>"
      ]
     },
     "metadata": {
      "needs_background": "light"
     },
     "output_type": "display_data"
    }
   ],
   "source": [
    "# Топ продажи в Декоре\n",
    "rating_top5(\"Декор\")"
   ]
  },
  {
   "cell_type": "markdown",
   "metadata": {},
   "source": [
    "**Вывод**\n",
    "\n",
    "Большую выручку в категории товары для дома нашему магазину приносят Сумки-тележки, тележки, сушилки, гладильные доски. Для цветов это - Пеларгония, петуньи, спатифиллумы, эвкалипты и герань. В Декоре - шторы, различные муляжи, скатерти, подвесные кашпо  и салфетки.\n",
    "Именно на этих позициях можно сосредоточить рекламное предложение и предлагать их чаще.\n"
   ]
  },
  {
   "cell_type": "markdown",
   "metadata": {},
   "source": [
    "**Вывод 2.0**\n",
    "\n",
    "Нужно  разделять основной - дополнительный ассортимент и дополнительные товары.  \n",
    "\n",
    "Судя по данным всего этапа исследовательского анализа можно отметить, что категории Товары для дома, Цветы и Декор приносят  нашему интернет-магазину наибольшую выручку. Также стоит отметить, что катагория Рассада находится на втором месте по количеству годовых продаж. По нашему мнению, эти четыре категории мы можем считать **основным ассортиментом** в нашем магазине.  \n",
    "Следуя логике, остальные категории мы будем считать **дополнительными** в текущей работе.  \n",
    "\n",
    "Считаем правильным предлагать покупателям дополнительные товары внутри той категории, в которой они совершают основную покупку. Так при покупке товара, входящего в топ-5 из категории \"Товары для дома\" (сумки-тележки, тележки, сушилки, гладильные доски),  можно предложить товары из той же категории, но которые на текущий момент не входят в топ-продажи (вешалки, чехлы и т.д.). \n"
   ]
  },
  {
   "cell_type": "markdown",
   "metadata": {},
   "source": [
    "## Проверка гипотез"
   ]
  },
  {
   "cell_type": "markdown",
   "metadata": {},
   "source": [
    "Проверка статистических гипотез предполагает выбор между двумя альтернативными гипотезами: нулевой гипотезой Н0 и альтернативной Н1. p - это вероятность отвергнуть нулевую гипотезу при условии, что она верна. \n",
    "Если р < 0,05, (=0,05) то аргументов достаточно, чтобы отвергнуть нулевую гипотезу, хотя есть небольшой шанс против этого. Тогда можно отвергнуть нулевую гипотезу и сказать, что результаты значимы на 5% уровне. Напротив, если р > 0,05, то аргументов недостаточно, чтобы отвергнуть нулевую гипотезу. Не отвергая нулевую гипотезу, можно заявить, что результаты не значимы на 5% уровне. Данное заключение не означает, что нулевая гипотеза истинна, просто недостаточно аргументов (возможно, маленький объем выборки), чтобы ее отвергнуть. "
   ]
  },
  {
   "cell_type": "markdown",
   "metadata": {},
   "source": [
    "### Средняя выручка категории \"Товары для дома\" отличается от выручки всех остальных категорий"
   ]
  },
  {
   "cell_type": "markdown",
   "metadata": {},
   "source": [
    "Нулевая гипотеза №1 - средняя выручка категории \"Товары для дома\" и всех остальных категорий **равна**.  \n",
    "Альтернативная гипотеза - средняя выручка категории \"Товары для дома\" **не равна** выручке по всем остальным категориям.  \n",
    "Пороговое значение alpha - 0,05"
   ]
  },
  {
   "cell_type": "code",
   "execution_count": 53,
   "metadata": {},
   "outputs": [
    {
     "name": "stdout",
     "output_type": "stream",
     "text": [
      "p-значение: 2.215487702309555e-162\n",
      "Отвергаем нулевую гипотезу\n"
     ]
    }
   ],
   "source": [
    "#выделяем отдельно выборки по категории Товары для дома и остальным\n",
    "df_for_home = ecom.query('category == \"Товары для дома\"')\n",
    "df_other = ecom.query('category != \"Товары для дома\"')\n",
    "\n",
    "# значения выручки в категории товары для дома\n",
    "df_for_home_incom = df_for_home['revenue']\n",
    "\n",
    "# значения выручки в других категориях\n",
    "df_other_incom = df_other['revenue']\n",
    "\n",
    "alpha = .05 # критический уровень статистической значимости\n",
    "            # если p-value окажется меньше него - отвергнем гипотезу\n",
    "\n",
    "results = st.ttest_ind(df_for_home_incom, df_other_incom)\n",
    "\n",
    "print('p-значение:', results.pvalue)\n",
    "\n",
    "if (results.pvalue < alpha):\n",
    "    print(\"Отвергаем нулевую гипотезу\")\n",
    "else:\n",
    "    print(\"Не получилось отвергнуть нулевую гипотезу\") "
   ]
  },
  {
   "cell_type": "markdown",
   "metadata": {},
   "source": [
    "**Вывод**  \n",
    "С высокой долей вероятности средняя выручка категории \"Товары для дома\" и всех остальных различается. "
   ]
  },
  {
   "cell_type": "markdown",
   "metadata": {},
   "source": [
    "### Средняя выручка категории \"Цветы\" и \"Декор\" различаются"
   ]
  },
  {
   "cell_type": "markdown",
   "metadata": {},
   "source": [
    "Нулевая гипотеза №1 - средняя выручка категории \"Цветы\" и \"Декор\" равна.  \n",
    "Альтернативная гипотеза - средняя выручка категории \"Цветы\"  не равна категории \"Декор\"\n",
    "Пороговое значение alpha - 0,05"
   ]
  },
  {
   "cell_type": "code",
   "execution_count": 54,
   "metadata": {},
   "outputs": [
    {
     "name": "stdout",
     "output_type": "stream",
     "text": [
      "p-значение: 2.6257855098723023e-17\n",
      "Отвергаем нулевую гипотезу\n"
     ]
    }
   ],
   "source": [
    "#выделяем отдельно тарифы из общей выборки\n",
    "df_flowers = ecom.query('category == \"Цветы\"')\n",
    "df_decor = ecom.query('category == \"Декор\"')\n",
    "\n",
    "# значения выручки по цветам\n",
    "df_flowers_incom = df_flowers['revenue']\n",
    "\n",
    "# значения выручки по декору\n",
    "df_decor_incom = df_decor['revenue']\n",
    "\n",
    "alpha = .05 # критический уровень статистической значимости\n",
    "            # если p-value окажется меньше него - отвергнем гипотезу\n",
    "\n",
    "# дисперсии выборок не равны\n",
    "results = st.ttest_ind(df_flowers_incom, df_decor_incom, equal_var = False)\n",
    "\n",
    "print('p-значение:', results.pvalue)\n",
    "\n",
    "if (results.pvalue < alpha):\n",
    "    print(\"Отвергаем нулевую гипотезу\")\n",
    "else:\n",
    "    print(\"Не получилось отвергнуть нулевую гипотезу\") "
   ]
  },
  {
   "cell_type": "markdown",
   "metadata": {},
   "source": [
    "**Вывод**  \n",
    "С высокой долей вероятности средняя выручка категории \"Цветы\" и \"Декор\" различаются. "
   ]
  },
  {
   "cell_type": "markdown",
   "metadata": {},
   "source": [
    "## Общий вывод"
   ]
  },
  {
   "cell_type": "markdown",
   "metadata": {},
   "source": [
    "Основной целью нашей работы было провести анализ товарного ассортимента с целью определения какие товары входят в основной и дополнительный ассортимент, чтобы грамотно предлагать покупателям дополнительные товары и оптимизировать закупки.  \n",
    "\n",
    "В нашем распоряжении были данные о заказах, оформленных с 1 октября 2018 г. до 31 октября 2019 г.  \n",
    "Все товары, представленные в нашем интернет-магазине мы разделили на 9 категорий: цветы, рассада, товары для дома, для кухни, для ванной, для спальни, бытовая техника, декор и товары для ремонта. Далее мы рассчитали выручку по категориям и количество продаж. Категория «Товары для дома» оказалась самой прибыльной, далее были категории «Цветы» и «Декор». По количеству продаж была немного другая очередность: «Цветы», «Рассада» и «Товары для дома».  \n",
    "\n",
    "Далее мы рассмотрели четыре основные категории на предмет сезонности. По данным категориям можно сказать, что и по выручке, и по количеству продаж, категории «Цветы» и «Рассада» имеют сезонность. Так в весенний период пользователи чаще чем в остальное время года начинают интересоваться данными категориями. Вероятнее всего, это связано с началом подготовки к дачному сезону. \n",
    "Количество продаж в категории «Товары для дома» и «Декор» остаются постоянными в течение года. Выручка у «Товаров для дома» больше чем у других на протяжении всего года.  \n",
    "\n",
    "Далее мы выполнили проверку двух гипотез: «Средняя выручка категории \"Товары для дома\" отличается от выручки всех остальных категорий» и «Средняя выручка категории \"Цветы\" и \"Декор\" различаются». На основе статистических тестов мы отвергли нулевые гипотезы, и это говорит нам о том, что с высокой долей вероятности выручка категории «Товары для дома» и всех остальных различается, а также средняя выручка категорий «Цветы» и «Декор» различаются. Мы можем говорить о статистическом различии этих категорий.  \n",
    "\n",
    "Большую выручку в категории «Товары для дома» нашему магазину приносят сумки-тележки, тележки, сушилки, гладильные доски. Для «Цветов» это - Пеларгония, петуньи, спатифиллумы, эвкалипты и герань. В «Декоре» - шторы, различные муляжи, скатерти, подвесные кашпо и салфетки. Именно на этих позициях можно сосредоточиться рекламное предложение.  \n",
    "\n",
    "В целом по проведенному исследованию, мы можем рекомендовать считать товары категории «Товары для дома», «Декор», «Цветы» и «Рассада» основными и внутри них предлагать покупателям дополнительный ассортимент. "
   ]
  },
  {
   "cell_type": "code",
   "execution_count": null,
   "metadata": {},
   "outputs": [],
   "source": []
  }
 ],
 "metadata": {
  "kernelspec": {
   "display_name": "Python 3",
   "language": "python",
   "name": "python3"
  },
  "language_info": {
   "codemirror_mode": {
    "name": "ipython",
    "version": 3
   },
   "file_extension": ".py",
   "mimetype": "text/x-python",
   "name": "python",
   "nbconvert_exporter": "python",
   "pygments_lexer": "ipython3",
   "version": "3.8.5"
  },
  "toc": {
   "base_numbering": 1,
   "nav_menu": {},
   "number_sections": false,
   "sideBar": true,
   "skip_h1_title": true,
   "title_cell": "Table of Contents",
   "title_sidebar": "Contents",
   "toc_cell": true,
   "toc_position": {},
   "toc_section_display": true,
   "toc_window_display": false
  }
 },
 "nbformat": 4,
 "nbformat_minor": 2
}
