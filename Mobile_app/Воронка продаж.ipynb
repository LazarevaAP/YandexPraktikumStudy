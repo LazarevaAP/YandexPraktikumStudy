{
 "cells": [
  {
   "cell_type": "markdown",
   "metadata": {
    "toc": true
   },
   "source": [
    "<h1>Table of Contents<span class=\"tocSkip\"></span></h1>\n",
    "<div class=\"toc\"><ul class=\"toc-item\"><li><span><a href=\"#Открытие-файла-с-данными-и-изучение-общей-информации\" data-toc-modified-id=\"Открытие-файла-с-данными-и-изучение-общей-информации-1\"><span class=\"toc-item-num\">1&nbsp;&nbsp;</span>Открытие файла с данными и изучение общей информации</a></span></li><li><span><a href=\"#Подготовка-данных\" data-toc-modified-id=\"Подготовка-данных-2\"><span class=\"toc-item-num\">2&nbsp;&nbsp;</span>Подготовка данных</a></span></li><li><span><a href=\"#Изучение-и-проверка-данных\" data-toc-modified-id=\"Изучение-и-проверка-данных-3\"><span class=\"toc-item-num\">3&nbsp;&nbsp;</span>Изучение и проверка данных</a></span></li><li><span><a href=\"#Изучение-воронки-событий\" data-toc-modified-id=\"Изучение-воронки-событий-4\"><span class=\"toc-item-num\">4&nbsp;&nbsp;</span>Изучение воронки событий</a></span></li><li><span><a href=\"#Результаты-эксперимента\" data-toc-modified-id=\"Результаты-эксперимента-5\"><span class=\"toc-item-num\">5&nbsp;&nbsp;</span>Результаты эксперимента</a></span><ul class=\"toc-item\"><li><span><a href=\"#Выборки-№246-и-№247\" data-toc-modified-id=\"Выборки-№246-и-№247-5.1\"><span class=\"toc-item-num\">5.1&nbsp;&nbsp;</span>Выборки №246 и №247</a></span></li><li><span><a href=\"#Выборки-№246-и-№248\" data-toc-modified-id=\"Выборки-№246-и-№248-5.2\"><span class=\"toc-item-num\">5.2&nbsp;&nbsp;</span>Выборки №246 и №248</a></span></li><li><span><a href=\"#Выборки-№247-и-№248\" data-toc-modified-id=\"Выборки-№247-и-№248-5.3\"><span class=\"toc-item-num\">5.3&nbsp;&nbsp;</span>Выборки №247 и №248</a></span></li><li><span><a href=\"#Выборки-№246+247-и-№248\" data-toc-modified-id=\"Выборки-№246+247-и-№248-5.4\"><span class=\"toc-item-num\">5.4&nbsp;&nbsp;</span>Выборки №246+247 и №248</a></span></li></ul></li><li><span><a href=\"#Вывод\" data-toc-modified-id=\"Вывод-6\"><span class=\"toc-item-num\">6&nbsp;&nbsp;</span>Вывод</a></span></li></ul></div>"
   ]
  },
  {
   "cell_type": "markdown",
   "metadata": {},
   "source": [
    "# Исследование поведения пользователей мобильного приложения по продаже продуктов питания"
   ]
  },
  {
   "cell_type": "markdown",
   "metadata": {},
   "source": [
    "У нас есть данные по стартапу, который продаёт продукты питания. Нужно разобраться, как ведут себя пользователи нашего мобильного приложения. Для этого мы изучим воронку продаж и узнаем, как пользователи доходят до покупки.\n",
    "После этого изучим результаты A/A/B-эксперимента по изменению шрифтов"
   ]
  },
  {
   "cell_type": "markdown",
   "metadata": {},
   "source": [
    "## Открытие файла с данными и изучение общей информации"
   ]
  },
  {
   "cell_type": "code",
   "execution_count": 1,
   "metadata": {},
   "outputs": [],
   "source": [
    "#импорт библиотек\n",
    "import pandas as pd\n",
    "import datetime as dt\n",
    "import numpy as np\n",
    "import math as mth\n",
    "import matplotlib.pyplot as plt\n",
    "import seaborn as sns\n",
    "from scipy import stats as st\n",
    "from pandas.plotting import register_matplotlib_converters\n",
    "#pd.set_option(\"max_colwidth\", -1)"
   ]
  },
  {
   "cell_type": "code",
   "execution_count": 2,
   "metadata": {},
   "outputs": [],
   "source": [
    "app = pd.read_csv('/datasets/logs_exp.csv', '\\t')"
   ]
  },
  {
   "cell_type": "code",
   "execution_count": 3,
   "metadata": {},
   "outputs": [],
   "source": [
    "# создаем функцию для автоматизации просмотра основных сведений\n",
    "def information(df):\n",
    "    return(\n",
    "    df.info(),\n",
    "    display('5 cлучайных строк', df.sample(5)),\n",
    "    display('Процент пропусков', round(df.isna().mean()*100, 1)),\n",
    "    display('Количество дубликатов', df.duplicated().sum())\n",
    "    )"
   ]
  },
  {
   "cell_type": "code",
   "execution_count": 4,
   "metadata": {},
   "outputs": [
    {
     "name": "stdout",
     "output_type": "stream",
     "text": [
      "<class 'pandas.core.frame.DataFrame'>\n",
      "RangeIndex: 244126 entries, 0 to 244125\n",
      "Data columns (total 4 columns):\n",
      "EventName         244126 non-null object\n",
      "DeviceIDHash      244126 non-null int64\n",
      "EventTimestamp    244126 non-null int64\n",
      "ExpId             244126 non-null int64\n",
      "dtypes: int64(3), object(1)\n",
      "memory usage: 7.5+ MB\n"
     ]
    },
    {
     "data": {
      "text/plain": [
       "'5 cлучайных строк'"
      ]
     },
     "metadata": {},
     "output_type": "display_data"
    },
    {
     "data": {
      "text/html": [
       "<div>\n",
       "<style scoped>\n",
       "    .dataframe tbody tr th:only-of-type {\n",
       "        vertical-align: middle;\n",
       "    }\n",
       "\n",
       "    .dataframe tbody tr th {\n",
       "        vertical-align: top;\n",
       "    }\n",
       "\n",
       "    .dataframe thead th {\n",
       "        text-align: right;\n",
       "    }\n",
       "</style>\n",
       "<table border=\"1\" class=\"dataframe\">\n",
       "  <thead>\n",
       "    <tr style=\"text-align: right;\">\n",
       "      <th></th>\n",
       "      <th>EventName</th>\n",
       "      <th>DeviceIDHash</th>\n",
       "      <th>EventTimestamp</th>\n",
       "      <th>ExpId</th>\n",
       "    </tr>\n",
       "  </thead>\n",
       "  <tbody>\n",
       "    <tr>\n",
       "      <td>144651</td>\n",
       "      <td>MainScreenAppear</td>\n",
       "      <td>4836632796545778135</td>\n",
       "      <td>1564985331</td>\n",
       "      <td>248</td>\n",
       "    </tr>\n",
       "    <tr>\n",
       "      <td>84730</td>\n",
       "      <td>OffersScreenAppear</td>\n",
       "      <td>40352430792344971</td>\n",
       "      <td>1564826131</td>\n",
       "      <td>246</td>\n",
       "    </tr>\n",
       "    <tr>\n",
       "      <td>133958</td>\n",
       "      <td>PaymentScreenSuccessful</td>\n",
       "      <td>4032187885805083585</td>\n",
       "      <td>1564938418</td>\n",
       "      <td>246</td>\n",
       "    </tr>\n",
       "    <tr>\n",
       "      <td>220704</td>\n",
       "      <td>OffersScreenAppear</td>\n",
       "      <td>3436171726922480780</td>\n",
       "      <td>1565167866</td>\n",
       "      <td>248</td>\n",
       "    </tr>\n",
       "    <tr>\n",
       "      <td>63188</td>\n",
       "      <td>CartScreenAppear</td>\n",
       "      <td>6752579264606989757</td>\n",
       "      <td>1564759620</td>\n",
       "      <td>247</td>\n",
       "    </tr>\n",
       "  </tbody>\n",
       "</table>\n",
       "</div>"
      ],
      "text/plain": [
       "                      EventName         DeviceIDHash  EventTimestamp  ExpId\n",
       "144651         MainScreenAppear  4836632796545778135      1564985331    248\n",
       "84730        OffersScreenAppear    40352430792344971      1564826131    246\n",
       "133958  PaymentScreenSuccessful  4032187885805083585      1564938418    246\n",
       "220704       OffersScreenAppear  3436171726922480780      1565167866    248\n",
       "63188          CartScreenAppear  6752579264606989757      1564759620    247"
      ]
     },
     "metadata": {},
     "output_type": "display_data"
    },
    {
     "data": {
      "text/plain": [
       "'Процент пропусков'"
      ]
     },
     "metadata": {},
     "output_type": "display_data"
    },
    {
     "data": {
      "text/plain": [
       "EventName         0.0\n",
       "DeviceIDHash      0.0\n",
       "EventTimestamp    0.0\n",
       "ExpId             0.0\n",
       "dtype: float64"
      ]
     },
     "metadata": {},
     "output_type": "display_data"
    },
    {
     "data": {
      "text/plain": [
       "'Количество дубликатов'"
      ]
     },
     "metadata": {},
     "output_type": "display_data"
    },
    {
     "data": {
      "text/plain": [
       "413"
      ]
     },
     "metadata": {},
     "output_type": "display_data"
    },
    {
     "data": {
      "text/plain": [
       "(None, None, None, None)"
      ]
     },
     "execution_count": 4,
     "metadata": {},
     "output_type": "execute_result"
    }
   ],
   "source": [
    "information(app)"
   ]
  },
  {
   "cell_type": "markdown",
   "metadata": {},
   "source": [
    "**Вывод**\n",
    "В нашем датасете 244 126 записи.Каждая запись в логе — это действие пользователя, или событие.\n",
    "\n",
    "\n",
    "* EventName — название события;\n",
    "* DeviceIDHash — уникальный идентификатор пользователя;\n",
    "* EventTimestamp — время события;\n",
    "* ExpId — номер эксперимента: 246 и 247 — контрольные группы, а 248 — экспериментальная.\n",
    "\n",
    "В исходных данных пропусков не обнаружено, но есть 413 дубликатов."
   ]
  },
  {
   "cell_type": "markdown",
   "metadata": {},
   "source": [
    "## Подготовка данных"
   ]
  },
  {
   "cell_type": "markdown",
   "metadata": {},
   "source": [
    "Заменим названия столбцов, проверим пропуски и типы данных. После этого добавим столбец даты и времени, а также отдельный столбец дат;"
   ]
  },
  {
   "cell_type": "code",
   "execution_count": 6,
   "metadata": {},
   "outputs": [],
   "source": [
    "#замена названия столбцов другим методом\n",
    "app = app.rename(columns={'EventName': 'event','DeviceIDHash': 'id', 'EventTimestamp': 'time_stamp', 'ExpId': 'exp_id' })"
   ]
  },
  {
   "cell_type": "code",
   "execution_count": 7,
   "metadata": {},
   "outputs": [],
   "source": [
    "#Сократим объем данных\n",
    "\n",
    "app['id'] = app['id'].astype('int32')\n",
    "app['time_stamp'] = app['time_stamp'].astype('int32')\n",
    "app['exp_id'] = app['exp_id'].astype('int16')"
   ]
  },
  {
   "cell_type": "code",
   "execution_count": 8,
   "metadata": {},
   "outputs": [
    {
     "data": {
      "text/plain": [
       "413"
      ]
     },
     "execution_count": 8,
     "metadata": {},
     "output_type": "execute_result"
    }
   ],
   "source": [
    "#количество полных дубликатов\n",
    "app.duplicated().sum()"
   ]
  },
  {
   "cell_type": "code",
   "execution_count": 9,
   "metadata": {},
   "outputs": [
    {
     "data": {
      "text/plain": [
       "0.0016917493425526163"
      ]
     },
     "execution_count": 9,
     "metadata": {},
     "output_type": "execute_result"
    }
   ],
   "source": [
    "# процент дубликтов\n",
    "app.duplicated().mean()"
   ]
  },
  {
   "cell_type": "code",
   "execution_count": 10,
   "metadata": {},
   "outputs": [
    {
     "data": {
      "text/plain": [
       "0"
      ]
     },
     "execution_count": 10,
     "metadata": {},
     "output_type": "execute_result"
    }
   ],
   "source": [
    "# удаляем дубликаты и делаем повторную проверку\n",
    "app = app.drop_duplicates().reset_index(drop = True)\n",
    "app.duplicated().sum()"
   ]
  },
  {
   "cell_type": "code",
   "execution_count": 11,
   "metadata": {},
   "outputs": [
    {
     "name": "stdout",
     "output_type": "stream",
     "text": [
      "<class 'pandas.core.frame.DataFrame'>\n",
      "RangeIndex: 243713 entries, 0 to 243712\n",
      "Data columns (total 4 columns):\n",
      "event         243713 non-null object\n",
      "id            243713 non-null int32\n",
      "time_stamp    243713 non-null int32\n",
      "exp_id        243713 non-null int16\n",
      "dtypes: int16(1), int32(2), object(1)\n",
      "memory usage: 4.2+ MB\n"
     ]
    }
   ],
   "source": [
    "app.info()"
   ]
  },
  {
   "cell_type": "code",
   "execution_count": 12,
   "metadata": {},
   "outputs": [],
   "source": [
    "# добавление столбца даты и времени\n",
    "app['time'] = pd.to_datetime(app['time_stamp'], unit = 's', errors='ignore')"
   ]
  },
  {
   "cell_type": "code",
   "execution_count": 13,
   "metadata": {},
   "outputs": [],
   "source": [
    "app['data'] = app['time'].dt.date"
   ]
  },
  {
   "cell_type": "code",
   "execution_count": 14,
   "metadata": {},
   "outputs": [
    {
     "data": {
      "text/html": [
       "<div>\n",
       "<style scoped>\n",
       "    .dataframe tbody tr th:only-of-type {\n",
       "        vertical-align: middle;\n",
       "    }\n",
       "\n",
       "    .dataframe tbody tr th {\n",
       "        vertical-align: top;\n",
       "    }\n",
       "\n",
       "    .dataframe thead th {\n",
       "        text-align: right;\n",
       "    }\n",
       "</style>\n",
       "<table border=\"1\" class=\"dataframe\">\n",
       "  <thead>\n",
       "    <tr style=\"text-align: right;\">\n",
       "      <th></th>\n",
       "      <th>event</th>\n",
       "      <th>id</th>\n",
       "      <th>time_stamp</th>\n",
       "      <th>exp_id</th>\n",
       "      <th>time</th>\n",
       "      <th>data</th>\n",
       "    </tr>\n",
       "  </thead>\n",
       "  <tbody>\n",
       "    <tr>\n",
       "      <td>0</td>\n",
       "      <td>MainScreenAppear</td>\n",
       "      <td>1273118545</td>\n",
       "      <td>1564029816</td>\n",
       "      <td>246</td>\n",
       "      <td>2019-07-25 04:43:36</td>\n",
       "      <td>2019-07-25</td>\n",
       "    </tr>\n",
       "    <tr>\n",
       "      <td>1</td>\n",
       "      <td>MainScreenAppear</td>\n",
       "      <td>-1791134766</td>\n",
       "      <td>1564053102</td>\n",
       "      <td>246</td>\n",
       "      <td>2019-07-25 11:11:42</td>\n",
       "      <td>2019-07-25</td>\n",
       "    </tr>\n",
       "    <tr>\n",
       "      <td>2</td>\n",
       "      <td>PaymentScreenSuccessful</td>\n",
       "      <td>-848034235</td>\n",
       "      <td>1564054127</td>\n",
       "      <td>248</td>\n",
       "      <td>2019-07-25 11:28:47</td>\n",
       "      <td>2019-07-25</td>\n",
       "    </tr>\n",
       "    <tr>\n",
       "      <td>3</td>\n",
       "      <td>CartScreenAppear</td>\n",
       "      <td>-848034235</td>\n",
       "      <td>1564054127</td>\n",
       "      <td>248</td>\n",
       "      <td>2019-07-25 11:28:47</td>\n",
       "      <td>2019-07-25</td>\n",
       "    </tr>\n",
       "    <tr>\n",
       "      <td>4</td>\n",
       "      <td>PaymentScreenSuccessful</td>\n",
       "      <td>-59852769</td>\n",
       "      <td>1564055322</td>\n",
       "      <td>248</td>\n",
       "      <td>2019-07-25 11:48:42</td>\n",
       "      <td>2019-07-25</td>\n",
       "    </tr>\n",
       "  </tbody>\n",
       "</table>\n",
       "</div>"
      ],
      "text/plain": [
       "                     event          id  time_stamp  exp_id  \\\n",
       "0         MainScreenAppear  1273118545  1564029816     246   \n",
       "1         MainScreenAppear -1791134766  1564053102     246   \n",
       "2  PaymentScreenSuccessful  -848034235  1564054127     248   \n",
       "3         CartScreenAppear  -848034235  1564054127     248   \n",
       "4  PaymentScreenSuccessful   -59852769  1564055322     248   \n",
       "\n",
       "                 time        data  \n",
       "0 2019-07-25 04:43:36  2019-07-25  \n",
       "1 2019-07-25 11:11:42  2019-07-25  \n",
       "2 2019-07-25 11:28:47  2019-07-25  \n",
       "3 2019-07-25 11:28:47  2019-07-25  \n",
       "4 2019-07-25 11:48:42  2019-07-25  "
      ]
     },
     "execution_count": 14,
     "metadata": {},
     "output_type": "execute_result"
    }
   ],
   "source": [
    "app.head()"
   ]
  },
  {
   "cell_type": "markdown",
   "metadata": {},
   "source": [
    "**Вывод**\n",
    "На этапе подготовки данных мы удалили 413 дубликатов, добавили столбцы даты со временем, а также отдельный только с датой."
   ]
  },
  {
   "cell_type": "markdown",
   "metadata": {},
   "source": [
    "## Изучение и проверка данных"
   ]
  },
  {
   "cell_type": "markdown",
   "metadata": {},
   "source": [
    "На данном этапе ответим на вопросы:\n",
    "* Сколько всего событий в логе?\n",
    "* Сколько всего пользователей в логе?\n",
    "* Сколько в среднем событий приходится на пользователя?"
   ]
  },
  {
   "cell_type": "code",
   "execution_count": 15,
   "metadata": {},
   "outputs": [
    {
     "data": {
      "text/plain": [
       "243713"
      ]
     },
     "execution_count": 15,
     "metadata": {},
     "output_type": "execute_result"
    }
   ],
   "source": [
    "# количество событий в логе\n",
    "app['id'].count()"
   ]
  },
  {
   "cell_type": "markdown",
   "metadata": {},
   "source": [
    "Отдельно посмотрим количество событий каждого типа"
   ]
  },
  {
   "cell_type": "code",
   "execution_count": 16,
   "metadata": {},
   "outputs": [
    {
     "data": {
      "text/plain": [
       "7551"
      ]
     },
     "execution_count": 16,
     "metadata": {},
     "output_type": "execute_result"
    }
   ],
   "source": [
    "# количество пользователей в логе\n",
    "all_id = app['id'].nunique()\n",
    "all_id"
   ]
  },
  {
   "cell_type": "code",
   "execution_count": 17,
   "metadata": {},
   "outputs": [
    {
     "data": {
      "text/plain": [
       "32.0"
      ]
     },
     "execution_count": 17,
     "metadata": {},
     "output_type": "execute_result"
    }
   ],
   "source": [
    "# среднее количество событий на пользователя\n",
    "app.groupby('id')['event'].count().mean().round()"
   ]
  },
  {
   "cell_type": "code",
   "execution_count": 18,
   "metadata": {},
   "outputs": [
    {
     "data": {
      "text/plain": [
       "'Минимальная дата в наших данных - 2019-07-25 04:43:36, максимальная - 2019-08-07 21:15:17 '"
      ]
     },
     "execution_count": 18,
     "metadata": {},
     "output_type": "execute_result"
    }
   ],
   "source": [
    "# исследование дат\n",
    "# Данными за какой период вы располагаете? Найдите максимальную и минимальную дату. Постройте гистограмму по дате и времени. \n",
    "'Минимальная дата в наших данных - {}, максимальная - {} '.format(app['time'].min(), app['time'].max())"
   ]
  },
  {
   "cell_type": "code",
   "execution_count": 19,
   "metadata": {
    "scrolled": false
   },
   "outputs": [
    {
     "data": {
      "image/png": "[encoded data removed]",
      "text/plain": [
       "<Figure size 864x432 with 1 Axes>"
      ]
     },
     "metadata": {
      "needs_background": "light"
     },
     "output_type": "display_data"
    }
   ],
   "source": [
    "# график количества событий по дням\n",
    "events_per_day = (app\n",
    "                  .pivot_table(index='data', values='event', aggfunc='count')\n",
    "                  .plot(y='event', kind='bar', grid=True, figsize=(12, 6))\n",
    "                 )\n",
    "plt.title(\"Количество событий по дням\") \n",
    "plt.xlabel(\"Дата\")\n",
    "plt.ylabel(\"Количество\") \n",
    "plt.show()"
   ]
  },
  {
   "cell_type": "markdown",
   "metadata": {},
   "source": [
    "**Начиная с 1 августа 2019 года количество событий резко возрастает. С этого периода и будем далее изучать данные**"
   ]
  },
  {
   "cell_type": "code",
   "execution_count": 20,
   "metadata": {},
   "outputs": [],
   "source": [
    "# отсекаем данные меньше 1 августа\n",
    "app_new = app.query('time >= \"2019-08-01 00:00:00\"')"
   ]
  },
  {
   "cell_type": "code",
   "execution_count": 21,
   "metadata": {},
   "outputs": [
    {
     "data": {
      "text/plain": [
       "0.99"
      ]
     },
     "execution_count": 21,
     "metadata": {},
     "output_type": "execute_result"
    }
   ],
   "source": [
    "# количество событий в новом логе\n",
    "(app_new['id'].count()/app['id'].count()).round(2)"
   ]
  },
  {
   "cell_type": "code",
   "execution_count": 22,
   "metadata": {},
   "outputs": [
    {
     "data": {
      "text/plain": [
       "7534"
      ]
     },
     "execution_count": 22,
     "metadata": {},
     "output_type": "execute_result"
    }
   ],
   "source": [
    "#количество уникальных пользователей в новом логе\n",
    "all_id_new = app_new['id'].nunique()\n",
    "all_id_new"
   ]
  },
  {
   "cell_type": "markdown",
   "metadata": {},
   "source": [
    "После отбора событий после 1 августа у нас осталось 99% данных"
   ]
  },
  {
   "cell_type": "markdown",
   "metadata": {},
   "source": [
    "Проверим, что у нас есть пользователи из всех трёх экспериментальных групп."
   ]
  },
  {
   "cell_type": "code",
   "execution_count": 23,
   "metadata": {},
   "outputs": [
    {
     "data": {
      "text/html": [
       "<div>\n",
       "<style scoped>\n",
       "    .dataframe tbody tr th:only-of-type {\n",
       "        vertical-align: middle;\n",
       "    }\n",
       "\n",
       "    .dataframe tbody tr th {\n",
       "        vertical-align: top;\n",
       "    }\n",
       "\n",
       "    .dataframe thead th {\n",
       "        text-align: right;\n",
       "    }\n",
       "</style>\n",
       "<table border=\"1\" class=\"dataframe\">\n",
       "  <thead>\n",
       "    <tr style=\"text-align: right;\">\n",
       "      <th></th>\n",
       "      <th>exp_group</th>\n",
       "      <th>count</th>\n",
       "    </tr>\n",
       "  </thead>\n",
       "  <tbody>\n",
       "    <tr>\n",
       "      <td>0</td>\n",
       "      <td>248</td>\n",
       "      <td>2537</td>\n",
       "    </tr>\n",
       "    <tr>\n",
       "      <td>1</td>\n",
       "      <td>247</td>\n",
       "      <td>2513</td>\n",
       "    </tr>\n",
       "    <tr>\n",
       "      <td>2</td>\n",
       "      <td>246</td>\n",
       "      <td>2484</td>\n",
       "    </tr>\n",
       "  </tbody>\n",
       "</table>\n",
       "</div>"
      ],
      "text/plain": [
       "   exp_group  count\n",
       "0        248   2537\n",
       "1        247   2513\n",
       "2        246   2484"
      ]
     },
     "execution_count": 23,
     "metadata": {},
     "output_type": "execute_result"
    }
   ],
   "source": [
    "exp_count = app_new.groupby('exp_id')['id'].nunique().sort_values(ascending=False).reset_index()\n",
    "exp_count.columns = ['exp_group', 'count']\n",
    "exp_count"
   ]
  },
  {
   "cell_type": "markdown",
   "metadata": {},
   "source": [
    "## Изучение воронки событий"
   ]
  },
  {
   "cell_type": "markdown",
   "metadata": {},
   "source": [
    "В ходе изечения воронки событий ответим на вопросы:\n",
    "\n",
    "* На каком шаге теряете больше всего пользователей\n",
    "* Какая доля пользователей доходит от первого события до оплаты"
   ]
  },
  {
   "cell_type": "code",
   "execution_count": 24,
   "metadata": {},
   "outputs": [
    {
     "data": {
      "text/html": [
       "<div>\n",
       "<style scoped>\n",
       "    .dataframe tbody tr th:only-of-type {\n",
       "        vertical-align: middle;\n",
       "    }\n",
       "\n",
       "    .dataframe tbody tr th {\n",
       "        vertical-align: top;\n",
       "    }\n",
       "\n",
       "    .dataframe thead th {\n",
       "        text-align: right;\n",
       "    }\n",
       "</style>\n",
       "<table border=\"1\" class=\"dataframe\">\n",
       "  <thead>\n",
       "    <tr style=\"text-align: right;\">\n",
       "      <th></th>\n",
       "      <th>event_name</th>\n",
       "      <th>count</th>\n",
       "    </tr>\n",
       "  </thead>\n",
       "  <tbody>\n",
       "    <tr>\n",
       "      <td>0</td>\n",
       "      <td>MainScreenAppear</td>\n",
       "      <td>7419</td>\n",
       "    </tr>\n",
       "    <tr>\n",
       "      <td>1</td>\n",
       "      <td>OffersScreenAppear</td>\n",
       "      <td>4593</td>\n",
       "    </tr>\n",
       "    <tr>\n",
       "      <td>2</td>\n",
       "      <td>CartScreenAppear</td>\n",
       "      <td>3734</td>\n",
       "    </tr>\n",
       "    <tr>\n",
       "      <td>3</td>\n",
       "      <td>PaymentScreenSuccessful</td>\n",
       "      <td>3539</td>\n",
       "    </tr>\n",
       "    <tr>\n",
       "      <td>4</td>\n",
       "      <td>Tutorial</td>\n",
       "      <td>840</td>\n",
       "    </tr>\n",
       "  </tbody>\n",
       "</table>\n",
       "</div>"
      ],
      "text/plain": [
       "                event_name  count\n",
       "0         MainScreenAppear   7419\n",
       "1       OffersScreenAppear   4593\n",
       "2         CartScreenAppear   3734\n",
       "3  PaymentScreenSuccessful   3539\n",
       "4                 Tutorial    840"
      ]
     },
     "execution_count": 24,
     "metadata": {},
     "output_type": "execute_result"
    }
   ],
   "source": [
    "# события в логах\n",
    "events = app_new.groupby('event')['id'].nunique().sort_values(ascending=False).reset_index()\n",
    "events.columns = ['event_name', 'count']\n",
    "events"
   ]
  },
  {
   "cell_type": "code",
   "execution_count": 25,
   "metadata": {},
   "outputs": [],
   "source": [
    "#функция для графиков\n",
    "def graph_events(df, values, index):\n",
    "    df = df\n",
    "    \n",
    "    plt.figure(figsize=(12,6))\n",
    "    plt.bar(df[index], df[values])\n",
    "    for i, val in enumerate(df[values].values):\n",
    "        (\n",
    "        plt.text(i, val, val, horizontalalignment='center', verticalalignment='bottom', \n",
    "                 fontdict={'fontweight':500, 'size':12})\n",
    "        )    \n",
    "    plt.title('Количество ' + index) \n",
    "    plt.xlabel(index)\n",
    "    plt.ylabel(\"Коичество пользователей\") \n",
    "    plt.show()"
   ]
  },
  {
   "cell_type": "code",
   "execution_count": 26,
   "metadata": {},
   "outputs": [
    {
     "data": {
      "image/png": "[encoded data removed]",
      "text/plain": [
       "<Figure size 864x432 with 1 Axes>"
      ]
     },
     "metadata": {
      "needs_background": "light"
     },
     "output_type": "display_data"
    }
   ],
   "source": [
    "graph_events(events, 'count', 'event_name')"
   ]
  },
  {
   "cell_type": "markdown",
   "metadata": {},
   "source": [
    "Чтобы посчитать долю пользователей, которые хоть раз совершали событие, разделим количество пользователей на каждом шаге на полное кодичество уникальных пользователей в app_new (all_id_new)"
   ]
  },
  {
   "cell_type": "code",
   "execution_count": 27,
   "metadata": {},
   "outputs": [
    {
     "data": {
      "text/html": [
       "<div>\n",
       "<style scoped>\n",
       "    .dataframe tbody tr th:only-of-type {\n",
       "        vertical-align: middle;\n",
       "    }\n",
       "\n",
       "    .dataframe tbody tr th {\n",
       "        vertical-align: top;\n",
       "    }\n",
       "\n",
       "    .dataframe thead th {\n",
       "        text-align: right;\n",
       "    }\n",
       "</style>\n",
       "<table border=\"1\" class=\"dataframe\">\n",
       "  <thead>\n",
       "    <tr style=\"text-align: right;\">\n",
       "      <th></th>\n",
       "      <th>event_name</th>\n",
       "      <th>count</th>\n",
       "      <th>persent_of_total</th>\n",
       "    </tr>\n",
       "  </thead>\n",
       "  <tbody>\n",
       "    <tr>\n",
       "      <td>0</td>\n",
       "      <td>MainScreenAppear</td>\n",
       "      <td>7419</td>\n",
       "      <td>0.98</td>\n",
       "    </tr>\n",
       "    <tr>\n",
       "      <td>1</td>\n",
       "      <td>OffersScreenAppear</td>\n",
       "      <td>4593</td>\n",
       "      <td>0.61</td>\n",
       "    </tr>\n",
       "    <tr>\n",
       "      <td>2</td>\n",
       "      <td>CartScreenAppear</td>\n",
       "      <td>3734</td>\n",
       "      <td>0.50</td>\n",
       "    </tr>\n",
       "    <tr>\n",
       "      <td>3</td>\n",
       "      <td>PaymentScreenSuccessful</td>\n",
       "      <td>3539</td>\n",
       "      <td>0.47</td>\n",
       "    </tr>\n",
       "    <tr>\n",
       "      <td>4</td>\n",
       "      <td>Tutorial</td>\n",
       "      <td>840</td>\n",
       "      <td>0.11</td>\n",
       "    </tr>\n",
       "  </tbody>\n",
       "</table>\n",
       "</div>"
      ],
      "text/plain": [
       "                event_name  count  persent_of_total\n",
       "0         MainScreenAppear   7419              0.98\n",
       "1       OffersScreenAppear   4593              0.61\n",
       "2         CartScreenAppear   3734              0.50\n",
       "3  PaymentScreenSuccessful   3539              0.47\n",
       "4                 Tutorial    840              0.11"
      ]
     },
     "execution_count": 27,
     "metadata": {},
     "output_type": "execute_result"
    }
   ],
   "source": [
    "#процент пользователей от общего числа\n",
    "events['persent_of_total'] = round(events['count'] / all_id_new, 2)\n",
    "events"
   ]
  },
  {
   "cell_type": "markdown",
   "metadata": {},
   "source": [
    "Здесь мы можем сказать, что 98% всех пользователей просматривают начальный экран, 61% доходит до товара, 50% от общего числа переходят в корзину и 47% успешно оплачивают. \n",
    "Стоит отметить, что 11% от всех пользователей используют руководство пользователя."
   ]
  },
  {
   "cell_type": "markdown",
   "metadata": {},
   "source": [
    "Посмотрим как выглядит воронка событий для каждой из групп отдельно. "
   ]
  },
  {
   "cell_type": "code",
   "execution_count": 28,
   "metadata": {},
   "outputs": [
    {
     "data": {
      "text/plain": [
       "array([246, 247, 248])"
      ]
     },
     "execution_count": 28,
     "metadata": {},
     "output_type": "execute_result"
    }
   ],
   "source": [
    "#список уникальных значений экспериментов\n",
    "app_new['exp_id'].unique()"
   ]
  },
  {
   "cell_type": "code",
   "execution_count": 29,
   "metadata": {},
   "outputs": [
    {
     "name": "stdout",
     "output_type": "stream",
     "text": [
      "246 группа\n"
     ]
    },
    {
     "data": {
      "image/png": "[encoded data removed]",
      "text/plain": [
       "<Figure size 864x432 with 1 Axes>"
      ]
     },
     "metadata": {
      "needs_background": "light"
     },
     "output_type": "display_data"
    },
    {
     "name": "stdout",
     "output_type": "stream",
     "text": [
      "247 группа\n"
     ]
    },
    {
     "data": {
      "image/png": "[encoded data removed]",
      "text/plain": [
       "<Figure size 864x432 with 1 Axes>"
      ]
     },
     "metadata": {
      "needs_background": "light"
     },
     "output_type": "display_data"
    },
    {
     "name": "stdout",
     "output_type": "stream",
     "text": [
      "248 группа\n"
     ]
    },
    {
     "data": {
      "image/png": "[encoded data removed]",
      "text/plain": [
       "<Figure size 864x432 with 1 Axes>"
      ]
     },
     "metadata": {
      "needs_background": "light"
     },
     "output_type": "display_data"
    }
   ],
   "source": [
    "for i in app_new['exp_id'].unique():\n",
    "    events_i = app_new.query('exp_id == @i').groupby('event')['id'].nunique().sort_values(ascending=False).reset_index()\n",
    "    events_i.columns = ['event_name', 'count']\n",
    "    print(i, 'группа')\n",
    "    graph_events(events_i, 'count', 'event_name')\n"
   ]
  },
  {
   "cell_type": "markdown",
   "metadata": {},
   "source": [
    "Все события происходят в следующем порядке:  \n",
    "\n",
    "1) появление главного экрана (MainScreenAppear)  \n",
    "2) появление экрана предложения/товара (OffersScreenAppear)  \n",
    "3) появление экрана корзины (CartScreenAppear)  \n",
    "4) появление экрана успешной оплаты (PaymentScreenSuccessful)  \n",
    "5) появление руководства пользователя (Tutoria)\n",
    "\n",
    "На мой взгляд, рассмотрение этапа загрузки руководства не является приоритеным в данном исследовании. Отдельно можно посмотреть потом в какой момент времени обращаются к руководству, таких пользователей 11%.\n",
    "Сотредоточимся на цепочке событий: Гланый экран - Товар - Корзина - Успешная оплата."
   ]
  },
  {
   "cell_type": "markdown",
   "metadata": {},
   "source": [
    "По воронке событий посчитаем, какая доля пользователей проходит на следующий шаг воронки от числа пользователей на предыдущем. "
   ]
  },
  {
   "cell_type": "code",
   "execution_count": 30,
   "metadata": {},
   "outputs": [],
   "source": [
    "# количество пользователей на каждом шаге воронки\n",
    "events['persent_of_previous'] = 1 + round(events['count'].pct_change(), 2)\n"
   ]
  },
  {
   "cell_type": "code",
   "execution_count": 31,
   "metadata": {},
   "outputs": [
    {
     "data": {
      "text/html": [
       "<div>\n",
       "<style scoped>\n",
       "    .dataframe tbody tr th:only-of-type {\n",
       "        vertical-align: middle;\n",
       "    }\n",
       "\n",
       "    .dataframe tbody tr th {\n",
       "        vertical-align: top;\n",
       "    }\n",
       "\n",
       "    .dataframe thead th {\n",
       "        text-align: right;\n",
       "    }\n",
       "</style>\n",
       "<table border=\"1\" class=\"dataframe\">\n",
       "  <thead>\n",
       "    <tr style=\"text-align: right;\">\n",
       "      <th></th>\n",
       "      <th>event_name</th>\n",
       "      <th>count</th>\n",
       "      <th>persent_of_total</th>\n",
       "      <th>persent_of_previous</th>\n",
       "    </tr>\n",
       "  </thead>\n",
       "  <tbody>\n",
       "    <tr>\n",
       "      <td>0</td>\n",
       "      <td>MainScreenAppear</td>\n",
       "      <td>7419</td>\n",
       "      <td>0.98</td>\n",
       "      <td>NaN</td>\n",
       "    </tr>\n",
       "    <tr>\n",
       "      <td>1</td>\n",
       "      <td>OffersScreenAppear</td>\n",
       "      <td>4593</td>\n",
       "      <td>0.61</td>\n",
       "      <td>0.62</td>\n",
       "    </tr>\n",
       "    <tr>\n",
       "      <td>2</td>\n",
       "      <td>CartScreenAppear</td>\n",
       "      <td>3734</td>\n",
       "      <td>0.50</td>\n",
       "      <td>0.81</td>\n",
       "    </tr>\n",
       "    <tr>\n",
       "      <td>3</td>\n",
       "      <td>PaymentScreenSuccessful</td>\n",
       "      <td>3539</td>\n",
       "      <td>0.47</td>\n",
       "      <td>0.95</td>\n",
       "    </tr>\n",
       "    <tr>\n",
       "      <td>4</td>\n",
       "      <td>Tutorial</td>\n",
       "      <td>840</td>\n",
       "      <td>0.11</td>\n",
       "      <td>0.24</td>\n",
       "    </tr>\n",
       "  </tbody>\n",
       "</table>\n",
       "</div>"
      ],
      "text/plain": [
       "                event_name  count  persent_of_total  persent_of_previous\n",
       "0         MainScreenAppear   7419              0.98                  NaN\n",
       "1       OffersScreenAppear   4593              0.61                 0.62\n",
       "2         CartScreenAppear   3734              0.50                 0.81\n",
       "3  PaymentScreenSuccessful   3539              0.47                 0.95\n",
       "4                 Tutorial    840              0.11                 0.24"
      ]
     },
     "execution_count": 31,
     "metadata": {},
     "output_type": "execute_result"
    }
   ],
   "source": [
    "events"
   ]
  },
  {
   "cell_type": "markdown",
   "metadata": {},
   "source": [
    "При рассмотрении конверсии от этапа к этапу можно сказать, что все теже 98%  пользователей доходят до главного экрана, 62% от них переходят к товара, далее 81% от этого количества пользователей идет в корзину и 95% далее успешно оплачивают товар. "
   ]
  },
  {
   "cell_type": "markdown",
   "metadata": {},
   "source": [
    "**Вывод**\n",
    "\n",
    "По проведенному анализу воронки продаж можно сказать, что 47% пользователей от общего числа доходят до этапа успешной оплаты. \n",
    "Стоит обратить внимание, что при переходе от загрузки главного экрана до этапа товара теряется 38% пользователей"
   ]
  },
  {
   "cell_type": "markdown",
   "metadata": {},
   "source": [
    "##  Результаты эксперимента"
   ]
  },
  {
   "cell_type": "markdown",
   "metadata": {},
   "source": [
    "246 и 247 — контрольные группы, а 248 — экспериментальная. Посмотрим количество пользователей в каждой группе еще раз."
   ]
  },
  {
   "cell_type": "code",
   "execution_count": 32,
   "metadata": {},
   "outputs": [
    {
     "data": {
      "text/html": [
       "<div>\n",
       "<style scoped>\n",
       "    .dataframe tbody tr th:only-of-type {\n",
       "        vertical-align: middle;\n",
       "    }\n",
       "\n",
       "    .dataframe tbody tr th {\n",
       "        vertical-align: top;\n",
       "    }\n",
       "\n",
       "    .dataframe thead th {\n",
       "        text-align: right;\n",
       "    }\n",
       "</style>\n",
       "<table border=\"1\" class=\"dataframe\">\n",
       "  <thead>\n",
       "    <tr style=\"text-align: right;\">\n",
       "      <th></th>\n",
       "      <th>exp_group</th>\n",
       "      <th>count</th>\n",
       "    </tr>\n",
       "  </thead>\n",
       "  <tbody>\n",
       "    <tr>\n",
       "      <td>0</td>\n",
       "      <td>248</td>\n",
       "      <td>2537</td>\n",
       "    </tr>\n",
       "    <tr>\n",
       "      <td>1</td>\n",
       "      <td>247</td>\n",
       "      <td>2513</td>\n",
       "    </tr>\n",
       "    <tr>\n",
       "      <td>2</td>\n",
       "      <td>246</td>\n",
       "      <td>2484</td>\n",
       "    </tr>\n",
       "  </tbody>\n",
       "</table>\n",
       "</div>"
      ],
      "text/plain": [
       "   exp_group  count\n",
       "0        248   2537\n",
       "1        247   2513\n",
       "2        246   2484"
      ]
     },
     "execution_count": 32,
     "metadata": {},
     "output_type": "execute_result"
    }
   ],
   "source": [
    "exp_count"
   ]
  },
  {
   "cell_type": "code",
   "execution_count": 33,
   "metadata": {},
   "outputs": [],
   "source": [
    "# посчитаем уникальных пользователей в каждом сообытии по всем группам\n",
    "events_246 = app_new.query('exp_id == 246').groupby('event')['id'].nunique().sort_values(ascending=False).reset_index()\n",
    "events_246.columns = ['event_name', '246']\n",
    "\n",
    "events_247 = app_new.query('exp_id == 247').groupby('event')['id'].nunique().sort_values(ascending=False).reset_index()\n",
    "events_247.columns = ['event_name', '247']\n",
    "\n",
    "events_248 = app_new.query('exp_id == 248').groupby('event')['id'].nunique().sort_values(ascending=False).reset_index()\n",
    "events_248.columns = ['event_name', '248']"
   ]
  },
  {
   "cell_type": "code",
   "execution_count": 34,
   "metadata": {},
   "outputs": [],
   "source": [
    "# сгруппируем все данные в одну таблицу\n",
    "events_by_group = events_246.merge(events_247, on = 'event_name')\n",
    "events_by_group = events_by_group.merge(events_248, on = 'event_name')"
   ]
  },
  {
   "cell_type": "code",
   "execution_count": 35,
   "metadata": {},
   "outputs": [
    {
     "name": "stdout",
     "output_type": "stream",
     "text": [
      "<class 'pandas.core.frame.DataFrame'>\n",
      "RangeIndex: 3 entries, 0 to 2\n",
      "Data columns (total 2 columns):\n",
      "exp_group    3 non-null int64\n",
      "count        3 non-null int64\n",
      "dtypes: int64(2)\n",
      "memory usage: 176.0 bytes\n"
     ]
    }
   ],
   "source": [
    "exp_count.info()"
   ]
  },
  {
   "cell_type": "code",
   "execution_count": 36,
   "metadata": {},
   "outputs": [],
   "source": [
    "# добавляем общее количество в группах\n",
    "events_by_group.loc[5] = ['total', exp_count.loc[2,'count'], \n",
    "                          exp_count.loc[1,'count'], \n",
    "                         exp_count.loc[0,'count']]"
   ]
  },
  {
   "cell_type": "code",
   "execution_count": 37,
   "metadata": {},
   "outputs": [
    {
     "data": {
      "text/plain": [
       "2484"
      ]
     },
     "execution_count": 37,
     "metadata": {},
     "output_type": "execute_result"
    }
   ],
   "source": [
    "exp_count.loc[2,'count']"
   ]
  },
  {
   "cell_type": "code",
   "execution_count": 38,
   "metadata": {},
   "outputs": [
    {
     "data": {
      "text/html": [
       "<div>\n",
       "<style scoped>\n",
       "    .dataframe tbody tr th:only-of-type {\n",
       "        vertical-align: middle;\n",
       "    }\n",
       "\n",
       "    .dataframe tbody tr th {\n",
       "        vertical-align: top;\n",
       "    }\n",
       "\n",
       "    .dataframe thead th {\n",
       "        text-align: right;\n",
       "    }\n",
       "</style>\n",
       "<table border=\"1\" class=\"dataframe\">\n",
       "  <thead>\n",
       "    <tr style=\"text-align: right;\">\n",
       "      <th></th>\n",
       "      <th>event_name</th>\n",
       "      <th>246</th>\n",
       "      <th>247</th>\n",
       "      <th>248</th>\n",
       "    </tr>\n",
       "  </thead>\n",
       "  <tbody>\n",
       "    <tr>\n",
       "      <td>0</td>\n",
       "      <td>MainScreenAppear</td>\n",
       "      <td>2450</td>\n",
       "      <td>2476</td>\n",
       "      <td>2493</td>\n",
       "    </tr>\n",
       "    <tr>\n",
       "      <td>1</td>\n",
       "      <td>OffersScreenAppear</td>\n",
       "      <td>1542</td>\n",
       "      <td>1520</td>\n",
       "      <td>1531</td>\n",
       "    </tr>\n",
       "    <tr>\n",
       "      <td>2</td>\n",
       "      <td>CartScreenAppear</td>\n",
       "      <td>1266</td>\n",
       "      <td>1238</td>\n",
       "      <td>1230</td>\n",
       "    </tr>\n",
       "    <tr>\n",
       "      <td>3</td>\n",
       "      <td>PaymentScreenSuccessful</td>\n",
       "      <td>1200</td>\n",
       "      <td>1158</td>\n",
       "      <td>1181</td>\n",
       "    </tr>\n",
       "    <tr>\n",
       "      <td>4</td>\n",
       "      <td>Tutorial</td>\n",
       "      <td>278</td>\n",
       "      <td>283</td>\n",
       "      <td>279</td>\n",
       "    </tr>\n",
       "    <tr>\n",
       "      <td>5</td>\n",
       "      <td>total</td>\n",
       "      <td>2484</td>\n",
       "      <td>2513</td>\n",
       "      <td>2537</td>\n",
       "    </tr>\n",
       "  </tbody>\n",
       "</table>\n",
       "</div>"
      ],
      "text/plain": [
       "                event_name   246   247   248\n",
       "0         MainScreenAppear  2450  2476  2493\n",
       "1       OffersScreenAppear  1542  1520  1531\n",
       "2         CartScreenAppear  1266  1238  1230\n",
       "3  PaymentScreenSuccessful  1200  1158  1181\n",
       "4                 Tutorial   278   283   279\n",
       "5                    total  2484  2513  2537"
      ]
     },
     "execution_count": 38,
     "metadata": {},
     "output_type": "execute_result"
    }
   ],
   "source": [
    "events_by_group"
   ]
  },
  {
   "cell_type": "markdown",
   "metadata": {},
   "source": [
    "Есть 2 контрольные группы для А/А-эксперимента, чтобы проверить корректность всех механизмов и расчётов, проверим находят ли статистические критерии разницу между выборками 246 и 247.\n",
    "Будем делать проверку гипотезы о равенстве долей (отношения числа пользователей из текущего события, делить на количество пользователей из прошлого ) Z-тестом.\n",
    "\n",
    "Уровень статистической значимости во всех проверках устанавливаем 5%"
   ]
  },
  {
   "cell_type": "code",
   "execution_count": 39,
   "metadata": {},
   "outputs": [],
   "source": [
    "def z_test_for_app(event, group1, group2):\n",
    "    alpha = .05 # критический уровень статистической значимости\n",
    "    successes = np.array([events_by_group[events_by_group['event_name'] == event][group1], \n",
    "              events_by_group[events_by_group['event_name'] == event][group2]])   \n",
    "    trials = np.array([events_by_group[events_by_group['event_name'] == 'total'][group1], \n",
    "              events_by_group[events_by_group['event_name'] == 'total'][group2]])\n",
    "\n",
    "    # пропорция успехов в первой группе:\n",
    "    p1 = successes[0]/trials[0]\n",
    "\n",
    "    # пропорция успехов во второй группе:\n",
    "    p2 = successes[1]/trials[1]\n",
    "\n",
    "    # пропорция успехов в комбинированном датасете:\n",
    "    p_combined = (successes[0] + successes[1]) / (trials[0] + trials[1])\n",
    "\n",
    "    # разница пропорций в датасетах\n",
    "    difference = p1 - p2\n",
    "\n",
    "    # считаем статистику в ст.отклонениях стандартного нормального распределения\n",
    "    z_value = difference / mth.sqrt(p_combined * (1 - p_combined) * (1/trials[0] + 1/trials[1]))\n",
    "\n",
    "    # задаем стандартное нормальное распределение (среднее 0, ст.отклонение 1)\n",
    "    distr = st.norm(0, 1)\n",
    "\n",
    "    # считаем статистику в ст.отклонениях стандартного нормального распределения\n",
    "    z_value = difference / mth.sqrt(\n",
    "    p_combined * (1 - p_combined) * (1 / trials[0] + 1 / trials[1])\n",
    "    )\n",
    "\n",
    "    # задаем стандартное нормальное распределение (среднее 0, ст.отклонение 1)\n",
    "    distr = st.norm(0, 1)\n",
    "    p_value = (1 - distr.cdf(abs(z_value))) * 2\n",
    "\n",
    "    print('p-значение: ', p_value)\n",
    "    print('Событие', event)\n",
    "\n",
    "    if p_value < alpha:\n",
    "        print('Отвергаем нулевую гипотезу: между конверсиями групп', group1, 'и', group2, ' есть значимая разница')\n",
    "    else:\n",
    "        print(\n",
    "        'Не получилось отвергнуть нулевую гипотезу, нет оснований считать конверсии', group1, 'и', group2, 'групп разными'\n",
    "        ) \n",
    "    print('')\n"
   ]
  },
  {
   "cell_type": "code",
   "execution_count": 40,
   "metadata": {},
   "outputs": [
    {
     "data": {
      "text/plain": [
       "array(['Tutorial', 'MainScreenAppear', 'OffersScreenAppear',\n",
       "       'CartScreenAppear', 'PaymentScreenSuccessful'], dtype=object)"
      ]
     },
     "execution_count": 40,
     "metadata": {},
     "output_type": "execute_result"
    }
   ],
   "source": [
    "events_in_app = app_new['event'].unique()\n",
    "events_in_app"
   ]
  },
  {
   "cell_type": "code",
   "execution_count": 41,
   "metadata": {},
   "outputs": [],
   "source": [
    "def cycle_z_test(group1,group2):\n",
    "    for element in events_in_app:\n",
    "        z_test_for_app(element, group1, group2)\n",
    "    "
   ]
  },
  {
   "cell_type": "markdown",
   "metadata": {},
   "source": [
    "### Выборки №246 и №247"
   ]
  },
  {
   "cell_type": "markdown",
   "metadata": {},
   "source": [
    "Сформулируем гипотезы:"
   ]
  },
  {
   "cell_type": "markdown",
   "metadata": {},
   "source": [
    "Проверка №1\n",
    "\n",
    "\n",
    "Нулевая гипотеза (Н0) - конверсия по событию **MainScreenAppear** группы 246 равна конверсии группы 247 (различие конверсий не является статистически значимым).   \n",
    "Альтернативная гипотеза (Н1) - конверсия по событию**MainScreenAppear** группы 246 не равна конверсии группы 247 (разница статистически значима)."
   ]
  },
  {
   "cell_type": "markdown",
   "metadata": {},
   "source": [
    "Проверка №2\n",
    "\n",
    "\n",
    "Нулевая гипотеза (Н0) - конверсия по событию **OffersScreenAppear** группы 246 равна конверсии группы 247 (различие конверсий не является статистически значимым).   \n",
    "Альтернативная гипотеза (Н1) - конверсия по событию**OffersScreenAppear** группы 246 не равна конверсии группы 247 (разница статистически значима)."
   ]
  },
  {
   "cell_type": "markdown",
   "metadata": {},
   "source": [
    "Проверка №3\n",
    "\n",
    "Нулевая гипотеза (Н0) - конверсия по событию **CartScreenAppear** группы 246 равна конверсии группы 247 (различие конверсий не является статистически значимым).   \n",
    "Альтернативная гипотеза (Н1) - конверсия по событию **CartScreenAppear** группы 246 не равна конверсии группы 247 (разница статистически значима)."
   ]
  },
  {
   "cell_type": "markdown",
   "metadata": {},
   "source": [
    "Проверка №4\n",
    "\n",
    "Нулевая гипотеза (Н0) - конверсия по событию **PaymentScreenSuccessful** группы 246 равна конверсии группы 247 (различие конверсий не является статистически значимым).   \n",
    "Альтернативная гипотеза (Н1) - конверсия по событию **PaymentScreenSuccessful** группы 246 не равна конверсии группы 247 (разница статистически значима)."
   ]
  },
  {
   "cell_type": "code",
   "execution_count": 42,
   "metadata": {},
   "outputs": [
    {
     "name": "stdout",
     "output_type": "stream",
     "text": [
      "p-значение:  [0.93769962]\n",
      "Событие Tutorial\n",
      "Не получилось отвергнуть нулевую гипотезу, нет оснований считать конверсии 246 и 247 групп разными\n",
      "\n",
      "p-значение:  [0.75705972]\n",
      "Событие MainScreenAppear\n",
      "Не получилось отвергнуть нулевую гипотезу, нет оснований считать конверсии 246 и 247 групп разными\n",
      "\n",
      "p-значение:  [0.24809546]\n",
      "Событие OffersScreenAppear\n",
      "Не получилось отвергнуть нулевую гипотезу, нет оснований считать конверсии 246 и 247 групп разными\n",
      "\n",
      "p-значение:  [0.22883372]\n",
      "Событие CartScreenAppear\n",
      "Не получилось отвергнуть нулевую гипотезу, нет оснований считать конверсии 246 и 247 групп разными\n",
      "\n",
      "p-значение:  [0.11456679]\n",
      "Событие PaymentScreenSuccessful\n",
      "Не получилось отвергнуть нулевую гипотезу, нет оснований считать конверсии 246 и 247 групп разными\n",
      "\n"
     ]
    }
   ],
   "source": [
    "cycle_z_test('246','247')"
   ]
  },
  {
   "cell_type": "markdown",
   "metadata": {},
   "source": [
    "**Вывод**\n",
    "\n",
    "Для каждого этапа для наших контрольных групп 246 и 247 нулевая гипотеза, что конверсии равны, не была отвергнута. Таким образом у нас нет оснований считать конверсии  этих групп разными. \n",
    "Далее мы можем использовать данные по обеим группам А/А теста для сравнения с экспериментальной 248"
   ]
  },
  {
   "cell_type": "markdown",
   "metadata": {},
   "source": [
    "В дальнейшем для расчетов нам потребуется сравнить результаты с объединенной группой. Сразу добавим столбец со значениями 246+247 групп."
   ]
  },
  {
   "cell_type": "code",
   "execution_count": 43,
   "metadata": {},
   "outputs": [
    {
     "data": {
      "text/html": [
       "<div>\n",
       "<style scoped>\n",
       "    .dataframe tbody tr th:only-of-type {\n",
       "        vertical-align: middle;\n",
       "    }\n",
       "\n",
       "    .dataframe tbody tr th {\n",
       "        vertical-align: top;\n",
       "    }\n",
       "\n",
       "    .dataframe thead th {\n",
       "        text-align: right;\n",
       "    }\n",
       "</style>\n",
       "<table border=\"1\" class=\"dataframe\">\n",
       "  <thead>\n",
       "    <tr style=\"text-align: right;\">\n",
       "      <th></th>\n",
       "      <th>event_name</th>\n",
       "      <th>246</th>\n",
       "      <th>247</th>\n",
       "      <th>248</th>\n",
       "      <th>246+247</th>\n",
       "    </tr>\n",
       "  </thead>\n",
       "  <tbody>\n",
       "    <tr>\n",
       "      <td>0</td>\n",
       "      <td>MainScreenAppear</td>\n",
       "      <td>2450</td>\n",
       "      <td>2476</td>\n",
       "      <td>2493</td>\n",
       "      <td>4926</td>\n",
       "    </tr>\n",
       "    <tr>\n",
       "      <td>1</td>\n",
       "      <td>OffersScreenAppear</td>\n",
       "      <td>1542</td>\n",
       "      <td>1520</td>\n",
       "      <td>1531</td>\n",
       "      <td>3062</td>\n",
       "    </tr>\n",
       "    <tr>\n",
       "      <td>2</td>\n",
       "      <td>CartScreenAppear</td>\n",
       "      <td>1266</td>\n",
       "      <td>1238</td>\n",
       "      <td>1230</td>\n",
       "      <td>2504</td>\n",
       "    </tr>\n",
       "    <tr>\n",
       "      <td>3</td>\n",
       "      <td>PaymentScreenSuccessful</td>\n",
       "      <td>1200</td>\n",
       "      <td>1158</td>\n",
       "      <td>1181</td>\n",
       "      <td>2358</td>\n",
       "    </tr>\n",
       "    <tr>\n",
       "      <td>4</td>\n",
       "      <td>Tutorial</td>\n",
       "      <td>278</td>\n",
       "      <td>283</td>\n",
       "      <td>279</td>\n",
       "      <td>561</td>\n",
       "    </tr>\n",
       "    <tr>\n",
       "      <td>5</td>\n",
       "      <td>total</td>\n",
       "      <td>2484</td>\n",
       "      <td>2513</td>\n",
       "      <td>2537</td>\n",
       "      <td>4997</td>\n",
       "    </tr>\n",
       "  </tbody>\n",
       "</table>\n",
       "</div>"
      ],
      "text/plain": [
       "                event_name   246   247   248  246+247\n",
       "0         MainScreenAppear  2450  2476  2493     4926\n",
       "1       OffersScreenAppear  1542  1520  1531     3062\n",
       "2         CartScreenAppear  1266  1238  1230     2504\n",
       "3  PaymentScreenSuccessful  1200  1158  1181     2358\n",
       "4                 Tutorial   278   283   279      561\n",
       "5                    total  2484  2513  2537     4997"
      ]
     },
     "execution_count": 43,
     "metadata": {},
     "output_type": "execute_result"
    }
   ],
   "source": [
    "events_by_group['246+247'] = events_by_group['246'] + events_by_group['247'] \n",
    "events_by_group"
   ]
  },
  {
   "cell_type": "markdown",
   "metadata": {},
   "source": [
    "Сравнивам  результаты с каждой из контрольных групп в отдельности по каждому событию.Далее сравним результаты с объединённой контрольной группой. "
   ]
  },
  {
   "cell_type": "markdown",
   "metadata": {},
   "source": [
    "### Выборки №246 и №248"
   ]
  },
  {
   "cell_type": "markdown",
   "metadata": {},
   "source": [
    "Последовательно проверям гипотезы:\n",
    "\n",
    "Нулевая гипотеза (Н0) - конверсия по событию **Tutorial / MainScreenAppear / OffersScreenAppear** / **CartScreenAppear** / **PaymentScreenSuccessful**  группы 246 равна конверсии группы 248 (различие конверсий не является статистически значимым).   \n",
    "Альтернативная гипотеза (Н1) - конверсия по событию **Tutorial / MainScreenAppear / OffersScreenAppear** / **CartScreenAppear** / **PaymentScreenSuccessful** группы 246 не равна конверсии группы 248 (разница статистически значима)."
   ]
  },
  {
   "cell_type": "code",
   "execution_count": 44,
   "metadata": {},
   "outputs": [
    {
     "name": "stdout",
     "output_type": "stream",
     "text": [
      "p-значение:  [0.8264294]\n",
      "Событие Tutorial\n",
      "Не получилось отвергнуть нулевую гипотезу, нет оснований считать конверсии 246 и 248 групп разными\n",
      "\n",
      "p-значение:  [0.29497219]\n",
      "Событие MainScreenAppear\n",
      "Не получилось отвергнуть нулевую гипотезу, нет оснований считать конверсии 246 и 248 групп разными\n",
      "\n",
      "p-значение:  [0.20836205]\n",
      "Событие OffersScreenAppear\n",
      "Не получилось отвергнуть нулевую гипотезу, нет оснований считать конверсии 246 и 248 групп разными\n",
      "\n",
      "p-значение:  [0.07842923]\n",
      "Событие CartScreenAppear\n",
      "Не получилось отвергнуть нулевую гипотезу, нет оснований считать конверсии 246 и 248 групп разными\n",
      "\n",
      "p-значение:  [0.21225533]\n",
      "Событие PaymentScreenSuccessful\n",
      "Не получилось отвергнуть нулевую гипотезу, нет оснований считать конверсии 246 и 248 групп разными\n",
      "\n"
     ]
    }
   ],
   "source": [
    "cycle_z_test('246','248')"
   ]
  },
  {
   "cell_type": "markdown",
   "metadata": {},
   "source": [
    "**Вывод**\n",
    "\n",
    "Для каждого этапа для контрольной группы 246 и экспериментальной 248 нулевая гипотеза, что конверсии равны, не была отвергнута. Таким образом у нас нет оснований считать конверсии  этих групп разными. "
   ]
  },
  {
   "cell_type": "markdown",
   "metadata": {},
   "source": [
    "### Выборки №247 и №248"
   ]
  },
  {
   "cell_type": "markdown",
   "metadata": {},
   "source": [
    "Последовательно проверям гипотезы:\n",
    "\n",
    "Нулевая гипотеза (Н0) - конверсия по событию **Tutorial / MainScreenAppear / OffersScreenAppear** / **CartScreenAppear** / **PaymentScreenSuccessful**  группы 247 равна конверсии группы 248 (различие конверсий не является статистически значимым).   \n",
    "Альтернативная гипотеза (Н1) - конверсия по событию**Tutorial / MainScreenAppear / OffersScreenAppear** / **CartScreenAppear** / **PaymentScreenSuccessful** группы 247 не равна конверсии группы 248 (разница статистически значима)."
   ]
  },
  {
   "cell_type": "code",
   "execution_count": 45,
   "metadata": {},
   "outputs": [
    {
     "name": "stdout",
     "output_type": "stream",
     "text": [
      "p-значение:  [0.76532392]\n",
      "Событие Tutorial\n",
      "Не получилось отвергнуть нулевую гипотезу, нет оснований считать конверсии 247 и 248 групп разными\n",
      "\n",
      "p-значение:  [0.45870536]\n",
      "Событие MainScreenAppear\n",
      "Не получилось отвергнуть нулевую гипотезу, нет оснований считать конверсии 247 и 248 групп разными\n",
      "\n",
      "p-значение:  [0.91978178]\n",
      "Событие OffersScreenAppear\n",
      "Не получилось отвергнуть нулевую гипотезу, нет оснований считать конверсии 247 и 248 групп разными\n",
      "\n",
      "p-значение:  [0.57861979]\n",
      "Событие CartScreenAppear\n",
      "Не получилось отвергнуть нулевую гипотезу, нет оснований считать конверсии 247 и 248 групп разными\n",
      "\n",
      "p-значение:  [0.73734151]\n",
      "Событие PaymentScreenSuccessful\n",
      "Не получилось отвергнуть нулевую гипотезу, нет оснований считать конверсии 247 и 248 групп разными\n",
      "\n"
     ]
    }
   ],
   "source": [
    "cycle_z_test('247','248')"
   ]
  },
  {
   "cell_type": "markdown",
   "metadata": {},
   "source": [
    "**Вывод**\n",
    "\n",
    "Для каждого этапа для контрольной группы 247 и экспериментальной 248 нулевая гипотеза, что конверсии равны, не была отвергнута. Таким образом у нас нет оснований считать конверсии  этих групп разными. "
   ]
  },
  {
   "cell_type": "markdown",
   "metadata": {},
   "source": [
    "### Выборки №246+247 и №248"
   ]
  },
  {
   "cell_type": "markdown",
   "metadata": {},
   "source": [
    "Последовательно проверям гипотезы:\n",
    "\n",
    "Нулевая гипотеза (Н0) - конверсия по событию **Tutorial / MainScreenAppear / OffersScreenAppear** / **CartScreenAppear** / **PaymentScreenSuccessful**  группы 246+247 равна конверсии группы 248 (различие конверсий не является статистически значимым).   \n",
    "Альтернативная гипотеза (Н1) - конверсия по событию**Tutorial / MainScreenAppear / OffersScreenAppear** / **CartScreenAppear** / **PaymentScreenSuccessful** группы 246+247 не равна конверсии группы 248 (разница статистически значима)."
   ]
  },
  {
   "cell_type": "code",
   "execution_count": 46,
   "metadata": {},
   "outputs": [
    {
     "name": "stdout",
     "output_type": "stream",
     "text": [
      "p-значение:  [0.76486247]\n",
      "Событие Tutorial\n",
      "Не получилось отвергнуть нулевую гипотезу, нет оснований считать конверсии 246+247 и 248 групп разными\n",
      "\n",
      "p-значение:  [0.29424527]\n",
      "Событие MainScreenAppear\n",
      "Не получилось отвергнуть нулевую гипотезу, нет оснований считать конверсии 246+247 и 248 групп разными\n",
      "\n",
      "p-значение:  [0.4342555]\n",
      "Событие OffersScreenAppear\n",
      "Не получилось отвергнуть нулевую гипотезу, нет оснований считать конверсии 246+247 и 248 групп разными\n",
      "\n",
      "p-значение:  [0.18175875]\n",
      "Событие CartScreenAppear\n",
      "Не получилось отвергнуть нулевую гипотезу, нет оснований считать конверсии 246+247 и 248 групп разными\n",
      "\n",
      "p-значение:  [0.60042943]\n",
      "Событие PaymentScreenSuccessful\n",
      "Не получилось отвергнуть нулевую гипотезу, нет оснований считать конверсии 246+247 и 248 групп разными\n",
      "\n"
     ]
    }
   ],
   "source": [
    "cycle_z_test('246+247','248')"
   ]
  },
  {
   "cell_type": "markdown",
   "metadata": {},
   "source": [
    "**Вывод**\n",
    "\n",
    "Для каждого этапа для контрольной группы 246+247 и экспериментальной 248 нулевая гипотеза, что конверсии равны, не была отвергнута. Таким образом у нас нет оснований считать конверсии  этих групп разными. "
   ]
  },
  {
   "cell_type": "markdown",
   "metadata": {},
   "source": [
    "## Вывод"
   ]
  },
  {
   "cell_type": "markdown",
   "metadata": {},
   "source": [
    "В нашем датасете 244 126 записи. Каждая запись в логе — это действие пользователя, или событие. Для дальнейшей работы с данными мы удалили дубликаты, пропусков обнаружено не было. Отдельно выделили дату совершения событий пользователей. \n",
    "Минимальная дата в наших данных – 25 июля 2019 г., максимальная – 7 августа 2019 г.\n",
    "Далее мы построили график числа событий по дням и сделали вывод, что с 1 августа количество событий резко возрастает. С этого временного отрезка в дальнейшем и проводили наши исследования. После отбора событий после 1 августа у нас осталось 99% данных.\n",
    "\n",
    "На этапе рассмотрения воронки событий мы обнаружили, что события происходят в следующем порядке:  \n",
    "\n",
    "1) появление главного экрана (MainScreenAppear)  \n",
    "2) появление экрана предложения/товара (OffersScreenAppear)  \n",
    "3) появление экрана корзины (CartScreenAppear)  \n",
    "4) появление экрана успешной оплаты (PaymentScreenSuccessful)  \n",
    "\n",
    "Отдельно стоит сказать, что 11% от всех пользователей используют руководство пользователя. В дальнейшем, можно рассмотреть после каких этапов пользовалитли чаще обращаются к руководству.\n",
    "В последующих расчетов мы исключили этот этап из рассмотрения. \n",
    "\n",
    "\n",
    "По воронке событий можно сделать вывод, что 98% всех пользователй просматривают начальный экран, 61% доходит до товара, 50% от общего числа переходят в корзину и 47% успешно оплачивают. \n",
    "При рассмотрении конверсии от этапа к этапу можно сказать, что все теже 98%  пользователей доходят до главного экрана, 62% от них переходят к товара, далее 81% от этого количества пользователей идет в корзину и 95% далее успешно оплачивают товар.\n",
    "\n",
    "Важно отметить, что 47% пользователей от общего числа доходят до этапа успешной оплаты и что при переходе от загрузки главного экрана до этапа товара теряется 38% пользователей.\n",
    "\n",
    "Далее мы перешли к тестам для проверки статистически значимых изменений по каждому выду событий для двух контрольных групп (и дополнительно по их суммам) и 248 – экспериментальной. Всего в общей сложности было сделано 20 тестов, по 5 для каждой пары.  \n",
    "Уровень статистической значимости во всех проверках был установлен в  5%\n",
    "В результате проверок для каждого этапа всех наших групп нулевая гипотеза, что конверсии равны, не была отвергнута. \n",
    "Таким образом, в результате проведения всех тестов мы можем сказать, что изменение шрифта не повлияло на поведение пользователей в большинстве этапов. \n"
   ]
  }
 ],
 "metadata": {
  "kernelspec": {
   "display_name": "Python 3",
   "language": "python",
   "name": "python3"
  },
  "language_info": {
   "codemirror_mode": {
    "name": "ipython",
    "version": 3
   },
   "file_extension": ".py",
   "mimetype": "text/x-python",
   "name": "python",
   "nbconvert_exporter": "python",
   "pygments_lexer": "ipython3",
   "version": "3.8.5"
  },
  "toc": {
   "base_numbering": 1,
   "nav_menu": {},
   "number_sections": true,
   "sideBar": true,
   "skip_h1_title": true,
   "title_cell": "Table of Contents",
   "title_sidebar": "Contents",
   "toc_cell": true,
   "toc_position": {},
   "toc_section_display": true,
   "toc_window_display": false
  }
 },
 "nbformat": 4,
 "nbformat_minor": 2
}
