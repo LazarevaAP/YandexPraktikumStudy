{
 "cells": [
  {
   "cell_type": "markdown",
   "metadata": {},
   "source": [
    "# Исследование объявлений о продаже квартир\n",
    "\n",
    "В вашем распоряжении данные сервиса Яндекс.Недвижимость — архив объявлений о продаже квартир в Санкт-Петербурге и соседних населённых пунктов за несколько лет. Нужно научиться определять рыночную стоимость объектов недвижимости. Ваша задача — установить параметры. Это позволит построить автоматизированную систему: она отследит аномалии и мошенническую деятельность. \n",
    "\n",
    "По каждой квартире на продажу доступны два вида данных. Первые вписаны пользователем, вторые — получены автоматически на основе картографических данных. Например, расстояние до центра, аэропорта, ближайшего парка и водоёма. \n",
    "\n",
    "Выполнять наше исследование будем в следующем порядке:\n",
    "\n",
    "1. Подробно изучим файл с данными\n",
    "2. Обработаем пропуски и сделаем проверку типов данных\n",
    "3. Удалим дубликаты\n",
    "4. Сделаем расчет и добавление недостающих параметров\n",
    "5. Подготовим графическое представление результатов\n",
    "6. Сделаем конечный вывод"
   ]
  },
  {
   "cell_type": "markdown",
   "metadata": {},
   "source": [
    "## Оглавление"
   ]
  },
  {
   "cell_type": "markdown",
   "metadata": {},
   "source": [
    "1. [Открытие данных](#start)\n",
    "2. [Предобработка данных](#preprocessing)\n",
    "    * [Обработка пропущенных значений](#null)\n",
    "    * [Обработка дубликатов](#dubl)\n",
    "    * [Замена типов данных](#change)\n",
    "3. [Подсчет и добавление данных](#add)\n",
    "4. [Исследовательский анализ данных](#research)\n",
    "    * [Гистограммы основных параметров](#add_hist)\n",
    "    * [Изучение времени продажи](#time_sale)\n",
    "    * [Влияние разных факторов на стоимость кваритиры](#influence)\n",
    "    * [Топ 10 населенных пунктов](#top10)\n",
    "    * [Квартиры в центре Санкт-Петербурга](#centr_piter)\n",
    "5. [Общий вывод](#finish)"
   ]
  },
  {
   "cell_type": "markdown",
   "metadata": {},
   "source": [
    "## <a id=\"start\">Шаг 1. Открытие файла с данными и изучение общей информации. "
   ]
  },
  {
   "cell_type": "code",
   "execution_count": 1,
   "metadata": {},
   "outputs": [],
   "source": [
    "#импорт библиотеки pandas\n",
    "import pandas as pd\n",
    "#импорт библиотеки matplotlib\n",
    "import matplotlib.pyplot as plt\n",
    "#импорт библиотеки nampy\n",
    "import numpy as np"
   ]
  },
  {
   "cell_type": "code",
   "execution_count": 3,
   "metadata": {},
   "outputs": [
    {
     "name": "stdout",
     "output_type": "stream",
     "text": [
      "<class 'pandas.core.frame.DataFrame'>\n",
      "RangeIndex: 23699 entries, 0 to 23698\n",
      "Data columns (total 22 columns):\n",
      "total_images            23699 non-null int64\n",
      "last_price              23699 non-null object\n",
      "total_area              23699 non-null object\n",
      "first_day_exposition    23699 non-null object\n",
      "rooms                   23699 non-null int64\n",
      "ceiling_height          14504 non-null object\n",
      "floors_total            23613 non-null object\n",
      "living_area             21796 non-null object\n",
      "floor                   23699 non-null int64\n",
      "is_apartment            2775 non-null object\n",
      "studio                  23699 non-null bool\n",
      "open_plan               23699 non-null bool\n",
      "kitchen_area            21421 non-null object\n",
      "balcony                 12180 non-null object\n",
      "locality_name           23650 non-null object\n",
      "airports_nearest        18157 non-null object\n",
      "cityCenters_nearest     18180 non-null object\n",
      "parks_around3000        18181 non-null object\n",
      "parks_nearest           8079 non-null object\n",
      "ponds_around3000        18181 non-null object\n",
      "ponds_nearest           9110 non-null object\n",
      "days_exposition         20518 non-null object\n",
      "dtypes: bool(2), int64(3), object(17)\n",
      "memory usage: 3.7+ MB\n"
     ]
    },
    {
     "data": {
      "text/html": [
       "<div>\n",
       "<style scoped>\n",
       "    .dataframe tbody tr th:only-of-type {\n",
       "        vertical-align: middle;\n",
       "    }\n",
       "\n",
       "    .dataframe tbody tr th {\n",
       "        vertical-align: top;\n",
       "    }\n",
       "\n",
       "    .dataframe thead th {\n",
       "        text-align: right;\n",
       "    }\n",
       "</style>\n",
       "<table border=\"1\" class=\"dataframe\">\n",
       "  <thead>\n",
       "    <tr style=\"text-align: right;\">\n",
       "      <th></th>\n",
       "      <th>total_images</th>\n",
       "      <th>last_price</th>\n",
       "      <th>total_area</th>\n",
       "      <th>first_day_exposition</th>\n",
       "      <th>rooms</th>\n",
       "      <th>ceiling_height</th>\n",
       "      <th>floors_total</th>\n",
       "      <th>living_area</th>\n",
       "      <th>floor</th>\n",
       "      <th>is_apartment</th>\n",
       "      <th>...</th>\n",
       "      <th>kitchen_area</th>\n",
       "      <th>balcony</th>\n",
       "      <th>locality_name</th>\n",
       "      <th>airports_nearest</th>\n",
       "      <th>cityCenters_nearest</th>\n",
       "      <th>parks_around3000</th>\n",
       "      <th>parks_nearest</th>\n",
       "      <th>ponds_around3000</th>\n",
       "      <th>ponds_nearest</th>\n",
       "      <th>days_exposition</th>\n",
       "    </tr>\n",
       "  </thead>\n",
       "  <tbody>\n",
       "    <tr>\n",
       "      <td>21980</td>\n",
       "      <td>20</td>\n",
       "      <td>10100000.0</td>\n",
       "      <td>99.0</td>\n",
       "      <td>2018-02-28T00:00:00</td>\n",
       "      <td>3</td>\n",
       "      <td>2.8</td>\n",
       "      <td>7.0</td>\n",
       "      <td>49.0</td>\n",
       "      <td>7</td>\n",
       "      <td>NaN</td>\n",
       "      <td>...</td>\n",
       "      <td>16.0</td>\n",
       "      <td>NaN</td>\n",
       "      <td>Петергоф</td>\n",
       "      <td>44949.0</td>\n",
       "      <td>48374.0</td>\n",
       "      <td>0.0</td>\n",
       "      <td>NaN</td>\n",
       "      <td>0.0</td>\n",
       "      <td>NaN</td>\n",
       "      <td>84.0</td>\n",
       "    </tr>\n",
       "    <tr>\n",
       "      <td>11416</td>\n",
       "      <td>15</td>\n",
       "      <td>3800000.0</td>\n",
       "      <td>30.5</td>\n",
       "      <td>2017-08-04T00:00:00</td>\n",
       "      <td>1</td>\n",
       "      <td>2.5</td>\n",
       "      <td>9.0</td>\n",
       "      <td>17.7</td>\n",
       "      <td>2</td>\n",
       "      <td>NaN</td>\n",
       "      <td>...</td>\n",
       "      <td>6.2</td>\n",
       "      <td>NaN</td>\n",
       "      <td>Санкт-Петербург</td>\n",
       "      <td>37652.0</td>\n",
       "      <td>10124.0</td>\n",
       "      <td>0.0</td>\n",
       "      <td>NaN</td>\n",
       "      <td>0.0</td>\n",
       "      <td>NaN</td>\n",
       "      <td>277.0</td>\n",
       "    </tr>\n",
       "    <tr>\n",
       "      <td>23475</td>\n",
       "      <td>9</td>\n",
       "      <td>3600000.0</td>\n",
       "      <td>39.0</td>\n",
       "      <td>2017-10-27T00:00:00</td>\n",
       "      <td>1</td>\n",
       "      <td>2.65</td>\n",
       "      <td>14.0</td>\n",
       "      <td>20.0</td>\n",
       "      <td>14</td>\n",
       "      <td>NaN</td>\n",
       "      <td>...</td>\n",
       "      <td>11.0</td>\n",
       "      <td>1.0</td>\n",
       "      <td>Санкт-Петербург</td>\n",
       "      <td>17202.0</td>\n",
       "      <td>15998.0</td>\n",
       "      <td>1.0</td>\n",
       "      <td>636.0</td>\n",
       "      <td>2.0</td>\n",
       "      <td>132.0</td>\n",
       "      <td>142.0</td>\n",
       "    </tr>\n",
       "    <tr>\n",
       "      <td>9707</td>\n",
       "      <td>15</td>\n",
       "      <td>3350000.0</td>\n",
       "      <td>43.5</td>\n",
       "      <td>2019-04-24T00:00:00</td>\n",
       "      <td>2</td>\n",
       "      <td>2.5</td>\n",
       "      <td>5.0</td>\n",
       "      <td>28.2</td>\n",
       "      <td>5</td>\n",
       "      <td>NaN</td>\n",
       "      <td>...</td>\n",
       "      <td>5.5</td>\n",
       "      <td>1.0</td>\n",
       "      <td>Санкт-Петербург</td>\n",
       "      <td>18574.0</td>\n",
       "      <td>21999.0</td>\n",
       "      <td>0.0</td>\n",
       "      <td>NaN</td>\n",
       "      <td>2.0</td>\n",
       "      <td>699.0</td>\n",
       "      <td>NaN</td>\n",
       "    </tr>\n",
       "    <tr>\n",
       "      <td>22795</td>\n",
       "      <td>17</td>\n",
       "      <td>3200000.0</td>\n",
       "      <td>33.0</td>\n",
       "      <td>2018-07-10T00:00:00</td>\n",
       "      <td>1</td>\n",
       "      <td>2.5</td>\n",
       "      <td>14.0</td>\n",
       "      <td>17.3</td>\n",
       "      <td>6</td>\n",
       "      <td>NaN</td>\n",
       "      <td>...</td>\n",
       "      <td>7.5</td>\n",
       "      <td>NaN</td>\n",
       "      <td>Санкт-Петербург</td>\n",
       "      <td>52533.0</td>\n",
       "      <td>16758.0</td>\n",
       "      <td>0.0</td>\n",
       "      <td>NaN</td>\n",
       "      <td>2.0</td>\n",
       "      <td>440.0</td>\n",
       "      <td>9.0</td>\n",
       "    </tr>\n",
       "    <tr>\n",
       "      <td>10058</td>\n",
       "      <td>9</td>\n",
       "      <td>3350000.0</td>\n",
       "      <td>25.0</td>\n",
       "      <td>2018-09-10T00:00:00</td>\n",
       "      <td>1</td>\n",
       "      <td>2.65</td>\n",
       "      <td>NaN</td>\n",
       "      <td>17.0</td>\n",
       "      <td>21</td>\n",
       "      <td>NaN</td>\n",
       "      <td>...</td>\n",
       "      <td>3.5</td>\n",
       "      <td>NaN</td>\n",
       "      <td>посёлок Шушары</td>\n",
       "      <td>NaN</td>\n",
       "      <td>NaN</td>\n",
       "      <td>NaN</td>\n",
       "      <td>NaN</td>\n",
       "      <td>NaN</td>\n",
       "      <td>NaN</td>\n",
       "      <td>23.000000000000004</td>\n",
       "    </tr>\n",
       "    <tr>\n",
       "      <td>5048</td>\n",
       "      <td>18</td>\n",
       "      <td>4490000.0</td>\n",
       "      <td>57.1</td>\n",
       "      <td>2016-01-31T00:00:00</td>\n",
       "      <td>2</td>\n",
       "      <td>3.0</td>\n",
       "      <td>12.0</td>\n",
       "      <td>32.6</td>\n",
       "      <td>1</td>\n",
       "      <td>False</td>\n",
       "      <td>...</td>\n",
       "      <td>10.3</td>\n",
       "      <td>0.0</td>\n",
       "      <td>Санкт-Петербург</td>\n",
       "      <td>29820.0</td>\n",
       "      <td>11503.0</td>\n",
       "      <td>1.0</td>\n",
       "      <td>359.0</td>\n",
       "      <td>1.0</td>\n",
       "      <td>721.0</td>\n",
       "      <td>181.00000000000003</td>\n",
       "    </tr>\n",
       "    <tr>\n",
       "      <td>9501</td>\n",
       "      <td>1</td>\n",
       "      <td>5324000.0</td>\n",
       "      <td>60.5</td>\n",
       "      <td>2015-03-12T00:00:00</td>\n",
       "      <td>2</td>\n",
       "      <td>2.75</td>\n",
       "      <td>24.0</td>\n",
       "      <td>32.0</td>\n",
       "      <td>21</td>\n",
       "      <td>False</td>\n",
       "      <td>...</td>\n",
       "      <td>11.9</td>\n",
       "      <td>NaN</td>\n",
       "      <td>Санкт-Петербург</td>\n",
       "      <td>22212.0</td>\n",
       "      <td>17399.0</td>\n",
       "      <td>0.0</td>\n",
       "      <td>NaN</td>\n",
       "      <td>1.0</td>\n",
       "      <td>233.0</td>\n",
       "      <td>1355.0</td>\n",
       "    </tr>\n",
       "    <tr>\n",
       "      <td>13197</td>\n",
       "      <td>20</td>\n",
       "      <td>4195000.0</td>\n",
       "      <td>38.5</td>\n",
       "      <td>2018-10-02T00:00:00</td>\n",
       "      <td>1</td>\n",
       "      <td>2.65</td>\n",
       "      <td>16.0</td>\n",
       "      <td>20.1</td>\n",
       "      <td>4</td>\n",
       "      <td>NaN</td>\n",
       "      <td>...</td>\n",
       "      <td>10.3</td>\n",
       "      <td>2.0</td>\n",
       "      <td>посёлок Мурино</td>\n",
       "      <td>NaN</td>\n",
       "      <td>NaN</td>\n",
       "      <td>NaN</td>\n",
       "      <td>NaN</td>\n",
       "      <td>NaN</td>\n",
       "      <td>NaN</td>\n",
       "      <td>37.0</td>\n",
       "    </tr>\n",
       "    <tr>\n",
       "      <td>19417</td>\n",
       "      <td>5</td>\n",
       "      <td>11464000.0</td>\n",
       "      <td>65.4</td>\n",
       "      <td>2018-09-14T00:00:00</td>\n",
       "      <td>1</td>\n",
       "      <td>2.75</td>\n",
       "      <td>20.0</td>\n",
       "      <td>21.59</td>\n",
       "      <td>17</td>\n",
       "      <td>NaN</td>\n",
       "      <td>...</td>\n",
       "      <td>23.53</td>\n",
       "      <td>NaN</td>\n",
       "      <td>Санкт-Петербург</td>\n",
       "      <td>39106.0</td>\n",
       "      <td>10330.0</td>\n",
       "      <td>2.0</td>\n",
       "      <td>386.0</td>\n",
       "      <td>3.0</td>\n",
       "      <td>94.0</td>\n",
       "      <td>93.0</td>\n",
       "    </tr>\n",
       "  </tbody>\n",
       "</table>\n",
       "<p>10 rows × 22 columns</p>\n",
       "</div>"
      ],
      "text/plain": [
       "       total_images  last_price total_area first_day_exposition  rooms  \\\n",
       "21980            20  10100000.0       99.0  2018-02-28T00:00:00      3   \n",
       "11416            15   3800000.0       30.5  2017-08-04T00:00:00      1   \n",
       "23475             9   3600000.0       39.0  2017-10-27T00:00:00      1   \n",
       "9707             15   3350000.0       43.5  2019-04-24T00:00:00      2   \n",
       "22795            17   3200000.0       33.0  2018-07-10T00:00:00      1   \n",
       "10058             9   3350000.0       25.0  2018-09-10T00:00:00      1   \n",
       "5048             18   4490000.0       57.1  2016-01-31T00:00:00      2   \n",
       "9501              1   5324000.0       60.5  2015-03-12T00:00:00      2   \n",
       "13197            20   4195000.0       38.5  2018-10-02T00:00:00      1   \n",
       "19417             5  11464000.0       65.4  2018-09-14T00:00:00      1   \n",
       "\n",
       "      ceiling_height floors_total living_area  floor is_apartment  ...  \\\n",
       "21980            2.8          7.0        49.0      7          NaN  ...   \n",
       "11416            2.5          9.0        17.7      2          NaN  ...   \n",
       "23475           2.65         14.0        20.0     14          NaN  ...   \n",
       "9707             2.5          5.0        28.2      5          NaN  ...   \n",
       "22795            2.5         14.0        17.3      6          NaN  ...   \n",
       "10058           2.65          NaN        17.0     21          NaN  ...   \n",
       "5048             3.0         12.0        32.6      1        False  ...   \n",
       "9501            2.75         24.0        32.0     21        False  ...   \n",
       "13197           2.65         16.0        20.1      4          NaN  ...   \n",
       "19417           2.75         20.0       21.59     17          NaN  ...   \n",
       "\n",
       "       kitchen_area  balcony    locality_name airports_nearest  \\\n",
       "21980          16.0      NaN         Петергоф          44949.0   \n",
       "11416           6.2      NaN  Санкт-Петербург          37652.0   \n",
       "23475          11.0      1.0  Санкт-Петербург          17202.0   \n",
       "9707            5.5      1.0  Санкт-Петербург          18574.0   \n",
       "22795           7.5      NaN  Санкт-Петербург          52533.0   \n",
       "10058           3.5      NaN   посёлок Шушары              NaN   \n",
       "5048           10.3      0.0  Санкт-Петербург          29820.0   \n",
       "9501           11.9      NaN  Санкт-Петербург          22212.0   \n",
       "13197          10.3      2.0   посёлок Мурино              NaN   \n",
       "19417         23.53      NaN  Санкт-Петербург          39106.0   \n",
       "\n",
       "      cityCenters_nearest parks_around3000 parks_nearest ponds_around3000  \\\n",
       "21980             48374.0              0.0           NaN              0.0   \n",
       "11416             10124.0              0.0           NaN              0.0   \n",
       "23475             15998.0              1.0         636.0              2.0   \n",
       "9707              21999.0              0.0           NaN              2.0   \n",
       "22795             16758.0              0.0           NaN              2.0   \n",
       "10058                 NaN              NaN           NaN              NaN   \n",
       "5048              11503.0              1.0         359.0              1.0   \n",
       "9501              17399.0              0.0           NaN              1.0   \n",
       "13197                 NaN              NaN           NaN              NaN   \n",
       "19417             10330.0              2.0         386.0              3.0   \n",
       "\n",
       "      ponds_nearest     days_exposition  \n",
       "21980           NaN                84.0  \n",
       "11416           NaN               277.0  \n",
       "23475         132.0               142.0  \n",
       "9707          699.0                 NaN  \n",
       "22795         440.0                 9.0  \n",
       "10058           NaN  23.000000000000004  \n",
       "5048          721.0  181.00000000000003  \n",
       "9501          233.0              1355.0  \n",
       "13197           NaN                37.0  \n",
       "19417          94.0                93.0  \n",
       "\n",
       "[10 rows x 22 columns]"
      ]
     },
     "execution_count": 3,
     "metadata": {},
     "output_type": "execute_result"
    }
   ],
   "source": [
    "# чтение файла  данных,разелитель - \"\\t\"\n",
    "realty = pd.read_csv('/datasets/real_estate_data.csv', sep='\\t', decimal=',' ) \n",
    "# получение общей информаци о таблице и вывод первых 10 строк\n",
    "realty.info() \n",
    "#выведем случайные 10 строк\n",
    "realty.sample(10) "
   ]
  },
  {
   "cell_type": "markdown",
   "metadata": {},
   "source": [
    "### Вывод"
   ]
  },
  {
   "cell_type": "markdown",
   "metadata": {},
   "source": [
    "В таблице 22 столбца, они имеют разные типы данных: object, int, bool. Количество значений в столбцах различается, следовательно, в данных есть пропущенные значения.  Частично не заполненны данные в ceiling_height, floors_total, living_area, kitchen_area,locality_name,airports_nearest, cityCenters_nearest, parks_around3000, ponds_nearest,days_exposition,   is_apartment (много пропусков, вероятно,где пропусти - это не аппартамента и тип сейча object лучше сделать bool), balcony - где пропуске скорее всего нет балконов, нужно заменить на 0. В файле данных много пропущенных значений, выделим данные с короыми нужно работать в первую очередь. Для исследования особенно ценны столбцы: \n",
    "Интерпритация названия столбцов realty таблицы:\n",
    "* airports_nearest — расстояние до ближайшего аэропорта в метрах (м)\n",
    "* balcony — число балконов\n",
    "* ceiling_height — высота потолков (м)\n",
    "* cityCenters_nearest — расстояние до центра города (м)\n",
    "* days_exposition — сколько дней было размещено объявление (от публикации до снятия)\n",
    "* first_day_exposition — дата публикации\n",
    "* floor — этаж\n",
    "* floors_total — всего этажей в доме\n",
    "* is_apartment — апартаменты (булев тип)\n",
    "* kitchen_area — площадь кухни в квадратных метрах (м²)\n",
    "* last_price — цена на момент снятия с публикации\n",
    "* living_area — жилая площадь в квадратных метрах(м²)\n",
    "* locality_name — название населённого пункта\n",
    "* open_plan — свободная планировка (булев тип)\n",
    "* parks_around3000 — число парков в радиусе 3 км\n",
    "* parks_nearest — расстояние до ближайшего парка (м)\n",
    "* ponds_around3000 — число водоёмов в радиусе 3 км\n",
    "* ponds_nearest — расстояние до ближайшего водоёма (м)\n",
    "* rooms — число комнат\n",
    "* studio — квартира-студия (булев тип)\n",
    "* total_area — площадь квартиры в квадратных метрах (м²)\n",
    "* total_images — число фотографий квартиры в объявлении"
   ]
  },
  {
   "cell_type": "markdown",
   "metadata": {},
   "source": [
    "## <a id=\"preprocessing\">Шаг 2. Предобработка данных"
   ]
  },
  {
   "cell_type": "markdown",
   "metadata": {},
   "source": [
    "### <a id=\"null\">Обработка пропусков"
   ]
  },
  {
   "cell_type": "code",
   "execution_count": 4,
   "metadata": {},
   "outputs": [
    {
     "data": {
      "text/plain": [
       "total_images                0\n",
       "last_price                  0\n",
       "total_area                  0\n",
       "first_day_exposition        0\n",
       "rooms                       0\n",
       "ceiling_height           9195\n",
       "floors_total               86\n",
       "living_area              1903\n",
       "floor                       0\n",
       "is_apartment            20924\n",
       "studio                      0\n",
       "open_plan                   0\n",
       "kitchen_area             2278\n",
       "balcony                 11519\n",
       "locality_name              49\n",
       "airports_nearest         5542\n",
       "cityCenters_nearest      5519\n",
       "parks_around3000         5518\n",
       "parks_nearest           15620\n",
       "ponds_around3000         5518\n",
       "ponds_nearest           14589\n",
       "days_exposition          3181\n",
       "dtype: int64"
      ]
     },
     "execution_count": 4,
     "metadata": {},
     "output_type": "execute_result"
    }
   ],
   "source": [
    "#вывляем количество пропусков\n",
    "realty.isnull().sum() "
   ]
  },
  {
   "cell_type": "markdown",
   "metadata": {},
   "source": [
    "Нет зависимости отсутствия значения в floors_total от floor. К сожалению придется удалить записи, где нет площади, так как нельзя сейчас точно сказать как коррелируется общая и жилая площадь. Удалим строки с пропущенной локацией, таких у нас меньше 1%"
   ]
  },
  {
   "cell_type": "code",
   "execution_count": 5,
   "metadata": {},
   "outputs": [],
   "source": [
    "realty.dropna(subset=['floors_total', 'living_area', 'locality_name'],inplace=True)"
   ]
  },
  {
   "cell_type": "markdown",
   "metadata": {},
   "source": [
    "В конечных задачах нашего исследования не используются некоторые столбцы - удалим их. Расстояние до аэропорта, парки и водоемы в вопросах данного исследования не играют роли."
   ]
  },
  {
   "cell_type": "code",
   "execution_count": 6,
   "metadata": {},
   "outputs": [],
   "source": [
    "#Удаляем не используемые столбцы\n",
    "realty.drop(['airports_nearest', 'parks_around3000', 'parks_nearest','ponds_around3000', \n",
    "             'ponds_nearest'], axis='columns', inplace=True)"
   ]
  },
  {
   "cell_type": "markdown",
   "metadata": {},
   "source": [
    "Не находится взаимосявязи пропусков в столбце количества дней публикации с остальными значениями, заменяем 0"
   ]
  },
  {
   "cell_type": "code",
   "execution_count": 7,
   "metadata": {},
   "outputs": [],
   "source": [
    "#пропуски days_exposition заменяем на 0\n",
    "realty['days_exposition'] = realty['days_exposition'].fillna(0)"
   ]
  },
  {
   "cell_type": "markdown",
   "metadata": {},
   "source": [
    "Можно предположить, что там где не заполнено поле \"балконы\" люди просто не заполняли значение, так как их нет, поэтому заменяем нулями. Тоже самое с полем аппартаментов: если это не аппартаменты, это поле не заполнялось  - меняем на нули"
   ]
  },
  {
   "cell_type": "code",
   "execution_count": 8,
   "metadata": {},
   "outputs": [],
   "source": [
    "# is_apartment и balcony пропущенные значения заменим 0\n",
    "realty['is_apartment'] = realty['is_apartment'].fillna(0)\n",
    "realty['balcony'] = realty['balcony'].fillna(0)"
   ]
  },
  {
   "cell_type": "markdown",
   "metadata": {},
   "source": [
    "Вероятнее всего растояние до центра не считается, так как это ЛО. заменяем нулями"
   ]
  },
  {
   "cell_type": "code",
   "execution_count": 9,
   "metadata": {},
   "outputs": [
    {
     "data": {
      "text/html": [
       "<div>\n",
       "<style scoped>\n",
       "    .dataframe tbody tr th:only-of-type {\n",
       "        vertical-align: middle;\n",
       "    }\n",
       "\n",
       "    .dataframe tbody tr th {\n",
       "        vertical-align: top;\n",
       "    }\n",
       "\n",
       "    .dataframe thead th {\n",
       "        text-align: right;\n",
       "    }\n",
       "</style>\n",
       "<table border=\"1\" class=\"dataframe\">\n",
       "  <thead>\n",
       "    <tr style=\"text-align: right;\">\n",
       "      <th></th>\n",
       "      <th>total_images</th>\n",
       "      <th>last_price</th>\n",
       "      <th>total_area</th>\n",
       "      <th>first_day_exposition</th>\n",
       "      <th>rooms</th>\n",
       "      <th>ceiling_height</th>\n",
       "      <th>floors_total</th>\n",
       "      <th>living_area</th>\n",
       "      <th>floor</th>\n",
       "      <th>is_apartment</th>\n",
       "      <th>studio</th>\n",
       "      <th>open_plan</th>\n",
       "      <th>kitchen_area</th>\n",
       "      <th>balcony</th>\n",
       "      <th>locality_name</th>\n",
       "      <th>cityCenters_nearest</th>\n",
       "      <th>days_exposition</th>\n",
       "    </tr>\n",
       "  </thead>\n",
       "  <tbody>\n",
       "    <tr>\n",
       "      <td>5</td>\n",
       "      <td>10</td>\n",
       "      <td>2890000.0</td>\n",
       "      <td>30.4</td>\n",
       "      <td>2018-09-10T00:00:00</td>\n",
       "      <td>1</td>\n",
       "      <td>NaN</td>\n",
       "      <td>12.0</td>\n",
       "      <td>14.4</td>\n",
       "      <td>5</td>\n",
       "      <td>0</td>\n",
       "      <td>False</td>\n",
       "      <td>False</td>\n",
       "      <td>9.1</td>\n",
       "      <td>0</td>\n",
       "      <td>городской посёлок Янино-1</td>\n",
       "      <td>NaN</td>\n",
       "      <td>55.0</td>\n",
       "    </tr>\n",
       "    <tr>\n",
       "      <td>8</td>\n",
       "      <td>20</td>\n",
       "      <td>2900000.0</td>\n",
       "      <td>33.16</td>\n",
       "      <td>2018-05-23T00:00:00</td>\n",
       "      <td>1</td>\n",
       "      <td>NaN</td>\n",
       "      <td>27.0</td>\n",
       "      <td>15.43</td>\n",
       "      <td>26</td>\n",
       "      <td>0</td>\n",
       "      <td>False</td>\n",
       "      <td>False</td>\n",
       "      <td>8.81</td>\n",
       "      <td>0</td>\n",
       "      <td>посёлок Мурино</td>\n",
       "      <td>NaN</td>\n",
       "      <td>189.00000000000003</td>\n",
       "    </tr>\n",
       "    <tr>\n",
       "      <td>12</td>\n",
       "      <td>10</td>\n",
       "      <td>3890000.0</td>\n",
       "      <td>54.0</td>\n",
       "      <td>2016-06-30T00:00:00</td>\n",
       "      <td>2</td>\n",
       "      <td>NaN</td>\n",
       "      <td>5.0</td>\n",
       "      <td>30.0</td>\n",
       "      <td>5</td>\n",
       "      <td>0</td>\n",
       "      <td>False</td>\n",
       "      <td>False</td>\n",
       "      <td>9.0</td>\n",
       "      <td>0.0</td>\n",
       "      <td>Сертолово</td>\n",
       "      <td>NaN</td>\n",
       "      <td>90.00000000000001</td>\n",
       "    </tr>\n",
       "    <tr>\n",
       "      <td>22</td>\n",
       "      <td>20</td>\n",
       "      <td>5000000.0</td>\n",
       "      <td>58.0</td>\n",
       "      <td>2017-04-24T00:00:00</td>\n",
       "      <td>2</td>\n",
       "      <td>2.75</td>\n",
       "      <td>25.0</td>\n",
       "      <td>30.0</td>\n",
       "      <td>15</td>\n",
       "      <td>0</td>\n",
       "      <td>False</td>\n",
       "      <td>False</td>\n",
       "      <td>11.0</td>\n",
       "      <td>2.0</td>\n",
       "      <td>деревня Кудрово</td>\n",
       "      <td>NaN</td>\n",
       "      <td>60.0</td>\n",
       "    </tr>\n",
       "    <tr>\n",
       "      <td>38</td>\n",
       "      <td>10</td>\n",
       "      <td>3150000.0</td>\n",
       "      <td>40.0</td>\n",
       "      <td>2018-03-29T00:00:00</td>\n",
       "      <td>1</td>\n",
       "      <td>2.75</td>\n",
       "      <td>18.0</td>\n",
       "      <td>16.3</td>\n",
       "      <td>9</td>\n",
       "      <td>0</td>\n",
       "      <td>False</td>\n",
       "      <td>False</td>\n",
       "      <td>11.6</td>\n",
       "      <td>0</td>\n",
       "      <td>посёлок Мурино</td>\n",
       "      <td>NaN</td>\n",
       "      <td>103.0</td>\n",
       "    </tr>\n",
       "  </tbody>\n",
       "</table>\n",
       "</div>"
      ],
      "text/plain": [
       "    total_images last_price total_area first_day_exposition  rooms  \\\n",
       "5             10  2890000.0       30.4  2018-09-10T00:00:00      1   \n",
       "8             20  2900000.0      33.16  2018-05-23T00:00:00      1   \n",
       "12            10  3890000.0       54.0  2016-06-30T00:00:00      2   \n",
       "22            20  5000000.0       58.0  2017-04-24T00:00:00      2   \n",
       "38            10  3150000.0       40.0  2018-03-29T00:00:00      1   \n",
       "\n",
       "   ceiling_height floors_total living_area  floor is_apartment  studio  \\\n",
       "5             NaN         12.0        14.4      5            0   False   \n",
       "8             NaN         27.0       15.43     26            0   False   \n",
       "12            NaN          5.0        30.0      5            0   False   \n",
       "22           2.75         25.0        30.0     15            0   False   \n",
       "38           2.75         18.0        16.3      9            0   False   \n",
       "\n",
       "    open_plan kitchen_area balcony              locality_name  \\\n",
       "5       False          9.1       0  городской посёлок Янино-1   \n",
       "8       False         8.81       0             посёлок Мурино   \n",
       "12      False          9.0     0.0                  Сертолово   \n",
       "22      False         11.0     2.0            деревня Кудрово   \n",
       "38      False         11.6       0             посёлок Мурино   \n",
       "\n",
       "   cityCenters_nearest     days_exposition  \n",
       "5                  NaN                55.0  \n",
       "8                  NaN  189.00000000000003  \n",
       "12                 NaN   90.00000000000001  \n",
       "22                 NaN                60.0  \n",
       "38                 NaN               103.0  "
      ]
     },
     "execution_count": 9,
     "metadata": {},
     "output_type": "execute_result"
    }
   ],
   "source": [
    "realty[realty['cityCenters_nearest'].isnull()].head()"
   ]
  },
  {
   "cell_type": "code",
   "execution_count": 10,
   "metadata": {},
   "outputs": [],
   "source": [
    "#замена расстояния для центра 0\n",
    "realty['cityCenters_nearest'] = realty['cityCenters_nearest'].fillna(0)"
   ]
  },
  {
   "cell_type": "markdown",
   "metadata": {},
   "source": [
    "Предположим, что высота потолков в зданиях одинаковой этажности должна быть примерно равна. За исключением разве что элитного жилья в многоэтажных домах с высокими потолками. Поэтому заменим пропущенные значения в столбце высоты потолков на медианные для домов каждой этажности. "
   ]
  },
  {
   "cell_type": "code",
   "execution_count": 11,
   "metadata": {},
   "outputs": [
    {
     "name": "stderr",
     "output_type": "stream",
     "text": [
      "/opt/conda/lib/python3.7/site-packages/numpy/lib/nanfunctions.py:1111: RuntimeWarning: Mean of empty slice\n",
      "  return np.nanmean(a, axis, out=out, keepdims=keepdims)\n"
     ]
    }
   ],
   "source": [
    "#Циклом заменяем пустые значения в столбце высоты потолка в завизимости от этажности здания\n",
    "realty['floors_total'].unique()\n",
    "for flr in realty['floors_total'].unique():\n",
    "    realty.loc[(realty['ceiling_height'].isna())&(realty['floors_total']== flr), 'ceiling_height'] = \\\n",
    "    realty.loc[realty['floors_total']== flr, 'ceiling_height'].median()"
   ]
  },
  {
   "cell_type": "markdown",
   "metadata": {},
   "source": [
    "Обычно в 5-этажках и 9-этажках площадь кухни очень похожа. Заменим пропущенные значение в столбце площади кухни медианным, в зависимости от этажности здания. "
   ]
  },
  {
   "cell_type": "code",
   "execution_count": 12,
   "metadata": {},
   "outputs": [],
   "source": [
    "# заменяем пустые значения в столбце с площадью кухни на медиану по этажности\n",
    "for flr in realty['floors_total'].unique():\n",
    "    realty.loc[(realty['kitchen_area'].isna())&(realty['floors_total']== flr), 'kitchen_area'] = \\\n",
    "    realty.loc[realty['floors_total']== flr, 'kitchen_area'].median()"
   ]
  },
  {
   "cell_type": "code",
   "execution_count": 13,
   "metadata": {},
   "outputs": [
    {
     "data": {
      "text/plain": [
       "total_images            0\n",
       "last_price              0\n",
       "total_area              0\n",
       "first_day_exposition    0\n",
       "rooms                   0\n",
       "ceiling_height          1\n",
       "floors_total            0\n",
       "living_area             0\n",
       "floor                   0\n",
       "is_apartment            0\n",
       "studio                  0\n",
       "open_plan               0\n",
       "kitchen_area            1\n",
       "balcony                 0\n",
       "locality_name           0\n",
       "cityCenters_nearest     0\n",
       "days_exposition         0\n",
       "dtype: int64"
      ]
     },
     "execution_count": 13,
     "metadata": {},
     "output_type": "execute_result"
    }
   ],
   "source": [
    "#прверяем пропуски\n",
    "realty.isnull().sum() "
   ]
  },
  {
   "cell_type": "code",
   "execution_count": 14,
   "metadata": {},
   "outputs": [
    {
     "data": {
      "text/html": [
       "<div>\n",
       "<style scoped>\n",
       "    .dataframe tbody tr th:only-of-type {\n",
       "        vertical-align: middle;\n",
       "    }\n",
       "\n",
       "    .dataframe tbody tr th {\n",
       "        vertical-align: top;\n",
       "    }\n",
       "\n",
       "    .dataframe thead th {\n",
       "        text-align: right;\n",
       "    }\n",
       "</style>\n",
       "<table border=\"1\" class=\"dataframe\">\n",
       "  <thead>\n",
       "    <tr style=\"text-align: right;\">\n",
       "      <th></th>\n",
       "      <th>total_images</th>\n",
       "      <th>last_price</th>\n",
       "      <th>total_area</th>\n",
       "      <th>first_day_exposition</th>\n",
       "      <th>rooms</th>\n",
       "      <th>ceiling_height</th>\n",
       "      <th>floors_total</th>\n",
       "      <th>living_area</th>\n",
       "      <th>floor</th>\n",
       "      <th>is_apartment</th>\n",
       "      <th>studio</th>\n",
       "      <th>open_plan</th>\n",
       "      <th>kitchen_area</th>\n",
       "      <th>balcony</th>\n",
       "      <th>locality_name</th>\n",
       "      <th>cityCenters_nearest</th>\n",
       "      <th>days_exposition</th>\n",
       "    </tr>\n",
       "  </thead>\n",
       "  <tbody>\n",
       "    <tr>\n",
       "      <td>1697</td>\n",
       "      <td>11</td>\n",
       "      <td>3550000.0</td>\n",
       "      <td>28.0</td>\n",
       "      <td>2018-02-08T00:00:00</td>\n",
       "      <td>1</td>\n",
       "      <td>2.65</td>\n",
       "      <td>34.0</td>\n",
       "      <td>18.0</td>\n",
       "      <td>23</td>\n",
       "      <td>0</td>\n",
       "      <td>False</td>\n",
       "      <td>False</td>\n",
       "      <td>NaN</td>\n",
       "      <td>0</td>\n",
       "      <td>Санкт-Петербург</td>\n",
       "      <td>20444.0</td>\n",
       "      <td>410.0</td>\n",
       "    </tr>\n",
       "  </tbody>\n",
       "</table>\n",
       "</div>"
      ],
      "text/plain": [
       "      total_images last_price total_area first_day_exposition  rooms  \\\n",
       "1697            11  3550000.0       28.0  2018-02-08T00:00:00      1   \n",
       "\n",
       "     ceiling_height floors_total living_area  floor is_apartment  studio  \\\n",
       "1697           2.65         34.0        18.0     23            0   False   \n",
       "\n",
       "      open_plan kitchen_area balcony    locality_name cityCenters_nearest  \\\n",
       "1697      False          NaN       0  Санкт-Петербург             20444.0   \n",
       "\n",
       "     days_exposition  \n",
       "1697           410.0  "
      ]
     },
     "execution_count": 14,
     "metadata": {},
     "output_type": "execute_result"
    }
   ],
   "source": [
    "#смотрим какие строки остались с пропусками\n",
    "realty[realty['kitchen_area'].isnull()].head() "
   ]
  },
  {
   "cell_type": "code",
   "execution_count": 15,
   "metadata": {},
   "outputs": [
    {
     "data": {
      "text/html": [
       "<div>\n",
       "<style scoped>\n",
       "    .dataframe tbody tr th:only-of-type {\n",
       "        vertical-align: middle;\n",
       "    }\n",
       "\n",
       "    .dataframe tbody tr th {\n",
       "        vertical-align: top;\n",
       "    }\n",
       "\n",
       "    .dataframe thead th {\n",
       "        text-align: right;\n",
       "    }\n",
       "</style>\n",
       "<table border=\"1\" class=\"dataframe\">\n",
       "  <thead>\n",
       "    <tr style=\"text-align: right;\">\n",
       "      <th></th>\n",
       "      <th>total_images</th>\n",
       "      <th>last_price</th>\n",
       "      <th>total_area</th>\n",
       "      <th>first_day_exposition</th>\n",
       "      <th>rooms</th>\n",
       "      <th>ceiling_height</th>\n",
       "      <th>floors_total</th>\n",
       "      <th>living_area</th>\n",
       "      <th>floor</th>\n",
       "      <th>is_apartment</th>\n",
       "      <th>studio</th>\n",
       "      <th>open_plan</th>\n",
       "      <th>kitchen_area</th>\n",
       "      <th>balcony</th>\n",
       "      <th>locality_name</th>\n",
       "      <th>cityCenters_nearest</th>\n",
       "      <th>days_exposition</th>\n",
       "    </tr>\n",
       "  </thead>\n",
       "  <tbody>\n",
       "    <tr>\n",
       "      <td>11575</td>\n",
       "      <td>9</td>\n",
       "      <td>9900000.0</td>\n",
       "      <td>101.0</td>\n",
       "      <td>2016-04-28T00:00:00</td>\n",
       "      <td>3</td>\n",
       "      <td>NaN</td>\n",
       "      <td>33.0</td>\n",
       "      <td>53.0</td>\n",
       "      <td>32</td>\n",
       "      <td>False</td>\n",
       "      <td>False</td>\n",
       "      <td>False</td>\n",
       "      <td>21.0</td>\n",
       "      <td>0.0</td>\n",
       "      <td>Санкт-Петербург</td>\n",
       "      <td>20444.0</td>\n",
       "      <td>53.0</td>\n",
       "    </tr>\n",
       "  </tbody>\n",
       "</table>\n",
       "</div>"
      ],
      "text/plain": [
       "       total_images last_price total_area first_day_exposition  rooms  \\\n",
       "11575             9  9900000.0      101.0  2016-04-28T00:00:00      3   \n",
       "\n",
       "      ceiling_height floors_total living_area  floor is_apartment  studio  \\\n",
       "11575            NaN         33.0        53.0     32        False   False   \n",
       "\n",
       "       open_plan kitchen_area balcony    locality_name cityCenters_nearest  \\\n",
       "11575      False         21.0     0.0  Санкт-Петербург             20444.0   \n",
       "\n",
       "      days_exposition  \n",
       "11575            53.0  "
      ]
     },
     "execution_count": 15,
     "metadata": {},
     "output_type": "execute_result"
    }
   ],
   "source": [
    "#смотрим какие строки остались с пропусками\n",
    "realty[realty['ceiling_height'].isnull()].head()"
   ]
  },
  {
   "cell_type": "code",
   "execution_count": 16,
   "metadata": {},
   "outputs": [],
   "source": [
    "#удалим эти строки\n",
    "realty.dropna(subset=['kitchen_area', 'ceiling_height'],inplace=True)"
   ]
  },
  {
   "cell_type": "code",
   "execution_count": 17,
   "metadata": {},
   "outputs": [
    {
     "name": "stdout",
     "output_type": "stream",
     "text": [
      "<class 'pandas.core.frame.DataFrame'>\n",
      "Int64Index: 21698 entries, 0 to 23698\n",
      "Data columns (total 17 columns):\n",
      "total_images            21698 non-null int64\n",
      "last_price              21698 non-null object\n",
      "total_area              21698 non-null object\n",
      "first_day_exposition    21698 non-null object\n",
      "rooms                   21698 non-null int64\n",
      "ceiling_height          21698 non-null object\n",
      "floors_total            21698 non-null object\n",
      "living_area             21698 non-null object\n",
      "floor                   21698 non-null int64\n",
      "is_apartment            21698 non-null object\n",
      "studio                  21698 non-null bool\n",
      "open_plan               21698 non-null bool\n",
      "kitchen_area            21698 non-null object\n",
      "balcony                 21698 non-null object\n",
      "locality_name           21698 non-null object\n",
      "cityCenters_nearest     21698 non-null object\n",
      "days_exposition         21698 non-null object\n",
      "dtypes: bool(2), int64(3), object(12)\n",
      "memory usage: 2.7+ MB\n"
     ]
    }
   ],
   "source": [
    "#проверяем пропуски методои инфо\n",
    "realty.info()"
   ]
  },
  {
   "cell_type": "markdown",
   "metadata": {},
   "source": [
    "В общей сложности пришлось убрать порядка 8% данных"
   ]
  },
  {
   "cell_type": "markdown",
   "metadata": {},
   "source": [
    "### <a id=\"dubl\">Обработка дубликатов"
   ]
  },
  {
   "cell_type": "code",
   "execution_count": 18,
   "metadata": {},
   "outputs": [
    {
     "data": {
      "text/plain": [
       "0"
      ]
     },
     "execution_count": 18,
     "metadata": {},
     "output_type": "execute_result"
    }
   ],
   "source": [
    "realty.duplicated().sum()"
   ]
  },
  {
   "cell_type": "markdown",
   "metadata": {},
   "source": [
    "Дубликатов нет"
   ]
  },
  {
   "cell_type": "markdown",
   "metadata": {},
   "source": [
    "### <a id=\"null\">Изменение типов данных"
   ]
  },
  {
   "cell_type": "code",
   "execution_count": 19,
   "metadata": {},
   "outputs": [
    {
     "name": "stdout",
     "output_type": "stream",
     "text": [
      "<class 'pandas.core.frame.DataFrame'>\n",
      "Int64Index: 21698 entries, 0 to 23698\n",
      "Data columns (total 17 columns):\n",
      "total_images            21698 non-null int64\n",
      "last_price              21698 non-null int64\n",
      "total_area              21698 non-null float64\n",
      "first_day_exposition    21698 non-null datetime64[ns]\n",
      "rooms                   21698 non-null int64\n",
      "ceiling_height          21698 non-null float64\n",
      "floors_total            21698 non-null int64\n",
      "living_area             21698 non-null float64\n",
      "floor                   21698 non-null int64\n",
      "is_apartment            21698 non-null bool\n",
      "studio                  21698 non-null bool\n",
      "open_plan               21698 non-null bool\n",
      "kitchen_area            21698 non-null float64\n",
      "balcony                 21698 non-null int64\n",
      "locality_name           21698 non-null object\n",
      "cityCenters_nearest     21698 non-null int64\n",
      "days_exposition         21698 non-null int64\n",
      "dtypes: bool(3), datetime64[ns](1), float64(4), int64(8), object(1)\n",
      "memory usage: 2.5+ MB\n"
     ]
    }
   ],
   "source": [
    "#заменяем строковые значения на целочисленные\n",
    "realty[['last_price', 'total_area',  'ceiling_height', 'floors_total', 'living_area', 'kitchen_area','balcony', \n",
    "        'cityCenters_nearest','days_exposition']] = realty[['last_price', 'total_area',  'ceiling_height', 'floors_total', \n",
    "                                                            'living_area', 'kitchen_area','balcony', 'cityCenters_nearest',\n",
    "                                                            'days_exposition']].apply(pd.to_numeric, errors='coerce')\n",
    "realty[['last_price', 'floors_total','balcony', 'cityCenters_nearest',\n",
    "        'days_exposition']] = realty[['last_price', 'floors_total','balcony', 'cityCenters_nearest',\n",
    "                                      'days_exposition']].astype('int')\n",
    "\n",
    "#признак аппартаментов приведем к булеву\n",
    "realty['is_apartment'] = pd.to_numeric(realty['is_apartment'], errors='coerce')\n",
    "realty['is_apartment'] = realty['is_apartment'].astype('bool')\n",
    "\n",
    "#работа с датой\n",
    "realty['first_day_exposition']  = pd.to_datetime(realty['first_day_exposition'], format='%Y-%m-%dT%H:%M:%S')\n",
    "\n",
    "#выводим информацию о данных\n",
    "realty.info()"
   ]
  },
  {
   "cell_type": "markdown",
   "metadata": {},
   "source": [
    "**Вывод**"
   ]
  },
  {
   "cell_type": "markdown",
   "metadata": {},
   "source": [
    "На данном этаме мы обработали пропуски в столбцах высоты потолков и площади кухни, заменив их меданными значениями для зданий одинаковой этажности. Удалили строки, где не было известна общая площадь и название населенного пункта. Также удалили столбцы с информацией о удаленности от аэропорта, парках и водоемах, так как в конечных задачах нашего исследования они не используются. После этого проверили таблицу на наличие дубликатов и заменили типы данных на float, int, datetime и bool где было нужно.\n",
    "После всех изменений у нас осталось 92% данных."
   ]
  },
  {
   "cell_type": "markdown",
   "metadata": {},
   "source": [
    "## <a id=\"add\">Шаг 3. Посчет и добавление данных в таблицу"
   ]
  },
  {
   "cell_type": "markdown",
   "metadata": {},
   "source": [
    "Для нашего исследования добавим в таблицу следующие значения:\n",
    "* цена квадратного метра;\n",
    "* день недели, месяц и год публикации объявления;\n",
    "* этаж квартиры по категориям:первый, последний, другой;\n",
    "* соотношение жилой и общей площади, а также отношение площади кухни к общей."
   ]
  },
  {
   "cell_type": "code",
   "execution_count": 20,
   "metadata": {},
   "outputs": [],
   "source": [
    "#цена квадратного метра\n",
    "realty['price_metr'] = realty['last_price'] / realty['total_area']"
   ]
  },
  {
   "cell_type": "code",
   "execution_count": 21,
   "metadata": {},
   "outputs": [],
   "source": [
    "#день недели, месяц и год публикации объявления\n",
    "realty['day'] = pd.DatetimeIndex(realty['first_day_exposition']).day\n",
    "realty['month'] = pd.DatetimeIndex(realty['first_day_exposition']).month\n",
    "realty['year'] = pd.DatetimeIndex(realty['first_day_exposition']).year\n",
    "\n",
    "#добавляем столбец дня недели\n",
    "realty['weekday'] = pd.DatetimeIndex(realty['first_day_exposition']).weekday"
   ]
  },
  {
   "cell_type": "code",
   "execution_count": 22,
   "metadata": {},
   "outputs": [],
   "source": [
    "#функция для категории этажа\n",
    "def category_floor(df):\n",
    "    floors_total = df['floors_total']\n",
    "    floor = df['floor']\n",
    "    if floor == 1:\n",
    "        return 'первый'\n",
    "    elif floors_total == floor:\n",
    "        return 'последний'\n",
    "    else:\n",
    "        return 'другой'\n",
    "\n",
    "#добавляем столбец\n",
    "realty['floor_category'] = realty.apply(category_floor, axis=1)"
   ]
  },
  {
   "cell_type": "code",
   "execution_count": 23,
   "metadata": {},
   "outputs": [],
   "source": [
    "#соотношение жилой и общей площади \n",
    "realty['living_to_total'] = realty['living_area'] / realty['total_area']\n",
    "\n",
    "#отношение площади кухни к общей \n",
    "realty['kitchen_to_total'] = realty['kitchen_area'] / realty['total_area']"
   ]
  },
  {
   "cell_type": "code",
   "execution_count": 24,
   "metadata": {},
   "outputs": [
    {
     "data": {
      "text/html": [
       "<div>\n",
       "<style scoped>\n",
       "    .dataframe tbody tr th:only-of-type {\n",
       "        vertical-align: middle;\n",
       "    }\n",
       "\n",
       "    .dataframe tbody tr th {\n",
       "        vertical-align: top;\n",
       "    }\n",
       "\n",
       "    .dataframe thead th {\n",
       "        text-align: right;\n",
       "    }\n",
       "</style>\n",
       "<table border=\"1\" class=\"dataframe\">\n",
       "  <thead>\n",
       "    <tr style=\"text-align: right;\">\n",
       "      <th></th>\n",
       "      <th>total_images</th>\n",
       "      <th>last_price</th>\n",
       "      <th>total_area</th>\n",
       "      <th>first_day_exposition</th>\n",
       "      <th>rooms</th>\n",
       "      <th>ceiling_height</th>\n",
       "      <th>floors_total</th>\n",
       "      <th>living_area</th>\n",
       "      <th>floor</th>\n",
       "      <th>is_apartment</th>\n",
       "      <th>...</th>\n",
       "      <th>cityCenters_nearest</th>\n",
       "      <th>days_exposition</th>\n",
       "      <th>price_metr</th>\n",
       "      <th>day</th>\n",
       "      <th>month</th>\n",
       "      <th>year</th>\n",
       "      <th>weekday</th>\n",
       "      <th>floor_category</th>\n",
       "      <th>living_to_total</th>\n",
       "      <th>kitchen_to_total</th>\n",
       "    </tr>\n",
       "  </thead>\n",
       "  <tbody>\n",
       "    <tr>\n",
       "      <td>23258</td>\n",
       "      <td>12</td>\n",
       "      <td>3000000</td>\n",
       "      <td>42.5</td>\n",
       "      <td>2018-01-09</td>\n",
       "      <td>1</td>\n",
       "      <td>2.65</td>\n",
       "      <td>12</td>\n",
       "      <td>14.7</td>\n",
       "      <td>6</td>\n",
       "      <td>False</td>\n",
       "      <td>...</td>\n",
       "      <td>0</td>\n",
       "      <td>208</td>\n",
       "      <td>70588.235294</td>\n",
       "      <td>9</td>\n",
       "      <td>1</td>\n",
       "      <td>2018</td>\n",
       "      <td>1</td>\n",
       "      <td>другой</td>\n",
       "      <td>0.345882</td>\n",
       "      <td>0.343529</td>\n",
       "    </tr>\n",
       "    <tr>\n",
       "      <td>21281</td>\n",
       "      <td>20</td>\n",
       "      <td>11999000</td>\n",
       "      <td>104.1</td>\n",
       "      <td>2018-07-19</td>\n",
       "      <td>4</td>\n",
       "      <td>3.00</td>\n",
       "      <td>6</td>\n",
       "      <td>68.9</td>\n",
       "      <td>4</td>\n",
       "      <td>False</td>\n",
       "      <td>...</td>\n",
       "      <td>4663</td>\n",
       "      <td>192</td>\n",
       "      <td>115264.169068</td>\n",
       "      <td>19</td>\n",
       "      <td>7</td>\n",
       "      <td>2018</td>\n",
       "      <td>3</td>\n",
       "      <td>другой</td>\n",
       "      <td>0.661864</td>\n",
       "      <td>0.116234</td>\n",
       "    </tr>\n",
       "    <tr>\n",
       "      <td>11590</td>\n",
       "      <td>20</td>\n",
       "      <td>5250000</td>\n",
       "      <td>64.0</td>\n",
       "      <td>2019-03-15</td>\n",
       "      <td>3</td>\n",
       "      <td>2.50</td>\n",
       "      <td>9</td>\n",
       "      <td>41.0</td>\n",
       "      <td>7</td>\n",
       "      <td>False</td>\n",
       "      <td>...</td>\n",
       "      <td>31240</td>\n",
       "      <td>0</td>\n",
       "      <td>82031.250000</td>\n",
       "      <td>15</td>\n",
       "      <td>3</td>\n",
       "      <td>2019</td>\n",
       "      <td>4</td>\n",
       "      <td>другой</td>\n",
       "      <td>0.640625</td>\n",
       "      <td>0.156250</td>\n",
       "    </tr>\n",
       "    <tr>\n",
       "      <td>20114</td>\n",
       "      <td>5</td>\n",
       "      <td>5700000</td>\n",
       "      <td>54.3</td>\n",
       "      <td>2019-01-02</td>\n",
       "      <td>2</td>\n",
       "      <td>2.75</td>\n",
       "      <td>25</td>\n",
       "      <td>30.5</td>\n",
       "      <td>25</td>\n",
       "      <td>False</td>\n",
       "      <td>...</td>\n",
       "      <td>0</td>\n",
       "      <td>60</td>\n",
       "      <td>104972.375691</td>\n",
       "      <td>2</td>\n",
       "      <td>1</td>\n",
       "      <td>2019</td>\n",
       "      <td>2</td>\n",
       "      <td>последний</td>\n",
       "      <td>0.561694</td>\n",
       "      <td>0.224309</td>\n",
       "    </tr>\n",
       "    <tr>\n",
       "      <td>23436</td>\n",
       "      <td>17</td>\n",
       "      <td>5350000</td>\n",
       "      <td>55.5</td>\n",
       "      <td>2019-03-27</td>\n",
       "      <td>3</td>\n",
       "      <td>2.55</td>\n",
       "      <td>5</td>\n",
       "      <td>40.0</td>\n",
       "      <td>4</td>\n",
       "      <td>False</td>\n",
       "      <td>...</td>\n",
       "      <td>14535</td>\n",
       "      <td>14</td>\n",
       "      <td>96396.396396</td>\n",
       "      <td>27</td>\n",
       "      <td>3</td>\n",
       "      <td>2019</td>\n",
       "      <td>2</td>\n",
       "      <td>другой</td>\n",
       "      <td>0.720721</td>\n",
       "      <td>0.108108</td>\n",
       "    </tr>\n",
       "  </tbody>\n",
       "</table>\n",
       "<p>5 rows × 25 columns</p>\n",
       "</div>"
      ],
      "text/plain": [
       "       total_images  last_price  total_area first_day_exposition  rooms  \\\n",
       "23258            12     3000000        42.5           2018-01-09      1   \n",
       "21281            20    11999000       104.1           2018-07-19      4   \n",
       "11590            20     5250000        64.0           2019-03-15      3   \n",
       "20114             5     5700000        54.3           2019-01-02      2   \n",
       "23436            17     5350000        55.5           2019-03-27      3   \n",
       "\n",
       "       ceiling_height  floors_total  living_area  floor  is_apartment  ...  \\\n",
       "23258            2.65            12         14.7      6         False  ...   \n",
       "21281            3.00             6         68.9      4         False  ...   \n",
       "11590            2.50             9         41.0      7         False  ...   \n",
       "20114            2.75            25         30.5     25         False  ...   \n",
       "23436            2.55             5         40.0      4         False  ...   \n",
       "\n",
       "       cityCenters_nearest  days_exposition     price_metr  day month  year  \\\n",
       "23258                    0              208   70588.235294    9     1  2018   \n",
       "21281                 4663              192  115264.169068   19     7  2018   \n",
       "11590                31240                0   82031.250000   15     3  2019   \n",
       "20114                    0               60  104972.375691    2     1  2019   \n",
       "23436                14535               14   96396.396396   27     3  2019   \n",
       "\n",
       "       weekday  floor_category  living_to_total  kitchen_to_total  \n",
       "23258        1          другой         0.345882          0.343529  \n",
       "21281        3          другой         0.661864          0.116234  \n",
       "11590        4          другой         0.640625          0.156250  \n",
       "20114        2       последний         0.561694          0.224309  \n",
       "23436        2          другой         0.720721          0.108108  \n",
       "\n",
       "[5 rows x 25 columns]"
      ]
     },
     "execution_count": 24,
     "metadata": {},
     "output_type": "execute_result"
    }
   ],
   "source": [
    "realty.sample(5)"
   ]
  },
  {
   "cell_type": "markdown",
   "metadata": {},
   "source": [
    "**Вывод**"
   ]
  },
  {
   "cell_type": "markdown",
   "metadata": {},
   "source": [
    "На данном этапе мы добавили данные о цене квадратного метра, дату публикации  объявления разделили на три отдельных столбца (день, месяци, год), разделили данные по категории в зависимости от этажа квартиры и дабваили соотношение жилой площади к общей и площади кухни к общей.\n"
   ]
  },
  {
   "cell_type": "markdown",
   "metadata": {},
   "source": [
    "## <a id=\"research\">Шаг 4. Исследовательский анализ данных"
   ]
  },
  {
   "cell_type": "markdown",
   "metadata": {},
   "source": [
    "### <a id=\"add_hist\">Построение гистограмм по параметрам"
   ]
  },
  {
   "cell_type": "markdown",
   "metadata": {},
   "source": [
    "Переходим к анализу данных. Для этого построим ряд графиков:\n",
    "* Гистограммы для площади, цены, числа комнат, высоты потолков\n",
    "* Гистограмму времени продажи квартир "
   ]
  },
  {
   "cell_type": "code",
   "execution_count": 25,
   "metadata": {},
   "outputs": [
    {
     "data": {
      "text/plain": [
       "<matplotlib.axes._subplots.AxesSubplot at 0x7f1b0ce50d90>"
      ]
     },
     "execution_count": 25,
     "metadata": {},
     "output_type": "execute_result"
    },
    {
     "data": {
      "image/png": "[encoded data removed]",
      "text/plain": [
       "<Figure size 432x288 with 1 Axes>"
      ]
     },
     "metadata": {
      "needs_background": "light"
     },
     "output_type": "display_data"
    }
   ],
   "source": [
    "#строим график размаха\n",
    "realty.total_area.plot.box()"
   ]
  },
  {
   "cell_type": "markdown",
   "metadata": {},
   "source": [
    "Видим много выбросовы выше межквартильного размаха"
   ]
  },
  {
   "cell_type": "code",
   "execution_count": 26,
   "metadata": {},
   "outputs": [
    {
     "data": {
      "text/plain": [
       "count    21698.000000\n",
       "mean        60.061078\n",
       "std         34.698368\n",
       "min         12.000000\n",
       "25%         40.000000\n",
       "50%         52.000000\n",
       "75%         69.500000\n",
       "max        900.000000\n",
       "Name: total_area, dtype: float64"
      ]
     },
     "execution_count": 26,
     "metadata": {},
     "output_type": "execute_result"
    }
   ],
   "source": [
    "#Рассмотрим числовое описание данных общей площади, цены, числа комнат и высоты потолков\n",
    "realty['total_area'].describe()"
   ]
  },
  {
   "cell_type": "code",
   "execution_count": 27,
   "metadata": {},
   "outputs": [
    {
     "data": {
      "image/png": "[encoded data removed]",
      "text/plain": [
       "<Figure size 432x288 with 1 Axes>"
      ]
     },
     "metadata": {
      "needs_background": "light"
     },
     "output_type": "display_data"
    }
   ],
   "source": [
    "#Выводим гистограммы для значений общей площади, цены, числа комнат и высоты потолков\n",
    "realty.hist('total_area', bins= 100, range = (12, 150))\n",
    "plt.show()"
   ]
  },
  {
   "cell_type": "code",
   "execution_count": 28,
   "metadata": {},
   "outputs": [
    {
     "data": {
      "text/plain": [
       "count        21698.00000\n",
       "mean       6499807.03171\n",
       "std       10885124.49335\n",
       "min          12190.00000\n",
       "25%        3450000.00000\n",
       "50%        4650000.00000\n",
       "75%        6750000.00000\n",
       "max      763000000.00000\n",
       "Name: last_price, dtype: object"
      ]
     },
     "execution_count": 28,
     "metadata": {},
     "output_type": "execute_result"
    }
   ],
   "source": [
    "realty['last_price'].describe().apply('{0:.5f}'.format)"
   ]
  },
  {
   "cell_type": "code",
   "execution_count": 29,
   "metadata": {},
   "outputs": [
    {
     "data": {
      "image/png": "[encoded data removed]",
      "text/plain": [
       "<Figure size 432x288 with 1 Axes>"
      ]
     },
     "metadata": {
      "needs_background": "light"
     },
     "output_type": "display_data"
    }
   ],
   "source": [
    "#создадим дополнительный столбец цены разделенный на 1 млн. для лучшего понимания графика\n",
    "realty['last_price_new'] = realty['last_price'] / 1000000\n",
    "realty.hist('last_price_new', bins= 100, range = (0, 10))\n",
    "plt.show()"
   ]
  },
  {
   "cell_type": "code",
   "execution_count": 30,
   "metadata": {},
   "outputs": [
    {
     "data": {
      "text/plain": [
       "count    21698.000000\n",
       "mean         2.071573\n",
       "std          1.080607\n",
       "min          0.000000\n",
       "25%          1.000000\n",
       "50%          2.000000\n",
       "75%          3.000000\n",
       "max         19.000000\n",
       "Name: rooms, dtype: float64"
      ]
     },
     "execution_count": 30,
     "metadata": {},
     "output_type": "execute_result"
    }
   ],
   "source": [
    "realty['rooms'].describe()"
   ]
  },
  {
   "cell_type": "code",
   "execution_count": 31,
   "metadata": {},
   "outputs": [
    {
     "data": {
      "image/png": "[encoded data removed]",
      "text/plain": [
       "<Figure size 432x288 with 1 Axes>"
      ]
     },
     "metadata": {
      "needs_background": "light"
     },
     "output_type": "display_data"
    }
   ],
   "source": [
    "realty.hist('rooms', bins= 10, range=(0,10))\n",
    "plt.show()"
   ]
  },
  {
   "cell_type": "code",
   "execution_count": 32,
   "metadata": {},
   "outputs": [
    {
     "data": {
      "text/plain": [
       "count    21698.000000\n",
       "mean         2.738027\n",
       "std          1.036750\n",
       "min          1.000000\n",
       "25%          2.550000\n",
       "50%          2.650000\n",
       "75%          2.750000\n",
       "max        100.000000\n",
       "Name: ceiling_height, dtype: float64"
      ]
     },
     "execution_count": 32,
     "metadata": {},
     "output_type": "execute_result"
    }
   ],
   "source": [
    "realty['ceiling_height'].describe()"
   ]
  },
  {
   "cell_type": "code",
   "execution_count": 33,
   "metadata": {},
   "outputs": [
    {
     "data": {
      "image/png": "[encoded data removed]",
      "text/plain": [
       "<Figure size 432x288 with 1 Axes>"
      ]
     },
     "metadata": {
      "needs_background": "light"
     },
     "output_type": "display_data"
    }
   ],
   "source": [
    "realty.hist('ceiling_height', bins= 10, range = (2, 4))\n",
    "plt.show()"
   ]
  },
  {
   "cell_type": "markdown",
   "metadata": {},
   "source": [
    "**Вывод по гистограммам**"
   ]
  },
  {
   "cell_type": "markdown",
   "metadata": {},
   "source": [
    "На данном этами гистограммы по основным параметрам дали нам визуальное представление о результатах. Так можно сказать, что большинство квартир в наших данных 40-69 квадратных метров. Стоимость квартир очень вариативна, в каждом квартиле есть свои выбросы. Можно сказать, что средняя стоимость квартир 3,5-6 млн.рублей. По количеству комнат объявление по продаже квартир больше 4 комнат уже редкость. И высота потолков в большинстве случаев 2,6-2,8 метров. "
   ]
  },
  {
   "cell_type": "markdown",
   "metadata": {},
   "source": [
    "## <a id=\"time_sale\">Изучение времени продажи "
   ]
  },
  {
   "cell_type": "markdown",
   "metadata": {},
   "source": [
    "Изучим время продажи квартир. Построим гистограмму по месяцам публикаций объявлений и построим график продолжительность публикаций."
   ]
  },
  {
   "cell_type": "code",
   "execution_count": 34,
   "metadata": {},
   "outputs": [
    {
     "data": {
      "image/png": "[encoded data removed]",
      "text/plain": [
       "<Figure size 432x288 with 1 Axes>"
      ]
     },
     "metadata": {
      "needs_background": "light"
     },
     "output_type": "display_data"
    }
   ],
   "source": [
    "#гистограмма по месяцу публикации\n",
    "realty.hist('month', bins=12)\n",
    "plt.show()"
   ]
  },
  {
   "cell_type": "markdown",
   "metadata": {},
   "source": [
    "Рассмотрим срок публикации объявлений. При построении графика отбросим нулевые значения."
   ]
  },
  {
   "cell_type": "code",
   "execution_count": 35,
   "metadata": {},
   "outputs": [
    {
     "data": {
      "text/plain": [
       "count    21698.000000\n",
       "mean       159.400083\n",
       "std        215.229849\n",
       "min          0.000000\n",
       "25%         21.000000\n",
       "50%         77.000000\n",
       "75%        204.000000\n",
       "max       1580.000000\n",
       "Name: days_exposition, dtype: float64"
      ]
     },
     "execution_count": 35,
     "metadata": {},
     "output_type": "execute_result"
    }
   ],
   "source": [
    "realty['days_exposition'].describe()"
   ]
  },
  {
   "cell_type": "code",
   "execution_count": 36,
   "metadata": {},
   "outputs": [
    {
     "data": {
      "text/plain": [
       "'мы отрезаем 8.3% данных'"
      ]
     },
     "execution_count": 36,
     "metadata": {},
     "output_type": "execute_result"
    }
   ],
   "source": [
    "# расчет межквартильного размаха\n",
    "q1=realty.days_exposition.quantile(0.25)\n",
    "q3=realty.days_exposition.quantile(0.75)\n",
    "iqr=q3-q1\n",
    "realty_days= realty.query('days_exposition <= @q3+1.5*@iqr')\n",
    "'мы отрезаем {:.1%} данных'.format(1-realty_days.shape[0] / realty.shape[0])"
   ]
  },
  {
   "cell_type": "code",
   "execution_count": 37,
   "metadata": {},
   "outputs": [
    {
     "data": {
      "image/png": "[encoded data removed]",
      "text/plain": [
       "<Figure size 432x288 with 1 Axes>"
      ]
     },
     "metadata": {
      "needs_background": "light"
     },
     "output_type": "display_data"
    }
   ],
   "source": [
    "#ограничем график значением равным третьему квартилю плюс 1.5 межквартильнам растоянием(478,5)\n",
    "realty_days.query('days_exposition != 0').plot(y='days_exposition', kind='hist', bins=100, grid=True)\n",
    "plt.show()"
   ]
  },
  {
   "cell_type": "markdown",
   "metadata": {},
   "source": [
    "На графике есть характерные выбросы, рассмотрим эти  промежутки подробнее."
   ]
  },
  {
   "cell_type": "code",
   "execution_count": 38,
   "metadata": {},
   "outputs": [
    {
     "data": {
      "image/png": "[encoded data removed]",
      "text/plain": [
       "<Figure size 432x288 with 1 Axes>"
      ]
     },
     "metadata": {
      "needs_background": "light"
     },
     "output_type": "display_data"
    }
   ],
   "source": [
    "realty.query('days_exposition != 0 and days_exposition <100').plot(y='days_exposition', kind='hist', bins=100, grid=True)\n",
    "plt.show()"
   ]
  },
  {
   "cell_type": "markdown",
   "metadata": {},
   "source": [
    "Убераем редкие и выбивающиеся значения"
   ]
  },
  {
   "cell_type": "code",
   "execution_count": 39,
   "metadata": {},
   "outputs": [
    {
     "data": {
      "image/png": "[encoded data removed]",
      "text/plain": [
       "<Figure size 432x288 with 1 Axes>"
      ]
     },
     "metadata": {
      "needs_background": "light"
     },
     "output_type": "display_data"
    }
   ],
   "source": [
    "bad_values = [0, 30, 45, 60, 90]\n",
    "\n",
    "good_realty_days = realty.query('days_exposition not in @bad_values')\n",
    "good_realty_days.plot(y='days_exposition', kind='hist', bins=100, grid=True, range = (0, 500))\n",
    "\n",
    "plt.show()"
   ]
  },
  {
   "cell_type": "markdown",
   "metadata": {},
   "source": [
    "**Вывод**"
   ]
  },
  {
   "cell_type": "markdown",
   "metadata": {},
   "source": [
    "Больше всего объявлений публикуется в феврале-апреле и ноября. Меньше всего в январе, мае и декабре. В чаще всего объявление \"висит\" в течение 77 дней. Примерно на 45, 60 снимается с публикации очень много объявлений. \n",
    "Интересно еще что часть объявлений снимается с прожади в первые 7-10 дней и спустя месяц, можно объяснить это тем, что подобные объявления суперуспешные и их очень быстро продают. Есть объявления больше 1,5 лет - это уже необычно долгие продажи. Рекордное значение - 1580 дней или больше 4 лет. Вероятно, это объявление просто забыли снять с публикации. "
   ]
  },
  {
   "cell_type": "markdown",
   "metadata": {},
   "source": [
    "## <a id=\"influence\">Влияние факторов на стоимость"
   ]
  },
  {
   "cell_type": "markdown",
   "metadata": {},
   "source": [
    "Будем искать какие факторы больше всего влияют на стоимость квартиры. Для этого изучим, зависит ли цена от квадратного метра от площади, числа комнат, этажа (первого или последнего), удалённости от центра. Также изучите зависимость от даты размещения: дня недели, месяца и года."
   ]
  },
  {
   "cell_type": "code",
   "execution_count": 40,
   "metadata": {},
   "outputs": [
    {
     "data": {
      "image/png": "[encoded data removed]",
      "text/plain": [
       "<Figure size 432x288 with 1 Axes>"
      ]
     },
     "metadata": {
      "needs_background": "light"
     },
     "output_type": "display_data"
    }
   ],
   "source": [
    "#Строим график по сводной таблице площадь-цена за квадратный метр\n",
    "pivot_area_price = realty.pivot_table(index='total_area', values='price_metr', aggfunc='median')\n",
    "pivot_area_price.columns = ['area_price_median']\n",
    "pivot_area_price.plot(style='o', y='area_price_median',grid=True) \n",
    "plt.show()"
   ]
  },
  {
   "cell_type": "code",
   "execution_count": 41,
   "metadata": {},
   "outputs": [
    {
     "data": {
      "image/png": "[encoded data removed]",
      "text/plain": [
       "<Figure size 432x288 with 1 Axes>"
      ]
     },
     "metadata": {
      "needs_background": "light"
     },
     "output_type": "display_data"
    }
   ],
   "source": [
    "#Строим график по сводной таблице категория этажа-цена за квадратный метр\n",
    "pivot_floor_price = realty.pivot_table(index='floor_category', values='price_metr', aggfunc='median')\n",
    "pivot_floor_price.columns = ['floor_price_median']\n",
    "pivot_floor_price.plot(style='o-', y='floor_price_median',grid=True) \n",
    "plt.show()"
   ]
  },
  {
   "cell_type": "code",
   "execution_count": 42,
   "metadata": {},
   "outputs": [
    {
     "data": {
      "image/png": "[encoded data removed]",
      "text/plain": [
       "<Figure size 432x288 with 1 Axes>"
      ]
     },
     "metadata": {
      "needs_background": "light"
     },
     "output_type": "display_data"
    }
   ],
   "source": [
    "#Строим график по сводной таблице количества комнат-цена за квадратный метр\n",
    "#Ограничем наш график 6 комнатами\n",
    "pivot_rooms_price = realty.query('rooms <= 6').pivot_table(index='rooms', values='price_metr', aggfunc='median')\n",
    "pivot_rooms_price.columns = ['rooms_price_median']\n",
    "pivot_rooms_price.plot(style='o-', y='rooms_price_median',grid=True) \n",
    "plt.show()"
   ]
  },
  {
   "cell_type": "code",
   "execution_count": 43,
   "metadata": {},
   "outputs": [
    {
     "data": {
      "image/png": "[encoded data removed]",
      "text/plain": [
       "<Figure size 432x288 with 1 Axes>"
      ]
     },
     "metadata": {
      "needs_background": "light"
     },
     "output_type": "display_data"
    }
   ],
   "source": [
    "#Строим график по сводной таблице удалённости от центра-цена за квадратный метр\n",
    "pivot_center_price = (realty\n",
    "                      .query('cityCenters_nearest != 0')\n",
    "                      .pivot_table(index='cityCenters_nearest', values='price_metr', aggfunc='median')\n",
    "                     )\n",
    "pivot_center_price.columns = ['center_price_median']\n",
    "pivot_center_price.plot(style='o', y='center_price_median',grid=True) \n",
    "plt.show()"
   ]
  },
  {
   "cell_type": "markdown",
   "metadata": {},
   "source": [
    "Построим матрицу корреляции"
   ]
  },
  {
   "cell_type": "code",
   "execution_count": 44,
   "metadata": {},
   "outputs": [
    {
     "data": {
      "text/html": [
       "<style  type=\"text/css\" >\n",
       "    #T_543bf30a_4612_11eb_86f3_02420a395688row0_col0 {\n",
       "            background-color:  #b40426;\n",
       "            color:  #f1f1f1;\n",
       "        }    #T_543bf30a_4612_11eb_86f3_02420a395688row0_col1 {\n",
       "            background-color:  #f59d7e;\n",
       "            color:  #000000;\n",
       "        }    #T_543bf30a_4612_11eb_86f3_02420a395688row0_col2 {\n",
       "            background-color:  #f7b79b;\n",
       "            color:  #000000;\n",
       "        }    #T_543bf30a_4612_11eb_86f3_02420a395688row0_col3 {\n",
       "            background-color:  #cedaeb;\n",
       "            color:  #000000;\n",
       "        }    #T_543bf30a_4612_11eb_86f3_02420a395688row0_col4 {\n",
       "            background-color:  #6b8df0;\n",
       "            color:  #000000;\n",
       "        }    #T_543bf30a_4612_11eb_86f3_02420a395688row0_col5 {\n",
       "            background-color:  #4257c9;\n",
       "            color:  #f1f1f1;\n",
       "        }    #T_543bf30a_4612_11eb_86f3_02420a395688row1_col0 {\n",
       "            background-color:  #f39577;\n",
       "            color:  #000000;\n",
       "        }    #T_543bf30a_4612_11eb_86f3_02420a395688row1_col1 {\n",
       "            background-color:  #b40426;\n",
       "            color:  #f1f1f1;\n",
       "        }    #T_543bf30a_4612_11eb_86f3_02420a395688row1_col2 {\n",
       "            background-color:  #b2ccfb;\n",
       "            color:  #000000;\n",
       "        }    #T_543bf30a_4612_11eb_86f3_02420a395688row1_col3 {\n",
       "            background-color:  #7597f6;\n",
       "            color:  #000000;\n",
       "        }    #T_543bf30a_4612_11eb_86f3_02420a395688row1_col4 {\n",
       "            background-color:  #8caffe;\n",
       "            color:  #000000;\n",
       "        }    #T_543bf30a_4612_11eb_86f3_02420a395688row1_col5 {\n",
       "            background-color:  #5977e3;\n",
       "            color:  #000000;\n",
       "        }    #T_543bf30a_4612_11eb_86f3_02420a395688row2_col0 {\n",
       "            background-color:  #f7ba9f;\n",
       "            color:  #000000;\n",
       "        }    #T_543bf30a_4612_11eb_86f3_02420a395688row2_col1 {\n",
       "            background-color:  #9abbff;\n",
       "            color:  #000000;\n",
       "        }    #T_543bf30a_4612_11eb_86f3_02420a395688row2_col2 {\n",
       "            background-color:  #b40426;\n",
       "            color:  #f1f1f1;\n",
       "        }    #T_543bf30a_4612_11eb_86f3_02420a395688row2_col3 {\n",
       "            background-color:  #ed8366;\n",
       "            color:  #000000;\n",
       "        }    #T_543bf30a_4612_11eb_86f3_02420a395688row2_col4 {\n",
       "            background-color:  #5d7ce6;\n",
       "            color:  #000000;\n",
       "        }    #T_543bf30a_4612_11eb_86f3_02420a395688row2_col5 {\n",
       "            background-color:  #3b4cc0;\n",
       "            color:  #f1f1f1;\n",
       "        }    #T_543bf30a_4612_11eb_86f3_02420a395688row3_col0 {\n",
       "            background-color:  #bed2f6;\n",
       "            color:  #000000;\n",
       "        }    #T_543bf30a_4612_11eb_86f3_02420a395688row3_col1 {\n",
       "            background-color:  #445acc;\n",
       "            color:  #f1f1f1;\n",
       "        }    #T_543bf30a_4612_11eb_86f3_02420a395688row3_col2 {\n",
       "            background-color:  #ef886b;\n",
       "            color:  #000000;\n",
       "        }    #T_543bf30a_4612_11eb_86f3_02420a395688row3_col3 {\n",
       "            background-color:  #b40426;\n",
       "            color:  #f1f1f1;\n",
       "        }    #T_543bf30a_4612_11eb_86f3_02420a395688row3_col4 {\n",
       "            background-color:  #3b4cc0;\n",
       "            color:  #f1f1f1;\n",
       "        }    #T_543bf30a_4612_11eb_86f3_02420a395688row3_col5 {\n",
       "            background-color:  #3f53c6;\n",
       "            color:  #f1f1f1;\n",
       "        }    #T_543bf30a_4612_11eb_86f3_02420a395688row4_col0 {\n",
       "            background-color:  #516ddb;\n",
       "            color:  #000000;\n",
       "        }    #T_543bf30a_4612_11eb_86f3_02420a395688row4_col1 {\n",
       "            background-color:  #5b7ae5;\n",
       "            color:  #000000;\n",
       "        }    #T_543bf30a_4612_11eb_86f3_02420a395688row4_col2 {\n",
       "            background-color:  #4a63d3;\n",
       "            color:  #f1f1f1;\n",
       "        }    #T_543bf30a_4612_11eb_86f3_02420a395688row4_col3 {\n",
       "            background-color:  #3b4cc0;\n",
       "            color:  #f1f1f1;\n",
       "        }    #T_543bf30a_4612_11eb_86f3_02420a395688row4_col4 {\n",
       "            background-color:  #b40426;\n",
       "            color:  #f1f1f1;\n",
       "        }    #T_543bf30a_4612_11eb_86f3_02420a395688row4_col5 {\n",
       "            background-color:  #6282ea;\n",
       "            color:  #000000;\n",
       "        }    #T_543bf30a_4612_11eb_86f3_02420a395688row5_col0 {\n",
       "            background-color:  #3b4cc0;\n",
       "            color:  #f1f1f1;\n",
       "        }    #T_543bf30a_4612_11eb_86f3_02420a395688row5_col1 {\n",
       "            background-color:  #3b4cc0;\n",
       "            color:  #f1f1f1;\n",
       "        }    #T_543bf30a_4612_11eb_86f3_02420a395688row5_col2 {\n",
       "            background-color:  #3b4cc0;\n",
       "            color:  #f1f1f1;\n",
       "        }    #T_543bf30a_4612_11eb_86f3_02420a395688row5_col3 {\n",
       "            background-color:  #536edd;\n",
       "            color:  #000000;\n",
       "        }    #T_543bf30a_4612_11eb_86f3_02420a395688row5_col4 {\n",
       "            background-color:  #7597f6;\n",
       "            color:  #000000;\n",
       "        }    #T_543bf30a_4612_11eb_86f3_02420a395688row5_col5 {\n",
       "            background-color:  #b40426;\n",
       "            color:  #f1f1f1;\n",
       "        }</style><table id=\"T_543bf30a_4612_11eb_86f3_02420a395688\" ><thead>    <tr>        <th class=\"blank level0\" ></th>        <th class=\"col_heading level0 col0\" >last_price</th>        <th class=\"col_heading level0 col1\" >price_metr</th>        <th class=\"col_heading level0 col2\" >total_area</th>        <th class=\"col_heading level0 col3\" >rooms</th>        <th class=\"col_heading level0 col4\" >floor</th>        <th class=\"col_heading level0 col5\" >cityCenters_nearest</th>    </tr></thead><tbody>\n",
       "                <tr>\n",
       "                        <th id=\"T_543bf30a_4612_11eb_86f3_02420a395688level0_row0\" class=\"row_heading level0 row0\" >last_price</th>\n",
       "                        <td id=\"T_543bf30a_4612_11eb_86f3_02420a395688row0_col0\" class=\"data row0 col0\" >1</td>\n",
       "                        <td id=\"T_543bf30a_4612_11eb_86f3_02420a395688row0_col1\" class=\"data row0 col1\" >0.75</td>\n",
       "                        <td id=\"T_543bf30a_4612_11eb_86f3_02420a395688row0_col2\" class=\"data row0 col2\" >0.64</td>\n",
       "                        <td id=\"T_543bf30a_4612_11eb_86f3_02420a395688row0_col3\" class=\"data row0 col3\" >0.36</td>\n",
       "                        <td id=\"T_543bf30a_4612_11eb_86f3_02420a395688row0_col4\" class=\"data row0 col4\" >0.026</td>\n",
       "                        <td id=\"T_543bf30a_4612_11eb_86f3_02420a395688row0_col5\" class=\"data row0 col5\" >-0.054</td>\n",
       "            </tr>\n",
       "            <tr>\n",
       "                        <th id=\"T_543bf30a_4612_11eb_86f3_02420a395688level0_row1\" class=\"row_heading level0 row1\" >price_metr</th>\n",
       "                        <td id=\"T_543bf30a_4612_11eb_86f3_02420a395688row1_col0\" class=\"data row1 col0\" >0.75</td>\n",
       "                        <td id=\"T_543bf30a_4612_11eb_86f3_02420a395688row1_col1\" class=\"data row1 col1\" >1</td>\n",
       "                        <td id=\"T_543bf30a_4612_11eb_86f3_02420a395688row1_col2\" class=\"data row1 col2\" >0.31</td>\n",
       "                        <td id=\"T_543bf30a_4612_11eb_86f3_02420a395688row1_col3\" class=\"data row1 col3\" >0.058</td>\n",
       "                        <td id=\"T_543bf30a_4612_11eb_86f3_02420a395688row1_col4\" class=\"data row1 col4\" >0.13</td>\n",
       "                        <td id=\"T_543bf30a_4612_11eb_86f3_02420a395688row1_col5\" class=\"data row1 col5\" >0.026</td>\n",
       "            </tr>\n",
       "            <tr>\n",
       "                        <th id=\"T_543bf30a_4612_11eb_86f3_02420a395688level0_row2\" class=\"row_heading level0 row2\" >total_area</th>\n",
       "                        <td id=\"T_543bf30a_4612_11eb_86f3_02420a395688row2_col0\" class=\"data row2 col0\" >0.64</td>\n",
       "                        <td id=\"T_543bf30a_4612_11eb_86f3_02420a395688row2_col1\" class=\"data row2 col1\" >0.31</td>\n",
       "                        <td id=\"T_543bf30a_4612_11eb_86f3_02420a395688row2_col2\" class=\"data row2 col2\" >1</td>\n",
       "                        <td id=\"T_543bf30a_4612_11eb_86f3_02420a395688row2_col3\" class=\"data row2 col3\" >0.77</td>\n",
       "                        <td id=\"T_543bf30a_4612_11eb_86f3_02420a395688row2_col4\" class=\"data row2 col4\" >-0.026</td>\n",
       "                        <td id=\"T_543bf30a_4612_11eb_86f3_02420a395688row2_col5\" class=\"data row2 col5\" >-0.082</td>\n",
       "            </tr>\n",
       "            <tr>\n",
       "                        <th id=\"T_543bf30a_4612_11eb_86f3_02420a395688level0_row3\" class=\"row_heading level0 row3\" >rooms</th>\n",
       "                        <td id=\"T_543bf30a_4612_11eb_86f3_02420a395688row3_col0\" class=\"data row3 col0\" >0.36</td>\n",
       "                        <td id=\"T_543bf30a_4612_11eb_86f3_02420a395688row3_col1\" class=\"data row3 col1\" >0.058</td>\n",
       "                        <td id=\"T_543bf30a_4612_11eb_86f3_02420a395688row3_col2\" class=\"data row3 col2\" >0.77</td>\n",
       "                        <td id=\"T_543bf30a_4612_11eb_86f3_02420a395688row3_col3\" class=\"data row3 col3\" >1</td>\n",
       "                        <td id=\"T_543bf30a_4612_11eb_86f3_02420a395688row3_col4\" class=\"data row3 col4\" >-0.15</td>\n",
       "                        <td id=\"T_543bf30a_4612_11eb_86f3_02420a395688row3_col5\" class=\"data row3 col5\" >-0.062</td>\n",
       "            </tr>\n",
       "            <tr>\n",
       "                        <th id=\"T_543bf30a_4612_11eb_86f3_02420a395688level0_row4\" class=\"row_heading level0 row4\" >floor</th>\n",
       "                        <td id=\"T_543bf30a_4612_11eb_86f3_02420a395688row4_col0\" class=\"data row4 col0\" >0.026</td>\n",
       "                        <td id=\"T_543bf30a_4612_11eb_86f3_02420a395688row4_col1\" class=\"data row4 col1\" >0.13</td>\n",
       "                        <td id=\"T_543bf30a_4612_11eb_86f3_02420a395688row4_col2\" class=\"data row4 col2\" >-0.026</td>\n",
       "                        <td id=\"T_543bf30a_4612_11eb_86f3_02420a395688row4_col3\" class=\"data row4 col3\" >-0.15</td>\n",
       "                        <td id=\"T_543bf30a_4612_11eb_86f3_02420a395688row4_col4\" class=\"data row4 col4\" >1</td>\n",
       "                        <td id=\"T_543bf30a_4612_11eb_86f3_02420a395688row4_col5\" class=\"data row4 col5\" >0.056</td>\n",
       "            </tr>\n",
       "            <tr>\n",
       "                        <th id=\"T_543bf30a_4612_11eb_86f3_02420a395688level0_row5\" class=\"row_heading level0 row5\" >cityCenters_nearest</th>\n",
       "                        <td id=\"T_543bf30a_4612_11eb_86f3_02420a395688row5_col0\" class=\"data row5 col0\" >-0.054</td>\n",
       "                        <td id=\"T_543bf30a_4612_11eb_86f3_02420a395688row5_col1\" class=\"data row5 col1\" >0.026</td>\n",
       "                        <td id=\"T_543bf30a_4612_11eb_86f3_02420a395688row5_col2\" class=\"data row5 col2\" >-0.082</td>\n",
       "                        <td id=\"T_543bf30a_4612_11eb_86f3_02420a395688row5_col3\" class=\"data row5 col3\" >-0.062</td>\n",
       "                        <td id=\"T_543bf30a_4612_11eb_86f3_02420a395688row5_col4\" class=\"data row5 col4\" >0.056</td>\n",
       "                        <td id=\"T_543bf30a_4612_11eb_86f3_02420a395688row5_col5\" class=\"data row5 col5\" >1</td>\n",
       "            </tr>\n",
       "    </tbody></table>"
      ],
      "text/plain": [
       "<pandas.io.formats.style.Styler at 0x7f1b0dc2c9d0>"
      ]
     },
     "execution_count": 44,
     "metadata": {},
     "output_type": "execute_result"
    }
   ],
   "source": [
    "cols = ['last_price','price_metr', 'total_area', 'rooms','floor', 'cityCenters_nearest']\n",
    "# по floor_category не строим корреляцию,разные форматы\n",
    "realty[cols].corr().style.background_gradient(cmap='coolwarm').set_precision(2)"
   ]
  },
  {
   "cell_type": "markdown",
   "metadata": {},
   "source": [
    "По текущим графикам и матрице корреляции можно сделать следующие выводы: цена за квадратныый метр снижается от однокомнатных к трехкомнатным.  цена сильно зависит от категории этажа. Так стоимость за квадратный метр квартир на первом этаже ниже чем на последнем и еще ниже чем на других этажах. В графике зависимости цены от расстояния от цетра есть разрыв на 4,5 км."
   ]
  },
  {
   "cell_type": "markdown",
   "metadata": {},
   "source": [
    "### <a id=\"influence_data\">Зависимость от даты"
   ]
  },
  {
   "cell_type": "markdown",
   "metadata": {},
   "source": [
    "Изучим зависимость цены от даты размещения: дня недели, месяца и года."
   ]
  },
  {
   "cell_type": "code",
   "execution_count": 45,
   "metadata": {},
   "outputs": [
    {
     "data": {
      "image/png": "[encoded data removed]",
      "text/plain": [
       "<Figure size 432x288 with 1 Axes>"
      ]
     },
     "metadata": {
      "needs_background": "light"
     },
     "output_type": "display_data"
    }
   ],
   "source": [
    "pivot_weekday_price = realty.pivot_table(index='weekday', values='price_metr', aggfunc=['median','count'])\n",
    "pivot_weekday_price.columns = ['median_weekday_price','count_weekday_price']\n",
    "pivot_weekday_price.plot(style='o-', y='median_weekday_price',grid=True) \n",
    "plt.show()"
   ]
  },
  {
   "cell_type": "code",
   "execution_count": 46,
   "metadata": {},
   "outputs": [
    {
     "data": {
      "text/plain": [
       "-0.00736937689962862"
      ]
     },
     "execution_count": 46,
     "metadata": {},
     "output_type": "execute_result"
    }
   ],
   "source": [
    "#расчет коэффициента корреляции\n",
    "realty['price_metr'].corr(realty['weekday'])"
   ]
  },
  {
   "cell_type": "code",
   "execution_count": 47,
   "metadata": {},
   "outputs": [
    {
     "data": {
      "image/png": "[encoded data removed]",
      "text/plain": [
       "<Figure size 432x288 with 1 Axes>"
      ]
     },
     "metadata": {
      "needs_background": "light"
     },
     "output_type": "display_data"
    }
   ],
   "source": [
    "#Зависимость количества объявлений в зависимости от дня недели\n",
    "pivot_weekday_price.plot(style='o-', y='count_weekday_price',grid=True) \n",
    "plt.show()"
   ]
  },
  {
   "cell_type": "markdown",
   "metadata": {},
   "source": [
    "Делаем вычисления по месяцу"
   ]
  },
  {
   "cell_type": "code",
   "execution_count": 48,
   "metadata": {},
   "outputs": [
    {
     "data": {
      "image/png": "[encoded data removed]",
      "text/plain": [
       "<Figure size 432x288 with 1 Axes>"
      ]
     },
     "metadata": {
      "needs_background": "light"
     },
     "output_type": "display_data"
    }
   ],
   "source": [
    "pivot_month_price = realty.pivot_table(index='month', values='price_metr', aggfunc='median')\n",
    "pivot_month_price.columns = ['median_month_price']\n",
    "pivot_month_price.plot(style='o-', y='median_month_price',grid=True) \n",
    "plt.show()"
   ]
  },
  {
   "cell_type": "markdown",
   "metadata": {},
   "source": [
    "Делаем вычисления по году"
   ]
  },
  {
   "cell_type": "code",
   "execution_count": 49,
   "metadata": {},
   "outputs": [
    {
     "data": {
      "image/png": "[encoded data removed]",
      "text/plain": [
       "<Figure size 432x288 with 1 Axes>"
      ]
     },
     "metadata": {
      "needs_background": "light"
     },
     "output_type": "display_data"
    }
   ],
   "source": [
    "pivot_year_price = realty.pivot_table(index='year', values='price_metr', aggfunc=['median','count'])\n",
    "pivot_year_price.columns = ['median_year_price','count_year_price']\n",
    "pivot_year_price.plot(style='o-', y='median_year_price',grid=True) \n",
    "plt.show()\n"
   ]
  },
  {
   "cell_type": "markdown",
   "metadata": {},
   "source": [
    "В выходные дни публикуется меньше всего объявлений. Очень низкий коэффициент корреляции стоимости квадратного метра от дня недели. Можно сказать, что квартиры стоят одинаково в понедельник или субботу.\n",
    "Судя по графику, стоимость квадратного метра снижается  в мае и июне. Возможно, люди хотят поскорее продать квартиры, чтобы отдыхать летом, поэтому снижают стоимость. Наблюдается снижение стоимости в октябре, можно также объяснить тем, что люди стремятся завершить продажу к новому году.\n",
    "По графику зависимости стоимости квадратного метра от года публикации объявления о продаже можно судить о кризисе рынка недвижимости (и вцелом экономики) в 2014-2016 годах. Тогда стоимость квадратного метра резко снижалась и только после 2016 года динамика изменилась."
   ]
  },
  {
   "cell_type": "markdown",
   "metadata": {},
   "source": [
    "## <a id=\"top10\">ТОП 10 населенных пунктов"
   ]
  },
  {
   "cell_type": "markdown",
   "metadata": {},
   "source": [
    "Сделаем отбор 10 населённых пунктов с наибольшим числом объявлений. Посчитаем среднюю цену квадратного метра в этих населённых пунктах. Выделим населённые пункты с самой высокой и низкой стоимостью жилья. "
   ]
  },
  {
   "cell_type": "code",
   "execution_count": 50,
   "metadata": {},
   "outputs": [
    {
     "data": {
      "text/plain": [
       "Санкт-Петербург      14532\n",
       "посёлок Мурино         461\n",
       "посёлок Шушары         403\n",
       "Всеволожск             371\n",
       "Пушкин                 345\n",
       "Колпино                328\n",
       "посёлок Парголово      301\n",
       "Гатчина                292\n",
       "деревня Кудрово        262\n",
       "Петергоф               197\n",
       "Name: locality_name, dtype: int64"
      ]
     },
     "execution_count": 50,
     "metadata": {},
     "output_type": "execute_result"
    }
   ],
   "source": [
    "#топ 10 населенных пунктов в объявлениях\n",
    "realty['locality_name'].value_counts().head(10) "
   ]
  },
  {
   "cell_type": "code",
   "execution_count": 51,
   "metadata": {},
   "outputs": [
    {
     "data": {
      "text/html": [
       "<div>\n",
       "<style scoped>\n",
       "    .dataframe tbody tr th:only-of-type {\n",
       "        vertical-align: middle;\n",
       "    }\n",
       "\n",
       "    .dataframe tbody tr th {\n",
       "        vertical-align: top;\n",
       "    }\n",
       "\n",
       "    .dataframe thead th {\n",
       "        text-align: right;\n",
       "    }\n",
       "</style>\n",
       "<table border=\"1\" class=\"dataframe\">\n",
       "  <thead>\n",
       "    <tr style=\"text-align: right;\">\n",
       "      <th></th>\n",
       "      <th>mean_price</th>\n",
       "      <th>count_realty</th>\n",
       "    </tr>\n",
       "    <tr>\n",
       "      <th>locality_name</th>\n",
       "      <th></th>\n",
       "      <th></th>\n",
       "    </tr>\n",
       "  </thead>\n",
       "  <tbody>\n",
       "    <tr>\n",
       "      <td>Санкт-Петербург</td>\n",
       "      <td>114233.0</td>\n",
       "      <td>14532</td>\n",
       "    </tr>\n",
       "    <tr>\n",
       "      <td>Пушкин</td>\n",
       "      <td>103428.0</td>\n",
       "      <td>345</td>\n",
       "    </tr>\n",
       "    <tr>\n",
       "      <td>деревня Кудрово</td>\n",
       "      <td>92702.0</td>\n",
       "      <td>262</td>\n",
       "    </tr>\n",
       "    <tr>\n",
       "      <td>посёлок Парголово</td>\n",
       "      <td>90443.0</td>\n",
       "      <td>301</td>\n",
       "    </tr>\n",
       "    <tr>\n",
       "      <td>посёлок Мурино</td>\n",
       "      <td>86366.0</td>\n",
       "      <td>461</td>\n",
       "    </tr>\n",
       "    <tr>\n",
       "      <td>Петергоф</td>\n",
       "      <td>84481.0</td>\n",
       "      <td>197</td>\n",
       "    </tr>\n",
       "    <tr>\n",
       "      <td>посёлок Шушары</td>\n",
       "      <td>78750.0</td>\n",
       "      <td>403</td>\n",
       "    </tr>\n",
       "    <tr>\n",
       "      <td>Колпино</td>\n",
       "      <td>75344.0</td>\n",
       "      <td>328</td>\n",
       "    </tr>\n",
       "    <tr>\n",
       "      <td>Всеволожск</td>\n",
       "      <td>68880.0</td>\n",
       "      <td>371</td>\n",
       "    </tr>\n",
       "    <tr>\n",
       "      <td>Гатчина</td>\n",
       "      <td>68627.0</td>\n",
       "      <td>292</td>\n",
       "    </tr>\n",
       "  </tbody>\n",
       "</table>\n",
       "</div>"
      ],
      "text/plain": [
       "                   mean_price  count_realty\n",
       "locality_name                              \n",
       "Санкт-Петербург      114233.0         14532\n",
       "Пушкин               103428.0           345\n",
       "деревня Кудрово       92702.0           262\n",
       "посёлок Парголово     90443.0           301\n",
       "посёлок Мурино        86366.0           461\n",
       "Петергоф              84481.0           197\n",
       "посёлок Шушары        78750.0           403\n",
       "Колпино               75344.0           328\n",
       "Всеволожск            68880.0           371\n",
       "Гатчина               68627.0           292"
      ]
     },
     "execution_count": 51,
     "metadata": {},
     "output_type": "execute_result"
    }
   ],
   "source": [
    "#создадим список населенных пунктов\n",
    "top10 = ['Санкт-Петербург', 'посёлок Мурино', 'посёлок Шушары', 'Всеволожск', 'Пушкин', 'Колпино', \n",
    "         'посёлок Парголово', 'Гатчина', 'деревня Кудрово', 'Петергоф']\n",
    "\n",
    "#создаем сводную таблицу по стоимости квадратного метра\n",
    "pivot_top10 = (realty\n",
    "               .query('locality_name in @top10')\n",
    "               .pivot_table(index='locality_name', values='price_metr', aggfunc=['mean','count'])\n",
    "              )\n",
    "pivot_top10.columns = ['mean_price','count_realty']\n",
    "\n",
    "#округляем и выводим по убыванию\n",
    "pivot_top10.round().sort_values(by = 'mean_price', ascending =False)"
   ]
  },
  {
   "cell_type": "markdown",
   "metadata": {},
   "source": [
    "Самая высокая стоимость стоимость квадратного метра, как и ожидалось, в Санкт-Петербурге, а самая низкая - в Гатчине."
   ]
  },
  {
   "cell_type": "markdown",
   "metadata": {},
   "source": [
    "## <a id=\"centr_piter\">Квартиры в центре Санкт-Петербурга"
   ]
  },
  {
   "cell_type": "markdown",
   "metadata": {},
   "source": [
    "Выделим квартиры в Санкт-Петербурге. Для начала определим, какая область входит в центр. Создадим столбец с расстоянием до центра в километрах. После этого посчитаем среднюю цену для каждого километра. Результат представим на графике: он должен показывать, как цена зависит от удалённости от центра. \n",
    "Одна из задач - определить границу, где график сильно меняется — это и будет центральная зона."
   ]
  },
  {
   "cell_type": "code",
   "execution_count": 52,
   "metadata": {},
   "outputs": [
    {
     "data": {
      "image/png": "[encoded data removed]",
      "text/plain": [
       "<Figure size 432x288 with 1 Axes>"
      ]
     },
     "metadata": {
      "needs_background": "light"
     },
     "output_type": "display_data"
    }
   ],
   "source": [
    "#создаем столбец удаленности от центра в км\n",
    "realty['center_km'] = (realty['cityCenters_nearest'] / 1000).round()\n",
    "\n",
    "#делаем сводную таблицу по срезу\n",
    "pivot_spb_center = (realty\n",
    "                    .query('locality_name == \"Санкт-Петербург\" and locality_name != 0')\n",
    "                    .pivot_table(index='center_km', values='price_metr', aggfunc='mean')\n",
    "                   )\n",
    "pivot_spb_center.columns = ['mean_price_metr']\n",
    "\n",
    "pivot_spb_center.plot(style='o-', y='mean_price_metr',grid=True)\n",
    "plt.show()"
   ]
  },
  {
   "cell_type": "markdown",
   "metadata": {},
   "source": [
    "Можно сказать, что стоимось квадратного метра для кварти дальше 7 км от центра снижается. И действительно в этот диаметр попадаю такие районы как Центральный, Адмиралтейски, Василеостровский и Петроградский.\n",
    "Можно еще отметить, наблюдается снижение относительно максимального значений для квартим ближе 3км от центра. Это можно объяснить тем, что в самом центре Санкт-Петербургк не так удобно как кажется нет достаточно мест для детей, часто шумно, недостаточно больщих прдуктовых магазинов. А также в центр СПб много коммунальных квартир, которые просто не все могут сразу выкупить, плюс в них нужно очень сильно вкладываться в плане ремонта. "
   ]
  },
  {
   "cell_type": "markdown",
   "metadata": {},
   "source": [
    "## Анализ квартир в центре Санкт-Петербурга"
   ]
  },
  {
   "cell_type": "markdown",
   "metadata": {},
   "source": [
    "Дополнительно проанализируем сегмент квартир в центре. Изучим следующие параметры: площадь, цена, число комнат, высота потолков. Также выделим факторы, которые влияют на стоимость квартиры (число комнат, этаж, удалённость от центра, дата размещения объявления). "
   ]
  },
  {
   "cell_type": "code",
   "execution_count": 53,
   "metadata": {},
   "outputs": [],
   "source": [
    "# выделим сегмент квартир в центре СПб\n",
    "realty_spb_center = realty.query('locality_name == \"Санкт-Петербург\" and center_km < 7')"
   ]
  },
  {
   "cell_type": "code",
   "execution_count": 54,
   "metadata": {},
   "outputs": [
    {
     "data": {
      "text/plain": [
       "count    2882.000000\n",
       "mean       93.419126\n",
       "std        58.054453\n",
       "min        12.000000\n",
       "25%        58.000000\n",
       "50%        80.000000\n",
       "75%       110.000000\n",
       "max       631.200000\n",
       "Name: total_area, dtype: float64"
      ]
     },
     "execution_count": 54,
     "metadata": {},
     "output_type": "execute_result"
    }
   ],
   "source": [
    "realty_spb_center['total_area'].describe()"
   ]
  },
  {
   "cell_type": "code",
   "execution_count": 55,
   "metadata": {},
   "outputs": [
    {
     "data": {
      "image/png": "[encoded data removed]",
      "text/plain": [
       "<Figure size 432x288 with 1 Axes>"
      ]
     },
     "metadata": {
      "needs_background": "light"
     },
     "output_type": "display_data"
    }
   ],
   "source": [
    "#график общей площади квартир в центре СПб\n",
    "realty_spb_center.hist('total_area', bins= 100, range=(0,200))\n",
    "plt.show()"
   ]
  },
  {
   "cell_type": "markdown",
   "metadata": {},
   "source": [
    "Средняя площадь квартир в центре больше общего распределения."
   ]
  },
  {
   "cell_type": "code",
   "execution_count": 56,
   "metadata": {},
   "outputs": [
    {
     "data": {
      "text/plain": [
       "count         2882.00000\n",
       "mean      14631756.20958\n",
       "std       25138309.70105\n",
       "min        1600000.00000\n",
       "25%        6700000.00000\n",
       "50%        9200000.00000\n",
       "75%       13990000.00000\n",
       "max      763000000.00000\n",
       "Name: last_price, dtype: object"
      ]
     },
     "execution_count": 56,
     "metadata": {},
     "output_type": "execute_result"
    }
   ],
   "source": [
    "#Смотрим стоимость квартир в центре СПб\n",
    "realty_spb_center['last_price'].describe().apply('{0:.5f}'.format)"
   ]
  },
  {
   "cell_type": "code",
   "execution_count": 57,
   "metadata": {},
   "outputs": [
    {
     "name": "stderr",
     "output_type": "stream",
     "text": [
      "/opt/conda/lib/python3.7/site-packages/ipykernel_launcher.py:2: SettingWithCopyWarning: \n",
      "A value is trying to be set on a copy of a slice from a DataFrame.\n",
      "Try using .loc[row_indexer,col_indexer] = value instead\n",
      "\n",
      "See the caveats in the documentation: http://pandas.pydata.org/pandas-docs/stable/user_guide/indexing.html#returning-a-view-versus-a-copy\n",
      "  \n"
     ]
    },
    {
     "data": {
      "image/png": "[encoded data removed]",
      "text/plain": [
       "<Figure size 432x288 with 1 Axes>"
      ]
     },
     "metadata": {
      "needs_background": "light"
     },
     "output_type": "display_data"
    }
   ],
   "source": [
    "#график стоимости квартир в центре СПб\n",
    "realty_spb_center['last_price_new'] = realty_spb_center['last_price'] / 1000000\n",
    "realty_spb_center.hist('last_price_new', bins= 100, range=(0,20))\n",
    "plt.show()"
   ]
  },
  {
   "cell_type": "markdown",
   "metadata": {},
   "source": [
    "Средняя стоимость квартир в центре выше. Самая дорогая квартира нашего исследования находится здесь"
   ]
  },
  {
   "cell_type": "code",
   "execution_count": 58,
   "metadata": {},
   "outputs": [
    {
     "data": {
      "text/plain": [
       "count    2882.000000\n",
       "mean        2.894865\n",
       "std         1.497788\n",
       "min         0.000000\n",
       "25%         2.000000\n",
       "50%         3.000000\n",
       "75%         4.000000\n",
       "max        19.000000\n",
       "Name: rooms, dtype: float64"
      ]
     },
     "execution_count": 58,
     "metadata": {},
     "output_type": "execute_result"
    }
   ],
   "source": [
    "#Смотрим число комнат квартир в центре СПб\n",
    "realty_spb_center['rooms'].describe()"
   ]
  },
  {
   "cell_type": "code",
   "execution_count": 59,
   "metadata": {},
   "outputs": [
    {
     "data": {
      "image/png": "[encoded data removed]",
      "text/plain": [
       "<Figure size 432x288 with 1 Axes>"
      ]
     },
     "metadata": {
      "needs_background": "light"
     },
     "output_type": "display_data"
    }
   ],
   "source": [
    "#график количества комнат в центре СПб\n",
    "realty_spb_center.hist('rooms', bins= 10)\n",
    "plt.show()"
   ]
  },
  {
   "cell_type": "markdown",
   "metadata": {},
   "source": [
    "Вывод по коичеству комнат"
   ]
  },
  {
   "cell_type": "code",
   "execution_count": 60,
   "metadata": {},
   "outputs": [
    {
     "data": {
      "text/plain": [
       "count    2882.000000\n",
       "mean        3.016985\n",
       "std         0.792067\n",
       "min         2.400000\n",
       "25%         2.720000\n",
       "50%         3.000000\n",
       "75%         3.200000\n",
       "max        32.000000\n",
       "Name: ceiling_height, dtype: float64"
      ]
     },
     "execution_count": 60,
     "metadata": {},
     "output_type": "execute_result"
    }
   ],
   "source": [
    "#Смотрим число комнат квартир в центре СПб\n",
    "realty_spb_center['ceiling_height'].describe()"
   ]
  },
  {
   "cell_type": "code",
   "execution_count": 61,
   "metadata": {},
   "outputs": [
    {
     "data": {
      "image/png": "[encoded data removed]",
      "text/plain": [
       "<Figure size 432x288 with 1 Axes>"
      ]
     },
     "metadata": {
      "needs_background": "light"
     },
     "output_type": "display_data"
    }
   ],
   "source": [
    "#график высоты потолков в центре СПб\n",
    "realty_spb_center.hist('ceiling_height', bins= 10, range= (2,4))\n",
    "plt.show()"
   ]
  },
  {
   "cell_type": "markdown",
   "metadata": {},
   "source": [
    "В центре много квартир с высокими потолками."
   ]
  },
  {
   "cell_type": "markdown",
   "metadata": {},
   "source": [
    "Веделим факторы, которые влияют на стоимость квартиры (число комнат, этаж, дата размещения объявления). Удалённость от центра не будем рассматривать, так как квартиры уже в центре. Постоим для этого матрицу корреляции."
   ]
  },
  {
   "cell_type": "code",
   "execution_count": 62,
   "metadata": {},
   "outputs": [
    {
     "data": {
      "text/html": [
       "<style  type=\"text/css\" >\n",
       "    #T_56c53e42_4612_11eb_86f3_02420a395688row0_col0 {\n",
       "            background-color:  #b40426;\n",
       "            color:  #f1f1f1;\n",
       "        }    #T_56c53e42_4612_11eb_86f3_02420a395688row0_col1 {\n",
       "            background-color:  #ea7b60;\n",
       "            color:  #000000;\n",
       "        }    #T_56c53e42_4612_11eb_86f3_02420a395688row0_col2 {\n",
       "            background-color:  #d2dbe8;\n",
       "            color:  #000000;\n",
       "        }    #T_56c53e42_4612_11eb_86f3_02420a395688row0_col3 {\n",
       "            background-color:  #a1c0ff;\n",
       "            color:  #000000;\n",
       "        }    #T_56c53e42_4612_11eb_86f3_02420a395688row1_col0 {\n",
       "            background-color:  #f59d7e;\n",
       "            color:  #000000;\n",
       "        }    #T_56c53e42_4612_11eb_86f3_02420a395688row1_col1 {\n",
       "            background-color:  #b40426;\n",
       "            color:  #f1f1f1;\n",
       "        }    #T_56c53e42_4612_11eb_86f3_02420a395688row1_col2 {\n",
       "            background-color:  #3b4cc0;\n",
       "            color:  #f1f1f1;\n",
       "        }    #T_56c53e42_4612_11eb_86f3_02420a395688row1_col3 {\n",
       "            background-color:  #3b4cc0;\n",
       "            color:  #f1f1f1;\n",
       "        }    #T_56c53e42_4612_11eb_86f3_02420a395688row2_col0 {\n",
       "            background-color:  #c5d6f2;\n",
       "            color:  #000000;\n",
       "        }    #T_56c53e42_4612_11eb_86f3_02420a395688row2_col1 {\n",
       "            background-color:  #8fb1fe;\n",
       "            color:  #000000;\n",
       "        }    #T_56c53e42_4612_11eb_86f3_02420a395688row2_col2 {\n",
       "            background-color:  #b40426;\n",
       "            color:  #f1f1f1;\n",
       "        }    #T_56c53e42_4612_11eb_86f3_02420a395688row2_col3 {\n",
       "            background-color:  #f39577;\n",
       "            color:  #000000;\n",
       "        }    #T_56c53e42_4612_11eb_86f3_02420a395688row3_col0 {\n",
       "            background-color:  #3b4cc0;\n",
       "            color:  #f1f1f1;\n",
       "        }    #T_56c53e42_4612_11eb_86f3_02420a395688row3_col1 {\n",
       "            background-color:  #3b4cc0;\n",
       "            color:  #f1f1f1;\n",
       "        }    #T_56c53e42_4612_11eb_86f3_02420a395688row3_col2 {\n",
       "            background-color:  #f7b497;\n",
       "            color:  #000000;\n",
       "        }    #T_56c53e42_4612_11eb_86f3_02420a395688row3_col3 {\n",
       "            background-color:  #b40426;\n",
       "            color:  #f1f1f1;\n",
       "        }</style><table id=\"T_56c53e42_4612_11eb_86f3_02420a395688\" ><thead>    <tr>        <th class=\"blank level0\" ></th>        <th class=\"col_heading level0 col0\" >last_price</th>        <th class=\"col_heading level0 col1\" >price_metr</th>        <th class=\"col_heading level0 col2\" >total_area</th>        <th class=\"col_heading level0 col3\" >rooms</th>    </tr></thead><tbody>\n",
       "                <tr>\n",
       "                        <th id=\"T_56c53e42_4612_11eb_86f3_02420a395688level0_row0\" class=\"row_heading level0 row0\" >last_price</th>\n",
       "                        <td id=\"T_56c53e42_4612_11eb_86f3_02420a395688row0_col0\" class=\"data row0 col0\" >1</td>\n",
       "                        <td id=\"T_56c53e42_4612_11eb_86f3_02420a395688row0_col1\" class=\"data row0 col1\" >0.82</td>\n",
       "                        <td id=\"T_56c53e42_4612_11eb_86f3_02420a395688row0_col2\" class=\"data row0 col2\" >0.59</td>\n",
       "                        <td id=\"T_56c53e42_4612_11eb_86f3_02420a395688row0_col3\" class=\"data row0 col3\" >0.3</td>\n",
       "            </tr>\n",
       "            <tr>\n",
       "                        <th id=\"T_56c53e42_4612_11eb_86f3_02420a395688level0_row1\" class=\"row_heading level0 row1\" >price_metr</th>\n",
       "                        <td id=\"T_56c53e42_4612_11eb_86f3_02420a395688row1_col0\" class=\"data row1 col0\" >0.82</td>\n",
       "                        <td id=\"T_56c53e42_4612_11eb_86f3_02420a395688row1_col1\" class=\"data row1 col1\" >1</td>\n",
       "                        <td id=\"T_56c53e42_4612_11eb_86f3_02420a395688row1_col2\" class=\"data row1 col2\" >0.25</td>\n",
       "                        <td id=\"T_56c53e42_4612_11eb_86f3_02420a395688row1_col3\" class=\"data row1 col3\" >-0.0068</td>\n",
       "            </tr>\n",
       "            <tr>\n",
       "                        <th id=\"T_56c53e42_4612_11eb_86f3_02420a395688level0_row2\" class=\"row_heading level0 row2\" >total_area</th>\n",
       "                        <td id=\"T_56c53e42_4612_11eb_86f3_02420a395688row2_col0\" class=\"data row2 col0\" >0.59</td>\n",
       "                        <td id=\"T_56c53e42_4612_11eb_86f3_02420a395688row2_col1\" class=\"data row2 col1\" >0.25</td>\n",
       "                        <td id=\"T_56c53e42_4612_11eb_86f3_02420a395688row2_col2\" class=\"data row2 col2\" >1</td>\n",
       "                        <td id=\"T_56c53e42_4612_11eb_86f3_02420a395688row2_col3\" class=\"data row2 col3\" >0.76</td>\n",
       "            </tr>\n",
       "            <tr>\n",
       "                        <th id=\"T_56c53e42_4612_11eb_86f3_02420a395688level0_row3\" class=\"row_heading level0 row3\" >rooms</th>\n",
       "                        <td id=\"T_56c53e42_4612_11eb_86f3_02420a395688row3_col0\" class=\"data row3 col0\" >0.3</td>\n",
       "                        <td id=\"T_56c53e42_4612_11eb_86f3_02420a395688row3_col1\" class=\"data row3 col1\" >-0.0068</td>\n",
       "                        <td id=\"T_56c53e42_4612_11eb_86f3_02420a395688row3_col2\" class=\"data row3 col2\" >0.76</td>\n",
       "                        <td id=\"T_56c53e42_4612_11eb_86f3_02420a395688row3_col3\" class=\"data row3 col3\" >1</td>\n",
       "            </tr>\n",
       "    </tbody></table>"
      ],
      "text/plain": [
       "<pandas.io.formats.style.Styler at 0x7f1b0a4c55d0>"
      ]
     },
     "execution_count": 62,
     "metadata": {},
     "output_type": "execute_result"
    }
   ],
   "source": [
    "cols2 = ['last_price','price_metr', 'total_area', 'rooms']\n",
    "realty_spb_center[cols2].corr().style.background_gradient(cmap='coolwarm').set_precision(2)"
   ]
  },
  {
   "cell_type": "markdown",
   "metadata": {},
   "source": [
    "**Вывод**"
   ]
  },
  {
   "cell_type": "markdown",
   "metadata": {},
   "source": [
    "Средняя площадь квартир в центре больше чем в общей базе данных, наблюдается смещение медианного значение с 52 до 80 кв.метров. Стоимость большинства квартир в в центре больше почти в два разаю. Нужно также сказать, что в центре Санкт-петербурга преобладают продажи многокомнатных квартир (3-4 комнаты), этим может также обуславливаться, что их стоимость выше. Высота потолков в квартирах у центре выше среднего по выборке. Все это можно объяснить тем, что в центре Петербурга много дореволюционных домов с высокими потолками, которые были переоборудованы в коммунальные квартиры. "
   ]
  },
  {
   "cell_type": "markdown",
   "metadata": {},
   "source": [
    "### <a id=\"finish\">Шаг 5. Общий вывод"
   ]
  },
  {
   "cell_type": "markdown",
   "metadata": {},
   "source": [
    "В ходе нашего исследования были проанализированы данные из объявлений о продаже квартир с 2014 по 2019 год в Санкт-Петербурге и ближайших пригородах. Для этого данные были предобработаны, произведены дополнительные расчеты и были построены графики для анализа параметров при продаже квартир. \n",
    "Нами были сделаны следующие выводы:\n",
    "* Большинство квартир в наших данных 40-69 квадратных метров. Стоимость квартир очень вариативна. Можно сказать, что средняя стоимость квартир 3,5-6 млн.рублей. По количеству комнат объявления по продаже квартир больше четырех комнат - редкость. Высота потолков в большинстве случаев 2,6-2,8 метров.\n",
    "* Цена за квадратный метр снижается от однокомнатных к трехкомнатным. Цена сильно зависит от категории этажа. Так стоимость за квадратный метр квартир на первом этаже ниже чем на последнем и еще ниже чем на других этажах.\n",
    "* Больше всего объявлений публикуется в феврале-апреле и ноября. Меньше всего в январе, мае и декабре. Чаще всего объявление \"висит\" в течение 77 дней. Примерно на 45, 60 снимается с публикации очень много объявлений. Интересно еще что часть объявлений снимается с продажи в первые 7-10 дней и спустя месяц, можно объяснить это тем, что подобные объявления суперуспешные и их очень быстро продают. Есть объявления больше 1,5 лет - это уже необычно долгие продажи.\n",
    "* В выходные дни публикуется меньше всего объявлений. Стоимость квадратного метра снижается в мае и июне. Это можно объяснить тем, что люди хотят поскорее продать квартиры, чтобы отдыхать летом, поэтому снижают стоимость. Наблюдается снижение стоимости в октябре, также можно объяснить, что люди стремятся завершить продажу к новому году. По графику зависимости стоимости квадратного метра от года публикации объявления о продаже мы сделали вывод, что в 2014-2016 годах наблюдался кризис рынка недвижимости: резко снижалась цена на квартиры. \n",
    "* Нами был определён центр города в пределах 7 км.. Отметили, что наблюдается снижение относительно максимального значений для квартир ближе 3км от центра.\n",
    "* Средняя площадь квартир в центре Санкт-Петербурга больше чем в общей базе данных. Стоимость большинства квартир в центре больше почти в два раза. Нужно также сказать, что в центре Санкт-Петербурга преобладают продажи многокомнатных квартир (3-4 комнаты), этим может также обуславливаться, что их стоимость выше. Высота потолков в квартирах в центре выше среднего по выборке. Мы объясняем это тем, что в центре Петербурга много дореволюционных домов с высокими потолками, которые были переоборудованы в коммунальные квартиры.\n"
   ]
  }
 ],
 "metadata": {
  "kernelspec": {
   "display_name": "Python 3",
   "language": "python",
   "name": "python3"
  },
  "language_info": {
   "codemirror_mode": {
    "name": "ipython",
    "version": 3
   },
   "file_extension": ".py",
   "mimetype": "text/x-python",
   "name": "python",
   "nbconvert_exporter": "python",
   "pygments_lexer": "ipython3",
   "version": "3.8.5"
  },
  "toc": {
   "base_numbering": 1,
   "nav_menu": {},
   "number_sections": true,
   "sideBar": true,
   "skip_h1_title": false,
   "title_cell": "Table of Contents",
   "title_sidebar": "Contents",
   "toc_cell": false,
   "toc_position": {},
   "toc_section_display": true,
   "toc_window_display": false
  }
 },
 "nbformat": 4,
 "nbformat_minor": 2
}
