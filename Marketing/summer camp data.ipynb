{
 "cells": [
  {
   "cell_type": "code",
   "execution_count": 1,
   "metadata": {},
   "outputs": [],
   "source": [
    "#импорт библиотеки pandas\n",
    "import pandas as pd\n",
    "from datetime import datetime, timedelta\n",
    "from scipy import stats as st\n",
    "import numpy as np\n",
    "import matplotlib.pyplot as plt\n",
    "import seaborn as sns"
   ]
  },
  {
   "cell_type": "code",
   "execution_count": 2,
   "metadata": {},
   "outputs": [],
   "source": [
    "# чтение файла  данных\n",
    "df = pd.read_csv(r'C:\\Users\\nasti\\Downloads\\df_camp.csv', encoding='cp1251') "
   ]
  },
  {
   "cell_type": "code",
   "execution_count": 3,
   "metadata": {},
   "outputs": [
    {
     "name": "stdout",
     "output_type": "stream",
     "text": [
      "<class 'pandas.core.frame.DataFrame'>\n",
      "RangeIndex: 52724 entries, 0 to 52723\n",
      "Data columns (total 14 columns):\n",
      " #   Column              Non-Null Count  Dtype  \n",
      "---  ------              --------------  -----  \n",
      " 0   date                52724 non-null  object \n",
      " 1   source              52724 non-null  object \n",
      " 2   medium              52724 non-null  object \n",
      " 3   delivery_available  52724 non-null  object \n",
      " 4   device_type         52724 non-null  object \n",
      " 5   promo_activated     52724 non-null  object \n",
      " 6   filter_used         52724 non-null  object \n",
      " 7   pageviews           52724 non-null  int64  \n",
      " 8   visits              52724 non-null  int64  \n",
      " 9   productClick        52724 non-null  int64  \n",
      " 10  addToCart           52724 non-null  int64  \n",
      " 11  checkout            52724 non-null  int64  \n",
      " 12  transactions        52724 non-null  int64  \n",
      " 13  revenue             52724 non-null  float64\n",
      "dtypes: float64(1), int64(6), object(7)\n",
      "memory usage: 5.6+ MB\n"
     ]
    }
   ],
   "source": [
    "df.info()"
   ]
  },
  {
   "cell_type": "code",
   "execution_count": 4,
   "metadata": {},
   "outputs": [],
   "source": [
    "# перевод даты в правильный формат\n",
    "df['date'] = pd.to_datetime(df['date'])"
   ]
  },
  {
   "cell_type": "code",
   "execution_count": 5,
   "metadata": {},
   "outputs": [
    {
     "data": {
      "text/plain": [
       "0"
      ]
     },
     "execution_count": 5,
     "metadata": {},
     "output_type": "execute_result"
    }
   ],
   "source": [
    "#проверяем количество дубликатов\n",
    "df.duplicated().sum()"
   ]
  },
  {
   "cell_type": "code",
   "execution_count": 6,
   "metadata": {},
   "outputs": [
    {
     "data": {
      "text/html": [
       "<div>\n",
       "<style scoped>\n",
       "    .dataframe tbody tr th:only-of-type {\n",
       "        vertical-align: middle;\n",
       "    }\n",
       "\n",
       "    .dataframe tbody tr th {\n",
       "        vertical-align: top;\n",
       "    }\n",
       "\n",
       "    .dataframe thead th {\n",
       "        text-align: right;\n",
       "    }\n",
       "</style>\n",
       "<table border=\"1\" class=\"dataframe\">\n",
       "  <thead>\n",
       "    <tr style=\"text-align: right;\">\n",
       "      <th></th>\n",
       "      <th>date</th>\n",
       "      <th>source</th>\n",
       "      <th>medium</th>\n",
       "      <th>delivery_available</th>\n",
       "      <th>device_type</th>\n",
       "      <th>promo_activated</th>\n",
       "      <th>filter_used</th>\n",
       "      <th>pageviews</th>\n",
       "      <th>visits</th>\n",
       "      <th>productClick</th>\n",
       "      <th>addToCart</th>\n",
       "      <th>checkout</th>\n",
       "      <th>transactions</th>\n",
       "      <th>revenue</th>\n",
       "    </tr>\n",
       "  </thead>\n",
       "  <tbody>\n",
       "    <tr>\n",
       "      <th>0</th>\n",
       "      <td>2020-05-11</td>\n",
       "      <td>google</td>\n",
       "      <td>organic</td>\n",
       "      <td>Не определено</td>\n",
       "      <td>Десктоп</td>\n",
       "      <td>no</td>\n",
       "      <td>no</td>\n",
       "      <td>3120</td>\n",
       "      <td>1233</td>\n",
       "      <td>5240</td>\n",
       "      <td>1048</td>\n",
       "      <td>525</td>\n",
       "      <td>90</td>\n",
       "      <td>86649.0</td>\n",
       "    </tr>\n",
       "    <tr>\n",
       "      <th>1</th>\n",
       "      <td>2020-05-11</td>\n",
       "      <td>yandex</td>\n",
       "      <td>cpc</td>\n",
       "      <td>Не определено</td>\n",
       "      <td>Мобайл</td>\n",
       "      <td>yes</td>\n",
       "      <td>no</td>\n",
       "      <td>3302</td>\n",
       "      <td>544</td>\n",
       "      <td>9930</td>\n",
       "      <td>1984</td>\n",
       "      <td>1416</td>\n",
       "      <td>217</td>\n",
       "      <td>244478.0</td>\n",
       "    </tr>\n",
       "    <tr>\n",
       "      <th>2</th>\n",
       "      <td>2020-05-11</td>\n",
       "      <td>google</td>\n",
       "      <td>cpc</td>\n",
       "      <td>Не определено</td>\n",
       "      <td>Мобайл</td>\n",
       "      <td>no</td>\n",
       "      <td>no</td>\n",
       "      <td>2970</td>\n",
       "      <td>1450</td>\n",
       "      <td>5460</td>\n",
       "      <td>1090</td>\n",
       "      <td>599</td>\n",
       "      <td>100</td>\n",
       "      <td>105150.0</td>\n",
       "    </tr>\n",
       "    <tr>\n",
       "      <th>3</th>\n",
       "      <td>2020-05-11</td>\n",
       "      <td>google</td>\n",
       "      <td>cpc</td>\n",
       "      <td>Не определено</td>\n",
       "      <td>Десктоп</td>\n",
       "      <td>no</td>\n",
       "      <td>no</td>\n",
       "      <td>1875</td>\n",
       "      <td>854</td>\n",
       "      <td>4250</td>\n",
       "      <td>848</td>\n",
       "      <td>407</td>\n",
       "      <td>71</td>\n",
       "      <td>79003.0</td>\n",
       "    </tr>\n",
       "    <tr>\n",
       "      <th>4</th>\n",
       "      <td>2020-05-11</td>\n",
       "      <td>yandex</td>\n",
       "      <td>organic</td>\n",
       "      <td>Не определено</td>\n",
       "      <td>Десктоп</td>\n",
       "      <td>no</td>\n",
       "      <td>no</td>\n",
       "      <td>2159</td>\n",
       "      <td>1000</td>\n",
       "      <td>4110</td>\n",
       "      <td>824</td>\n",
       "      <td>351</td>\n",
       "      <td>62</td>\n",
       "      <td>61861.0</td>\n",
       "    </tr>\n",
       "  </tbody>\n",
       "</table>\n",
       "</div>"
      ],
      "text/plain": [
       "        date  source   medium delivery_available device_type promo_activated  \\\n",
       "0 2020-05-11  google  organic      Не определено     Десктоп              no   \n",
       "1 2020-05-11  yandex      cpc      Не определено      Мобайл             yes   \n",
       "2 2020-05-11  google      cpc      Не определено      Мобайл              no   \n",
       "3 2020-05-11  google      cpc      Не определено     Десктоп              no   \n",
       "4 2020-05-11  yandex  organic      Не определено     Десктоп              no   \n",
       "\n",
       "  filter_used  pageviews  visits  productClick  addToCart  checkout  \\\n",
       "0          no       3120    1233          5240       1048       525   \n",
       "1          no       3302     544          9930       1984      1416   \n",
       "2          no       2970    1450          5460       1090       599   \n",
       "3          no       1875     854          4250        848       407   \n",
       "4          no       2159    1000          4110        824       351   \n",
       "\n",
       "   transactions   revenue  \n",
       "0            90   86649.0  \n",
       "1           217  244478.0  \n",
       "2           100  105150.0  \n",
       "3            71   79003.0  \n",
       "4            62   61861.0  "
      ]
     },
     "execution_count": 6,
     "metadata": {},
     "output_type": "execute_result"
    }
   ],
   "source": [
    "df.head()"
   ]
  },
  {
   "cell_type": "markdown",
   "metadata": {},
   "source": [
    "**Вывод**:\n",
    "Данные без пропусков и дубликатов, информация в каждой колонке соответствует своему типу дынных."
   ]
  },
  {
   "cell_type": "markdown",
   "metadata": {},
   "source": [
    "## Какой рекламный канал принёс больше всего дохода за всё время?"
   ]
  },
  {
   "cell_type": "code",
   "execution_count": 7,
   "metadata": {},
   "outputs": [
    {
     "data": {
      "text/html": [
       "<div>\n",
       "<style scoped>\n",
       "    .dataframe tbody tr th:only-of-type {\n",
       "        vertical-align: middle;\n",
       "    }\n",
       "\n",
       "    .dataframe tbody tr th {\n",
       "        vertical-align: top;\n",
       "    }\n",
       "\n",
       "    .dataframe thead th {\n",
       "        text-align: right;\n",
       "    }\n",
       "</style>\n",
       "<table border=\"1\" class=\"dataframe\">\n",
       "  <thead>\n",
       "    <tr style=\"text-align: right;\">\n",
       "      <th></th>\n",
       "      <th>source</th>\n",
       "      <th>revenue</th>\n",
       "    </tr>\n",
       "  </thead>\n",
       "  <tbody>\n",
       "    <tr>\n",
       "      <th>21</th>\n",
       "      <td>yandex</td>\n",
       "      <td>4.674748e+08</td>\n",
       "    </tr>\n",
       "    <tr>\n",
       "      <th>12</th>\n",
       "      <td>google</td>\n",
       "      <td>4.565170e+08</td>\n",
       "    </tr>\n",
       "    <tr>\n",
       "      <th>0</th>\n",
       "      <td>(direct)</td>\n",
       "      <td>2.384474e+08</td>\n",
       "    </tr>\n",
       "    <tr>\n",
       "      <th>3</th>\n",
       "      <td>admitad</td>\n",
       "      <td>6.573886e+07</td>\n",
       "    </tr>\n",
       "    <tr>\n",
       "      <th>9</th>\n",
       "      <td>eLama</td>\n",
       "      <td>1.643239e+07</td>\n",
       "    </tr>\n",
       "  </tbody>\n",
       "</table>\n",
       "</div>"
      ],
      "text/plain": [
       "      source       revenue\n",
       "21    yandex  4.674748e+08\n",
       "12    google  4.565170e+08\n",
       "0   (direct)  2.384474e+08\n",
       "3    admitad  6.573886e+07\n",
       "9      eLama  1.643239e+07"
      ]
     },
     "execution_count": 7,
     "metadata": {},
     "output_type": "execute_result"
    }
   ],
   "source": [
    "total_income = df.groupby('source')['revenue'].sum().reset_index()\n",
    "total_income.sort_values(by = 'revenue', ascending = False ).head()"
   ]
  },
  {
   "cell_type": "markdown",
   "metadata": {},
   "source": [
    "Наибольший доход приносит yandex, далее следует google с небольшим отрывом."
   ]
  },
  {
   "cell_type": "markdown",
   "metadata": {},
   "source": [
    "## Как изменился средний чек транзакции после введения коронавирусных ограничений?"
   ]
  },
  {
   "cell_type": "markdown",
   "metadata": {},
   "source": [
    "Нерабочие дни в РФ были введены с 30 марта 2020 г."
   ]
  },
  {
   "cell_type": "code",
   "execution_count": 8,
   "metadata": {},
   "outputs": [],
   "source": [
    "# средний чек\n",
    "df['mean_check'] = df['revenue'] / df['transactions']"
   ]
  },
  {
   "cell_type": "code",
   "execution_count": 9,
   "metadata": {},
   "outputs": [],
   "source": [
    "# данные до коронавируса\n",
    "df_before = df.query('date <= \"2020-03-29\"')"
   ]
  },
  {
   "cell_type": "code",
   "execution_count": 10,
   "metadata": {},
   "outputs": [],
   "source": [
    "# данные после коронавируса\n",
    "df_after = df.query('date > \"2020-03-30\"')"
   ]
  },
  {
   "cell_type": "code",
   "execution_count": 11,
   "metadata": {},
   "outputs": [
    {
     "data": {
      "text/plain": [
       "1286.3400186569197"
      ]
     },
     "execution_count": 11,
     "metadata": {},
     "output_type": "execute_result"
    }
   ],
   "source": [
    "#средний чек до\n",
    "mean_check_before = df_before['mean_check'].mean()\n",
    "mean_check_before"
   ]
  },
  {
   "cell_type": "code",
   "execution_count": 12,
   "metadata": {},
   "outputs": [
    {
     "data": {
      "text/plain": [
       "1189.735654823809"
      ]
     },
     "execution_count": 12,
     "metadata": {},
     "output_type": "execute_result"
    }
   ],
   "source": [
    "#средний чек после\n",
    "mean_check_after = df_after['mean_check'].mean()\n",
    "mean_check_after"
   ]
  },
  {
   "cell_type": "markdown",
   "metadata": {},
   "source": [
    "Средний чек после введения короновирусных ограничений снизился с 1286,34 у.е. до 1189,74 у.е."
   ]
  },
  {
   "cell_type": "markdown",
   "metadata": {},
   "source": [
    "##  Как средний чек изменился для пользователей, покупающих с промокодом и без? (параметр «promo_activated»)"
   ]
  },
  {
   "cell_type": "code",
   "execution_count": 13,
   "metadata": {},
   "outputs": [
    {
     "data": {
      "text/html": [
       "<div>\n",
       "<style scoped>\n",
       "    .dataframe tbody tr th:only-of-type {\n",
       "        vertical-align: middle;\n",
       "    }\n",
       "\n",
       "    .dataframe tbody tr th {\n",
       "        vertical-align: top;\n",
       "    }\n",
       "\n",
       "    .dataframe thead th {\n",
       "        text-align: right;\n",
       "    }\n",
       "</style>\n",
       "<table border=\"1\" class=\"dataframe\">\n",
       "  <thead>\n",
       "    <tr style=\"text-align: right;\">\n",
       "      <th></th>\n",
       "      <th>promo_activated</th>\n",
       "      <th>mean_check</th>\n",
       "    </tr>\n",
       "  </thead>\n",
       "  <tbody>\n",
       "    <tr>\n",
       "      <th>0</th>\n",
       "      <td>no</td>\n",
       "      <td>1319.260360</td>\n",
       "    </tr>\n",
       "    <tr>\n",
       "      <th>1</th>\n",
       "      <td>yes</td>\n",
       "      <td>1253.925308</td>\n",
       "    </tr>\n",
       "  </tbody>\n",
       "</table>\n",
       "</div>"
      ],
      "text/plain": [
       "  promo_activated   mean_check\n",
       "0              no  1319.260360\n",
       "1             yes  1253.925308"
      ]
     },
     "execution_count": 13,
     "metadata": {},
     "output_type": "execute_result"
    }
   ],
   "source": [
    "#средний чек до\n",
    "mean_check_before_promo = df_before.groupby('promo_activated')['mean_check'].mean().reset_index()\n",
    "mean_check_before_promo"
   ]
  },
  {
   "cell_type": "code",
   "execution_count": 14,
   "metadata": {},
   "outputs": [
    {
     "data": {
      "text/html": [
       "<div>\n",
       "<style scoped>\n",
       "    .dataframe tbody tr th:only-of-type {\n",
       "        vertical-align: middle;\n",
       "    }\n",
       "\n",
       "    .dataframe tbody tr th {\n",
       "        vertical-align: top;\n",
       "    }\n",
       "\n",
       "    .dataframe thead th {\n",
       "        text-align: right;\n",
       "    }\n",
       "</style>\n",
       "<table border=\"1\" class=\"dataframe\">\n",
       "  <thead>\n",
       "    <tr style=\"text-align: right;\">\n",
       "      <th></th>\n",
       "      <th>promo_activated</th>\n",
       "      <th>mean_check</th>\n",
       "    </tr>\n",
       "  </thead>\n",
       "  <tbody>\n",
       "    <tr>\n",
       "      <th>0</th>\n",
       "      <td>no</td>\n",
       "      <td>1165.648790</td>\n",
       "    </tr>\n",
       "    <tr>\n",
       "      <th>1</th>\n",
       "      <td>yes</td>\n",
       "      <td>1212.288607</td>\n",
       "    </tr>\n",
       "  </tbody>\n",
       "</table>\n",
       "</div>"
      ],
      "text/plain": [
       "  promo_activated   mean_check\n",
       "0              no  1165.648790\n",
       "1             yes  1212.288607"
      ]
     },
     "execution_count": 14,
     "metadata": {},
     "output_type": "execute_result"
    }
   ],
   "source": [
    "#средний чек после\n",
    "mean_check_after_promo = df_after.groupby('promo_activated')['mean_check'].mean().reset_index()\n",
    "mean_check_after_promo"
   ]
  },
  {
   "cell_type": "markdown",
   "metadata": {},
   "source": [
    "Средний чек для пользователей, покупающих с промокодом, после введения короновирусных ограничений снизился с 1253,93 у.е. до 1212,29 у.е.\n",
    "\n",
    "Средний чек для пользователей, покупающих без промокодом, после введения короновирусных ограничений также снизился с 1319,26 у.е. до 1165,64 у.е.\n",
    "\n",
    "Стоит отметить, что даже после введения ограницений средний чек с промокодом выше."
   ]
  },
  {
   "cell_type": "markdown",
   "metadata": {},
   "source": [
    "## Можно ли с уверенностью в 95% сказать, что CR (коэффициент конверсии в транзакцию) в выходные дни отличается от CR в будние дни?"
   ]
  },
  {
   "cell_type": "markdown",
   "metadata": {},
   "source": [
    "CR считаем как коэффициент конверсии в транзакцию из visits"
   ]
  },
  {
   "cell_type": "code",
   "execution_count": 15,
   "metadata": {},
   "outputs": [],
   "source": [
    "df['weekday'] = df['date'].dt.dayofweek"
   ]
  },
  {
   "cell_type": "code",
   "execution_count": 16,
   "metadata": {},
   "outputs": [
    {
     "data": {
      "text/html": [
       "<div>\n",
       "<style scoped>\n",
       "    .dataframe tbody tr th:only-of-type {\n",
       "        vertical-align: middle;\n",
       "    }\n",
       "\n",
       "    .dataframe tbody tr th {\n",
       "        vertical-align: top;\n",
       "    }\n",
       "\n",
       "    .dataframe thead th {\n",
       "        text-align: right;\n",
       "    }\n",
       "</style>\n",
       "<table border=\"1\" class=\"dataframe\">\n",
       "  <thead>\n",
       "    <tr style=\"text-align: right;\">\n",
       "      <th></th>\n",
       "      <th>date</th>\n",
       "      <th>source</th>\n",
       "      <th>medium</th>\n",
       "      <th>delivery_available</th>\n",
       "      <th>device_type</th>\n",
       "      <th>promo_activated</th>\n",
       "      <th>filter_used</th>\n",
       "      <th>pageviews</th>\n",
       "      <th>visits</th>\n",
       "      <th>productClick</th>\n",
       "      <th>addToCart</th>\n",
       "      <th>checkout</th>\n",
       "      <th>transactions</th>\n",
       "      <th>revenue</th>\n",
       "      <th>mean_check</th>\n",
       "      <th>weekday</th>\n",
       "    </tr>\n",
       "  </thead>\n",
       "  <tbody>\n",
       "    <tr>\n",
       "      <th>17250</th>\n",
       "      <td>2020-06-04</td>\n",
       "      <td>google</td>\n",
       "      <td>cpc</td>\n",
       "      <td>Доставка есть</td>\n",
       "      <td>Десктоп</td>\n",
       "      <td>no</td>\n",
       "      <td>no</td>\n",
       "      <td>100</td>\n",
       "      <td>10</td>\n",
       "      <td>330</td>\n",
       "      <td>66</td>\n",
       "      <td>30</td>\n",
       "      <td>5</td>\n",
       "      <td>4517.0</td>\n",
       "      <td>903.4</td>\n",
       "      <td>3</td>\n",
       "    </tr>\n",
       "    <tr>\n",
       "      <th>21149</th>\n",
       "      <td>2020-01-15</td>\n",
       "      <td>opmcpa</td>\n",
       "      <td>cpa</td>\n",
       "      <td>Не определено</td>\n",
       "      <td>Мобайл</td>\n",
       "      <td>no</td>\n",
       "      <td>no</td>\n",
       "      <td>3</td>\n",
       "      <td>2</td>\n",
       "      <td>0</td>\n",
       "      <td>0</td>\n",
       "      <td>0</td>\n",
       "      <td>0</td>\n",
       "      <td>0.0</td>\n",
       "      <td>NaN</td>\n",
       "      <td>2</td>\n",
       "    </tr>\n",
       "    <tr>\n",
       "      <th>22476</th>\n",
       "      <td>2020-03-04</td>\n",
       "      <td>DuckDuckGo</td>\n",
       "      <td>organic</td>\n",
       "      <td>Не определено</td>\n",
       "      <td>Мобайл</td>\n",
       "      <td>no</td>\n",
       "      <td>no</td>\n",
       "      <td>4</td>\n",
       "      <td>4</td>\n",
       "      <td>0</td>\n",
       "      <td>0</td>\n",
       "      <td>0</td>\n",
       "      <td>0</td>\n",
       "      <td>0.0</td>\n",
       "      <td>NaN</td>\n",
       "      <td>2</td>\n",
       "    </tr>\n",
       "    <tr>\n",
       "      <th>43090</th>\n",
       "      <td>2020-05-11</td>\n",
       "      <td>vk</td>\n",
       "      <td>social</td>\n",
       "      <td>Не определено</td>\n",
       "      <td>Мобайл</td>\n",
       "      <td>yes</td>\n",
       "      <td>no</td>\n",
       "      <td>26</td>\n",
       "      <td>7</td>\n",
       "      <td>80</td>\n",
       "      <td>16</td>\n",
       "      <td>8</td>\n",
       "      <td>1</td>\n",
       "      <td>999.0</td>\n",
       "      <td>999.0</td>\n",
       "      <td>0</td>\n",
       "    </tr>\n",
       "    <tr>\n",
       "      <th>22632</th>\n",
       "      <td>2020-09-16</td>\n",
       "      <td>admitad</td>\n",
       "      <td>cpa</td>\n",
       "      <td>Доставки нет</td>\n",
       "      <td>Мобайл</td>\n",
       "      <td>yes</td>\n",
       "      <td>no</td>\n",
       "      <td>4</td>\n",
       "      <td>1</td>\n",
       "      <td>0</td>\n",
       "      <td>0</td>\n",
       "      <td>4</td>\n",
       "      <td>0</td>\n",
       "      <td>0.0</td>\n",
       "      <td>NaN</td>\n",
       "      <td>2</td>\n",
       "    </tr>\n",
       "  </tbody>\n",
       "</table>\n",
       "</div>"
      ],
      "text/plain": [
       "            date      source   medium delivery_available device_type  \\\n",
       "17250 2020-06-04      google      cpc      Доставка есть     Десктоп   \n",
       "21149 2020-01-15      opmcpa      cpa      Не определено      Мобайл   \n",
       "22476 2020-03-04  DuckDuckGo  organic      Не определено      Мобайл   \n",
       "43090 2020-05-11          vk   social      Не определено      Мобайл   \n",
       "22632 2020-09-16     admitad      cpa       Доставки нет      Мобайл   \n",
       "\n",
       "      promo_activated filter_used  pageviews  visits  productClick  addToCart  \\\n",
       "17250              no          no        100      10           330         66   \n",
       "21149              no          no          3       2             0          0   \n",
       "22476              no          no          4       4             0          0   \n",
       "43090             yes          no         26       7            80         16   \n",
       "22632             yes          no          4       1             0          0   \n",
       "\n",
       "       checkout  transactions  revenue  mean_check  weekday  \n",
       "17250        30             5   4517.0       903.4        3  \n",
       "21149         0             0      0.0         NaN        2  \n",
       "22476         0             0      0.0         NaN        2  \n",
       "43090         8             1    999.0       999.0        0  \n",
       "22632         4             0      0.0         NaN        2  "
      ]
     },
     "execution_count": 16,
     "metadata": {},
     "output_type": "execute_result"
    }
   ],
   "source": [
    "df.sample(5)"
   ]
  },
  {
   "cell_type": "code",
   "execution_count": 17,
   "metadata": {},
   "outputs": [],
   "source": [
    "# Считаем CR\n",
    "df['cr'] = df['transactions'] / df['visits']"
   ]
  },
  {
   "cell_type": "markdown",
   "metadata": {},
   "source": [
    "Будем проверять гипотезу о равенстве средних двух генеральных совокупностей"
   ]
  },
  {
   "cell_type": "markdown",
   "metadata": {},
   "source": [
    "Нулевая гипотеза  - средний CR в будние дний и выходные равны.  \n",
    "Альтернативная гипотеза - средний CR в будние дний и выходные не равны.  \n",
    "Пороговое значение alpha - 0,05"
   ]
  },
  {
   "cell_type": "code",
   "execution_count": 18,
   "metadata": {},
   "outputs": [],
   "source": [
    "# будни\n",
    "weekday = [0,1,2,3,4]\n",
    "# выходные\n",
    "weekends = [5,6]\n"
   ]
  },
  {
   "cell_type": "code",
   "execution_count": 19,
   "metadata": {},
   "outputs": [
    {
     "name": "stdout",
     "output_type": "stream",
     "text": [
      "p-значение: 8.365213081619752e-11\n",
      "Отвергаем нулевую гипотезу\n"
     ]
    }
   ],
   "source": [
    "#выделяем отдельно будние и выходные из общей выборки\n",
    "df_weekday = df.query('weekday in @weekday')\n",
    "df_weekends = df.query('weekday in @weekends')\n",
    "\n",
    "# значения cr в будни\n",
    "df_weekday_cr = df_weekday['cr']\n",
    "\n",
    "# значения cr в выходные\n",
    "df_weekends_cr = df_weekends['cr']\n",
    "\n",
    "alpha = .05 # критический уровень статистической значимости\n",
    "            # если p-value окажется меньше него - отвергнем гипотезу\n",
    "\n",
    "# дисперсии выборок не равны\n",
    "results = st.ttest_ind(df_weekday_cr, df_weekends_cr, equal_var = False)\n",
    "\n",
    "print('p-значение:', results.pvalue)\n",
    "\n",
    "if (results.pvalue < alpha):\n",
    "    print(\"Отвергаем нулевую гипотезу\")\n",
    "else:\n",
    "    print(\"Не получилось отвергнуть нулевую гипотезу\") "
   ]
  },
  {
   "cell_type": "markdown",
   "metadata": {},
   "source": [
    "С высокой долей вероятности средний коэффициент конверсии в транзакцию в выходные и будние дни различается. "
   ]
  },
  {
   "cell_type": "markdown",
   "metadata": {},
   "source": [
    "## Вам необходимо спрогнозировать объем дохода, полученного с пользователей, приведенных на сайт контекстной рекламой (medium = cpc) на полгода вперед. \n",
    "Опишите, как бы вы подошли к этой задаче и какие дополнительные данные вам понадобятся?\n"
   ]
  },
  {
   "cell_type": "code",
   "execution_count": 20,
   "metadata": {},
   "outputs": [],
   "source": [
    "df['month'] = df['date'].dt.month "
   ]
  },
  {
   "cell_type": "code",
   "execution_count": 21,
   "metadata": {},
   "outputs": [],
   "source": [
    "incom_cpc = df.query('medium == \"cpc\"')"
   ]
  },
  {
   "cell_type": "code",
   "execution_count": 22,
   "metadata": {},
   "outputs": [
    {
     "data": {
      "image/png": "[encoded data removed]",
      "text/plain": [
       "<Figure size 864x432 with 1 Axes>"
      ]
     },
     "metadata": {
      "needs_background": "light"
     },
     "output_type": "display_data"
    }
   ],
   "source": [
    "#сводная таблица доход по времени\n",
    "incom_per_date = (incom_cpc\n",
    "                  .pivot_table(index='month', values='revenue', aggfunc='sum')\n",
    "                  .plot(y='revenue', kind='bar', grid=True, figsize=(12, 6))\n",
    "                 )\n",
    "plt.title(\"График дохода по месяцам\") \n",
    "plt.xlabel(\"Месяц\")\n",
    "plt.ylabel(\"Доход\") \n",
    "plt.show()"
   ]
  },
  {
   "cell_type": "markdown",
   "metadata": {},
   "source": [
    "Очень сложно спрогнозировать объем дохода, полученного с пользователей, приведенных на сайт контекстной рекламой, только по 2020 году, так как в это время было много внешних факторов. Если судить по данным только 2020 года, мы видим что доход от месяца к месяцу продолжает снижаться. К тому же у нас нет данных за полный календарный год, а только за 9 месяцев.\n",
    "Хотелось бы изучить данные за предыдущие периоды."
   ]
  },
  {
   "cell_type": "code",
   "execution_count": null,
   "metadata": {},
   "outputs": [],
   "source": []
  }
 ],
 "metadata": {
  "kernelspec": {
   "display_name": "Python 3",
   "language": "python",
   "name": "python3"
  },
  "language_info": {
   "codemirror_mode": {
    "name": "ipython",
    "version": 3
   },
   "file_extension": ".py",
   "mimetype": "text/x-python",
   "name": "python",
   "nbconvert_exporter": "python",
   "pygments_lexer": "ipython3",
   "version": "3.8.5"
  }
 },
 "nbformat": 4,
 "nbformat_minor": 4
}
