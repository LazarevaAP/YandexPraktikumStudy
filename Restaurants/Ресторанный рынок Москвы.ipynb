{
 "cells": [
  {
   "cell_type": "markdown",
   "metadata": {
    "toc": true
   },
   "source": [
    "<h1>Table of Contents<span class=\"tocSkip\"></span></h1>\n",
    "<div class=\"toc\"><ul class=\"toc-item\"><li><span><a href=\"#Соотношение-видов-объектов-общественного-питания\" data-toc-modified-id=\"Соотношение-видов-объектов-общественного-питания-1\"><span class=\"toc-item-num\">1&nbsp;&nbsp;</span>Соотношение видов объектов общественного питания</a></span></li><li><span><a href=\"#Соотношение-сетевых-и-несетевых-заведений\" data-toc-modified-id=\"Соотношение-сетевых-и-несетевых-заведений-2\"><span class=\"toc-item-num\">2&nbsp;&nbsp;</span>Соотношение сетевых и несетевых заведений</a></span></li><li><span><a href=\"#Виды-объектов-общественного-питания--сетевого-распространения\" data-toc-modified-id=\"Виды-объектов-общественного-питания--сетевого-распространения-3\"><span class=\"toc-item-num\">3&nbsp;&nbsp;</span>Виды объектов общественного питания  сетевого распространения</a></span><ul class=\"toc-item\"><li><span><a href=\"#Распределение-количества-посадочных-мест-в-сетевых-ресторанах\" data-toc-modified-id=\"Распределение-количества-посадочных-мест-в-сетевых-ресторанах-3.1\"><span class=\"toc-item-num\">3.1&nbsp;&nbsp;</span>Распределение количества посадочных мест в сетевых ресторанах</a></span></li></ul></li><li><span><a href=\"#Среднее-количество-посадочных-мест\" data-toc-modified-id=\"Среднее-количество-посадочных-мест-4\"><span class=\"toc-item-num\">4&nbsp;&nbsp;</span>Среднее количество посадочных мест</a></span></li><li><span><a href=\"#Выделение-в-отдельный-столбец-информации-об-улице-из-столбца-address\" data-toc-modified-id=\"Выделение-в-отдельный-столбец-информации-об-улице-из-столбца-address-5\"><span class=\"toc-item-num\">5&nbsp;&nbsp;</span>Выделение в отдельный столбец информации об улице из столбца address</a></span></li><li><span><a href=\"#Топ-10-улиц-по-количеству-объектов-общественного-питания\" data-toc-modified-id=\"Топ-10-улиц-по-количеству-объектов-общественного-питания-6\"><span class=\"toc-item-num\">6&nbsp;&nbsp;</span>Топ-10 улиц по количеству объектов общественного питания</a></span><ul class=\"toc-item\"><li><span><a href=\"#Найдем-в-каких-районах-Москвы-находятся-эти-улицы\" data-toc-modified-id=\"Найдем-в-каких-районах-Москвы-находятся-эти-улицы-6.1\"><span class=\"toc-item-num\">6.1&nbsp;&nbsp;</span>Найдем в каких районах Москвы находятся эти улицы</a></span></li><li><span><a href=\"#Число-улиц-с-одним-объектом-общественного-питания.\" data-toc-modified-id=\"Число-улиц-с-одним-объектом-общественного-питания.-6.2\"><span class=\"toc-item-num\">6.2&nbsp;&nbsp;</span>Число улиц с одним объектом общественного питания.</a></span></li></ul></li><li><span><a href=\"#Распределение-количества-посадочных-мест-для-улиц-с-большим-количеством-объектов-общественного-питания\" data-toc-modified-id=\"Распределение-количества-посадочных-мест-для-улиц-с-большим-количеством-объектов-общественного-питания-7\"><span class=\"toc-item-num\">7&nbsp;&nbsp;</span>Распределение количества посадочных мест для улиц с большим количеством объектов общественного питания</a></span></li><li><span><a href=\"#Общий-вывод\" data-toc-modified-id=\"Общий-вывод-8\"><span class=\"toc-item-num\">8&nbsp;&nbsp;</span>Общий вывод</a></span></li><li><span><a href=\"#Презентация\" data-toc-modified-id=\"Презентация-9\"><span class=\"toc-item-num\">9&nbsp;&nbsp;</span>Презентация</a></span></li></ul></div>"
   ]
  },
  {
   "cell_type": "markdown",
   "metadata": {},
   "source": [
    "# Исследование рынка заведений общественного питания Москвы"
   ]
  },
  {
   "cell_type": "markdown",
   "metadata": {},
   "source": [
    "Цель нашего исследования провести  анализ рынка заведений общественного питания Москвы. В перспективе  проект по открытию не большого кафе в Москве, где гостей должны обслуживать роботы.  \n",
    "\n",
    "В данном исследовании нам нужно ответить на вопрос о текущем положение дел на рынке, будет ли популярным кафе на долгое время, когда роботы-официанты уже не будут новинкой. "
   ]
  },
  {
   "cell_type": "markdown",
   "metadata": {},
   "source": [
    "#  Загрузка данных и подготовка их к анализу"
   ]
  },
  {
   "cell_type": "code",
   "execution_count": 1,
   "metadata": {},
   "outputs": [],
   "source": [
    "#импорт библиотек\n",
    "import pandas as pd\n",
    "import matplotlib.pyplot as plt\n",
    "import seaborn as sns"
   ]
  },
  {
   "cell_type": "code",
   "execution_count": 2,
   "metadata": {},
   "outputs": [],
   "source": [
    "# Единая палитра для графиков\n",
    "sns.set_palette('muted')\n",
    "sns.set_style('whitegrid')"
   ]
  },
  {
   "cell_type": "code",
   "execution_count": 3,
   "metadata": {},
   "outputs": [],
   "source": [
    "rest_data = pd.read_csv('/datasets/rest_data.csv')"
   ]
  },
  {
   "cell_type": "code",
   "execution_count": 4,
   "metadata": {
    "scrolled": true
   },
   "outputs": [
    {
     "name": "stdout",
     "output_type": "stream",
     "text": [
      "<class 'pandas.core.frame.DataFrame'>\n",
      "RangeIndex: 15366 entries, 0 to 15365\n",
      "Data columns (total 6 columns):\n",
      "id             15366 non-null int64\n",
      "object_name    15366 non-null object\n",
      "chain          15366 non-null object\n",
      "object_type    15366 non-null object\n",
      "address        15366 non-null object\n",
      "number         15366 non-null int64\n",
      "dtypes: int64(2), object(4)\n",
      "memory usage: 720.4+ KB\n"
     ]
    }
   ],
   "source": [
    "rest_data.info()"
   ]
  },
  {
   "cell_type": "markdown",
   "metadata": {},
   "source": [
    "Таблица rest_data:\n",
    "id — идентификатор объекта;\n",
    "object_name — название объекта общественного питания;\n",
    "chain — сетевой ресторан;\n",
    "object_type — тип объекта общественного питания;\n",
    "address — адрес;\n",
    "number — количество посадочных мест."
   ]
  },
  {
   "cell_type": "code",
   "execution_count": 5,
   "metadata": {},
   "outputs": [
    {
     "data": {
      "text/plain": [
       "0"
      ]
     },
     "execution_count": 5,
     "metadata": {},
     "output_type": "execute_result"
    }
   ],
   "source": [
    "#проверяем количество дубликатов\n",
    "rest_data.duplicated().sum()"
   ]
  },
  {
   "cell_type": "code",
   "execution_count": 6,
   "metadata": {},
   "outputs": [
    {
     "data": {
      "text/plain": [
       "id             0.0\n",
       "object_name    0.0\n",
       "chain          0.0\n",
       "object_type    0.0\n",
       "address        0.0\n",
       "number         0.0\n",
       "dtype: float64"
      ]
     },
     "execution_count": 6,
     "metadata": {},
     "output_type": "execute_result"
    }
   ],
   "source": [
    "# процент пропусков\n",
    "round(rest_data.isna().mean()*100, 1)"
   ]
  },
  {
   "cell_type": "code",
   "execution_count": 7,
   "metadata": {},
   "outputs": [
    {
     "data": {
      "text/html": [
       "<div>\n",
       "<style scoped>\n",
       "    .dataframe tbody tr th:only-of-type {\n",
       "        vertical-align: middle;\n",
       "    }\n",
       "\n",
       "    .dataframe tbody tr th {\n",
       "        vertical-align: top;\n",
       "    }\n",
       "\n",
       "    .dataframe thead th {\n",
       "        text-align: right;\n",
       "    }\n",
       "</style>\n",
       "<table border=\"1\" class=\"dataframe\">\n",
       "  <thead>\n",
       "    <tr style=\"text-align: right;\">\n",
       "      <th></th>\n",
       "      <th>id</th>\n",
       "      <th>object_name</th>\n",
       "      <th>chain</th>\n",
       "      <th>object_type</th>\n",
       "      <th>address</th>\n",
       "      <th>number</th>\n",
       "    </tr>\n",
       "  </thead>\n",
       "  <tbody>\n",
       "    <tr>\n",
       "      <td>11533</td>\n",
       "      <td>177618</td>\n",
       "      <td>Пивной бар «Пивовар»</td>\n",
       "      <td>нет</td>\n",
       "      <td>бар</td>\n",
       "      <td>город Москва, Кустанайская улица, дом 8, корпус 3</td>\n",
       "      <td>5</td>\n",
       "    </tr>\n",
       "    <tr>\n",
       "      <td>5792</td>\n",
       "      <td>58562</td>\n",
       "      <td>Ашкым</td>\n",
       "      <td>нет</td>\n",
       "      <td>ресторан</td>\n",
       "      <td>город Москва, Краснодарская улица, дом 60А</td>\n",
       "      <td>150</td>\n",
       "    </tr>\n",
       "    <tr>\n",
       "      <td>8743</td>\n",
       "      <td>154508</td>\n",
       "      <td>Шоколадница</td>\n",
       "      <td>да</td>\n",
       "      <td>кафе</td>\n",
       "      <td>город Москва, Хорошёвское шоссе, дом 27</td>\n",
       "      <td>16</td>\n",
       "    </tr>\n",
       "    <tr>\n",
       "      <td>10197</td>\n",
       "      <td>172511</td>\n",
       "      <td>Bocconcino</td>\n",
       "      <td>да</td>\n",
       "      <td>кафе</td>\n",
       "      <td>город Москва, Ленинградское шоссе, дом 16А, ст...</td>\n",
       "      <td>36</td>\n",
       "    </tr>\n",
       "    <tr>\n",
       "      <td>7979</td>\n",
       "      <td>98448</td>\n",
       "      <td>Van Wok</td>\n",
       "      <td>нет</td>\n",
       "      <td>кафе</td>\n",
       "      <td>город Москва, улица Земляной Вал, дом 33</td>\n",
       "      <td>30</td>\n",
       "    </tr>\n",
       "  </tbody>\n",
       "</table>\n",
       "</div>"
      ],
      "text/plain": [
       "           id           object_name chain object_type  \\\n",
       "11533  177618  Пивной бар «Пивовар»   нет         бар   \n",
       "5792    58562                 Ашкым   нет    ресторан   \n",
       "8743   154508           Шоколадница    да        кафе   \n",
       "10197  172511            Bocconcino    да        кафе   \n",
       "7979    98448               Van Wok   нет        кафе   \n",
       "\n",
       "                                                 address  number  \n",
       "11533  город Москва, Кустанайская улица, дом 8, корпус 3       5  \n",
       "5792          город Москва, Краснодарская улица, дом 60А     150  \n",
       "8743             город Москва, Хорошёвское шоссе, дом 27      16  \n",
       "10197  город Москва, Ленинградское шоссе, дом 16А, ст...      36  \n",
       "7979            город Москва, улица Земляной Вал, дом 33      30  "
      ]
     },
     "execution_count": 7,
     "metadata": {},
     "output_type": "execute_result"
    }
   ],
   "source": [
    "# 5 случайных строк\n",
    "rest_data.sample(5)"
   ]
  },
  {
   "cell_type": "markdown",
   "metadata": {},
   "source": [
    "**Вывод**\n",
    "Данные без пропусков и дубликатов, информация в каждой колонке соответствует своему типу дынных."
   ]
  },
  {
   "cell_type": "markdown",
   "metadata": {},
   "source": [
    "# Анализ данных"
   ]
  },
  {
   "cell_type": "markdown",
   "metadata": {},
   "source": [
    "## Соотношение видов объектов общественного питания"
   ]
  },
  {
   "cell_type": "markdown",
   "metadata": {},
   "source": [
    "Найдем количество объектов каждого типа и построим гистограмму"
   ]
  },
  {
   "cell_type": "code",
   "execution_count": 8,
   "metadata": {},
   "outputs": [
    {
     "data": {
      "text/html": [
       "<div>\n",
       "<style scoped>\n",
       "    .dataframe tbody tr th:only-of-type {\n",
       "        vertical-align: middle;\n",
       "    }\n",
       "\n",
       "    .dataframe tbody tr th {\n",
       "        vertical-align: top;\n",
       "    }\n",
       "\n",
       "    .dataframe thead th {\n",
       "        text-align: right;\n",
       "    }\n",
       "</style>\n",
       "<table border=\"1\" class=\"dataframe\">\n",
       "  <thead>\n",
       "    <tr style=\"text-align: right;\">\n",
       "      <th></th>\n",
       "      <th>object_type</th>\n",
       "      <th>id</th>\n",
       "    </tr>\n",
       "  </thead>\n",
       "  <tbody>\n",
       "    <tr>\n",
       "      <td>0</td>\n",
       "      <td>кафе</td>\n",
       "      <td>6099</td>\n",
       "    </tr>\n",
       "    <tr>\n",
       "      <td>1</td>\n",
       "      <td>столовая</td>\n",
       "      <td>2587</td>\n",
       "    </tr>\n",
       "    <tr>\n",
       "      <td>2</td>\n",
       "      <td>ресторан</td>\n",
       "      <td>2285</td>\n",
       "    </tr>\n",
       "    <tr>\n",
       "      <td>3</td>\n",
       "      <td>предприятие быстрого обслуживания</td>\n",
       "      <td>1923</td>\n",
       "    </tr>\n",
       "    <tr>\n",
       "      <td>4</td>\n",
       "      <td>бар</td>\n",
       "      <td>856</td>\n",
       "    </tr>\n",
       "    <tr>\n",
       "      <td>5</td>\n",
       "      <td>буфет</td>\n",
       "      <td>585</td>\n",
       "    </tr>\n",
       "    <tr>\n",
       "      <td>6</td>\n",
       "      <td>кафетерий</td>\n",
       "      <td>398</td>\n",
       "    </tr>\n",
       "    <tr>\n",
       "      <td>7</td>\n",
       "      <td>закусочная</td>\n",
       "      <td>360</td>\n",
       "    </tr>\n",
       "    <tr>\n",
       "      <td>8</td>\n",
       "      <td>магазин (отдел кулинарии)</td>\n",
       "      <td>273</td>\n",
       "    </tr>\n",
       "  </tbody>\n",
       "</table>\n",
       "</div>"
      ],
      "text/plain": [
       "                         object_type    id\n",
       "0                               кафе  6099\n",
       "1                           столовая  2587\n",
       "2                           ресторан  2285\n",
       "3  предприятие быстрого обслуживания  1923\n",
       "4                                бар   856\n",
       "5                              буфет   585\n",
       "6                          кафетерий   398\n",
       "7                         закусочная   360\n",
       "8          магазин (отдел кулинарии)   273"
      ]
     },
     "execution_count": 8,
     "metadata": {},
     "output_type": "execute_result"
    }
   ],
   "source": [
    "kind_rest = rest_data.groupby('object_type')['id'].count().sort_values(ascending=False).reset_index()\n",
    "kind_rest"
   ]
  },
  {
   "cell_type": "code",
   "execution_count": 9,
   "metadata": {},
   "outputs": [
    {
     "data": {
      "image/png": "[encoded data removed]",
      "text/plain": [
       "<Figure size 720x504 with 1 Axes>"
      ]
     },
     "metadata": {},
     "output_type": "display_data"
    }
   ],
   "source": [
    "# Размер фигуры\n",
    "plt.figure(figsize=(10, 7))\n",
    "\n",
    "# График\n",
    "sns.barplot(\n",
    "    x =\"id\", \n",
    "    y =\"object_type\", \n",
    "    data=kind_rest).set(title = \"Виды ресторанов общественного питания\", ylabel= 'Тип заведения', xlabel = 'Количество')\n",
    "plt.show()"
   ]
  },
  {
   "cell_type": "markdown",
   "metadata": {},
   "source": [
    "**Вывод**\n",
    "По общей таблице данных мы видим, что наиболее распространены кафе - 6099 единиц, далее идут столовые -2587 и рестораны  - 2258.\n",
    "Меньше всего заведений типа - кафетерий, закусочная и отдел кулинарии."
   ]
  },
  {
   "cell_type": "markdown",
   "metadata": {},
   "source": [
    "## Соотношение сетевых и несетевых заведений"
   ]
  },
  {
   "cell_type": "code",
   "execution_count": 10,
   "metadata": {},
   "outputs": [
    {
     "data": {
      "text/html": [
       "<div>\n",
       "<style scoped>\n",
       "    .dataframe tbody tr th:only-of-type {\n",
       "        vertical-align: middle;\n",
       "    }\n",
       "\n",
       "    .dataframe tbody tr th {\n",
       "        vertical-align: top;\n",
       "    }\n",
       "\n",
       "    .dataframe thead th {\n",
       "        text-align: right;\n",
       "    }\n",
       "</style>\n",
       "<table border=\"1\" class=\"dataframe\">\n",
       "  <thead>\n",
       "    <tr style=\"text-align: right;\">\n",
       "      <th></th>\n",
       "      <th>chain</th>\n",
       "      <th>id</th>\n",
       "    </tr>\n",
       "  </thead>\n",
       "  <tbody>\n",
       "    <tr>\n",
       "      <td>0</td>\n",
       "      <td>да</td>\n",
       "      <td>2968</td>\n",
       "    </tr>\n",
       "    <tr>\n",
       "      <td>1</td>\n",
       "      <td>нет</td>\n",
       "      <td>12398</td>\n",
       "    </tr>\n",
       "  </tbody>\n",
       "</table>\n",
       "</div>"
      ],
      "text/plain": [
       "  chain     id\n",
       "0    да   2968\n",
       "1   нет  12398"
      ]
     },
     "execution_count": 10,
     "metadata": {},
     "output_type": "execute_result"
    }
   ],
   "source": [
    "chain_rest = rest_data.groupby('chain')['id'].count().reset_index()\n",
    "chain_rest"
   ]
  },
  {
   "cell_type": "code",
   "execution_count": 11,
   "metadata": {},
   "outputs": [
    {
     "data": {
      "image/png": "[encoded data removed]",
      "text/plain": [
       "<Figure size 432x288 with 1 Axes>"
      ]
     },
     "metadata": {},
     "output_type": "display_data"
    }
   ],
   "source": [
    "# Круговая диаграмма\n",
    "# переименуем значения\n",
    "labels = 'Сетевой', 'Не сетевой'\n",
    " \n",
    "# строим диаграмму    \n",
    "fig1, ax1 = plt.subplots()\n",
    "ax1.pie(chain_rest['id'], labels=labels, autopct='%1.1f%%',  startangle=90)\n",
    "ax1.axis('equal')  \n",
    "plt.title('Распределение сетевых и не сетевых ресторанов')\n",
    "plt.show()\n"
   ]
  },
  {
   "cell_type": "markdown",
   "metadata": {},
   "source": [
    "Сетевые рестораны занимают не более 20% от общего рынка, 80,7% - это не сетевые заведения общественного питания. "
   ]
  },
  {
   "cell_type": "markdown",
   "metadata": {},
   "source": [
    "## Виды объектов общественного питания  сетевого распространения"
   ]
  },
  {
   "cell_type": "code",
   "execution_count": 12,
   "metadata": {},
   "outputs": [
    {
     "data": {
      "text/html": [
       "<div>\n",
       "<style scoped>\n",
       "    .dataframe tbody tr th:only-of-type {\n",
       "        vertical-align: middle;\n",
       "    }\n",
       "\n",
       "    .dataframe tbody tr th {\n",
       "        vertical-align: top;\n",
       "    }\n",
       "\n",
       "    .dataframe thead th {\n",
       "        text-align: right;\n",
       "    }\n",
       "</style>\n",
       "<table border=\"1\" class=\"dataframe\">\n",
       "  <thead>\n",
       "    <tr style=\"text-align: right;\">\n",
       "      <th></th>\n",
       "      <th>object_type</th>\n",
       "      <th>id</th>\n",
       "    </tr>\n",
       "  </thead>\n",
       "  <tbody>\n",
       "    <tr>\n",
       "      <td>0</td>\n",
       "      <td>кафе</td>\n",
       "      <td>1396</td>\n",
       "    </tr>\n",
       "    <tr>\n",
       "      <td>1</td>\n",
       "      <td>предприятие быстрого обслуживания</td>\n",
       "      <td>791</td>\n",
       "    </tr>\n",
       "    <tr>\n",
       "      <td>2</td>\n",
       "      <td>ресторан</td>\n",
       "      <td>544</td>\n",
       "    </tr>\n",
       "    <tr>\n",
       "      <td>3</td>\n",
       "      <td>магазин (отдел кулинарии)</td>\n",
       "      <td>78</td>\n",
       "    </tr>\n",
       "    <tr>\n",
       "      <td>4</td>\n",
       "      <td>закусочная</td>\n",
       "      <td>56</td>\n",
       "    </tr>\n",
       "    <tr>\n",
       "      <td>5</td>\n",
       "      <td>кафетерий</td>\n",
       "      <td>52</td>\n",
       "    </tr>\n",
       "    <tr>\n",
       "      <td>6</td>\n",
       "      <td>бар</td>\n",
       "      <td>37</td>\n",
       "    </tr>\n",
       "    <tr>\n",
       "      <td>7</td>\n",
       "      <td>буфет</td>\n",
       "      <td>11</td>\n",
       "    </tr>\n",
       "    <tr>\n",
       "      <td>8</td>\n",
       "      <td>столовая</td>\n",
       "      <td>3</td>\n",
       "    </tr>\n",
       "  </tbody>\n",
       "</table>\n",
       "</div>"
      ],
      "text/plain": [
       "                         object_type    id\n",
       "0                               кафе  1396\n",
       "1  предприятие быстрого обслуживания   791\n",
       "2                           ресторан   544\n",
       "3          магазин (отдел кулинарии)    78\n",
       "4                         закусочная    56\n",
       "5                          кафетерий    52\n",
       "6                                бар    37\n",
       "7                              буфет    11\n",
       "8                           столовая     3"
      ]
     },
     "execution_count": 12,
     "metadata": {},
     "output_type": "execute_result"
    }
   ],
   "source": [
    "#выделяем только сетевые рестораны\n",
    "chain_kind = rest_data[rest_data['chain'] == 'да']\n",
    "\n",
    "kind_rest_chain = chain_kind.groupby('object_type')['id'].count().sort_values(ascending=False).reset_index()\n",
    "kind_rest_chain"
   ]
  },
  {
   "cell_type": "code",
   "execution_count": 13,
   "metadata": {
    "scrolled": false
   },
   "outputs": [
    {
     "data": {
      "image/png": "[encoded data removed]",
      "text/plain": [
       "<Figure size 720x504 with 1 Axes>"
      ]
     },
     "metadata": {},
     "output_type": "display_data"
    }
   ],
   "source": [
    "# Размер фигуры\n",
    "plt.figure(figsize=(10, 7))\n",
    "\n",
    "# График\n",
    "sns.barplot(\n",
    "    x =\"id\", \n",
    "    y =\"object_type\", \n",
    "    data=kind_rest_chain).set(title = \"Виды ресторанов общественного питания\", ylabel= 'Тип заведения', xlabel = 'Количество')\n",
    "plt.show()"
   ]
  },
  {
   "cell_type": "markdown",
   "metadata": {},
   "source": [
    "**Вывод**\n",
    "В сетевых объектах общественного питания наиболее распространены кафе - 1396, предприятия быстрого обслуживания - 791 и рестораны - 544 единиц.\n",
    "Меньше всего сетевых баров, буфетов и столовых."
   ]
  },
  {
   "cell_type": "markdown",
   "metadata": {},
   "source": [
    "### Распределение количества посадочных мест в сетевых ресторанах\n",
    "Рассмотрим, что характерно для сетевых заведений: много заведений с небольшим числом посадочных мест в каждом или мало заведений с большим количеством посадочных мест?"
   ]
  },
  {
   "cell_type": "code",
   "execution_count": 14,
   "metadata": {},
   "outputs": [
    {
     "data": {
      "image/png": "[encoded data removed]",
      "text/plain": [
       "<Figure size 432x288 with 1 Axes>"
      ]
     },
     "metadata": {},
     "output_type": "display_data"
    }
   ],
   "source": [
    "#строим боксплот\n",
    "sns.boxplot(chain_kind['number'])\n",
    "plt.show()"
   ]
  },
  {
   "cell_type": "code",
   "execution_count": 15,
   "metadata": {},
   "outputs": [
    {
     "data": {
      "text/plain": [
       "count    2968.000000\n",
       "mean       52.919811\n",
       "std        57.140644\n",
       "min         0.000000\n",
       "25%        15.000000\n",
       "50%        40.000000\n",
       "75%        72.000000\n",
       "max       580.000000\n",
       "Name: number, dtype: float64"
      ]
     },
     "execution_count": 15,
     "metadata": {},
     "output_type": "execute_result"
    }
   ],
   "source": [
    "chain_kind['number'].describe()"
   ]
  },
  {
   "cell_type": "markdown",
   "metadata": {},
   "source": [
    "По боксплоту мы видим много аномальных значение больше 160 посадочных мест"
   ]
  },
  {
   "cell_type": "code",
   "execution_count": 16,
   "metadata": {
    "scrolled": true
   },
   "outputs": [
    {
     "data": {
      "image/png": "[encoded data removed]",
      "text/plain": [
       "<Figure size 432x288 with 1 Axes>"
      ]
     },
     "metadata": {},
     "output_type": "display_data"
    }
   ],
   "source": [
    "#график распределения количества посадочных мест\n",
    "sns.distplot(chain_kind['number'],bins = 50).set(title = \"Распределение количества посадочных мест\", \n",
    "                                                 ylabel= 'Количество заведений', xlabel = 'Число мест')\n",
    "plt.show()"
   ]
  },
  {
   "cell_type": "markdown",
   "metadata": {},
   "source": [
    "**Вывод**\n",
    "В сетевых объектах общественного питания в среднем 52 посадочных места, 75% результатов не превышает 72 посадочных места. "
   ]
  },
  {
   "cell_type": "markdown",
   "metadata": {},
   "source": [
    "## Среднее количество посадочных мест"
   ]
  },
  {
   "cell_type": "code",
   "execution_count": 17,
   "metadata": {},
   "outputs": [
    {
     "data": {
      "text/html": [
       "<div>\n",
       "<style scoped>\n",
       "    .dataframe tbody tr th:only-of-type {\n",
       "        vertical-align: middle;\n",
       "    }\n",
       "\n",
       "    .dataframe tbody tr th {\n",
       "        vertical-align: top;\n",
       "    }\n",
       "\n",
       "    .dataframe thead th {\n",
       "        text-align: right;\n",
       "    }\n",
       "</style>\n",
       "<table border=\"1\" class=\"dataframe\">\n",
       "  <thead>\n",
       "    <tr style=\"text-align: right;\">\n",
       "      <th></th>\n",
       "      <th>object_type</th>\n",
       "      <th>number</th>\n",
       "    </tr>\n",
       "  </thead>\n",
       "  <tbody>\n",
       "    <tr>\n",
       "      <td>0</td>\n",
       "      <td>столовая</td>\n",
       "      <td>130.0</td>\n",
       "    </tr>\n",
       "    <tr>\n",
       "      <td>1</td>\n",
       "      <td>ресторан</td>\n",
       "      <td>97.0</td>\n",
       "    </tr>\n",
       "    <tr>\n",
       "      <td>2</td>\n",
       "      <td>буфет</td>\n",
       "      <td>51.0</td>\n",
       "    </tr>\n",
       "    <tr>\n",
       "      <td>3</td>\n",
       "      <td>бар</td>\n",
       "      <td>43.0</td>\n",
       "    </tr>\n",
       "    <tr>\n",
       "      <td>4</td>\n",
       "      <td>кафе</td>\n",
       "      <td>40.0</td>\n",
       "    </tr>\n",
       "    <tr>\n",
       "      <td>5</td>\n",
       "      <td>предприятие быстрого обслуживания</td>\n",
       "      <td>21.0</td>\n",
       "    </tr>\n",
       "    <tr>\n",
       "      <td>6</td>\n",
       "      <td>кафетерий</td>\n",
       "      <td>9.0</td>\n",
       "    </tr>\n",
       "    <tr>\n",
       "      <td>7</td>\n",
       "      <td>закусочная</td>\n",
       "      <td>8.0</td>\n",
       "    </tr>\n",
       "    <tr>\n",
       "      <td>8</td>\n",
       "      <td>магазин (отдел кулинарии)</td>\n",
       "      <td>6.0</td>\n",
       "    </tr>\n",
       "  </tbody>\n",
       "</table>\n",
       "</div>"
      ],
      "text/plain": [
       "                         object_type  number\n",
       "0                           столовая   130.0\n",
       "1                           ресторан    97.0\n",
       "2                              буфет    51.0\n",
       "3                                бар    43.0\n",
       "4                               кафе    40.0\n",
       "5  предприятие быстрого обслуживания    21.0\n",
       "6                          кафетерий     9.0\n",
       "7                         закусочная     8.0\n",
       "8          магазин (отдел кулинарии)     6.0"
      ]
     },
     "execution_count": 17,
     "metadata": {},
     "output_type": "execute_result"
    }
   ],
   "source": [
    "#Расчет среднего количества посадочных мест по типу объекта\n",
    "mean_place = rest_data.groupby('object_type')['number'].mean().round().sort_values(ascending=False).reset_index()\n",
    "mean_place"
   ]
  },
  {
   "cell_type": "code",
   "execution_count": 18,
   "metadata": {},
   "outputs": [
    {
     "data": {
      "image/png": "[encoded data removed]",
      "text/plain": [
       "<Figure size 720x504 with 1 Axes>"
      ]
     },
     "metadata": {},
     "output_type": "display_data"
    }
   ],
   "source": [
    "# Размер фигуры\n",
    "plt.figure(figsize=(10, 7))\n",
    "\n",
    "# График\n",
    "sns.barplot(\n",
    "    x =\"number\", \n",
    "    y =\"object_type\", \n",
    "    data=mean_place).set(title = \"Среднее количество посадочных мест\", \n",
    "                         ylabel= 'Тип заведения', xlabel = 'Количество мест')\n",
    "plt.show()"
   ]
  },
  {
   "cell_type": "markdown",
   "metadata": {},
   "source": [
    "**Вывод**\n",
    "Наибольшее среднее количество посадочных мест в столовых - 130, далее следуют рестораны - в среднем 97 мест и буфеты - 51 место. Обычно именно в данных типах заведений требуется максимальная пропускная способность.\n",
    "Меньше всего мест в кафетериях и закусочных (9 и 8 мест соответственно) и магазинах (отдел кулинарии) - 6 мест. Можно объяснить это тем, что в таких заведениях обычно берут еду на вынос."
   ]
  },
  {
   "cell_type": "markdown",
   "metadata": {},
   "source": [
    "## Выделение в отдельный столбец информации об улице из столбца address"
   ]
  },
  {
   "cell_type": "code",
   "execution_count": 19,
   "metadata": {
    "scrolled": true
   },
   "outputs": [
    {
     "data": {
      "text/html": [
       "<div>\n",
       "<style scoped>\n",
       "    .dataframe tbody tr th:only-of-type {\n",
       "        vertical-align: middle;\n",
       "    }\n",
       "\n",
       "    .dataframe tbody tr th {\n",
       "        vertical-align: top;\n",
       "    }\n",
       "\n",
       "    .dataframe thead th {\n",
       "        text-align: right;\n",
       "    }\n",
       "</style>\n",
       "<table border=\"1\" class=\"dataframe\">\n",
       "  <thead>\n",
       "    <tr style=\"text-align: right;\">\n",
       "      <th></th>\n",
       "      <th>id</th>\n",
       "      <th>object_name</th>\n",
       "      <th>chain</th>\n",
       "      <th>object_type</th>\n",
       "      <th>address</th>\n",
       "      <th>number</th>\n",
       "    </tr>\n",
       "  </thead>\n",
       "  <tbody>\n",
       "    <tr>\n",
       "      <td>0</td>\n",
       "      <td>151635</td>\n",
       "      <td>СМЕТАНА</td>\n",
       "      <td>нет</td>\n",
       "      <td>кафе</td>\n",
       "      <td>город Москва, улица Егора Абакумова, дом 9</td>\n",
       "      <td>48</td>\n",
       "    </tr>\n",
       "    <tr>\n",
       "      <td>1</td>\n",
       "      <td>77874</td>\n",
       "      <td>Родник</td>\n",
       "      <td>нет</td>\n",
       "      <td>кафе</td>\n",
       "      <td>город Москва, улица Талалихина, дом 2/1, корпус 1</td>\n",
       "      <td>35</td>\n",
       "    </tr>\n",
       "    <tr>\n",
       "      <td>2</td>\n",
       "      <td>24309</td>\n",
       "      <td>Кафе «Академия»</td>\n",
       "      <td>нет</td>\n",
       "      <td>кафе</td>\n",
       "      <td>город Москва, Абельмановская улица, дом 6</td>\n",
       "      <td>95</td>\n",
       "    </tr>\n",
       "    <tr>\n",
       "      <td>3</td>\n",
       "      <td>21894</td>\n",
       "      <td>ПИЦЦЕТОРИЯ</td>\n",
       "      <td>да</td>\n",
       "      <td>кафе</td>\n",
       "      <td>город Москва, Абрамцевская улица, дом 1</td>\n",
       "      <td>40</td>\n",
       "    </tr>\n",
       "    <tr>\n",
       "      <td>4</td>\n",
       "      <td>119365</td>\n",
       "      <td>Кафе «Вишневая метель»</td>\n",
       "      <td>нет</td>\n",
       "      <td>кафе</td>\n",
       "      <td>город Москва, Абрамцевская улица, дом 9, корпус 1</td>\n",
       "      <td>50</td>\n",
       "    </tr>\n",
       "  </tbody>\n",
       "</table>\n",
       "</div>"
      ],
      "text/plain": [
       "       id             object_name chain object_type  \\\n",
       "0  151635                 СМЕТАНА   нет        кафе   \n",
       "1   77874                  Родник   нет        кафе   \n",
       "2   24309         Кафе «Академия»   нет        кафе   \n",
       "3   21894              ПИЦЦЕТОРИЯ    да        кафе   \n",
       "4  119365  Кафе «Вишневая метель»   нет        кафе   \n",
       "\n",
       "                                             address  number  \n",
       "0         город Москва, улица Егора Абакумова, дом 9      48  \n",
       "1  город Москва, улица Талалихина, дом 2/1, корпус 1      35  \n",
       "2          город Москва, Абельмановская улица, дом 6      95  \n",
       "3            город Москва, Абрамцевская улица, дом 1      40  \n",
       "4  город Москва, Абрамцевская улица, дом 9, корпус 1      50  "
      ]
     },
     "execution_count": 19,
     "metadata": {},
     "output_type": "execute_result"
    }
   ],
   "source": [
    "rest_data.head()"
   ]
  },
  {
   "cell_type": "markdown",
   "metadata": {},
   "source": [
    "Для выделения в отдельный столбец информации об улице разобьем методом split значения в столбце address и возьем первое после \"город Москва\""
   ]
  },
  {
   "cell_type": "code",
   "execution_count": 20,
   "metadata": {},
   "outputs": [],
   "source": [
    "rest_data['street'] = rest_data['address'].apply(lambda x: x.split(', ')[1])"
   ]
  },
  {
   "cell_type": "code",
   "execution_count": 21,
   "metadata": {},
   "outputs": [
    {
     "data": {
      "text/html": [
       "<div>\n",
       "<style scoped>\n",
       "    .dataframe tbody tr th:only-of-type {\n",
       "        vertical-align: middle;\n",
       "    }\n",
       "\n",
       "    .dataframe tbody tr th {\n",
       "        vertical-align: top;\n",
       "    }\n",
       "\n",
       "    .dataframe thead th {\n",
       "        text-align: right;\n",
       "    }\n",
       "</style>\n",
       "<table border=\"1\" class=\"dataframe\">\n",
       "  <thead>\n",
       "    <tr style=\"text-align: right;\">\n",
       "      <th></th>\n",
       "      <th>id</th>\n",
       "      <th>object_name</th>\n",
       "      <th>chain</th>\n",
       "      <th>object_type</th>\n",
       "      <th>address</th>\n",
       "      <th>number</th>\n",
       "      <th>street</th>\n",
       "    </tr>\n",
       "  </thead>\n",
       "  <tbody>\n",
       "    <tr>\n",
       "      <td>0</td>\n",
       "      <td>151635</td>\n",
       "      <td>СМЕТАНА</td>\n",
       "      <td>нет</td>\n",
       "      <td>кафе</td>\n",
       "      <td>город Москва, улица Егора Абакумова, дом 9</td>\n",
       "      <td>48</td>\n",
       "      <td>улица Егора Абакумова</td>\n",
       "    </tr>\n",
       "    <tr>\n",
       "      <td>1</td>\n",
       "      <td>77874</td>\n",
       "      <td>Родник</td>\n",
       "      <td>нет</td>\n",
       "      <td>кафе</td>\n",
       "      <td>город Москва, улица Талалихина, дом 2/1, корпус 1</td>\n",
       "      <td>35</td>\n",
       "      <td>улица Талалихина</td>\n",
       "    </tr>\n",
       "    <tr>\n",
       "      <td>2</td>\n",
       "      <td>24309</td>\n",
       "      <td>Кафе «Академия»</td>\n",
       "      <td>нет</td>\n",
       "      <td>кафе</td>\n",
       "      <td>город Москва, Абельмановская улица, дом 6</td>\n",
       "      <td>95</td>\n",
       "      <td>Абельмановская улица</td>\n",
       "    </tr>\n",
       "    <tr>\n",
       "      <td>3</td>\n",
       "      <td>21894</td>\n",
       "      <td>ПИЦЦЕТОРИЯ</td>\n",
       "      <td>да</td>\n",
       "      <td>кафе</td>\n",
       "      <td>город Москва, Абрамцевская улица, дом 1</td>\n",
       "      <td>40</td>\n",
       "      <td>Абрамцевская улица</td>\n",
       "    </tr>\n",
       "    <tr>\n",
       "      <td>4</td>\n",
       "      <td>119365</td>\n",
       "      <td>Кафе «Вишневая метель»</td>\n",
       "      <td>нет</td>\n",
       "      <td>кафе</td>\n",
       "      <td>город Москва, Абрамцевская улица, дом 9, корпус 1</td>\n",
       "      <td>50</td>\n",
       "      <td>Абрамцевская улица</td>\n",
       "    </tr>\n",
       "  </tbody>\n",
       "</table>\n",
       "</div>"
      ],
      "text/plain": [
       "       id             object_name chain object_type  \\\n",
       "0  151635                 СМЕТАНА   нет        кафе   \n",
       "1   77874                  Родник   нет        кафе   \n",
       "2   24309         Кафе «Академия»   нет        кафе   \n",
       "3   21894              ПИЦЦЕТОРИЯ    да        кафе   \n",
       "4  119365  Кафе «Вишневая метель»   нет        кафе   \n",
       "\n",
       "                                             address  number  \\\n",
       "0         город Москва, улица Егора Абакумова, дом 9      48   \n",
       "1  город Москва, улица Талалихина, дом 2/1, корпус 1      35   \n",
       "2          город Москва, Абельмановская улица, дом 6      95   \n",
       "3            город Москва, Абрамцевская улица, дом 1      40   \n",
       "4  город Москва, Абрамцевская улица, дом 9, корпус 1      50   \n",
       "\n",
       "                  street  \n",
       "0  улица Егора Абакумова  \n",
       "1       улица Талалихина  \n",
       "2   Абельмановская улица  \n",
       "3     Абрамцевская улица  \n",
       "4     Абрамцевская улица  "
      ]
     },
     "execution_count": 21,
     "metadata": {},
     "output_type": "execute_result"
    }
   ],
   "source": [
    "rest_data.head()"
   ]
  },
  {
   "cell_type": "markdown",
   "metadata": {},
   "source": [
    "## Топ-10 улиц по количеству объектов общественного питания"
   ]
  },
  {
   "cell_type": "code",
   "execution_count": 22,
   "metadata": {},
   "outputs": [],
   "source": [
    "# группировка по улице и подсчет заведений\n",
    "top_streets = rest_data.groupby('street')['id'].count().sort_values(ascending=False).reset_index()"
   ]
  },
  {
   "cell_type": "code",
   "execution_count": 23,
   "metadata": {},
   "outputs": [
    {
     "data": {
      "text/html": [
       "<div>\n",
       "<style scoped>\n",
       "    .dataframe tbody tr th:only-of-type {\n",
       "        vertical-align: middle;\n",
       "    }\n",
       "\n",
       "    .dataframe tbody tr th {\n",
       "        vertical-align: top;\n",
       "    }\n",
       "\n",
       "    .dataframe thead th {\n",
       "        text-align: right;\n",
       "    }\n",
       "</style>\n",
       "<table border=\"1\" class=\"dataframe\">\n",
       "  <thead>\n",
       "    <tr style=\"text-align: right;\">\n",
       "      <th></th>\n",
       "      <th>street</th>\n",
       "      <th>id</th>\n",
       "    </tr>\n",
       "  </thead>\n",
       "  <tbody>\n",
       "    <tr>\n",
       "      <td>0</td>\n",
       "      <td>город Зеленоград</td>\n",
       "      <td>232</td>\n",
       "    </tr>\n",
       "    <tr>\n",
       "      <td>1</td>\n",
       "      <td>проспект Мира</td>\n",
       "      <td>204</td>\n",
       "    </tr>\n",
       "    <tr>\n",
       "      <td>2</td>\n",
       "      <td>Профсоюзная улица</td>\n",
       "      <td>182</td>\n",
       "    </tr>\n",
       "    <tr>\n",
       "      <td>3</td>\n",
       "      <td>Ленинградский проспект</td>\n",
       "      <td>171</td>\n",
       "    </tr>\n",
       "    <tr>\n",
       "      <td>4</td>\n",
       "      <td>Пресненская набережная</td>\n",
       "      <td>167</td>\n",
       "    </tr>\n",
       "    <tr>\n",
       "      <td>5</td>\n",
       "      <td>Варшавское шоссе</td>\n",
       "      <td>161</td>\n",
       "    </tr>\n",
       "    <tr>\n",
       "      <td>6</td>\n",
       "      <td>Ленинский проспект</td>\n",
       "      <td>147</td>\n",
       "    </tr>\n",
       "    <tr>\n",
       "      <td>7</td>\n",
       "      <td>поселение Сосенское</td>\n",
       "      <td>138</td>\n",
       "    </tr>\n",
       "    <tr>\n",
       "      <td>8</td>\n",
       "      <td>проспект Вернадского</td>\n",
       "      <td>132</td>\n",
       "    </tr>\n",
       "    <tr>\n",
       "      <td>9</td>\n",
       "      <td>Кутузовский проспект</td>\n",
       "      <td>114</td>\n",
       "    </tr>\n",
       "  </tbody>\n",
       "</table>\n",
       "</div>"
      ],
      "text/plain": [
       "                   street   id\n",
       "0        город Зеленоград  232\n",
       "1           проспект Мира  204\n",
       "2       Профсоюзная улица  182\n",
       "3  Ленинградский проспект  171\n",
       "4  Пресненская набережная  167\n",
       "5        Варшавское шоссе  161\n",
       "6      Ленинский проспект  147\n",
       "7     поселение Сосенское  138\n",
       "8    проспект Вернадского  132\n",
       "9    Кутузовский проспект  114"
      ]
     },
     "execution_count": 23,
     "metadata": {},
     "output_type": "execute_result"
    }
   ],
   "source": [
    "top_streets.head(10)"
   ]
  },
  {
   "cell_type": "markdown",
   "metadata": {},
   "source": [
    "В список улиц у нас паполи в том числе город Зеленоград и поселение Сосенское. Так как в нашем иссдедовании нас интересуют именно улицы Москвы, а не ближайших пригородов, исключим из топ 10 Зеленоград и поселение Сосенское."
   ]
  },
  {
   "cell_type": "code",
   "execution_count": 24,
   "metadata": {},
   "outputs": [
    {
     "data": {
      "text/html": [
       "<div>\n",
       "<style scoped>\n",
       "    .dataframe tbody tr th:only-of-type {\n",
       "        vertical-align: middle;\n",
       "    }\n",
       "\n",
       "    .dataframe tbody tr th {\n",
       "        vertical-align: top;\n",
       "    }\n",
       "\n",
       "    .dataframe thead th {\n",
       "        text-align: right;\n",
       "    }\n",
       "</style>\n",
       "<table border=\"1\" class=\"dataframe\">\n",
       "  <thead>\n",
       "    <tr style=\"text-align: right;\">\n",
       "      <th></th>\n",
       "      <th>street</th>\n",
       "      <th>id</th>\n",
       "    </tr>\n",
       "  </thead>\n",
       "  <tbody>\n",
       "    <tr>\n",
       "      <td>1</td>\n",
       "      <td>проспект Мира</td>\n",
       "      <td>204</td>\n",
       "    </tr>\n",
       "    <tr>\n",
       "      <td>2</td>\n",
       "      <td>Профсоюзная улица</td>\n",
       "      <td>182</td>\n",
       "    </tr>\n",
       "    <tr>\n",
       "      <td>3</td>\n",
       "      <td>Ленинградский проспект</td>\n",
       "      <td>171</td>\n",
       "    </tr>\n",
       "    <tr>\n",
       "      <td>4</td>\n",
       "      <td>Пресненская набережная</td>\n",
       "      <td>167</td>\n",
       "    </tr>\n",
       "    <tr>\n",
       "      <td>5</td>\n",
       "      <td>Варшавское шоссе</td>\n",
       "      <td>161</td>\n",
       "    </tr>\n",
       "    <tr>\n",
       "      <td>6</td>\n",
       "      <td>Ленинский проспект</td>\n",
       "      <td>147</td>\n",
       "    </tr>\n",
       "    <tr>\n",
       "      <td>8</td>\n",
       "      <td>проспект Вернадского</td>\n",
       "      <td>132</td>\n",
       "    </tr>\n",
       "    <tr>\n",
       "      <td>9</td>\n",
       "      <td>Кутузовский проспект</td>\n",
       "      <td>114</td>\n",
       "    </tr>\n",
       "    <tr>\n",
       "      <td>10</td>\n",
       "      <td>Каширское шоссе</td>\n",
       "      <td>112</td>\n",
       "    </tr>\n",
       "    <tr>\n",
       "      <td>11</td>\n",
       "      <td>Кировоградская улица</td>\n",
       "      <td>110</td>\n",
       "    </tr>\n",
       "  </tbody>\n",
       "</table>\n",
       "</div>"
      ],
      "text/plain": [
       "                    street   id\n",
       "1            проспект Мира  204\n",
       "2        Профсоюзная улица  182\n",
       "3   Ленинградский проспект  171\n",
       "4   Пресненская набережная  167\n",
       "5         Варшавское шоссе  161\n",
       "6       Ленинский проспект  147\n",
       "8     проспект Вернадского  132\n",
       "9     Кутузовский проспект  114\n",
       "10         Каширское шоссе  112\n",
       "11    Кировоградская улица  110"
      ]
     },
     "execution_count": 24,
     "metadata": {},
     "output_type": "execute_result"
    }
   ],
   "source": [
    "# список исключений\n",
    "bad_streets = ['город Зеленоград', 'поселение Сосенское']\n",
    "# топ улиц без исключений\n",
    "top_streets_new = top_streets.query('street not in @bad_streets')\n",
    "top_streets_new.head(10)"
   ]
  },
  {
   "cell_type": "code",
   "execution_count": 25,
   "metadata": {},
   "outputs": [
    {
     "data": {
      "text/html": [
       "<div>\n",
       "<style scoped>\n",
       "    .dataframe tbody tr th:only-of-type {\n",
       "        vertical-align: middle;\n",
       "    }\n",
       "\n",
       "    .dataframe tbody tr th {\n",
       "        vertical-align: top;\n",
       "    }\n",
       "\n",
       "    .dataframe thead th {\n",
       "        text-align: right;\n",
       "    }\n",
       "</style>\n",
       "<table border=\"1\" class=\"dataframe\">\n",
       "  <thead>\n",
       "    <tr style=\"text-align: right;\">\n",
       "      <th></th>\n",
       "      <th>street</th>\n",
       "      <th>id</th>\n",
       "    </tr>\n",
       "  </thead>\n",
       "  <tbody>\n",
       "    <tr>\n",
       "      <td>1</td>\n",
       "      <td>проспект Мира</td>\n",
       "      <td>204</td>\n",
       "    </tr>\n",
       "    <tr>\n",
       "      <td>2</td>\n",
       "      <td>Профсоюзная улица</td>\n",
       "      <td>182</td>\n",
       "    </tr>\n",
       "    <tr>\n",
       "      <td>3</td>\n",
       "      <td>Ленинградский проспект</td>\n",
       "      <td>171</td>\n",
       "    </tr>\n",
       "    <tr>\n",
       "      <td>4</td>\n",
       "      <td>Пресненская набережная</td>\n",
       "      <td>167</td>\n",
       "    </tr>\n",
       "    <tr>\n",
       "      <td>5</td>\n",
       "      <td>Варшавское шоссе</td>\n",
       "      <td>161</td>\n",
       "    </tr>\n",
       "    <tr>\n",
       "      <td>6</td>\n",
       "      <td>Ленинский проспект</td>\n",
       "      <td>147</td>\n",
       "    </tr>\n",
       "    <tr>\n",
       "      <td>8</td>\n",
       "      <td>проспект Вернадского</td>\n",
       "      <td>132</td>\n",
       "    </tr>\n",
       "    <tr>\n",
       "      <td>9</td>\n",
       "      <td>Кутузовский проспект</td>\n",
       "      <td>114</td>\n",
       "    </tr>\n",
       "    <tr>\n",
       "      <td>10</td>\n",
       "      <td>Каширское шоссе</td>\n",
       "      <td>112</td>\n",
       "    </tr>\n",
       "    <tr>\n",
       "      <td>11</td>\n",
       "      <td>Кировоградская улица</td>\n",
       "      <td>110</td>\n",
       "    </tr>\n",
       "  </tbody>\n",
       "</table>\n",
       "</div>"
      ],
      "text/plain": [
       "                    street   id\n",
       "1            проспект Мира  204\n",
       "2        Профсоюзная улица  182\n",
       "3   Ленинградский проспект  171\n",
       "4   Пресненская набережная  167\n",
       "5         Варшавское шоссе  161\n",
       "6       Ленинский проспект  147\n",
       "8     проспект Вернадского  132\n",
       "9     Кутузовский проспект  114\n",
       "10         Каширское шоссе  112\n",
       "11    Кировоградская улица  110"
      ]
     },
     "execution_count": 25,
     "metadata": {},
     "output_type": "execute_result"
    }
   ],
   "source": [
    "# оставляем только первые 10 позиций\n",
    "top_streets_temp = top_streets_new.loc[:11]\n",
    "top_streets_temp"
   ]
  },
  {
   "cell_type": "code",
   "execution_count": 26,
   "metadata": {},
   "outputs": [
    {
     "data": {
      "image/png": "[encoded data removed]",
      "text/plain": [
       "<Figure size 720x504 with 1 Axes>"
      ]
     },
     "metadata": {},
     "output_type": "display_data"
    }
   ],
   "source": [
    "# Размер фигуры\n",
    "plt.figure(figsize=(10, 7))\n",
    "\n",
    "# График\n",
    "sns.barplot(\n",
    "    x =\"id\", \n",
    "    y =\"street\", \n",
    "    data=top_streets_temp).set(title = \"Топ-10 улиц по количеству объектов общественного питания\", \n",
    "                         ylabel= 'Улица', xlabel = 'Количество заведений')\n",
    "plt.show()"
   ]
  },
  {
   "cell_type": "markdown",
   "metadata": {},
   "source": [
    "### Найдем в каких районах Москвы находятся эти улицы"
   ]
  },
  {
   "cell_type": "code",
   "execution_count": 27,
   "metadata": {},
   "outputs": [
    {
     "data": {
      "text/html": [
       "<div>\n",
       "<style scoped>\n",
       "    .dataframe tbody tr th:only-of-type {\n",
       "        vertical-align: middle;\n",
       "    }\n",
       "\n",
       "    .dataframe tbody tr th {\n",
       "        vertical-align: top;\n",
       "    }\n",
       "\n",
       "    .dataframe thead th {\n",
       "        text-align: right;\n",
       "    }\n",
       "</style>\n",
       "<table border=\"1\" class=\"dataframe\">\n",
       "  <thead>\n",
       "    <tr style=\"text-align: right;\">\n",
       "      <th></th>\n",
       "      <th>streetname</th>\n",
       "      <th>areaid</th>\n",
       "      <th>okrug</th>\n",
       "      <th>area</th>\n",
       "    </tr>\n",
       "  </thead>\n",
       "  <tbody>\n",
       "    <tr>\n",
       "      <td>0</td>\n",
       "      <td>Выставочный переулок</td>\n",
       "      <td>17</td>\n",
       "      <td>ЦАО</td>\n",
       "      <td>Пресненский район</td>\n",
       "    </tr>\n",
       "    <tr>\n",
       "      <td>1</td>\n",
       "      <td>улица Гашека</td>\n",
       "      <td>17</td>\n",
       "      <td>ЦАО</td>\n",
       "      <td>Пресненский район</td>\n",
       "    </tr>\n",
       "    <tr>\n",
       "      <td>2</td>\n",
       "      <td>Большая Никитская улица</td>\n",
       "      <td>17</td>\n",
       "      <td>ЦАО</td>\n",
       "      <td>Пресненский район</td>\n",
       "    </tr>\n",
       "    <tr>\n",
       "      <td>3</td>\n",
       "      <td>Глубокий переулок</td>\n",
       "      <td>17</td>\n",
       "      <td>ЦАО</td>\n",
       "      <td>Пресненский район</td>\n",
       "    </tr>\n",
       "    <tr>\n",
       "      <td>4</td>\n",
       "      <td>Большой Гнездниковский переулок</td>\n",
       "      <td>17</td>\n",
       "      <td>ЦАО</td>\n",
       "      <td>Пресненский район</td>\n",
       "    </tr>\n",
       "  </tbody>\n",
       "</table>\n",
       "</div>"
      ],
      "text/plain": [
       "                        streetname  areaid okrug               area\n",
       "0             Выставочный переулок      17   ЦАО  Пресненский район\n",
       "1                     улица Гашека      17   ЦАО  Пресненский район\n",
       "2          Большая Никитская улица      17   ЦАО  Пресненский район\n",
       "3                Глубокий переулок      17   ЦАО  Пресненский район\n",
       "4  Большой Гнездниковский переулок      17   ЦАО  Пресненский район"
      ]
     },
     "execution_count": 27,
     "metadata": {},
     "output_type": "execute_result"
    }
   ],
   "source": [
    "#Импортируем данные с общемосковского классификатора улиц\n",
    "from io import BytesIO\n",
    "import requests\n",
    "spreadsheet_id = '1-5aZb9XMpKhTZ57xplmu535SqdrDNSOYATzLrNAqpE4'\n",
    "file_name = 'https://docs.google.com/spreadsheets/d/{}/export?format=csv'.format(spreadsheet_id)\n",
    "r = requests.get(file_name)\n",
    "district = pd.read_csv(BytesIO(r.content))\n",
    "district.head()"
   ]
  },
  {
   "cell_type": "code",
   "execution_count": 28,
   "metadata": {},
   "outputs": [],
   "source": [
    "#мерджим таблицу с районами к топ-10\n",
    "top_streets_temp = top_streets_temp.merge(district, left_on = 'street', right_on = 'streetname')"
   ]
  },
  {
   "cell_type": "code",
   "execution_count": 29,
   "metadata": {},
   "outputs": [
    {
     "data": {
      "text/html": [
       "<div>\n",
       "<style scoped>\n",
       "    .dataframe tbody tr th:only-of-type {\n",
       "        vertical-align: middle;\n",
       "    }\n",
       "\n",
       "    .dataframe tbody tr th {\n",
       "        vertical-align: top;\n",
       "    }\n",
       "\n",
       "    .dataframe thead th {\n",
       "        text-align: right;\n",
       "    }\n",
       "</style>\n",
       "<table border=\"1\" class=\"dataframe\">\n",
       "  <thead>\n",
       "    <tr style=\"text-align: right;\">\n",
       "      <th></th>\n",
       "      <th>street</th>\n",
       "      <th>id</th>\n",
       "      <th>streetname</th>\n",
       "      <th>areaid</th>\n",
       "      <th>okrug</th>\n",
       "      <th>area</th>\n",
       "    </tr>\n",
       "  </thead>\n",
       "  <tbody>\n",
       "    <tr>\n",
       "      <td>0</td>\n",
       "      <td>проспект Мира</td>\n",
       "      <td>204</td>\n",
       "      <td>проспект Мира</td>\n",
       "      <td>70</td>\n",
       "      <td>СВАО</td>\n",
       "      <td>Алексеевский район</td>\n",
       "    </tr>\n",
       "    <tr>\n",
       "      <td>1</td>\n",
       "      <td>проспект Мира</td>\n",
       "      <td>204</td>\n",
       "      <td>проспект Мира</td>\n",
       "      <td>86</td>\n",
       "      <td>СВАО</td>\n",
       "      <td>Ярославский Район</td>\n",
       "    </tr>\n",
       "    <tr>\n",
       "      <td>2</td>\n",
       "      <td>проспект Мира</td>\n",
       "      <td>204</td>\n",
       "      <td>проспект Мира</td>\n",
       "      <td>78</td>\n",
       "      <td>СВАО</td>\n",
       "      <td>Район Марьина роща</td>\n",
       "    </tr>\n",
       "    <tr>\n",
       "      <td>3</td>\n",
       "      <td>проспект Мира</td>\n",
       "      <td>204</td>\n",
       "      <td>проспект Мира</td>\n",
       "      <td>79</td>\n",
       "      <td>СВАО</td>\n",
       "      <td>Останкинский район</td>\n",
       "    </tr>\n",
       "    <tr>\n",
       "      <td>4</td>\n",
       "      <td>проспект Мира</td>\n",
       "      <td>204</td>\n",
       "      <td>проспект Мира</td>\n",
       "      <td>81</td>\n",
       "      <td>СВАО</td>\n",
       "      <td>Район Ростокино</td>\n",
       "    </tr>\n",
       "    <tr>\n",
       "      <td>5</td>\n",
       "      <td>проспект Мира</td>\n",
       "      <td>204</td>\n",
       "      <td>проспект Мира</td>\n",
       "      <td>82</td>\n",
       "      <td>СВАО</td>\n",
       "      <td>Район Свиблово</td>\n",
       "    </tr>\n",
       "    <tr>\n",
       "      <td>6</td>\n",
       "      <td>проспект Мира</td>\n",
       "      <td>204</td>\n",
       "      <td>проспект Мира</td>\n",
       "      <td>16</td>\n",
       "      <td>ЦАО</td>\n",
       "      <td>Мещанский район</td>\n",
       "    </tr>\n",
       "    <tr>\n",
       "      <td>7</td>\n",
       "      <td>Профсоюзная улица</td>\n",
       "      <td>182</td>\n",
       "      <td>Профсоюзная улица</td>\n",
       "      <td>123</td>\n",
       "      <td>ЮЗАО</td>\n",
       "      <td>Академический район</td>\n",
       "    </tr>\n",
       "    <tr>\n",
       "      <td>8</td>\n",
       "      <td>Профсоюзная улица</td>\n",
       "      <td>182</td>\n",
       "      <td>Профсоюзная улица</td>\n",
       "      <td>132</td>\n",
       "      <td>ЮЗАО</td>\n",
       "      <td>Район Черемушки</td>\n",
       "    </tr>\n",
       "    <tr>\n",
       "      <td>9</td>\n",
       "      <td>Профсоюзная улица</td>\n",
       "      <td>182</td>\n",
       "      <td>Профсоюзная улица</td>\n",
       "      <td>134</td>\n",
       "      <td>ЮЗАО</td>\n",
       "      <td>Район Ясенево</td>\n",
       "    </tr>\n",
       "  </tbody>\n",
       "</table>\n",
       "</div>"
      ],
      "text/plain": [
       "              street   id         streetname  areaid okrug  \\\n",
       "0      проспект Мира  204      проспект Мира      70  СВАО   \n",
       "1      проспект Мира  204      проспект Мира      86  СВАО   \n",
       "2      проспект Мира  204      проспект Мира      78  СВАО   \n",
       "3      проспект Мира  204      проспект Мира      79  СВАО   \n",
       "4      проспект Мира  204      проспект Мира      81  СВАО   \n",
       "5      проспект Мира  204      проспект Мира      82  СВАО   \n",
       "6      проспект Мира  204      проспект Мира      16   ЦАО   \n",
       "7  Профсоюзная улица  182  Профсоюзная улица     123  ЮЗАО   \n",
       "8  Профсоюзная улица  182  Профсоюзная улица     132  ЮЗАО   \n",
       "9  Профсоюзная улица  182  Профсоюзная улица     134  ЮЗАО   \n",
       "\n",
       "                  area  \n",
       "0   Алексеевский район  \n",
       "1    Ярославский Район  \n",
       "2   Район Марьина роща  \n",
       "3   Останкинский район  \n",
       "4      Район Ростокино  \n",
       "5       Район Свиблово  \n",
       "6      Мещанский район  \n",
       "7  Академический район  \n",
       "8      Район Черемушки  \n",
       "9        Район Ясенево  "
      ]
     },
     "execution_count": 29,
     "metadata": {},
     "output_type": "execute_result"
    }
   ],
   "source": [
    "top_streets_temp.head(10)"
   ]
  },
  {
   "cell_type": "code",
   "execution_count": 30,
   "metadata": {},
   "outputs": [
    {
     "data": {
      "text/plain": [
       "array(['СВАО', 'ЦАО', 'ЮЗАО', 'САО', 'ЮАО', 'ЗАО'], dtype=object)"
      ]
     },
     "execution_count": 30,
     "metadata": {},
     "output_type": "execute_result"
    }
   ],
   "source": [
    "# Список округов по топ 10 улиц\n",
    "top_streets_temp['okrug'].unique()"
   ]
  },
  {
   "cell_type": "markdown",
   "metadata": {},
   "source": [
    "Протяженность некоторых улиц настолько велика, что попадает сразу в несколько районах. Получим полный список районов, в которых находятся наши топ 10 улиц."
   ]
  },
  {
   "cell_type": "code",
   "execution_count": 31,
   "metadata": {},
   "outputs": [
    {
     "data": {
      "text/plain": [
       "array(['Алексеевский район', 'Ярославский Район', 'Район Марьина роща',\n",
       "       'Останкинский район', 'Район Ростокино', 'Район Свиблово',\n",
       "       'Мещанский район', 'Академический район', 'Район Черемушки',\n",
       "       'Район Ясенево', 'Район Коньково', 'Обручевский район',\n",
       "       'Район Теплый Стан', 'Район Аэропорт', 'Район Беговой',\n",
       "       'Хорошевский район', 'Район Сокол', 'Пресненский район',\n",
       "       'Район Чертаново Центральное', 'Район Чертаново Северное',\n",
       "       'Район Чертаново Южное', 'Донской район',\n",
       "       'Район Нагатино-Садовники', 'Нагорный район',\n",
       "       'Район Северное Бутово', 'Район Южное Бутово',\n",
       "       'Район Проспект Вернадского', 'Район Тропарево-Никулино',\n",
       "       'Район Гагаринский', 'Ломоносовский район', 'Район Якиманка',\n",
       "       'Район Раменки', 'Район Дорогомилово', 'Район Фили-Давыдково',\n",
       "       'Район Москворечье-Сабурово', 'Район Орехово-Борисово Южное',\n",
       "       'Район Орехово-Борисово Северное'], dtype=object)"
      ]
     },
     "execution_count": 31,
     "metadata": {},
     "output_type": "execute_result"
    }
   ],
   "source": [
    "top_streets_temp['area'].unique()"
   ]
  },
  {
   "cell_type": "markdown",
   "metadata": {},
   "source": [
    "### Число улиц с одним объектом общественного питания. \n",
    "Определим также в каких районах Москвы находятся эти улицы"
   ]
  },
  {
   "cell_type": "code",
   "execution_count": 32,
   "metadata": {},
   "outputs": [
    {
     "data": {
      "text/html": [
       "<div>\n",
       "<style scoped>\n",
       "    .dataframe tbody tr th:only-of-type {\n",
       "        vertical-align: middle;\n",
       "    }\n",
       "\n",
       "    .dataframe tbody tr th {\n",
       "        vertical-align: top;\n",
       "    }\n",
       "\n",
       "    .dataframe thead th {\n",
       "        text-align: right;\n",
       "    }\n",
       "</style>\n",
       "<table border=\"1\" class=\"dataframe\">\n",
       "  <thead>\n",
       "    <tr style=\"text-align: right;\">\n",
       "      <th></th>\n",
       "      <th>street</th>\n",
       "      <th>id</th>\n",
       "    </tr>\n",
       "  </thead>\n",
       "  <tbody>\n",
       "    <tr>\n",
       "      <td>0</td>\n",
       "      <td>город Зеленоград</td>\n",
       "      <td>232</td>\n",
       "    </tr>\n",
       "    <tr>\n",
       "      <td>1</td>\n",
       "      <td>проспект Мира</td>\n",
       "      <td>204</td>\n",
       "    </tr>\n",
       "    <tr>\n",
       "      <td>2</td>\n",
       "      <td>Профсоюзная улица</td>\n",
       "      <td>182</td>\n",
       "    </tr>\n",
       "  </tbody>\n",
       "</table>\n",
       "</div>"
      ],
      "text/plain": [
       "              street   id\n",
       "0   город Зеленоград  232\n",
       "1      проспект Мира  204\n",
       "2  Профсоюзная улица  182"
      ]
     },
     "execution_count": 32,
     "metadata": {},
     "output_type": "execute_result"
    }
   ],
   "source": [
    "# отсортированная по убыванию чиста заведений таблица с улицами\n",
    "top_streets.head(3)"
   ]
  },
  {
   "cell_type": "code",
   "execution_count": 33,
   "metadata": {},
   "outputs": [
    {
     "name": "stdout",
     "output_type": "stream",
     "text": [
      "<class 'pandas.core.frame.DataFrame'>\n",
      "RangeIndex: 1900 entries, 0 to 1899\n",
      "Data columns (total 2 columns):\n",
      "street    1900 non-null object\n",
      "id        1900 non-null int64\n",
      "dtypes: int64(1), object(1)\n",
      "memory usage: 29.8+ KB\n"
     ]
    }
   ],
   "source": [
    "top_streets.info()"
   ]
  },
  {
   "cell_type": "code",
   "execution_count": 34,
   "metadata": {},
   "outputs": [
    {
     "data": {
      "text/plain": [
       "street    579\n",
       "id        579\n",
       "dtype: int64"
      ]
     },
     "execution_count": 34,
     "metadata": {},
     "output_type": "execute_result"
    }
   ],
   "source": [
    "# Среза по улицам, где только один ресторан\n",
    "one_rest_streets = top_streets.query('id == 1')\n",
    "one_rest_streets.count()"
   ]
  },
  {
   "cell_type": "code",
   "execution_count": 35,
   "metadata": {},
   "outputs": [],
   "source": [
    "#мерджим таблицу с районами к one_rest_streets\n",
    "one_rest_streets_temp = one_rest_streets.merge(district, left_on = 'street', right_on = 'streetname')"
   ]
  },
  {
   "cell_type": "code",
   "execution_count": 36,
   "metadata": {},
   "outputs": [
    {
     "data": {
      "text/html": [
       "<div>\n",
       "<style scoped>\n",
       "    .dataframe tbody tr th:only-of-type {\n",
       "        vertical-align: middle;\n",
       "    }\n",
       "\n",
       "    .dataframe tbody tr th {\n",
       "        vertical-align: top;\n",
       "    }\n",
       "\n",
       "    .dataframe thead th {\n",
       "        text-align: right;\n",
       "    }\n",
       "</style>\n",
       "<table border=\"1\" class=\"dataframe\">\n",
       "  <thead>\n",
       "    <tr style=\"text-align: right;\">\n",
       "      <th></th>\n",
       "      <th>street</th>\n",
       "      <th>id</th>\n",
       "      <th>streetname</th>\n",
       "      <th>areaid</th>\n",
       "      <th>okrug</th>\n",
       "      <th>area</th>\n",
       "    </tr>\n",
       "  </thead>\n",
       "  <tbody>\n",
       "    <tr>\n",
       "      <td>0</td>\n",
       "      <td>улица Алексея Дикого</td>\n",
       "      <td>1</td>\n",
       "      <td>улица Алексея Дикого</td>\n",
       "      <td>31</td>\n",
       "      <td>ВАО</td>\n",
       "      <td>Район Новогиреево</td>\n",
       "    </tr>\n",
       "    <tr>\n",
       "      <td>1</td>\n",
       "      <td>8-я улица Соколиной Горы</td>\n",
       "      <td>1</td>\n",
       "      <td>8-я улица Соколиной Горы</td>\n",
       "      <td>27</td>\n",
       "      <td>ВАО</td>\n",
       "      <td>Район Измайлово</td>\n",
       "    </tr>\n",
       "    <tr>\n",
       "      <td>2</td>\n",
       "      <td>8-я улица Соколиной Горы</td>\n",
       "      <td>1</td>\n",
       "      <td>8-я улица Соколиной Горы</td>\n",
       "      <td>36</td>\n",
       "      <td>ВАО</td>\n",
       "      <td>Район Соколиная Гора</td>\n",
       "    </tr>\n",
       "  </tbody>\n",
       "</table>\n",
       "</div>"
      ],
      "text/plain": [
       "                     street  id                streetname  areaid okrug  \\\n",
       "0      улица Алексея Дикого   1      улица Алексея Дикого      31   ВАО   \n",
       "1  8-я улица Соколиной Горы   1  8-я улица Соколиной Горы      27   ВАО   \n",
       "2  8-я улица Соколиной Горы   1  8-я улица Соколиной Горы      36   ВАО   \n",
       "\n",
       "                   area  \n",
       "0     Район Новогиреево  \n",
       "1       Район Измайлово  \n",
       "2  Район Соколиная Гора  "
      ]
     },
     "execution_count": 36,
     "metadata": {},
     "output_type": "execute_result"
    }
   ],
   "source": [
    "one_rest_streets_temp.head(3)"
   ]
  },
  {
   "cell_type": "code",
   "execution_count": 37,
   "metadata": {},
   "outputs": [
    {
     "data": {
      "text/plain": [
       "array(['Район Новогиреево', 'Район Измайлово', 'Район Соколиная Гора',\n",
       "       'Район Ново-Переделкино', 'Район Сокольники',\n",
       "       'Район Преображенское', 'Район Замоскворечье', 'Пресненский район',\n",
       "       'Южнопортовый Район', 'Район Богородское', 'Даниловский район',\n",
       "       'Район Северный', 'Район Марьина роща', 'Район Солнцево',\n",
       "       'Район Текстильщики', 'Район Хамовники', 'Тверской район',\n",
       "       'Бескудниковский Район', 'Таганский район', 'Мещанский район',\n",
       "       'Район Беговой', 'Нижегородский район', 'Район Фили-Давыдково',\n",
       "       'Район Аэропорт', 'Район Сокол', 'Район Внуково',\n",
       "       'Район Южное Бутово', 'Район Хорошево-Мневники', 'Район Отрадное',\n",
       "       'Район Люблино', 'Рязанский район', 'Район Восточный',\n",
       "       'Хорошевский район', 'Район Ясенево', 'Район Коньково',\n",
       "       'Район Марфино', 'Обручевский район', 'Район Кунцево',\n",
       "       'Донской район', 'Район Якиманка', 'Район Коптево',\n",
       "       'Бутырский район', 'Район Южное Тушино', 'Район Кузьминки',\n",
       "       'Красносельский район', 'Район Свиблово', 'Тимирязевский Район',\n",
       "       'Басманный район', 'Можайский Район', 'Район Лефортово',\n",
       "       'Лосиноостровский район', 'Район Щукино', 'Район Печатники',\n",
       "       'Район Северное Измайлово', 'Район Восточное Измайлово',\n",
       "       'Район Гольяново', 'Район Москворечье-Сабурово',\n",
       "       'Район Покровское-Стрешнево', 'Район Косино-Ухтомский',\n",
       "       'Район Царицыно', 'Район Дорогомилово', 'Алексеевский район',\n",
       "       'Район Раменки', 'Район Ростокино', 'Район Арбат', 'Район Перово',\n",
       "       'Останкинский район', 'Головинский район', 'Район Чертаново Южное',\n",
       "       'Савеловский район', 'Войковский Район', 'Район Северное Бутово',\n",
       "       'Район Филевский Парк', 'Район Митино', 'Район Бирюлево Восточное',\n",
       "       'Дмитровский район', 'Район Левобережный', 'Молжаниновский район',\n",
       "       'Район Ивановское', 'Район Марьино', 'Бабушкинский район',\n",
       "       'Район Северное Медведково', 'Район Зюзино', 'Нагорный район',\n",
       "       'Район Западное Дегунино', 'Ярославский Район', 'Район Черемушки',\n",
       "       'Район Куркино', 'Район Выхино-Жулебино', 'Район Гагаринский',\n",
       "       'Район Котловка', 'Район Строгино', 'Район Южное Медведково',\n",
       "       'Район Очаково-Матвеевское', 'Район Метрогородок',\n",
       "       'Район Чертаново Северное', 'Район Матушкино-Савелки',\n",
       "       'Алтуфьевский район', 'Район Нагатино-Садовники'], dtype=object)"
      ]
     },
     "execution_count": 37,
     "metadata": {},
     "output_type": "execute_result"
    }
   ],
   "source": [
    "# список районов, где только один ресторан на улице\n",
    "one_rest_streets_temp['area'].unique()"
   ]
  },
  {
   "cell_type": "code",
   "execution_count": 38,
   "metadata": {},
   "outputs": [
    {
     "data": {
      "text/plain": [
       "count                 560\n",
       "unique                 99\n",
       "top       Таганский район\n",
       "freq                   27\n",
       "Name: area, dtype: object"
      ]
     },
     "execution_count": 38,
     "metadata": {},
     "output_type": "execute_result"
    }
   ],
   "source": [
    "one_rest_streets_temp['area'].describe()"
   ]
  },
  {
   "cell_type": "markdown",
   "metadata": {},
   "source": [
    "**Вывод**\n",
    "579 улицы, где только одно заведение общественного питания, и находятся они в 99 районах Москвы. Общее количество улиц с заведениями - 1900. То есть на 70% улиц более одного объекта. "
   ]
  },
  {
   "cell_type": "markdown",
   "metadata": {},
   "source": [
    "## Распределение количества посадочных мест для улиц с большим количеством объектов общественного питания"
   ]
  },
  {
   "cell_type": "code",
   "execution_count": 39,
   "metadata": {},
   "outputs": [
    {
     "data": {
      "text/plain": [
       "array(['проспект Мира', 'Профсоюзная улица', 'Ленинградский проспект',\n",
       "       'Пресненская набережная', 'Варшавское шоссе', 'Ленинский проспект',\n",
       "       'проспект Вернадского', 'Кутузовский проспект', 'Каширское шоссе',\n",
       "       'Кировоградская улица'], dtype=object)"
      ]
     },
     "execution_count": 39,
     "metadata": {},
     "output_type": "execute_result"
    }
   ],
   "source": [
    "# массив с топ10 улиц\n",
    "top10 = top_streets_temp['street'].unique()\n",
    "top10"
   ]
  },
  {
   "cell_type": "code",
   "execution_count": 40,
   "metadata": {},
   "outputs": [],
   "source": [
    "# срез из общего дт по ним\n",
    "rest_data_temp = rest_data.query('street in @top10')"
   ]
  },
  {
   "cell_type": "code",
   "execution_count": 41,
   "metadata": {},
   "outputs": [
    {
     "data": {
      "image/png": "[encoded data removed]",
      "text/plain": [
       "<Figure size 432x288 with 1 Axes>"
      ]
     },
     "metadata": {},
     "output_type": "display_data"
    }
   ],
   "source": [
    "#строим боксплот\n",
    "sns.boxplot(rest_data_temp['number'])\n",
    "plt.show()"
   ]
  },
  {
   "cell_type": "markdown",
   "metadata": {},
   "source": [
    "По боксплоту видим много выбросов."
   ]
  },
  {
   "cell_type": "code",
   "execution_count": 42,
   "metadata": {},
   "outputs": [
    {
     "data": {
      "text/plain": [
       "count    1500.000000\n",
       "mean       58.020667\n",
       "std        90.058384\n",
       "min         0.000000\n",
       "25%        12.000000\n",
       "50%        40.000000\n",
       "75%        75.000000\n",
       "max      1700.000000\n",
       "Name: number, dtype: float64"
      ]
     },
     "execution_count": 42,
     "metadata": {},
     "output_type": "execute_result"
    }
   ],
   "source": [
    "rest_data_temp['number'].describe()"
   ]
  },
  {
   "cell_type": "code",
   "execution_count": 43,
   "metadata": {},
   "outputs": [],
   "source": [
    "# отсекаем выбросы\n",
    "rest_data_temp2 = rest_data_temp.query(' 0 < number < 200')"
   ]
  },
  {
   "cell_type": "code",
   "execution_count": 44,
   "metadata": {},
   "outputs": [
    {
     "data": {
      "image/png": "[encoded data removed]",
      "text/plain": [
       "<Figure size 432x288 with 1 Axes>"
      ]
     },
     "metadata": {},
     "output_type": "display_data"
    }
   ],
   "source": [
    "#график распределения количества посадочных мест\n",
    "sns.distplot(rest_data_temp2['number'], bins = 20).set(title = \"Распределение количества посадочных мест на улицах из топ-10\", \n",
    "                                                 ylabel= 'Количество заведений', xlabel = 'Число мест')\n",
    "plt.show()"
   ]
  },
  {
   "cell_type": "markdown",
   "metadata": {},
   "source": [
    "**Вывод**\n",
    "На топ-10 улиц среднее количество посадочных мест равно – 58. В 75% заведении количество мест не превышает 75."
   ]
  },
  {
   "cell_type": "markdown",
   "metadata": {},
   "source": [
    "## Общий вывод"
   ]
  },
  {
   "cell_type": "markdown",
   "metadata": {},
   "source": [
    "Целью нашего исследования было провести анализ рынка заведений общественного питания Москвы, чтобы понять перспективы нового кафе, где посетителей будут обслуживать роботы.\n",
    "\n",
    "Нами были проанализированы данные более чем по 15000 заведениям общественного питания. \n",
    "По общей таблице данных мы увидели, что наиболее распространены кафе - 6099 единиц, далее идут столовые -2587 и рестораны  - 2258. Меньше всего заведений типа - кафетерий, закусочная и отдел кулинарии.\n",
    "Больше всего посадочных мест в столовых - 130, далее следуют рестораны - в среднем 97 мест и буфеты - 51 место. Меньше всего мест в кафетериях и закусочных (9 и 8 мест соответственно) и магазинах (отдел кулинарии) - 6 мест, так как чаще всего еду в этих заведениях берут на вынос.\n",
    "\n",
    "\n",
    "Сетевые рестораны занимают не более 20% от общего рынка, 80,7% - это не сетевые заведения общественного питания. \n",
    "Отдельно рассмотрели сетевые заведения.  В сетевых объектах общественного питания наиболее распространены кафе - 1396, предприятия быстрого обслуживания - 791 и рестораны - 544 единиц\n",
    "В сетевых объектах общественного питания в среднем 52 посадочных места, 75% результатов не превышает 72 посадочных места.\n",
    "\n",
    "\n",
    "Далее мы перешли к анализу местоположения большего числа заведений. Данные для определения района города по наименованию улицы брали с портала открытых данных Правительства Москвы (раздел Общемосковский классификатор улиц)\n",
    "Топ 10 улиц:\n",
    "* проспект Мира\n",
    "* Профсоюзная улица\n",
    "* Ленинградский проспект\n",
    "* Пресненская набережная\n",
    "* Варшавское шоссе\n",
    "* Ленинский проспект\n",
    "* проспект Вернадского\n",
    "* Кутузовский проспект\n",
    "* Каширское шоссе\n",
    "* Кировоградская улица\n",
    "\n",
    "На топ-10 улиц среднее количество посадочных мест равно – 58. В 75% заведении количество мест не превышает 75.\n",
    "География по улицам с одним заведением:\n",
    "579 улицы, где только одно заведение общественного питания, и находятся они в 99 районах Москвы. Общее количество улиц с заведениями - 1900. То есть на 70% улиц более одного объекта.\n",
    "\n",
    "\n",
    "\n",
    "Открытие не большого кафе в Москве, где гостей должны обслуживать роботы, может стать перспективной идеей. Заведения общественного питания типа кафе наибелее частовстречающиеся в Москве. Мы рекомендуем выбрать для выбора места ориентироваться на округа: СВАО, ЦАО, ЮЗАО, САО, ЮАО, ЗАО. Средний показатель количества посадочнных метс для заведений типа кафе равняется 40. Рекомендуем для нового кафе определить этот показатель не более 75 посадочных мест. \n",
    "Стоит также отметить, что среди сетевых заведений преобладают именно кафе, поэтому в перспективе возможно масштабирование заведения в сеть кафе."
   ]
  },
  {
   "cell_type": "code",
   "execution_count": null,
   "metadata": {},
   "outputs": [],
   "source": []
  }
 ],
 "metadata": {
  "kernelspec": {
   "display_name": "Python 3",
   "language": "python",
   "name": "python3"
  },
  "language_info": {
   "codemirror_mode": {
    "name": "ipython",
    "version": 3
   },
   "file_extension": ".py",
   "mimetype": "text/x-python",
   "name": "python",
   "nbconvert_exporter": "python",
   "pygments_lexer": "ipython3",
   "version": "3.8.5"
  },
  "toc": {
   "base_numbering": 1,
   "nav_menu": {},
   "number_sections": true,
   "sideBar": true,
   "skip_h1_title": true,
   "title_cell": "Table of Contents",
   "title_sidebar": "Contents",
   "toc_cell": true,
   "toc_position": {
    "height": "calc(100% - 180px)",
    "left": "10px",
    "top": "150px",
    "width": "366.594px"
   },
   "toc_section_display": true,
   "toc_window_display": false
  }
 },
 "nbformat": 4,
 "nbformat_minor": 2
}
